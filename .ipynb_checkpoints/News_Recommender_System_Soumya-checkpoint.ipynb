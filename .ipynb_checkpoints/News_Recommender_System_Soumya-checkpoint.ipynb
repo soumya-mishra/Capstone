{
 "cells": [
  {
   "cell_type": "markdown",
   "metadata": {},
   "source": [
    "## Problem Statement:\n",
    "iPrint is an upcoming media house in India that offers media and information services to the people. The company’s business extends across a wide range of media, including news and information services on sports, weather, education, health, research, stocks and healthcare. Over the years, through its online application, iPrint has been efficiently delivering news and information to the common people.  However, with time and technological advancements, several new competitors of iPrint have emerged in the market. Hence, it has decided to begin providing a more personalised experience to its customers.\n",
    "\n",
    "The problem statement can be divided into two parts.\n",
    "- Recommend new top 10 relevant articles to a user when he visits the app at the start of the day\n",
    "- Recommend top 10 similar news articles that match the ones clicked by the user.\n",
    "\n",
    "You have to ensure that the system does not recommend any news article that has been pulled out from the app or has already been seen by the user. In addition, only the articles that are written in the English language must be considered for content-based recommendations. The final generated list must contain the names of the recommended articles, along with their IDs."
   ]
  },
  {
   "cell_type": "markdown",
   "metadata": {},
   "source": [
    "### Load the required library:"
   ]
  },
  {
   "cell_type": "code",
   "execution_count": 1,
   "metadata": {},
   "outputs": [],
   "source": [
    "import numpy as np\n",
    "import pandas as pd\n",
    "import warnings\n",
    "warnings.filterwarnings('ignore')\n",
    "import seaborn as sns\n",
    "import matplotlib.pyplot as plt\n",
    "from nltk.corpus import stopwords\n",
    "from nltk.tokenize import word_tokenize\n",
    "from gensim.corpora.dictionary import Dictionary\n",
    "import string\n",
    "from gensim.models.tfidfmodel import TfidfModel\n",
    "\n",
    "from gensim.similarities import MatrixSimilarity"
   ]
  },
  {
   "cell_type": "markdown",
   "metadata": {},
   "source": [
    "### Load Dataset:"
   ]
  },
  {
   "cell_type": "code",
   "execution_count": 2,
   "metadata": {},
   "outputs": [],
   "source": [
    "consumer = pd.read_csv(r\"C:\\Users\\I324158\\OneDrive - SAP SE\\Desktop\\ML\\IIITB\\Dataset\\Capstone\\data\\consumer_transanctions.csv\")\n",
    "content= pd.read_csv(r\"C:\\Users\\I324158\\OneDrive - SAP SE\\Desktop\\ML\\IIITB\\Dataset\\Capstone\\data\\platform_content.csv\")"
   ]
  },
  {
   "cell_type": "markdown",
   "metadata": {},
   "source": [
    "- Consumer dataframe is similar to User dataset.\n",
    "- Content dataframe is similar to item dataset."
   ]
  },
  {
   "cell_type": "markdown",
   "metadata": {},
   "source": [
    "### Consumer Dataset Exploration :"
   ]
  },
  {
   "cell_type": "code",
   "execution_count": 3,
   "metadata": {},
   "outputs": [
    {
     "data": {
      "text/plain": [
       "Index(['event_timestamp', 'interaction_type', 'item_id', 'consumer_id',\n",
       "       'consumer_session_id', 'consumer_device_info', 'consumer_location',\n",
       "       'country'],\n",
       "      dtype='object')"
      ]
     },
     "execution_count": 3,
     "metadata": {},
     "output_type": "execute_result"
    }
   ],
   "source": [
    "consumer.columns # Check columns"
   ]
  },
  {
   "cell_type": "code",
   "execution_count": 4,
   "metadata": {
    "scrolled": true
   },
   "outputs": [
    {
     "data": {
      "text/html": [
       "<div>\n",
       "<style scoped>\n",
       "    .dataframe tbody tr th:only-of-type {\n",
       "        vertical-align: middle;\n",
       "    }\n",
       "\n",
       "    .dataframe tbody tr th {\n",
       "        vertical-align: top;\n",
       "    }\n",
       "\n",
       "    .dataframe thead th {\n",
       "        text-align: right;\n",
       "    }\n",
       "</style>\n",
       "<table border=\"1\" class=\"dataframe\">\n",
       "  <thead>\n",
       "    <tr style=\"text-align: right;\">\n",
       "      <th></th>\n",
       "      <th>event_timestamp</th>\n",
       "      <th>interaction_type</th>\n",
       "      <th>item_id</th>\n",
       "      <th>consumer_id</th>\n",
       "      <th>consumer_session_id</th>\n",
       "      <th>consumer_device_info</th>\n",
       "      <th>consumer_location</th>\n",
       "      <th>country</th>\n",
       "    </tr>\n",
       "  </thead>\n",
       "  <tbody>\n",
       "    <tr>\n",
       "      <th>0</th>\n",
       "      <td>1465413032</td>\n",
       "      <td>content_watched</td>\n",
       "      <td>-3499919498720038879</td>\n",
       "      <td>-8845298781299428018</td>\n",
       "      <td>1264196770339959068</td>\n",
       "      <td>NaN</td>\n",
       "      <td>NaN</td>\n",
       "      <td>NaN</td>\n",
       "    </tr>\n",
       "    <tr>\n",
       "      <th>1</th>\n",
       "      <td>1465412560</td>\n",
       "      <td>content_watched</td>\n",
       "      <td>8890720798209849691</td>\n",
       "      <td>-1032019229384696495</td>\n",
       "      <td>3621737643587579081</td>\n",
       "      <td>Mozilla/5.0 (Macintosh; Intel Mac OS X 10_11_2...</td>\n",
       "      <td>NY</td>\n",
       "      <td>US</td>\n",
       "    </tr>\n",
       "    <tr>\n",
       "      <th>2</th>\n",
       "      <td>1465416190</td>\n",
       "      <td>content_watched</td>\n",
       "      <td>310515487419366995</td>\n",
       "      <td>-1130272294246983140</td>\n",
       "      <td>2631864456530402479</td>\n",
       "      <td>NaN</td>\n",
       "      <td>NaN</td>\n",
       "      <td>NaN</td>\n",
       "    </tr>\n",
       "    <tr>\n",
       "      <th>3</th>\n",
       "      <td>1465413895</td>\n",
       "      <td>content_followed</td>\n",
       "      <td>310515487419366995</td>\n",
       "      <td>344280948527967603</td>\n",
       "      <td>-3167637573980064150</td>\n",
       "      <td>NaN</td>\n",
       "      <td>NaN</td>\n",
       "      <td>NaN</td>\n",
       "    </tr>\n",
       "    <tr>\n",
       "      <th>4</th>\n",
       "      <td>1465412290</td>\n",
       "      <td>content_watched</td>\n",
       "      <td>-7820640624231356730</td>\n",
       "      <td>-445337111692715325</td>\n",
       "      <td>561148 1178424124714</td>\n",
       "      <td>NaN</td>\n",
       "      <td>NaN</td>\n",
       "      <td>NaN</td>\n",
       "    </tr>\n",
       "  </tbody>\n",
       "</table>\n",
       "</div>"
      ],
      "text/plain": [
       "   event_timestamp  interaction_type              item_id  \\\n",
       "0       1465413032   content_watched -3499919498720038879   \n",
       "1       1465412560   content_watched  8890720798209849691   \n",
       "2       1465416190   content_watched   310515487419366995   \n",
       "3       1465413895  content_followed   310515487419366995   \n",
       "4       1465412290   content_watched -7820640624231356730   \n",
       "\n",
       "           consumer_id   consumer_session_id  \\\n",
       "0 -8845298781299428018   1264196770339959068   \n",
       "1 -1032019229384696495   3621737643587579081   \n",
       "2 -1130272294246983140   2631864456530402479   \n",
       "3   344280948527967603  -3167637573980064150   \n",
       "4  -445337111692715325  561148 1178424124714   \n",
       "\n",
       "                                consumer_device_info consumer_location country  \n",
       "0                                                NaN               NaN     NaN  \n",
       "1  Mozilla/5.0 (Macintosh; Intel Mac OS X 10_11_2...                NY      US  \n",
       "2                                                NaN               NaN     NaN  \n",
       "3                                                NaN               NaN     NaN  \n",
       "4                                                NaN               NaN     NaN  "
      ]
     },
     "execution_count": 4,
     "metadata": {},
     "output_type": "execute_result"
    }
   ],
   "source": [
    "consumer.head()"
   ]
  },
  {
   "cell_type": "code",
   "execution_count": 5,
   "metadata": {
    "scrolled": true
   },
   "outputs": [
    {
     "data": {
      "text/plain": [
       "event_timestamp             0\n",
       "interaction_type            0\n",
       "item_id                     0\n",
       "consumer_id                 0\n",
       "consumer_session_id         0\n",
       "consumer_device_info    15394\n",
       "consumer_location       15405\n",
       "country                 15394\n",
       "dtype: int64"
      ]
     },
     "execution_count": 5,
     "metadata": {},
     "output_type": "execute_result"
    }
   ],
   "source": [
    "# Check null values in Consumer data\n",
    "consumer.isnull().sum()"
   ]
  },
  {
   "cell_type": "markdown",
   "metadata": {},
   "source": [
    "- __Item ID and Consumer ID do not have any null values.__"
   ]
  },
  {
   "cell_type": "code",
   "execution_count": 6,
   "metadata": {
    "scrolled": true
   },
   "outputs": [
    {
     "name": "stdout",
     "output_type": "stream",
     "text": [
      "<class 'pandas.core.frame.DataFrame'>\n",
      "RangeIndex: 72312 entries, 0 to 72311\n",
      "Data columns (total 8 columns):\n",
      " #   Column                Non-Null Count  Dtype \n",
      "---  ------                --------------  ----- \n",
      " 0   event_timestamp       72312 non-null  int64 \n",
      " 1   interaction_type      72312 non-null  object\n",
      " 2   item_id               72312 non-null  int64 \n",
      " 3   consumer_id           72312 non-null  int64 \n",
      " 4   consumer_session_id   72312 non-null  object\n",
      " 5   consumer_device_info  56918 non-null  object\n",
      " 6   consumer_location     56907 non-null  object\n",
      " 7   country               56918 non-null  object\n",
      "dtypes: int64(3), object(5)\n",
      "memory usage: 4.4+ MB\n"
     ]
    }
   ],
   "source": [
    "#Check the metadata\n",
    "consumer.info()"
   ]
  },
  {
   "cell_type": "code",
   "execution_count": 7,
   "metadata": {},
   "outputs": [],
   "source": [
    "#Created Label Encoder for easy interpretation of Consumer ID  and create a new column Consumer Index\n",
    "\n",
    "\n",
    "from sklearn.preprocessing import LabelEncoder\n",
    "le = LabelEncoder()\n",
    "consumer[\"consumer_index\"] = le.fit_transform(consumer[\"consumer_id\"])"
   ]
  },
  {
   "cell_type": "code",
   "execution_count": 8,
   "metadata": {},
   "outputs": [
    {
     "data": {
      "text/html": [
       "<div>\n",
       "<style scoped>\n",
       "    .dataframe tbody tr th:only-of-type {\n",
       "        vertical-align: middle;\n",
       "    }\n",
       "\n",
       "    .dataframe tbody tr th {\n",
       "        vertical-align: top;\n",
       "    }\n",
       "\n",
       "    .dataframe thead th {\n",
       "        text-align: right;\n",
       "    }\n",
       "</style>\n",
       "<table border=\"1\" class=\"dataframe\">\n",
       "  <thead>\n",
       "    <tr style=\"text-align: right;\">\n",
       "      <th></th>\n",
       "      <th>event_timestamp</th>\n",
       "      <th>interaction_type</th>\n",
       "      <th>item_id</th>\n",
       "      <th>consumer_id</th>\n",
       "      <th>consumer_session_id</th>\n",
       "      <th>consumer_device_info</th>\n",
       "      <th>consumer_location</th>\n",
       "      <th>country</th>\n",
       "      <th>consumer_index</th>\n",
       "    </tr>\n",
       "  </thead>\n",
       "  <tbody>\n",
       "    <tr>\n",
       "      <th>0</th>\n",
       "      <td>1465413032</td>\n",
       "      <td>content_watched</td>\n",
       "      <td>-3499919498720038879</td>\n",
       "      <td>-8845298781299428018</td>\n",
       "      <td>1264196770339959068</td>\n",
       "      <td>NaN</td>\n",
       "      <td>NaN</td>\n",
       "      <td>NaN</td>\n",
       "      <td>33</td>\n",
       "    </tr>\n",
       "    <tr>\n",
       "      <th>1</th>\n",
       "      <td>1465412560</td>\n",
       "      <td>content_watched</td>\n",
       "      <td>8890720798209849691</td>\n",
       "      <td>-1032019229384696495</td>\n",
       "      <td>3621737643587579081</td>\n",
       "      <td>Mozilla/5.0 (Macintosh; Intel Mac OS X 10_11_2...</td>\n",
       "      <td>NY</td>\n",
       "      <td>US</td>\n",
       "      <td>831</td>\n",
       "    </tr>\n",
       "    <tr>\n",
       "      <th>2</th>\n",
       "      <td>1465416190</td>\n",
       "      <td>content_watched</td>\n",
       "      <td>310515487419366995</td>\n",
       "      <td>-1130272294246983140</td>\n",
       "      <td>2631864456530402479</td>\n",
       "      <td>NaN</td>\n",
       "      <td>NaN</td>\n",
       "      <td>NaN</td>\n",
       "      <td>826</td>\n",
       "    </tr>\n",
       "    <tr>\n",
       "      <th>3</th>\n",
       "      <td>1465413895</td>\n",
       "      <td>content_followed</td>\n",
       "      <td>310515487419366995</td>\n",
       "      <td>344280948527967603</td>\n",
       "      <td>-3167637573980064150</td>\n",
       "      <td>NaN</td>\n",
       "      <td>NaN</td>\n",
       "      <td>NaN</td>\n",
       "      <td>974</td>\n",
       "    </tr>\n",
       "    <tr>\n",
       "      <th>4</th>\n",
       "      <td>1465412290</td>\n",
       "      <td>content_watched</td>\n",
       "      <td>-7820640624231356730</td>\n",
       "      <td>-445337111692715325</td>\n",
       "      <td>561148 1178424124714</td>\n",
       "      <td>NaN</td>\n",
       "      <td>NaN</td>\n",
       "      <td>NaN</td>\n",
       "      <td>887</td>\n",
       "    </tr>\n",
       "  </tbody>\n",
       "</table>\n",
       "</div>"
      ],
      "text/plain": [
       "   event_timestamp  interaction_type              item_id  \\\n",
       "0       1465413032   content_watched -3499919498720038879   \n",
       "1       1465412560   content_watched  8890720798209849691   \n",
       "2       1465416190   content_watched   310515487419366995   \n",
       "3       1465413895  content_followed   310515487419366995   \n",
       "4       1465412290   content_watched -7820640624231356730   \n",
       "\n",
       "           consumer_id   consumer_session_id  \\\n",
       "0 -8845298781299428018   1264196770339959068   \n",
       "1 -1032019229384696495   3621737643587579081   \n",
       "2 -1130272294246983140   2631864456530402479   \n",
       "3   344280948527967603  -3167637573980064150   \n",
       "4  -445337111692715325  561148 1178424124714   \n",
       "\n",
       "                                consumer_device_info consumer_location  \\\n",
       "0                                                NaN               NaN   \n",
       "1  Mozilla/5.0 (Macintosh; Intel Mac OS X 10_11_2...                NY   \n",
       "2                                                NaN               NaN   \n",
       "3                                                NaN               NaN   \n",
       "4                                                NaN               NaN   \n",
       "\n",
       "  country  consumer_index  \n",
       "0     NaN              33  \n",
       "1      US             831  \n",
       "2     NaN             826  \n",
       "3     NaN             974  \n",
       "4     NaN             887  "
      ]
     },
     "execution_count": 8,
     "metadata": {},
     "output_type": "execute_result"
    }
   ],
   "source": [
    "consumer.head()"
   ]
  },
  {
   "cell_type": "markdown",
   "metadata": {},
   "source": [
    "### Rating assignment to column interaction type\n",
    "- __New column ratings will be created below by imputing interaction_type__."
   ]
  },
  {
   "cell_type": "code",
   "execution_count": 9,
   "metadata": {},
   "outputs": [
    {
     "data": {
      "text/plain": [
       "array(['content_watched', 'content_followed', 'content_saved',\n",
       "       'content_liked', 'content_commented_on'], dtype=object)"
      ]
     },
     "execution_count": 9,
     "metadata": {},
     "output_type": "execute_result"
    }
   ],
   "source": [
    "#Check no of unique items in interaction type\n",
    "consumer[\"interaction_type\"].unique()"
   ]
  },
  {
   "cell_type": "code",
   "execution_count": 10,
   "metadata": {},
   "outputs": [],
   "source": [
    "# Map each interacion type to appropriate value as per suggestion\n",
    "\n",
    "rate = {'content_followed':5,\n",
    "        'content_commented_on':4,\n",
    "        'content_saved':3,\n",
    "        'content_liked':2,\n",
    "        'content_watched': 1\n",
    "        }"
   ]
  },
  {
   "cell_type": "code",
   "execution_count": 11,
   "metadata": {},
   "outputs": [],
   "source": [
    "# create numeric column ratings from interaction type\n",
    "consumer[\"ratings\"] = consumer[\"interaction_type\"].map(rate)"
   ]
  },
  {
   "cell_type": "code",
   "execution_count": 12,
   "metadata": {
    "scrolled": false
   },
   "outputs": [
    {
     "data": {
      "text/html": [
       "<div>\n",
       "<style scoped>\n",
       "    .dataframe tbody tr th:only-of-type {\n",
       "        vertical-align: middle;\n",
       "    }\n",
       "\n",
       "    .dataframe tbody tr th {\n",
       "        vertical-align: top;\n",
       "    }\n",
       "\n",
       "    .dataframe thead th {\n",
       "        text-align: right;\n",
       "    }\n",
       "</style>\n",
       "<table border=\"1\" class=\"dataframe\">\n",
       "  <thead>\n",
       "    <tr style=\"text-align: right;\">\n",
       "      <th></th>\n",
       "      <th>ratings</th>\n",
       "      <th>interaction_type</th>\n",
       "    </tr>\n",
       "  </thead>\n",
       "  <tbody>\n",
       "    <tr>\n",
       "      <th>0</th>\n",
       "      <td>1</td>\n",
       "      <td>content_watched</td>\n",
       "    </tr>\n",
       "    <tr>\n",
       "      <th>1</th>\n",
       "      <td>1</td>\n",
       "      <td>content_watched</td>\n",
       "    </tr>\n",
       "    <tr>\n",
       "      <th>2</th>\n",
       "      <td>1</td>\n",
       "      <td>content_watched</td>\n",
       "    </tr>\n",
       "    <tr>\n",
       "      <th>3</th>\n",
       "      <td>5</td>\n",
       "      <td>content_followed</td>\n",
       "    </tr>\n",
       "    <tr>\n",
       "      <th>4</th>\n",
       "      <td>1</td>\n",
       "      <td>content_watched</td>\n",
       "    </tr>\n",
       "  </tbody>\n",
       "</table>\n",
       "</div>"
      ],
      "text/plain": [
       "   ratings  interaction_type\n",
       "0        1   content_watched\n",
       "1        1   content_watched\n",
       "2        1   content_watched\n",
       "3        5  content_followed\n",
       "4        1   content_watched"
      ]
     },
     "execution_count": 12,
     "metadata": {},
     "output_type": "execute_result"
    }
   ],
   "source": [
    "# Check the imputed data\n",
    "consumer[[\"ratings\",\"interaction_type\"]].head()"
   ]
  },
  {
   "cell_type": "code",
   "execution_count": 13,
   "metadata": {},
   "outputs": [
    {
     "data": {
      "text/plain": [
       "content_watched         0.844756\n",
       "content_liked           0.079447\n",
       "content_saved           0.034061\n",
       "content_commented_on    0.022278\n",
       "content_followed        0.019457\n",
       "Name: interaction_type, dtype: float64"
      ]
     },
     "execution_count": 13,
     "metadata": {},
     "output_type": "execute_result"
    }
   ],
   "source": [
    "# Check the percentage distribution of interaction type\n",
    "consumer[\"interaction_type\"].value_counts(normalize=True)"
   ]
  },
  {
   "cell_type": "code",
   "execution_count": 14,
   "metadata": {
    "scrolled": false
   },
   "outputs": [
    {
     "data": {
      "image/png": "[encoded data removed]",
      "text/plain": [
       "<Figure size 576x432 with 1 Axes>"
      ]
     },
     "metadata": {
      "needs_background": "light"
     },
     "output_type": "display_data"
    }
   ],
   "source": [
    "# plot  a BAR grah of the distribution \n",
    "plt.figure(figsize=(8,6))\n",
    "plt.title(\"Cosnumer interaction type Distributions\",fontsize=18)\n",
    "consumer[\"interaction_type\"].value_counts(normalize=True).plot.bar(color=\"green\")\n",
    "plt.tick_params(size=5,labelsize = 15)\n",
    "plt.xticks(rotation = \"vertical\") # xticks are rotated as the visuallization was not clear\n",
    "plt.ylabel(\"Percentages\",fontsize=18)\n",
    "plt.grid(0.3)"
   ]
  },
  {
   "cell_type": "code",
   "execution_count": 15,
   "metadata": {
    "scrolled": false
   },
   "outputs": [
    {
     "data": {
      "image/png": "[encoded data removed]",
      "text/plain": [
       "<Figure size 576x432 with 1 Axes>"
      ]
     },
     "metadata": {
      "needs_background": "light"
     },
     "output_type": "display_data"
    }
   ],
   "source": [
    "# check ratings data distributions \n",
    "plt.figure(figsize=(8,6))\n",
    "plt.title(\"Cosnumer interaction type Distributions\",fontsize=18)\n",
    "consumer[\"ratings\"].value_counts(normalize=True).plot.bar(color=\"green\")\n",
    "\n",
    "plt.tick_params(size=5,labelsize = 15)\n",
    "plt.xticks(rotation = \"vertical\") # xticks are rotated as the visuallization was not clear\n",
    "plt.ylabel(\"Percentages\",fontsize=18)\n",
    "plt.grid(0.3)"
   ]
  },
  {
   "cell_type": "markdown",
   "metadata": {},
   "source": [
    "- __80% of data was rated as 1 --> content watched.__"
   ]
  },
  {
   "cell_type": "code",
   "execution_count": 16,
   "metadata": {},
   "outputs": [
    {
     "data": {
      "text/plain": [
       "array([nan, 'NY', 'MG', 'SP', 'RJ', 'GA', 'CA', '?', 'NJ', 'TX', '49',\n",
       "       'MH', 'D', 'PA', 'VA', 'BE', 'AZ', 'IL', 'MI', 'FL', 'ES', 'BW',\n",
       "       'MA', 'PR', 'BC', 'NSW', 'DF', 'C', 'HE', 'ON', 'MS', '13', '11',\n",
       "       'DC', 'NE', 'NC', '33', 'CO', 'LA', 'ENG', 'GO', '14', 'IN', 'CT',\n",
       "       '45', '27', 'WA', 'PE', 'MO', 'MN', 'RS', 'NH', '41', 'SC', 'BA',\n",
       "       'WI', 'RM', 'OK', 'OH', 'CE', 'RI', 'AB', 'R', 'BOL', 'NV', 'OR',\n",
       "       'KS', 'ZH', 'MT', 'QLD', 'PI', 'CL'], dtype=object)"
      ]
     },
     "execution_count": 16,
     "metadata": {},
     "output_type": "execute_result"
    }
   ],
   "source": [
    "#check the location values \n",
    "consumer[\"consumer_location\"].unique()"
   ]
  },
  {
   "cell_type": "code",
   "execution_count": 17,
   "metadata": {},
   "outputs": [
    {
     "data": {
      "text/plain": [
       "SP    0.705783\n",
       "MG    0.179749\n",
       "NY    0.022089\n",
       "TX    0.016219\n",
       "GA    0.015991\n",
       "        ...   \n",
       "R     0.000018\n",
       "CE    0.000018\n",
       "NH    0.000018\n",
       "MN    0.000018\n",
       "CL    0.000018\n",
       "Name: consumer_location, Length: 71, dtype: float64"
      ]
     },
     "execution_count": 17,
     "metadata": {},
     "output_type": "execute_result"
    }
   ],
   "source": [
    "#check the percentage distribution of User Location \n",
    "consumer[\"consumer_location\"].value_counts(normalize=True)\n"
   ]
  },
  {
   "cell_type": "code",
   "execution_count": 18,
   "metadata": {
    "scrolled": false
   },
   "outputs": [
    {
     "data": {
      "image/png": "[encoded data removed]",
      "text/plain": [
       "<Figure size 1296x360 with 1 Axes>"
      ]
     },
     "metadata": {
      "needs_background": "light"
     },
     "output_type": "display_data"
    }
   ],
   "source": [
    "#Plot the user location with BAR Graph\n",
    "plt.figure(figsize=(18,5))\n",
    "plt.title(\"Cosnumer Location Distributions\",fontsize=18)\n",
    "consumer[\"consumer_location\"].value_counts(normalize=True).plot.bar(color=\"red\")\n",
    "\n",
    "plt.tick_params(size=5,labelsize = 15)\n",
    "plt.xticks(rotation = \"vertical\") # xticks are rotated as the visuallization was not clear\n",
    "plt.ylabel(\"Percentages\",fontsize=18)\n",
    "plt.xlabel(\"Location\",fontsize=18)\n",
    "plt.grid(0.3)"
   ]
  },
  {
   "cell_type": "markdown",
   "metadata": {},
   "source": [
    "- __SP (sao paulo) has highest percentages of location share.__"
   ]
  },
  {
   "cell_type": "code",
   "execution_count": 19,
   "metadata": {
    "scrolled": false
   },
   "outputs": [
    {
     "data": {
      "text/plain": [
       "BR    0.90\n",
       "US    0.08\n",
       "KR    0.00\n",
       "CA    0.00\n",
       "JP    0.00\n",
       "AU    0.00\n",
       "GB    0.00\n",
       "DE    0.00\n",
       "IE    0.00\n",
       "IS    0.00\n",
       "ZZ    0.00\n",
       "SG    0.00\n",
       "AR    0.00\n",
       "PT    0.00\n",
       "ES    0.00\n",
       "IN    0.00\n",
       "MY    0.00\n",
       "IT    0.00\n",
       "CN    0.00\n",
       "NL    0.00\n",
       "CL    0.00\n",
       "CO    0.00\n",
       "CH    0.00\n",
       "Name: country, dtype: float64"
      ]
     },
     "execution_count": 19,
     "metadata": {},
     "output_type": "execute_result"
    }
   ],
   "source": [
    "# Check the consumer country percentage distributions\n",
    "consumer[\"country\"].value_counts(normalize=True).round(2)"
   ]
  },
  {
   "cell_type": "markdown",
   "metadata": {},
   "source": [
    "- __90% of data belongs to country Brazil.__"
   ]
  },
  {
   "cell_type": "code",
   "execution_count": 20,
   "metadata": {
    "scrolled": false
   },
   "outputs": [
    {
     "data": {
      "image/png": "[encoded data removed]",
      "text/plain": [
       "<Figure size 576x432 with 1 Axes>"
      ]
     },
     "metadata": {
      "needs_background": "light"
     },
     "output_type": "display_data"
    }
   ],
   "source": [
    "#plot country percentage distributions\n",
    "plt.figure(figsize=(8,6))\n",
    "plt.title(\"Cosnumer interaction type Distributions\",fontsize=18) #title\n",
    "consumer[\"country\"].value_counts(normalize=True).plot.bar(color=\"red\") \n",
    "plt.tick_params(size=5,labelsize = 15)\n",
    "plt.xticks(rotation = \"vertical\") # xticks are rotated as the visuallization was not clear\n",
    "plt.ylabel(\"Percentages\",fontsize=18)\n",
    "plt.xlabel(\"Country\",fontsize=18)\n",
    "plt.grid(0.3)"
   ]
  },
  {
   "cell_type": "code",
   "execution_count": 21,
   "metadata": {
    "scrolled": false
   },
   "outputs": [
    {
     "data": {
      "text/plain": [
       "Android - Native Mobile App                                                                                                                          0.118785\n",
       "Mozilla/5.0 (Windows NT 10.0; WOW64) AppleWebKit/537.36 (KHTML, like Gecko) Chrome/51.0.2704.103 Safari/537.36                                       0.032029\n",
       "Mozilla/5.0 (Windows NT 10.0; WOW64) AppleWebKit/537.36 (KHTML, like Gecko) Chrome/52.0.2743.116 Safari/537.36                                       0.020134\n",
       "Mozilla/5.0 (X11; Linux x86_64) AppleWebKit/537.36 (KHTML, like Gecko) Chrome/52.0.2743.116 Safari/537.36                                            0.018904\n",
       "Mozilla/5.0 (Windows NT 6.1; WOW64) AppleWebKit/537.36 (KHTML, like Gecko) Chrome/51.0.2704.103 Safari/537.36                                        0.018606\n",
       "                                                                                                                                                       ...   \n",
       "Mozilla/5.0 (Windows NT 6.1; WOW64) AppleWebKit/537.36 (KHTML, like Gecko) Chrome/54.0.2832.2 Safari/537.36                                          0.000018\n",
       "Mozilla/5.0 (Macintosh; Intel Mac OS X 10_11_6) AppleWebKit/537.36 (KHTML, like Gecko) Chrome/48.0.2564.48 Safari/537.36                             0.000018\n",
       "Mozilla/5.0 (Macintosh; Intel Mac OS X 10_11_6) AppleWebKit/537.36 (KHTML, like Gecko) Chrome/53.0.2785.46 Safari/537.36                             0.000018\n",
       "Mozilla/5.0 (Windows NT 6.1; Win64; x64) AppleWebKit/537.36 (KHTML, like Gecko) Chrome/53.0.2785.46 Safari/537.36                                    0.000018\n",
       "Mozilla/5.0 (Linux; Android 6.0.1; SAMSUNG-SM-N920A Build/MMB29K) AppleWebKit/537.36 (KHTML, like Gecko) Chrome/55.0.2883.91 Mobile Safari/537.36    0.000018\n",
       "Name: consumer_device_info, Length: 1090, dtype: float64"
      ]
     },
     "execution_count": 21,
     "metadata": {},
     "output_type": "execute_result"
    }
   ],
   "source": [
    "consumer[\"consumer_device_info\"].value_counts(normalize=True)"
   ]
  },
  {
   "cell_type": "markdown",
   "metadata": {},
   "source": [
    " - __12% consumer access the news items via Android native mobile app__."
   ]
  },
  {
   "cell_type": "code",
   "execution_count": 22,
   "metadata": {
    "scrolled": true
   },
   "outputs": [
    {
     "data": {
      "text/plain": [
       "0.6650901648412435"
      ]
     },
     "execution_count": 22,
     "metadata": {},
     "output_type": "execute_result"
    }
   ],
   "source": [
    "# percentange of consumer access news via Chrome\n",
    "consumer[\"consumer_device_info\"].str.contains(\"Chrome\").sum()/len(consumer)"
   ]
  },
  {
   "cell_type": "markdown",
   "metadata": {},
   "source": [
    "- __Close to 66% user access new items via Chrome browser.__"
   ]
  },
  {
   "cell_type": "code",
   "execution_count": 23,
   "metadata": {},
   "outputs": [
    {
     "data": {
      "text/plain": [
       "0.6921949330678172"
      ]
     },
     "execution_count": 23,
     "metadata": {},
     "output_type": "execute_result"
    }
   ],
   "source": [
    "consumer[\"consumer_device_info\"].str.contains(\"Mozilla\").sum()/len(consumer)"
   ]
  },
  {
   "cell_type": "markdown",
   "metadata": {},
   "source": [
    "- __Close to 69% user access new items via Mozilla browser.__"
   ]
  },
  {
   "cell_type": "code",
   "execution_count": 24,
   "metadata": {},
   "outputs": [
    {
     "data": {
      "text/plain": [
       "0.6770245602389645"
      ]
     },
     "execution_count": 24,
     "metadata": {},
     "output_type": "execute_result"
    }
   ],
   "source": [
    "consumer[\"consumer_device_info\"].str.contains(\"AppleWebKit\").sum()/len(consumer)"
   ]
  },
  {
   "cell_type": "code",
   "execution_count": 25,
   "metadata": {},
   "outputs": [
    {
     "data": {
      "text/plain": [
       "0.6770245602389645"
      ]
     },
     "execution_count": 25,
     "metadata": {},
     "output_type": "execute_result"
    }
   ],
   "source": [
    "consumer[\"consumer_device_info\"].str.contains(\"Safari\").sum()/len(consumer)"
   ]
  },
  {
   "cell_type": "markdown",
   "metadata": {},
   "source": [
    "- __From the above analysis, users actually access newitems simultaneouly from different browsers.__\n",
    "- __There is no clear cut interpretation of device info from the data.__ "
   ]
  },
  {
   "cell_type": "markdown",
   "metadata": {},
   "source": [
    "## Content Data Exploration:"
   ]
  },
  {
   "cell_type": "code",
   "execution_count": 26,
   "metadata": {},
   "outputs": [
    {
     "data": {
      "text/plain": [
       "Index(['event_timestamp', 'interaction_type', 'item_id', 'producer_id',\n",
       "       'producer_session_id', 'producer_device_info', 'producer_location',\n",
       "       'producer_country', 'item_type', 'item_url', 'title',\n",
       "       'text_description', 'language'],\n",
       "      dtype='object')"
      ]
     },
     "execution_count": 26,
     "metadata": {},
     "output_type": "execute_result"
    }
   ],
   "source": [
    "content.columns #Check content columns"
   ]
  },
  {
   "cell_type": "code",
   "execution_count": 27,
   "metadata": {
    "scrolled": false
   },
   "outputs": [
    {
     "data": {
      "text/html": [
       "<div>\n",
       "<style scoped>\n",
       "    .dataframe tbody tr th:only-of-type {\n",
       "        vertical-align: middle;\n",
       "    }\n",
       "\n",
       "    .dataframe tbody tr th {\n",
       "        vertical-align: top;\n",
       "    }\n",
       "\n",
       "    .dataframe thead th {\n",
       "        text-align: right;\n",
       "    }\n",
       "</style>\n",
       "<table border=\"1\" class=\"dataframe\">\n",
       "  <thead>\n",
       "    <tr style=\"text-align: right;\">\n",
       "      <th></th>\n",
       "      <th>event_timestamp</th>\n",
       "      <th>interaction_type</th>\n",
       "      <th>item_id</th>\n",
       "      <th>producer_id</th>\n",
       "      <th>producer_session_id</th>\n",
       "      <th>producer_device_info</th>\n",
       "      <th>producer_location</th>\n",
       "      <th>producer_country</th>\n",
       "      <th>item_type</th>\n",
       "      <th>item_url</th>\n",
       "      <th>title</th>\n",
       "      <th>text_description</th>\n",
       "      <th>language</th>\n",
       "    </tr>\n",
       "  </thead>\n",
       "  <tbody>\n",
       "    <tr>\n",
       "      <th>0</th>\n",
       "      <td>1459192779</td>\n",
       "      <td>content_pulled_out</td>\n",
       "      <td>-6451309518266745024</td>\n",
       "      <td>4340306774493623681</td>\n",
       "      <td>8940341205206233829</td>\n",
       "      <td>NaN</td>\n",
       "      <td>NaN</td>\n",
       "      <td>NaN</td>\n",
       "      <td>HTML</td>\n",
       "      <td>http://www.nytimes.com/2016/03/28/business/dea...</td>\n",
       "      <td>Ethereum, a Virtual Currency, Enables Transact...</td>\n",
       "      <td>All of this work is still very early. The firs...</td>\n",
       "      <td>en</td>\n",
       "    </tr>\n",
       "    <tr>\n",
       "      <th>1</th>\n",
       "      <td>1459193988</td>\n",
       "      <td>content_present</td>\n",
       "      <td>-4110354420726924665</td>\n",
       "      <td>4340306774493623681</td>\n",
       "      <td>8940341205206233829</td>\n",
       "      <td>NaN</td>\n",
       "      <td>NaN</td>\n",
       "      <td>NaN</td>\n",
       "      <td>HTML</td>\n",
       "      <td>http://www.nytimes.com/2016/03/28/business/dea...</td>\n",
       "      <td>Ethereum, a Virtual Currency, Enables Transact...</td>\n",
       "      <td>All of this work is still very early. The firs...</td>\n",
       "      <td>en</td>\n",
       "    </tr>\n",
       "    <tr>\n",
       "      <th>2</th>\n",
       "      <td>1459194146</td>\n",
       "      <td>content_present</td>\n",
       "      <td>-7292285110016212249</td>\n",
       "      <td>4340306774493623681</td>\n",
       "      <td>8940341205206233829</td>\n",
       "      <td>NaN</td>\n",
       "      <td>NaN</td>\n",
       "      <td>NaN</td>\n",
       "      <td>HTML</td>\n",
       "      <td>http://cointelegraph.com/news/bitcoin-future-w...</td>\n",
       "      <td>Bitcoin Future: When GBPcoin of Branson Wins O...</td>\n",
       "      <td>The alarm clock wakes me at 8:00 with stream o...</td>\n",
       "      <td>en</td>\n",
       "    </tr>\n",
       "    <tr>\n",
       "      <th>3</th>\n",
       "      <td>1459194474</td>\n",
       "      <td>content_present</td>\n",
       "      <td>-6151852268067518688</td>\n",
       "      <td>3891637997717104548</td>\n",
       "      <td>-1457532940883382585</td>\n",
       "      <td>NaN</td>\n",
       "      <td>NaN</td>\n",
       "      <td>NaN</td>\n",
       "      <td>HTML</td>\n",
       "      <td>https://cloudplatform.googleblog.com/2016/03/G...</td>\n",
       "      <td>Google Data Center 360° Tour</td>\n",
       "      <td>We're excited to share the Google Data Center ...</td>\n",
       "      <td>en</td>\n",
       "    </tr>\n",
       "    <tr>\n",
       "      <th>4</th>\n",
       "      <td>1459194497</td>\n",
       "      <td>content_present</td>\n",
       "      <td>2448026894306402386</td>\n",
       "      <td>4340306774493623681</td>\n",
       "      <td>8940341205206233829</td>\n",
       "      <td>NaN</td>\n",
       "      <td>NaN</td>\n",
       "      <td>NaN</td>\n",
       "      <td>HTML</td>\n",
       "      <td>https://bitcoinmagazine.com/articles/ibm-wants...</td>\n",
       "      <td>IBM Wants to \"Evolve the Internet\" With Blockc...</td>\n",
       "      <td>The Aite Group projects the blockchain market ...</td>\n",
       "      <td>en</td>\n",
       "    </tr>\n",
       "  </tbody>\n",
       "</table>\n",
       "</div>"
      ],
      "text/plain": [
       "   event_timestamp    interaction_type              item_id  \\\n",
       "0       1459192779  content_pulled_out -6451309518266745024   \n",
       "1       1459193988     content_present -4110354420726924665   \n",
       "2       1459194146     content_present -7292285110016212249   \n",
       "3       1459194474     content_present -6151852268067518688   \n",
       "4       1459194497     content_present  2448026894306402386   \n",
       "\n",
       "           producer_id  producer_session_id producer_device_info  \\\n",
       "0  4340306774493623681  8940341205206233829                  NaN   \n",
       "1  4340306774493623681  8940341205206233829                  NaN   \n",
       "2  4340306774493623681  8940341205206233829                  NaN   \n",
       "3  3891637997717104548 -1457532940883382585                  NaN   \n",
       "4  4340306774493623681  8940341205206233829                  NaN   \n",
       "\n",
       "  producer_location producer_country item_type  \\\n",
       "0               NaN              NaN      HTML   \n",
       "1               NaN              NaN      HTML   \n",
       "2               NaN              NaN      HTML   \n",
       "3               NaN              NaN      HTML   \n",
       "4               NaN              NaN      HTML   \n",
       "\n",
       "                                            item_url  \\\n",
       "0  http://www.nytimes.com/2016/03/28/business/dea...   \n",
       "1  http://www.nytimes.com/2016/03/28/business/dea...   \n",
       "2  http://cointelegraph.com/news/bitcoin-future-w...   \n",
       "3  https://cloudplatform.googleblog.com/2016/03/G...   \n",
       "4  https://bitcoinmagazine.com/articles/ibm-wants...   \n",
       "\n",
       "                                               title  \\\n",
       "0  Ethereum, a Virtual Currency, Enables Transact...   \n",
       "1  Ethereum, a Virtual Currency, Enables Transact...   \n",
       "2  Bitcoin Future: When GBPcoin of Branson Wins O...   \n",
       "3                       Google Data Center 360° Tour   \n",
       "4  IBM Wants to \"Evolve the Internet\" With Blockc...   \n",
       "\n",
       "                                    text_description language  \n",
       "0  All of this work is still very early. The firs...       en  \n",
       "1  All of this work is still very early. The firs...       en  \n",
       "2  The alarm clock wakes me at 8:00 with stream o...       en  \n",
       "3  We're excited to share the Google Data Center ...       en  \n",
       "4  The Aite Group projects the blockchain market ...       en  "
      ]
     },
     "execution_count": 27,
     "metadata": {},
     "output_type": "execute_result"
    }
   ],
   "source": [
    "content.head()"
   ]
  },
  {
   "cell_type": "code",
   "execution_count": 28,
   "metadata": {
    "scrolled": true
   },
   "outputs": [
    {
     "data": {
      "text/plain": [
       "event_timestamp            0\n",
       "interaction_type           0\n",
       "item_id                    0\n",
       "producer_id                0\n",
       "producer_session_id        0\n",
       "producer_device_info    2442\n",
       "producer_location       2442\n",
       "producer_country        2442\n",
       "item_type                  0\n",
       "item_url                   0\n",
       "title                      0\n",
       "text_description           0\n",
       "language                   0\n",
       "dtype: int64"
      ]
     },
     "execution_count": 28,
     "metadata": {},
     "output_type": "execute_result"
    }
   ],
   "source": [
    "content.isnull().sum() # Chck null values"
   ]
  },
  {
   "cell_type": "markdown",
   "metadata": {},
   "source": [
    "- __We have null values in producer_device_info, producer_location  and producer_country.__\n",
    "  "
   ]
  },
  {
   "cell_type": "code",
   "execution_count": 29,
   "metadata": {},
   "outputs": [
    {
     "data": {
      "text/plain": [
       "'IEEE to Talk Blockchain at Cloud Computing Oxford-Con - CoinDesk'"
      ]
     },
     "execution_count": 29,
     "metadata": {},
     "output_type": "execute_result"
    }
   ],
   "source": [
    "content[\"title\"].loc[5] # check  title it looks"
   ]
  },
  {
   "cell_type": "code",
   "execution_count": 30,
   "metadata": {},
   "outputs": [
    {
     "name": "stdout",
     "output_type": "stream",
     "text": [
      "<class 'pandas.core.frame.DataFrame'>\n",
      "RangeIndex: 3122 entries, 0 to 3121\n",
      "Data columns (total 13 columns):\n",
      " #   Column                Non-Null Count  Dtype \n",
      "---  ------                --------------  ----- \n",
      " 0   event_timestamp       3122 non-null   int64 \n",
      " 1   interaction_type      3122 non-null   object\n",
      " 2   item_id               3122 non-null   int64 \n",
      " 3   producer_id           3122 non-null   int64 \n",
      " 4   producer_session_id   3122 non-null   int64 \n",
      " 5   producer_device_info  680 non-null    object\n",
      " 6   producer_location     680 non-null    object\n",
      " 7   producer_country      680 non-null    object\n",
      " 8   item_type             3122 non-null   object\n",
      " 9   item_url              3122 non-null   object\n",
      " 10  title                 3122 non-null   object\n",
      " 11  text_description      3122 non-null   object\n",
      " 12  language              3122 non-null   object\n",
      "dtypes: int64(4), object(9)\n",
      "memory usage: 317.2+ KB\n"
     ]
    }
   ],
   "source": [
    "content.info() # Metadata Check"
   ]
  },
  {
   "cell_type": "code",
   "execution_count": 31,
   "metadata": {},
   "outputs": [
    {
     "data": {
      "text/plain": [
       "array(['content_pulled_out', 'content_present'], dtype=object)"
      ]
     },
     "execution_count": 31,
     "metadata": {},
     "output_type": "execute_result"
    }
   ],
   "source": [
    "content.interaction_type.unique() # Check the interaction type column in Content dataset"
   ]
  },
  {
   "cell_type": "code",
   "execution_count": 32,
   "metadata": {},
   "outputs": [
    {
     "data": {
      "text/plain": [
       "3122"
      ]
     },
     "execution_count": 32,
     "metadata": {},
     "output_type": "execute_result"
    }
   ],
   "source": [
    "len(content) # no of entries in content column"
   ]
  },
  {
   "cell_type": "code",
   "execution_count": 33,
   "metadata": {
    "scrolled": false
   },
   "outputs": [
    {
     "data": {
      "image/png": "[encoded data removed]",
      "text/plain": [
       "<Figure size 576x432 with 1 Axes>"
      ]
     },
     "metadata": {
      "needs_background": "light"
     },
     "output_type": "display_data"
    }
   ],
   "source": [
    "## Check the language distributions in news content\n",
    "\n",
    "plt.figure(figsize=(8,6))\n",
    "plt.title(\"Content Language type Distributions\",fontsize=18)\n",
    "content[\"language\"].value_counts(normalize=True).plot.bar()\n",
    "plt.tick_params(size=5,labelsize = 15)\n",
    "plt.xticks(rotation = \"vertical\") # xticks are rotated as the visuallization was not clear\n",
    "plt.ylabel(\"Percentages\",fontsize=18)\n",
    "plt.xlabel(\"Language\",fontsize=18)\n",
    "plt.grid(0.3)"
   ]
  },
  {
   "cell_type": "markdown",
   "metadata": {},
   "source": [
    " - __72% data belongs to english contents.__"
   ]
  },
  {
   "cell_type": "code",
   "execution_count": 34,
   "metadata": {},
   "outputs": [
    {
     "data": {
      "text/plain": [
       "<AxesSubplot:ylabel='language'>"
      ]
     },
     "execution_count": 34,
     "metadata": {},
     "output_type": "execute_result"
    },
    {
     "data": {
      "image/png": "[encoded data removed]",
      "text/plain": [
       "<Figure size 432x288 with 1 Axes>"
      ]
     },
     "metadata": {},
     "output_type": "display_data"
    }
   ],
   "source": [
    "content[\"language\"].value_counts(normalize=True).plot.pie() # language percentages distributions"
   ]
  },
  {
   "cell_type": "markdown",
   "metadata": {},
   "source": [
    "### Filtered the English News Contents"
   ]
  },
  {
   "cell_type": "code",
   "execution_count": 35,
   "metadata": {},
   "outputs": [],
   "source": [
    "english_content = content[content[\"language\"]==\"en\"]"
   ]
  },
  {
   "cell_type": "code",
   "execution_count": 36,
   "metadata": {
    "scrolled": true
   },
   "outputs": [
    {
     "data": {
      "text/plain": [
       "2264"
      ]
     },
     "execution_count": 36,
     "metadata": {},
     "output_type": "execute_result"
    }
   ],
   "source": [
    "len(english_content)"
   ]
  },
  {
   "cell_type": "code",
   "execution_count": 37,
   "metadata": {},
   "outputs": [],
   "source": [
    "# Label Encoding of Item ID in english content and Consumer content.\n",
    "\n",
    "le_item = LabelEncoder()\n",
    "english_content[\"item_index\"] = le_item.fit_transform(english_content[\"item_id\"])\n",
    "\n",
    "consumer[\"item_index\"] = le_item.fit_transform(consumer[\"item_id\"])\n",
    "\n"
   ]
  },
  {
   "cell_type": "code",
   "execution_count": 38,
   "metadata": {},
   "outputs": [
    {
     "data": {
      "text/html": [
       "<div>\n",
       "<style scoped>\n",
       "    .dataframe tbody tr th:only-of-type {\n",
       "        vertical-align: middle;\n",
       "    }\n",
       "\n",
       "    .dataframe tbody tr th {\n",
       "        vertical-align: top;\n",
       "    }\n",
       "\n",
       "    .dataframe thead th {\n",
       "        text-align: right;\n",
       "    }\n",
       "</style>\n",
       "<table border=\"1\" class=\"dataframe\">\n",
       "  <thead>\n",
       "    <tr style=\"text-align: right;\">\n",
       "      <th></th>\n",
       "      <th>event_timestamp</th>\n",
       "      <th>interaction_type</th>\n",
       "      <th>item_id</th>\n",
       "      <th>consumer_id</th>\n",
       "      <th>consumer_session_id</th>\n",
       "      <th>consumer_device_info</th>\n",
       "      <th>consumer_location</th>\n",
       "      <th>country</th>\n",
       "      <th>consumer_index</th>\n",
       "      <th>ratings</th>\n",
       "      <th>item_index</th>\n",
       "    </tr>\n",
       "  </thead>\n",
       "  <tbody>\n",
       "    <tr>\n",
       "      <th>0</th>\n",
       "      <td>1465413032</td>\n",
       "      <td>content_watched</td>\n",
       "      <td>-3499919498720038879</td>\n",
       "      <td>-8845298781299428018</td>\n",
       "      <td>1264196770339959068</td>\n",
       "      <td>NaN</td>\n",
       "      <td>NaN</td>\n",
       "      <td>NaN</td>\n",
       "      <td>33</td>\n",
       "      <td>1</td>\n",
       "      <td>933</td>\n",
       "    </tr>\n",
       "    <tr>\n",
       "      <th>1</th>\n",
       "      <td>1465412560</td>\n",
       "      <td>content_watched</td>\n",
       "      <td>8890720798209849691</td>\n",
       "      <td>-1032019229384696495</td>\n",
       "      <td>3621737643587579081</td>\n",
       "      <td>Mozilla/5.0 (Macintosh; Intel Mac OS X 10_11_2...</td>\n",
       "      <td>NY</td>\n",
       "      <td>US</td>\n",
       "      <td>831</td>\n",
       "      <td>1</td>\n",
       "      <td>2933</td>\n",
       "    </tr>\n",
       "    <tr>\n",
       "      <th>2</th>\n",
       "      <td>1465416190</td>\n",
       "      <td>content_watched</td>\n",
       "      <td>310515487419366995</td>\n",
       "      <td>-1130272294246983140</td>\n",
       "      <td>2631864456530402479</td>\n",
       "      <td>NaN</td>\n",
       "      <td>NaN</td>\n",
       "      <td>NaN</td>\n",
       "      <td>826</td>\n",
       "      <td>1</td>\n",
       "      <td>1537</td>\n",
       "    </tr>\n",
       "    <tr>\n",
       "      <th>3</th>\n",
       "      <td>1465413895</td>\n",
       "      <td>content_followed</td>\n",
       "      <td>310515487419366995</td>\n",
       "      <td>344280948527967603</td>\n",
       "      <td>-3167637573980064150</td>\n",
       "      <td>NaN</td>\n",
       "      <td>NaN</td>\n",
       "      <td>NaN</td>\n",
       "      <td>974</td>\n",
       "      <td>5</td>\n",
       "      <td>1537</td>\n",
       "    </tr>\n",
       "    <tr>\n",
       "      <th>4</th>\n",
       "      <td>1465412290</td>\n",
       "      <td>content_watched</td>\n",
       "      <td>-7820640624231356730</td>\n",
       "      <td>-445337111692715325</td>\n",
       "      <td>561148 1178424124714</td>\n",
       "      <td>NaN</td>\n",
       "      <td>NaN</td>\n",
       "      <td>NaN</td>\n",
       "      <td>887</td>\n",
       "      <td>1</td>\n",
       "      <td>246</td>\n",
       "    </tr>\n",
       "  </tbody>\n",
       "</table>\n",
       "</div>"
      ],
      "text/plain": [
       "   event_timestamp  interaction_type              item_id  \\\n",
       "0       1465413032   content_watched -3499919498720038879   \n",
       "1       1465412560   content_watched  8890720798209849691   \n",
       "2       1465416190   content_watched   310515487419366995   \n",
       "3       1465413895  content_followed   310515487419366995   \n",
       "4       1465412290   content_watched -7820640624231356730   \n",
       "\n",
       "           consumer_id   consumer_session_id  \\\n",
       "0 -8845298781299428018   1264196770339959068   \n",
       "1 -1032019229384696495   3621737643587579081   \n",
       "2 -1130272294246983140   2631864456530402479   \n",
       "3   344280948527967603  -3167637573980064150   \n",
       "4  -445337111692715325  561148 1178424124714   \n",
       "\n",
       "                                consumer_device_info consumer_location  \\\n",
       "0                                                NaN               NaN   \n",
       "1  Mozilla/5.0 (Macintosh; Intel Mac OS X 10_11_2...                NY   \n",
       "2                                                NaN               NaN   \n",
       "3                                                NaN               NaN   \n",
       "4                                                NaN               NaN   \n",
       "\n",
       "  country  consumer_index  ratings  item_index  \n",
       "0     NaN              33        1         933  \n",
       "1      US             831        1        2933  \n",
       "2     NaN             826        1        1537  \n",
       "3     NaN             974        5        1537  \n",
       "4     NaN             887        1         246  "
      ]
     },
     "execution_count": 38,
     "metadata": {},
     "output_type": "execute_result"
    }
   ],
   "source": [
    "consumer.head()"
   ]
  },
  {
   "cell_type": "code",
   "execution_count": 39,
   "metadata": {},
   "outputs": [
    {
     "data": {
      "text/plain": [
       "2218"
      ]
     },
     "execution_count": 39,
     "metadata": {},
     "output_type": "execute_result"
    }
   ],
   "source": [
    "#Verify if label encoding encoded correctly by comparing item id and item index\n",
    "english_content[\"item_id\"].nunique()\n"
   ]
  },
  {
   "cell_type": "code",
   "execution_count": 40,
   "metadata": {},
   "outputs": [
    {
     "data": {
      "text/plain": [
       "2218"
      ]
     },
     "execution_count": 40,
     "metadata": {},
     "output_type": "execute_result"
    }
   ],
   "source": [
    "english_content[\"item_index\"].nunique()"
   ]
  },
  {
   "cell_type": "code",
   "execution_count": 41,
   "metadata": {},
   "outputs": [
    {
     "data": {
      "text/plain": [
       "2987"
      ]
     },
     "execution_count": 41,
     "metadata": {},
     "output_type": "execute_result"
    }
   ],
   "source": [
    "# Similarly check consumer item id and consumer item index\n",
    "consumer[\"item_id\"].nunique()"
   ]
  },
  {
   "cell_type": "code",
   "execution_count": 42,
   "metadata": {
    "scrolled": false
   },
   "outputs": [
    {
     "data": {
      "text/plain": [
       "2987"
      ]
     },
     "execution_count": 42,
     "metadata": {},
     "output_type": "execute_result"
    }
   ],
   "source": [
    "consumer[\"item_index\"].nunique()"
   ]
  },
  {
   "cell_type": "code",
   "execution_count": 43,
   "metadata": {},
   "outputs": [
    {
     "data": {
      "text/plain": [
       "1895"
      ]
     },
     "execution_count": 43,
     "metadata": {},
     "output_type": "execute_result"
    }
   ],
   "source": [
    "consumer[\"consumer_id\"].nunique()"
   ]
  },
  {
   "cell_type": "markdown",
   "metadata": {},
   "source": [
    "- __Consumer dataset has 2987 unique items.__ \n",
    "- __English Content dataset has 2218 unique items.__ \n",
    "- __Consumer dataset has 1895 unique users.__ "
   ]
  },
  {
   "cell_type": "markdown",
   "metadata": {},
   "source": [
    "### Verify if  index is correct   in consumer and content data:"
   ]
  },
  {
   "cell_type": "code",
   "execution_count": 44,
   "metadata": {},
   "outputs": [],
   "source": [
    "set_consumer = set(consumer.item_id.unique())"
   ]
  },
  {
   "cell_type": "code",
   "execution_count": 45,
   "metadata": {},
   "outputs": [],
   "source": [
    "set_content = set(english_content.item_id.unique())"
   ]
  },
  {
   "cell_type": "code",
   "execution_count": 46,
   "metadata": {},
   "outputs": [
    {
     "data": {
      "text/plain": [
       "2154"
      ]
     },
     "execution_count": 46,
     "metadata": {},
     "output_type": "execute_result"
    }
   ],
   "source": [
    "len(set_consumer & set_content)"
   ]
  },
  {
   "cell_type": "code",
   "execution_count": 47,
   "metadata": {},
   "outputs": [
    {
     "data": {
      "text/plain": [
       "833"
      ]
     },
     "execution_count": 47,
     "metadata": {},
     "output_type": "execute_result"
    }
   ],
   "source": [
    "len(set_consumer.difference(set_content))"
   ]
  },
  {
   "cell_type": "code",
   "execution_count": 48,
   "metadata": {},
   "outputs": [
    {
     "data": {
      "text/plain": [
       "769"
      ]
     },
     "execution_count": 48,
     "metadata": {},
     "output_type": "execute_result"
    }
   ],
   "source": [
    "2987-2218"
   ]
  },
  {
   "cell_type": "code",
   "execution_count": 49,
   "metadata": {},
   "outputs": [
    {
     "data": {
      "text/plain": [
       "64"
      ]
     },
     "execution_count": 49,
     "metadata": {},
     "output_type": "execute_result"
    }
   ],
   "source": [
    "len(set_content.difference(set_consumer))"
   ]
  },
  {
   "cell_type": "markdown",
   "metadata": {},
   "source": [
    "- __769 items are not available in english content data.__"
   ]
  },
  {
   "cell_type": "markdown",
   "metadata": {},
   "source": [
    "### Explore English Content:"
   ]
  },
  {
   "cell_type": "code",
   "execution_count": 50,
   "metadata": {
    "scrolled": true
   },
   "outputs": [
    {
     "data": {
      "text/plain": [
       "HTML     0.994700\n",
       "VIDEO    0.003092\n",
       "RICH     0.002208\n",
       "Name: item_type, dtype: float64"
      ]
     },
     "execution_count": 50,
     "metadata": {},
     "output_type": "execute_result"
    }
   ],
   "source": [
    "english_content[\"item_type\"].value_counts(normalize=True) #check percentage distributions of item type"
   ]
  },
  {
   "cell_type": "markdown",
   "metadata": {},
   "source": [
    "- __all most all of the contents are html type.__"
   ]
  },
  {
   "cell_type": "code",
   "execution_count": 51,
   "metadata": {},
   "outputs": [
    {
     "data": {
      "image/png": "[encoded data removed]",
      "text/plain": [
       "<Figure size 576x432 with 1 Axes>"
      ]
     },
     "metadata": {
      "needs_background": "light"
     },
     "output_type": "display_data"
    }
   ],
   "source": [
    "plt.figure(figsize=(8,6))\n",
    "plt.title(\"Item Type\",fontsize=18)\n",
    "english_content[\"item_type\"].value_counts(normalize=True).plot.bar()\n",
    "plt.tick_params(size=5,labelsize = 15)\n",
    "plt.xticks(rotation = \"vertical\") # xticks are rotated as the visuallization was not clear\n",
    "plt.ylabel(\"Percentages\",fontsize=18)\n",
    "plt.xlabel(\"Item Type\",fontsize=18)\n",
    "plt.grid(0.3)"
   ]
  },
  {
   "cell_type": "code",
   "execution_count": 52,
   "metadata": {},
   "outputs": [
    {
     "data": {
      "text/plain": [
       "BR    0.90\n",
       "US    0.09\n",
       "CA    0.01\n",
       "AU    0.00\n",
       "PT    0.00\n",
       "Name: producer_country, dtype: float64"
      ]
     },
     "execution_count": 52,
     "metadata": {},
     "output_type": "execute_result"
    }
   ],
   "source": [
    "# Country wise percentages of news content\n",
    "content[\"producer_country\"].value_counts(normalize=True).round(2)\n",
    "\n"
   ]
  },
  {
   "cell_type": "code",
   "execution_count": 53,
   "metadata": {
    "scrolled": false
   },
   "outputs": [
    {
     "data": {
      "image/png": "[encoded data removed]",
      "text/plain": [
       "<Figure size 576x432 with 1 Axes>"
      ]
     },
     "metadata": {
      "needs_background": "light"
     },
     "output_type": "display_data"
    }
   ],
   "source": [
    "#Country wise percentages of news content with bar plot\n",
    "# content[\"producer_country\"].value_counts(normalize=True).round(2).plot.bar()\n",
    "\n",
    "plt.figure(figsize=(8,6))\n",
    "plt.title(\"Producer Country Distributions\",fontsize=18)\n",
    "content[\"producer_country\"].value_counts(normalize=True).round(2).plot.bar()\n",
    "plt.tick_params(size=5,labelsize = 15)\n",
    "plt.xticks(rotation = \"vertical\") # xticks are rotated as the visuallization was not clear\n",
    "plt.ylabel(\"Percentages\",fontsize=18)\n",
    "plt.xlabel(\"Producer Country\",fontsize=18)\n",
    "plt.grid(0.3)"
   ]
  },
  {
   "cell_type": "markdown",
   "metadata": {},
   "source": [
    "- __90% contents are generated from country Brazil.__"
   ]
  },
  {
   "cell_type": "code",
   "execution_count": 54,
   "metadata": {},
   "outputs": [
    {
     "data": {
      "text/plain": [
       "SP     0.783824\n",
       "MG     0.110294\n",
       "NY     0.029412\n",
       "NJ     0.023529\n",
       "GA     0.010294\n",
       "IL     0.008824\n",
       "ON     0.005882\n",
       "RJ     0.005882\n",
       "NSW    0.002941\n",
       "TX     0.002941\n",
       "?      0.002941\n",
       "SC     0.002941\n",
       "RI     0.001471\n",
       "AB     0.001471\n",
       "FL     0.001471\n",
       "13     0.001471\n",
       "WA     0.001471\n",
       "CA     0.001471\n",
       "MS     0.001471\n",
       "Name: producer_location, dtype: float64"
      ]
     },
     "execution_count": 54,
     "metadata": {},
     "output_type": "execute_result"
    }
   ],
   "source": [
    "# location wise  percentages of news content\n",
    "content[\"producer_location\"].value_counts(normalize=True)"
   ]
  },
  {
   "cell_type": "code",
   "execution_count": 55,
   "metadata": {
    "scrolled": false
   },
   "outputs": [
    {
     "data": {
      "image/png": "[encoded data removed]",
      "text/plain": [
       "<Figure size 576x432 with 1 Axes>"
      ]
     },
     "metadata": {
      "needs_background": "light"
     },
     "output_type": "display_data"
    }
   ],
   "source": [
    "# location wise  percentages of news content with BAR graph\n",
    "# content[\"producer_location\"].value_counts(normalize=True).round(2).plot.bar()\n",
    "\n",
    "\n",
    "plt.figure(figsize=(8,6))\n",
    "plt.title(\"Producer Location Distributions\",fontsize=18)\n",
    "content[\"producer_location\"].value_counts(normalize=True).round(2).plot.bar()\n",
    "plt.tick_params(size=5,labelsize = 15)\n",
    "plt.xticks(rotation = \"vertical\") # xticks are rotated as the visuallization was not clear\n",
    "plt.ylabel(\"Percentages\",fontsize=18)\n",
    "plt.xlabel(\"Producer Location\",fontsize=18)\n",
    "plt.grid(0.3)"
   ]
  },
  {
   "cell_type": "markdown",
   "metadata": {},
   "source": [
    "- __78% content are produced in SP( SAO PAULO) in Brazil.__"
   ]
  },
  {
   "cell_type": "code",
   "execution_count": 56,
   "metadata": {
    "scrolled": false
   },
   "outputs": [
    {
     "data": {
      "text/plain": [
       "array([nan,\n",
       "       'Mozilla/5.0 (Windows NT 10.0; WOW64) AppleWebKit/537.36 (KHTML, like Gecko) Chrome/53.0.2785.101 Safari/537.36',\n",
       "       'Mozilla/5.0 (Windows NT 10.0; WOW64) AppleWebKit/537.36 (KHTML, like Gecko) Chrome/53.0.2785.116 Safari/537.36',\n",
       "       'Mozilla/5.0 (Macintosh; Intel Mac OS X 10_11_6) AppleWebKit/602.1.50 (KHTML, like Gecko) Version/10.0 Safari/602.1.50',\n",
       "       'Mozilla/5.0 (X11; Linux x86_64) AppleWebKit/537.36 (KHTML, like Gecko) Chrome/50.0.2661.75 Safari/537.36',\n",
       "       'Android - Native Mobile App',\n",
       "       'Mozilla/5.0 (Macintosh; Intel Mac OS X 10_12_1) AppleWebKit/602.2.11 (KHTML, like Gecko) Version/10.0.1 Safari/602.2.11',\n",
       "       'Mozilla/5.0 (X11; Linux x86_64) AppleWebKit/537.36 (KHTML, like Gecko) Chrome/52.0.2743.82 Safari/537.36',\n",
       "       'Mozilla/5.0 (Macintosh; Intel Mac OS X 10_11_1) AppleWebKit/537.36 (KHTML, like Gecko) Chrome/53.0.2785.116 Safari/537.36',\n",
       "       'Mozilla/5.0 (Macintosh; Intel Mac OS X 10_11_4) AppleWebKit/537.36 (KHTML, like Gecko) Chrome/53.0.2785.116 Safari/537.36',\n",
       "       'Mozilla/5.0 (Windows NT 10.0; Win64; x64) AppleWebKit/537.36 (KHTML, like Gecko) Chrome/53.0.2785.116 Safari/537.36',\n",
       "       'Mozilla/5.0 (Macintosh; Intel Mac OS X 10_11_6) AppleWebKit/537.36 (KHTML, like Gecko) Chrome/53.0.2785.116 Safari/537.36',\n",
       "       'Mozilla/5.0 (X11; Linux x86_64) AppleWebKit/537.36 (KHTML, like Gecko) Chrome/53.0.2785.116 Safari/537.36',\n",
       "       'Mozilla/5.0 (Macintosh; Intel Mac OS X 10_11_2) AppleWebKit/537.36 (KHTML, like Gecko) Chrome/54.0.2840.34 Safari/537.36',\n",
       "       'Mozilla/5.0 (Macintosh; Intel Mac OS X 10_11_2) AppleWebKit/537.36 (KHTML, like Gecko) Chrome/54.0.2840.41 Safari/537.36',\n",
       "       'Mozilla/5.0 (Macintosh; Intel Mac OS X 10_10_5) AppleWebKit/537.36 (KHTML, like Gecko) Chrome/53.0.2785.116 Safari/537.36',\n",
       "       'Mozilla/5.0 (Macintosh; Intel Mac OS X 10_12) AppleWebKit/602.1.50 (KHTML, like Gecko) Version/10.0 Safari/602.1.50',\n",
       "       'Mozilla/5.0 (Macintosh; Intel Mac OS X 10_12_1) AppleWebKit/602.2.14 (KHTML, like Gecko) Version/10.0.1 Safari/602.2.14',\n",
       "       'Mozilla/5.0 (X11; Linux x86_64) AppleWebKit/537.36 (KHTML, like Gecko) Chrome/53.0.2785.143 Safari/537.36',\n",
       "       'Mozilla/5.0 (Macintosh; Intel Mac OS X 10_12_0) AppleWebKit/537.36 (KHTML, like Gecko) Chrome/53.0.2785.143 Safari/537.36',\n",
       "       'Mozilla/5.0 (Macintosh; Intel Mac OS X 10_11_2) AppleWebKit/537.36 (KHTML, like Gecko) Chrome/54.0.2840.50 Safari/537.36',\n",
       "       'Mozilla/5.0 (Macintosh; Intel Mac OS X 10_11_6) AppleWebKit/537.36 (KHTML, like Gecko) Chrome/53.0.2785.143 Safari/537.36',\n",
       "       'Mozilla/5.0 (X11; Ubuntu; Linux x86_64; rv:49.0) Gecko/20100101 Firefox/49.0',\n",
       "       'Mozilla/5.0 (Windows NT 10.0; WOW64) AppleWebKit/537.36 (KHTML, like Gecko) Chrome/53.0.2785.143 Safari/537.36',\n",
       "       'Mozilla/5.0 (Macintosh; Intel Mac OS X 10_10_5) AppleWebKit/537.36 (KHTML, like Gecko) Chrome/53.0.2785.143 Safari/537.36',\n",
       "       'Mozilla/5.0 (Windows NT 10.0; WOW64; rv:49.0) Gecko/20100101 Firefox/49.0',\n",
       "       'Mozilla/5.0 (Windows NT 6.1; WOW64) AppleWebKit/537.36 (KHTML, like Gecko) Chrome/53.0.2785.143 Safari/537.36',\n",
       "       'Mozilla/5.0 (Macintosh; Intel Mac OS X 10_11_1) AppleWebKit/537.36 (KHTML, like Gecko) Chrome/53.0.2785.143 Safari/537.36',\n",
       "       'Mozilla/5.0 (Macintosh; Intel Mac OS X 10_9_5) AppleWebKit/537.36 (KHTML, like Gecko) Chrome/53.0.2785.143 Safari/537.36',\n",
       "       'Mozilla/5.0 (Windows NT 10.0; Win64; x64) AppleWebKit/537.36 (KHTML, like Gecko) Chrome/53.0.2785.143 Safari/537.36',\n",
       "       'Mozilla/5.0 (X11; Linux x86_64) AppleWebKit/537.36 (KHTML, like Gecko) Chrome/54.0.2840.59 Safari/537.36',\n",
       "       'Mozilla/5.0 (Macintosh; Intel Mac OS X 10_12_0) AppleWebKit/537.36 (KHTML, like Gecko) Chrome/54.0.2840.59 Safari/537.36',\n",
       "       'Mozilla/5.0 (Windows NT 10.0; WOW64) AppleWebKit/537.36 (KHTML, like Gecko) Chrome/49.0.2623.110 Safari/537.36',\n",
       "       'Mozilla/5.0 (Windows NT 6.1; WOW64) AppleWebKit/537.36 (KHTML, like Gecko) Chrome/51.0.2704.106 Safari/537.36',\n",
       "       'Mozilla/5.0 (Macintosh; Intel Mac OS X 10_11_4) AppleWebKit/537.36 (KHTML, like Gecko) Chrome/54.0.2840.59 Safari/537.36',\n",
       "       'Mozilla/5.0 (Macintosh; Intel Mac OS X 10_12_1) AppleWebKit/537.36 (KHTML, like Gecko) Chrome/54.0.2840.71 Safari/537.36',\n",
       "       'Mozilla/5.0 (Windows NT 6.1; Win64; x64) AppleWebKit/537.36 (KHTML, like Gecko) Chrome/53.0.2785.143 Safari/537.36',\n",
       "       'Mozilla/5.0 (Macintosh; Intel Mac OS X 10_12_1) AppleWebKit/537.36 (KHTML, like Gecko) Chrome/55.0.2883.21 Safari/537.36',\n",
       "       'Mozilla/5.0 (X11; Linux x86_64) AppleWebKit/537.36 (KHTML, like Gecko) Chrome/53.0.2785.101 Safari/537.36',\n",
       "       'Mozilla/5.0 (Macintosh; Intel Mac OS X 10_11_4) AppleWebKit/537.36 (KHTML, like Gecko) Chrome/53.0.2785.143 Safari/537.36',\n",
       "       'Mozilla/5.0 (X11; Linux x86_64) AppleWebKit/537.36 (KHTML, like Gecko) Chrome/54.0.2840.71 Safari/537.36',\n",
       "       'Mozilla/5.0 (Windows NT 10.0; Win64; x64) AppleWebKit/537.36 (KHTML, like Gecko) Chrome/54.0.2840.71 Safari/537.36',\n",
       "       'Mozilla/5.0 (Macintosh; Intel Mac OS X 10_12_1) AppleWebKit/537.36 (KHTML, like Gecko) Chrome/55.0.2883.28 Safari/537.36',\n",
       "       'Mozilla/5.0 (Macintosh; Intel Mac OS X 10_11_6) AppleWebKit/537.36 (KHTML, like Gecko) Chrome/54.0.2840.71 Safari/537.36',\n",
       "       'Mozilla/5.0 (Windows NT 10.0; WOW64) AppleWebKit/537.36 (KHTML, like Gecko) Chrome/54.0.2840.71 Safari/537.36',\n",
       "       'Mozilla/5.0 (X11; Linux x86_64) AppleWebKit/537.36 (KHTML, like Gecko) Chrome/54.0.2840.90 Safari/537.36',\n",
       "       'Mozilla/5.0 (Macintosh; Intel Mac OS X 10_11_6) AppleWebKit/537.36 (KHTML, like Gecko) Chrome/55.0.2883.35 Safari/537.36',\n",
       "       'Mozilla/5.0 (Macintosh; Intel Mac OS X 10_12_1) AppleWebKit/537.36 (KHTML, like Gecko) Chrome/55.0.2883.44 Safari/537.36',\n",
       "       'Mozilla/5.0 (Macintosh; Intel Mac OS X 10_12_0) AppleWebKit/537.36 (KHTML, like Gecko) Chrome/54.0.2840.71 Safari/537.36',\n",
       "       'Mozilla/5.0 (Macintosh; Intel Mac OS X 10_10_5) AppleWebKit/537.36 (KHTML, like Gecko) Chrome/54.0.2840.71 Safari/537.36',\n",
       "       'Mozilla/5.0 (Windows NT 10.0; WOW64) AppleWebKit/537.36 (KHTML, like Gecko) Chrome/54.0.2840.99 Safari/537.36',\n",
       "       'Mozilla/5.0 (Macintosh; Intel Mac OS X 10_12_1) AppleWebKit/537.36 (KHTML, like Gecko) Chrome/54.0.2840.98 Safari/537.36',\n",
       "       'Mozilla/5.0 (Windows NT 10.0; Win64; x64) AppleWebKit/537.36 (KHTML, like Gecko) Chrome/54.0.2840.99 Safari/537.36',\n",
       "       'Mozilla/5.0 (Macintosh; Intel Mac OS X 10_11_6) AppleWebKit/537.36 (KHTML, like Gecko) Chrome/54.0.2840.98 Safari/537.36',\n",
       "       'Mozilla/5.0 (X11; Linux x86_64) AppleWebKit/537.36 (KHTML, like Gecko) Chrome/54.0.2840.100 Safari/537.36',\n",
       "       'Mozilla/5.0 (Windows NT 10.0; Win64; x64) AppleWebKit/537.36 (KHTML, like Gecko) Chrome/55.0.2883.59 Safari/537.36',\n",
       "       'Mozilla/5.0 (Macintosh; Intel Mac OS X 10_12_1) AppleWebKit/537.36 (KHTML, like Gecko) Chrome/55.0.2883.59 Safari/537.36',\n",
       "       'Mozilla/5.0 (Windows NT 6.3; Win64; x64) AppleWebKit/537.36 (KHTML, like Gecko) Chrome/54.0.2840.99 Safari/537.36',\n",
       "       'Mozilla/5.0 (Macintosh; Intel Mac OS X 10_12_1) AppleWebKit/537.36 (KHTML, like Gecko) Chrome/55.0.2883.75 Safari/537.36',\n",
       "       'Mozilla/5.0 (X11; Linux x86_64) AppleWebKit/537.36 (KHTML, like Gecko) Chrome/55.0.2883.75 Safari/537.36',\n",
       "       'Mozilla/5.0 (Macintosh; Intel Mac OS X 10_10_5) AppleWebKit/537.36 (KHTML, like Gecko) Chrome/54.0.2840.98 Safari/537.36',\n",
       "       'Mozilla/5.0 (X11; Linux x86_64) AppleWebKit/537.36 (KHTML, like Gecko) Chrome/55.0.2883.87 Safari/537.36',\n",
       "       'Mozilla/5.0 (Macintosh; Intel Mac OS X 10_12_0) AppleWebKit/537.36 (KHTML, like Gecko) Chrome/54.0.2840.98 Safari/537.36',\n",
       "       'Mozilla/5.0 (Windows NT 10.0; WOW64) AppleWebKit/537.36 (KHTML, like Gecko) Chrome/55.0.2883.87 Safari/537.36',\n",
       "       'Mozilla/5.0 (Windows NT 10.0; Win64; x64) AppleWebKit/537.36 (KHTML, like Gecko) Chrome/55.0.2883.87 Safari/537.36',\n",
       "       'Mozilla/5.0 (X11; CrOS x86_64 8743.85.0) AppleWebKit/537.36 (KHTML, like Gecko) Chrome/54.0.2840.101 Safari/537.36',\n",
       "       'Mozilla/5.0 (Macintosh; Intel Mac OS X 10_11_6) AppleWebKit/537.36 (KHTML, like Gecko) Chrome/55.0.2883.87 Safari/537.36',\n",
       "       'Mozilla/5.0 (Macintosh; Intel Mac OS X 10_11_6) AppleWebKit/537.36 (KHTML, like Gecko) Chrome/55.0.2883.95 Safari/537.36',\n",
       "       'Mozilla/5.0 (Macintosh; Intel Mac OS X 10_12_2) AppleWebKit/537.36 (KHTML, like Gecko) Chrome/55.0.2883.95 Safari/537.36',\n",
       "       'Mozilla/5.0 (Macintosh; Intel Mac OS X 10_10_4) AppleWebKit/537.36 (KHTML, like Gecko) Chrome/55.0.2883.95 Safari/537.36',\n",
       "       'Mozilla/5.0 (Macintosh; Intel Mac OS X 10_11_2) AppleWebKit/537.36 (KHTML, like Gecko) Chrome/56.0.2924.28 Safari/537.36',\n",
       "       'Mozilla/5.0 (Macintosh; Intel Mac OS X 10_12_2) AppleWebKit/537.36 (KHTML, like Gecko) SmartCanvas/0.1.0 Chrome/49.0.2623.75 Electron/0.37.2 Safari/537.36',\n",
       "       'Mozilla/5.0 (Macintosh; Intel Mac OS X 10_12_1) AppleWebKit/537.36 (KHTML, like Gecko) Chrome/56.0.2924.28 Safari/537.36',\n",
       "       'Mozilla/5.0 (X11; Ubuntu; Linux x86_64; rv:50.0) Gecko/20100101 Firefox/50.0',\n",
       "       'Mozilla/5.0 (Macintosh; Intel Mac OS X 10_12_1) AppleWebKit/537.36 (KHTML, like Gecko) Chrome/55.0.2883.95 Safari/537.36',\n",
       "       'Mozilla/5.0 (Macintosh; Intel Mac OS X 10_12_2) AppleWebKit/537.36 (KHTML, like Gecko) Chrome/56.0.2924.51 Safari/537.36',\n",
       "       'Mozilla/5.0 (Windows NT 10.0; Win64; x64) AppleWebKit/537.36 (KHTML, like Gecko) Chrome/57.0.2978.4 Safari/537.36',\n",
       "       'Mozilla/5.0 (Windows NT 10.0; WOW64; rv:50.0) Gecko/20100101 Firefox/50.0',\n",
       "       'Mozilla/5.0 (Windows NT 10.0; Win64; x64) AppleWebKit/537.36 (KHTML, like Gecko) Chrome/57.0.2982.0 Safari/537.36',\n",
       "       'Mozilla/5.0 (Macintosh; Intel Mac OS X 10_12_2) AppleWebKit/602.3.12 (KHTML, like Gecko) Version/10.0.2 Safari/602.3.12',\n",
       "       'Mozilla/5.0 (Macintosh; Intel Mac OS X 10_12_2) AppleWebKit/537.36 (KHTML, like Gecko) Chrome/56.0.2924.67 Safari/537.36',\n",
       "       'Mozilla/5.0 (Macintosh; Intel Mac OS X 10_11_3) AppleWebKit/537.36 (KHTML, like Gecko) Chrome/55.0.2883.95 Safari/537.36',\n",
       "       'Mozilla/5.0 (Macintosh; Intel Mac OS X 10_12_0) AppleWebKit/537.36 (KHTML, like Gecko) Chrome/55.0.2883.95 Safari/537.36',\n",
       "       'Mozilla/5.0 (X11; Ubuntu; Linux x86_64; rv:51.0) Gecko/20100101 Firefox/51.0',\n",
       "       'Mozilla/5.0 (X11; Linux x86_64) AppleWebKit/537.36 (KHTML, like Gecko) Chrome/56.0.2924.67 Safari/537.36',\n",
       "       'Mozilla/5.0 (Macintosh; Intel Mac OS X 10_12_3) AppleWebKit/537.36 (KHTML, like Gecko) Chrome/55.0.2883.95 Safari/537.36',\n",
       "       'Mozilla/5.0 (X11; Linux x86_64) AppleWebKit/537.36 (KHTML, like Gecko) Chrome/56.0.2924.76 Safari/537.36',\n",
       "       'Mozilla/5.0 (Windows NT 6.1; WOW64) AppleWebKit/537.36 (KHTML, like Gecko) Chrome/55.0.2883.87 Safari/537.36',\n",
       "       'Mozilla/5.0 (X11; Linux x86_64) AppleWebKit/537.36 (KHTML, like Gecko) Chrome/56.0.2924.87 Safari/537.36',\n",
       "       'Mozilla/5.0 (Macintosh; Intel Mac OS X 10_12_3) AppleWebKit/537.36 (KHTML, like Gecko) Chrome/56.0.2924.67 Safari/537.36',\n",
       "       'Mozilla/5.0 (Macintosh; Intel Mac OS X 10_12_3) AppleWebKit/537.36 (KHTML, like Gecko) Chrome/56.0.2924.87 Safari/537.36',\n",
       "       'Mozilla/5.0 (Windows NT 10.0; WOW64; rv:51.0) Gecko/20100101 Firefox/51.0',\n",
       "       'Mozilla/5.0 (Windows NT 10.0; WOW64) AppleWebKit/537.36 (KHTML, like Gecko) Chrome/56.0.2924.87 Safari/537.36',\n",
       "       'Mozilla/5.0 (Macintosh; Intel Mac OS X 10_12_3) AppleWebKit/537.36 (KHTML, like Gecko) Chrome/57.0.2987.37 Safari/537.36',\n",
       "       'Mozilla/5.0 (Windows NT 10.0; Win64; x64) AppleWebKit/537.36 (KHTML, like Gecko) Chrome/57.0.2987.37 Safari/537.36',\n",
       "       'Mozilla/5.0 (Windows NT 10.0; Win64; x64) AppleWebKit/537.36 (KHTML, like Gecko) Chrome/56.0.2924.87 Safari/537.36',\n",
       "       'Mozilla/5.0 (Macintosh; Intel Mac OS X 10_12_0) AppleWebKit/537.36 (KHTML, like Gecko) Chrome/57.0.2987.74 Safari/537.36'],\n",
       "      dtype=object)"
      ]
     },
     "execution_count": 56,
     "metadata": {},
     "output_type": "execute_result"
    }
   ],
   "source": [
    "english_content[\"producer_device_info\"].unique()"
   ]
  },
  {
   "cell_type": "markdown",
   "metadata": {},
   "source": [
    " - __Common browsers are mozilla,applewebkit,chrome.__"
   ]
  },
  {
   "cell_type": "markdown",
   "metadata": {},
   "source": [
    "### Content Based Recommendtion :"
   ]
  },
  {
   "cell_type": "markdown",
   "metadata": {},
   "source": [
    "-  __Content based method helps in extracting similar items from the global list of items available in the dataset.__"
   ]
  },
  {
   "cell_type": "code",
   "execution_count": 57,
   "metadata": {
    "scrolled": false
   },
   "outputs": [
    {
     "data": {
      "text/plain": [
       "Index(['event_timestamp', 'interaction_type', 'item_id', 'producer_id',\n",
       "       'producer_session_id', 'producer_device_info', 'producer_location',\n",
       "       'producer_country', 'item_type', 'item_url', 'title',\n",
       "       'text_description', 'language', 'item_index'],\n",
       "      dtype='object')"
      ]
     },
     "execution_count": 57,
     "metadata": {},
     "output_type": "execute_result"
    }
   ],
   "source": [
    "english_content.columns"
   ]
  },
  {
   "cell_type": "code",
   "execution_count": 58,
   "metadata": {},
   "outputs": [],
   "source": [
    "# Remove unwanted columns , take only Item Index,Title and Text Decsription column\n",
    "clean_english_content = english_content.iloc[:,[13,10,11]]"
   ]
  },
  {
   "cell_type": "code",
   "execution_count": 59,
   "metadata": {},
   "outputs": [
    {
     "data": {
      "text/html": [
       "<div>\n",
       "<style scoped>\n",
       "    .dataframe tbody tr th:only-of-type {\n",
       "        vertical-align: middle;\n",
       "    }\n",
       "\n",
       "    .dataframe tbody tr th {\n",
       "        vertical-align: top;\n",
       "    }\n",
       "\n",
       "    .dataframe thead th {\n",
       "        text-align: right;\n",
       "    }\n",
       "</style>\n",
       "<table border=\"1\" class=\"dataframe\">\n",
       "  <thead>\n",
       "    <tr style=\"text-align: right;\">\n",
       "      <th></th>\n",
       "      <th>item_index</th>\n",
       "      <th>title</th>\n",
       "      <th>text_description</th>\n",
       "    </tr>\n",
       "  </thead>\n",
       "  <tbody>\n",
       "    <tr>\n",
       "      <th>0</th>\n",
       "      <td>338</td>\n",
       "      <td>Ethereum, a Virtual Currency, Enables Transact...</td>\n",
       "      <td>All of this work is still very early. The firs...</td>\n",
       "    </tr>\n",
       "    <tr>\n",
       "      <th>1</th>\n",
       "      <td>624</td>\n",
       "      <td>Ethereum, a Virtual Currency, Enables Transact...</td>\n",
       "      <td>All of this work is still very early. The firs...</td>\n",
       "    </tr>\n",
       "    <tr>\n",
       "      <th>2</th>\n",
       "      <td>238</td>\n",
       "      <td>Bitcoin Future: When GBPcoin of Branson Wins O...</td>\n",
       "      <td>The alarm clock wakes me at 8:00 with stream o...</td>\n",
       "    </tr>\n",
       "    <tr>\n",
       "      <th>3</th>\n",
       "      <td>369</td>\n",
       "      <td>Google Data Center 360° Tour</td>\n",
       "      <td>We're excited to share the Google Data Center ...</td>\n",
       "    </tr>\n",
       "    <tr>\n",
       "      <th>4</th>\n",
       "      <td>1359</td>\n",
       "      <td>IBM Wants to \"Evolve the Internet\" With Blockc...</td>\n",
       "      <td>The Aite Group projects the blockchain market ...</td>\n",
       "    </tr>\n",
       "  </tbody>\n",
       "</table>\n",
       "</div>"
      ],
      "text/plain": [
       "   item_index                                              title  \\\n",
       "0         338  Ethereum, a Virtual Currency, Enables Transact...   \n",
       "1         624  Ethereum, a Virtual Currency, Enables Transact...   \n",
       "2         238  Bitcoin Future: When GBPcoin of Branson Wins O...   \n",
       "3         369                       Google Data Center 360° Tour   \n",
       "4        1359  IBM Wants to \"Evolve the Internet\" With Blockc...   \n",
       "\n",
       "                                    text_description  \n",
       "0  All of this work is still very early. The firs...  \n",
       "1  All of this work is still very early. The firs...  \n",
       "2  The alarm clock wakes me at 8:00 with stream o...  \n",
       "3  We're excited to share the Google Data Center ...  \n",
       "4  The Aite Group projects the blockchain market ...  "
      ]
     },
     "execution_count": 59,
     "metadata": {},
     "output_type": "execute_result"
    }
   ],
   "source": [
    "clean_english_content.head()"
   ]
  },
  {
   "cell_type": "code",
   "execution_count": 60,
   "metadata": {},
   "outputs": [
    {
     "data": {
      "text/plain": [
       "'All of this work is still very early. The first full public version of the Ethereum software was recently released, and the system could face some of the same technical and legal problems that have tarnished Bitcoin. Many Bitcoin advocates say Ethereum will face more security problems than Bitcoin because of the greater complexity of the software. Thus far, Ethereum has faced much less testing, and many fewer attacks, than Bitcoin. The novel design of Ethereum may also invite intense scrutiny by authorities given that potentially fraudulent contracts, like the Ponzi schemes, can be written directly into the Ethereum system. But the sophisticated capabilities of the system have made it fascinating to some executives in corporate America. IBM said last year that it was experimenting with Ethereum as a way to control real world objects in the so-called Internet of things. Microsoft has been working on several projects that make it easier to use Ethereum on its computing cloud, Azure. \"Ethereum is a general platform where you can solve problems in many industries using a fairly elegant solution - the most elegant solution we have seen to date,\" said Marley Gray, a director of business development and strategy at Microsoft. Mr. Gray is responsible for Microsoft\\'s work with blockchains, the database concept that Bitcoin introduced. Blockchains are designed to store transactions and data without requiring any central authority or repository. Blockchain ledgers are generally maintained and updated by networks of computers working together - somewhat similar to the way that Wikipedia is updated and maintained by all its users. Many corporations, though, have created their own Ethereum networks with private blockchains, independent of the public system, and that could ultimately detract from the value of the individual unit in the Ethereum system - known as an Ether - that people have recently been buying. The interest in Ethereum is one sign of the corporate fascination with blockchains. Most major banks have expressed an interest in using them to make trading and money transfer faster and more efficient. On Tuesday, executives from the largest banks will gather for a conference, \"Blockchain: Tapping I nto the Real Potential , Cutting Through the Hype.\" Many of these banks have recently been looking at how some version of Ethereum might be put to use. JPMorgan, for instance, has created a specific tool, Masala, that allows some of its internal databases to interact with an Ethereum blockchain. Michael Novogratz, a former top executive at the private equity firm Fortress Investing Group, who helped lead Fortress\\'s investment in Bitcoin, has been looking at Ethereum since he left Fortress last fall. Mr. Novogratz said that he made a \"significant\" purchase of Ether in January. He has also heard how the financial industry\\'s chatter about the virtual currency has evolved. \"A lot of the more established players were thinking, \\'It\\'s still an experiment,\\' \" he said. \"It feels like in the last two to three months that experiment is at least getting a lot more validation.\" Since the beginning of the year, the value of an individual unit of Ether has soared as high as $12 from around $1. That has brought the value of all existing Ether to over $1 billion at times, significantly more than any virtual currency other than Bitcoin, which had over $6 billion in value outstanding last week. Since Bitcoin was invented, there have been many so-called alt-coins that have tried to improve on Bitcoin, but none have won the following of Ethereum. Unlike Bitcoin, which was released in 2009 by a mysterious creator known as Satoshi Nakamoto, Ethereum was created in a more transparent fashion by a 21-year-old Russian-Canadian, Vitalik Buterin, after he dropped out of Waterloo University in Ontario. The most basic aim of Ethereum was to make it possible to program binding agreements into the blockchain - the smart contract concept. Two people, for instance, could program a bet on a sports game directly into the Ethereum blockchain. Once the final score came in from a mutually agreed upon source - say, The Associated Press - the money would be automatically transferred to the winning party. Ether can be used as a currency in this system, but Ether are also necessary to pay for the network power needed to process the bet. The Ethereum system has sometimes been described as a single shared computer that is run by the network of users and on which resources are parceled out and paid for by Ether. A team of seven co-founders helped Mr. Buterin write up the software after he released the initial description of the system. Mr. Buterin\\'s team raised $18 million in 2014 through a presale of Ether, which helped fund the Ethereum Foundation, which supports the software\\'s development. Like Bitcoin, Ethereum has succeeded by attracting a dedicated network of followers who have helped support the software, partly in the hope that their Ether will increase in value if the system succeeds. Last week, there were 5,800 computers - or nodes - helping support the network around the world. The Bitcoin network had about 7,400 nodes. One of Mr. Buterin\\'s co-founders, Joseph Lubin, has set up ConsenSys, a company based in Brooklyn that has hired over 50 developers to build applications on the Ethereum system, including one that enables music distribution and another that allows for a new kind of financial auditing. The ConsenSys offices are in an old industrial building in the Bushwick section of Brooklyn. The office is essentially one large room, with all the messy trademarks of a start-up operation, including white boards on the walls and computer parts lying around. Mr. Lubin said he had thrown himself into Ethereum after starting to think that it delivered on some of the failed promise of Bitcoin, especially when it came to allowing new kinds of online contracts and markets. \"Bitcoin presented the broad strokes vision, and Ethereum presented the crystallization of how to deliver that vision,\" he said. Joseph Bonneau, a computer science researcher at Stanford who studies so-called crypto-currencies, said Ethereum was the first system that had really caught his interest since Bitcoin. It is far from a sure thing, he cautioned. \"Bitcoin is still probably the safest bet, but Ethereum is certainly No. 2, and some folks will say it is more likely to be around in 10 years,\" Mr. Bonneau said. \"It will depend if any real markets develop around it. If there is some actual application.\"'"
      ]
     },
     "execution_count": 60,
     "metadata": {},
     "output_type": "execute_result"
    }
   ],
   "source": [
    "clean_english_content[\"text_description\"][0] # check text description column how it looks"
   ]
  },
  {
   "cell_type": "code",
   "execution_count": 61,
   "metadata": {},
   "outputs": [
    {
     "data": {
      "text/plain": [
       "0        6543\n",
       "1        6543\n",
       "2        1993\n",
       "3        1520\n",
       "4        8093\n",
       "        ...  \n",
       "3116     1006\n",
       "3118     1703\n",
       "3119    16970\n",
       "3120     6530\n",
       "3121      346\n",
       "Name: text_description, Length: 2264, dtype: int64"
      ]
     },
     "execution_count": 61,
     "metadata": {},
     "output_type": "execute_result"
    }
   ],
   "source": [
    "# check text description string length\n",
    "clean_english_content[\"text_description\"].str.len()"
   ]
  },
  {
   "cell_type": "code",
   "execution_count": 62,
   "metadata": {},
   "outputs": [
    {
     "data": {
      "text/plain": [
       "6071.933745583039"
      ]
     },
     "execution_count": 62,
     "metadata": {},
     "output_type": "execute_result"
    }
   ],
   "source": [
    "# # check mean text description string length\n",
    "np.mean(clean_english_content[\"text_description\"].str.len())"
   ]
  },
  {
   "cell_type": "code",
   "execution_count": 63,
   "metadata": {},
   "outputs": [],
   "source": [
    "### Calculate no of key wrods in all rows by splitting words at space\n",
    "number_of_keywords = []\n",
    "for keywords in clean_english_content[\"text_description\"]:\n",
    "    n_keywords = len(keywords.split())\n",
    "    number_of_keywords.append(n_keywords)\n",
    "# number_of_keywords"
   ]
  },
  {
   "cell_type": "code",
   "execution_count": 64,
   "metadata": {},
   "outputs": [
    {
     "data": {
      "text/plain": [
       "2277726"
      ]
     },
     "execution_count": 64,
     "metadata": {},
     "output_type": "execute_result"
    }
   ],
   "source": [
    "sum(number_of_keywords) # Total no of words in the corpus"
   ]
  },
  {
   "cell_type": "code",
   "execution_count": 65,
   "metadata": {},
   "outputs": [
    {
     "data": {
      "image/png": "[encoded data removed]",
      "text/plain": [
       "<Figure size 432x288 with 1 Axes>"
      ]
     },
     "metadata": {
      "needs_background": "light"
     },
     "output_type": "display_data"
    }
   ],
   "source": [
    "# No of words in each news descriptions or row\n",
    "plt.hist(number_of_keywords)\n",
    "plt.xlabel('distribution of number of words in News Text Description column')\n",
    "plt.ylabel('number of No of words')\n",
    "plt.show()"
   ]
  },
  {
   "cell_type": "code",
   "execution_count": 66,
   "metadata": {},
   "outputs": [],
   "source": [
    "# convert to numpy array so that further processing will be easy.\n",
    "\n",
    "keywords_array = clean_english_content['text_description'].to_numpy()"
   ]
  },
  {
   "cell_type": "code",
   "execution_count": 67,
   "metadata": {},
   "outputs": [],
   "source": [
    "# Get the stopwords from NLTK library and punctuation from string \n",
    "# stopwords and punctuation will be removed from the text description so that it\n",
    "#gives  how the important words are distributed in corpus\n",
    "\n",
    "\n",
    "stops = stopwords.words(\"english\")\n",
    "punc = string.punctuation"
   ]
  },
  {
   "cell_type": "code",
   "execution_count": 68,
   "metadata": {},
   "outputs": [],
   "source": [
    "# create a function to remove the stopwords and punctuation\n",
    "# 1. convert sentence to lower case\n",
    "# 2. split the sentnece to words at Space\n",
    "# 3.remove the stop words and punctuation\n",
    "# 4.append the words to wordlist and it returns the wordlist\n",
    "\n",
    "\n",
    "\n",
    "def preprocess(keywords_array):\n",
    "    words_list = []\n",
    "    for keyword in keywords_array:\n",
    "        splitted_words = keyword.lower().split()\n",
    "        splitted_words = [word for word in splitted_words if word not in stops and word not in string.punctuation  ]\n",
    "        words_list.append(splitted_words)\n",
    "    return words_list"
   ]
  },
  {
   "cell_type": "code",
   "execution_count": 69,
   "metadata": {},
   "outputs": [],
   "source": [
    "words_list = preprocess(keywords_array) # perform the function call with all the keywords array"
   ]
  },
  {
   "cell_type": "code",
   "execution_count": 70,
   "metadata": {
    "scrolled": false
   },
   "outputs": [
    {
     "data": {
      "text/plain": [
       "2264"
      ]
     },
     "execution_count": 70,
     "metadata": {},
     "output_type": "execute_result"
    }
   ],
   "source": [
    "len(words_list) # no of rows in wordlist"
   ]
  },
  {
   "cell_type": "code",
   "execution_count": 71,
   "metadata": {},
   "outputs": [],
   "source": [
    "# words_list[0] # Check individual words how it appeares"
   ]
  },
  {
   "cell_type": "code",
   "execution_count": 72,
   "metadata": {},
   "outputs": [],
   "source": [
    "# Crete a Gensim Dictionary of wordlist\n",
    "# It assigns each tokens to ID\n",
    "dictionary = Dictionary(words_list) "
   ]
  },
  {
   "cell_type": "code",
   "execution_count": 73,
   "metadata": {},
   "outputs": [
    {
     "data": {
      "text/plain": [
       "112985"
      ]
     },
     "execution_count": 73,
     "metadata": {},
     "output_type": "execute_result"
    }
   ],
   "source": [
    "len(dictionary) # No of Unique tokens"
   ]
  },
  {
   "cell_type": "code",
   "execution_count": 74,
   "metadata": {},
   "outputs": [],
   "source": [
    "# Check Total no of words in entir corpus\n",
    "number_words = 0\n",
    "for word in words_list:\n",
    "    number_words = number_words + len(word)"
   ]
  },
  {
   "cell_type": "code",
   "execution_count": 75,
   "metadata": {},
   "outputs": [
    {
     "data": {
      "text/plain": [
       "1308443"
      ]
     },
     "execution_count": 75,
     "metadata": {},
     "output_type": "execute_result"
    }
   ],
   "source": [
    "number_words "
   ]
  },
  {
   "cell_type": "code",
   "execution_count": 76,
   "metadata": {},
   "outputs": [
    {
     "data": {
      "text/plain": [
       "'project.'"
      ]
     },
     "execution_count": 76,
     "metadata": {},
     "output_type": "execute_result"
    }
   ],
   "source": [
    "dictionary.get(1000) # check random ID corresponding to a token in dictionary"
   ]
  },
  {
   "cell_type": "code",
   "execution_count": 77,
   "metadata": {},
   "outputs": [],
   "source": [
    "# Convert each word to Bag of Word model \n",
    "\n",
    "corpus = [dictionary.doc2bow(doc) for doc in words_list] "
   ]
  },
  {
   "cell_type": "code",
   "execution_count": 78,
   "metadata": {},
   "outputs": [],
   "source": [
    "## Convert the above output to TF IDF Model\n",
    "\n",
    "tfidf = TfidfModel(corpus)"
   ]
  },
  {
   "cell_type": "code",
   "execution_count": 79,
   "metadata": {
    "scrolled": false
   },
   "outputs": [],
   "source": [
    "# tfidf[corpus[0]]"
   ]
  },
  {
   "cell_type": "code",
   "execution_count": 80,
   "metadata": {},
   "outputs": [],
   "source": [
    "# Create a similarity matrix\n",
    "#  Cosine similarity is one of the ways to measure the similarity of two vectors\n",
    "# Genim uses it as default\n",
    "\n",
    "sims = MatrixSimilarity(tfidf[corpus], num_features=len(dictionary))"
   ]
  },
  {
   "cell_type": "code",
   "execution_count": 81,
   "metadata": {
    "scrolled": true
   },
   "outputs": [
    {
     "name": "stdout",
     "output_type": "stream",
     "text": [
      "MatrixSimilarity<2264 docs, 112985 features>\n"
     ]
    }
   ],
   "source": [
    "print(sims)"
   ]
  },
  {
   "cell_type": "markdown",
   "metadata": {},
   "source": [
    "- __The similarity matrix has 2264 no of rows and 112985 no of features.__"
   ]
  },
  {
   "cell_type": "code",
   "execution_count": 82,
   "metadata": {},
   "outputs": [
    {
     "data": {
      "text/plain": [
       "array([0.        , 0.        , 0.        , ..., 0.21479188, 0.24243058,\n",
       "       0.66375315], dtype=float32)"
      ]
     },
     "execution_count": 82,
     "metadata": {},
     "output_type": "execute_result"
    }
   ],
   "source": [
    "np.sort(sims.index[0])"
   ]
  },
  {
   "cell_type": "code",
   "execution_count": 83,
   "metadata": {},
   "outputs": [
    {
     "data": {
      "text/plain": [
       "\"Industrial adoption of IoT dubbed as Industrial Internet of Things (IIoT) is on ascend. Yet, near-term adoption of IIoT remains limited to achieving operational efficiency as most companies are unable to leverage IIoT for predictive capabilities that create new business opportunity. This article sheds light on the probable future of IIoT adoption and the imperative for businesses to form IIoT investment strategies. During Digital India Week in July, Prime Minister Modi announced the creation of a Centre of Excellence for Internet of Things. This is a timely intervention, as the Internet of Things, or IoT, will is set to transform technological and economic landscape over the next decade. The IoT will directly alter the Indian economy's industrial sectors, including manufacturing, energy, agriculture and transportation Together, these sectors account for close to half of India's GDP. It will also affect India's consumers, as their everyday devices connect to the Internet through tiny embedded sensors and computing power. The total potential payoff is enormous. The most conservative independent estimates place spending on the IoT worldwide at $500 billion by 2020. More optimistic forecasts peg the market as high as $15 trillion of global GDP by 2030. The Government of India estimates India's share to be between five and six percent of the worldwide IoT market through 2020. While consumer adoption of connected technology will be gradual in the short term, it will increase rapidly over the next decade. However, many industrial companies are already embracing what has been dubbed the Industrial Internet of Things, or IIoT. For example, the number of sensors shipped globally has increased more than five-fold from 4.2 billion units in 2012 to 23.6 billion units in 2014. Operational efficiency is one of the key attractions of the IIoT. Companies are seeking productivity gains that could reach 30 percent. For example, a big area for operational gains is in predictive maintenance of assets. This use of the IIoT could help reduce breakdowns by 70 percent, overall maintenance costs by 30 per cent, and repair costs by 12 per cent, according to estimates. However, there is more to the story. The IIoT can also be an important driver of breakthrough innovation and new growth opportunities. The key is to combine use of big data analytics with IIoT capabilities and technologies. For example, a major automobile manufacturer is pursuing a unique approach to increase value for customers: a flexible, convenient pay-per-use model for city dwellers needing cars. Customers can use an app to find the car that is parked nearest to them. They open the door with a membership card, drive to their destination, and simply park the car on the street and lock it up. This service competes with conventional taxis and hourly car rental services. Customers can choose to pay by the mile, the hour or the day. The rates are lower than for taxis, and there is no need to reserve, return or order a car; the cars can be parked and found anywhere use location sensors. Chart: Business benefits for driving near-term adoption of IIoT Source : Industrial Internet of Things: Unleashing the Potential of Connected Products and Services, WEF, January 2015 But are most companies up for the challenge? Survey results indicate that only 40 per cent can predict outcomes based on existing data, and fewer still (36 percent) can optimize operations from that data. Understandably, initial investments are focused on improving the ability to react and repair and move toward zero unplanned downtime. However, when asked about future plans, respondents stated their priorities in more ambitious plans for IIoT: increasing profitability (60 per cent), gaining a competitive advantage (57 per cent) and improving environmental safety and emissions (55 per cent) represent more pervasive, cross-functional and sophisticated uses of it. At Accenture, we believe that the transition from efficiency to value-enhanced growth is likely to follow four distinct phases. (See Figure) Phases one and two will represent immediate opportunities that drive the near-term adoption, starting with operational efficiency. Phases three and four will include long-term structural changes that are roughly three years away from mainstream adoption. These last two phases will lead to disruptive changes in businesses and industries. They will manifest themselves in the form of the outcome economy and an integrated human-machine workforce. Figure: The adoption and impact path of IIoT Source : Industrial Internet of Things: Unleashing the Potential of Connected Products and Services, WEF, January 2015 The outcome economy will be built on the automated quantification capabilities of the Industrial Internet. The large-scale shift from selling products or services to selling measurable outcomes is a significant change that will redefine the base of competition and industry structures. As the Industrial Internet becomes more ingrained in every industry, it will ultimately lead to a pull-based economy characterized by real-time demand sensing and highly automated, flexible production and fulfilment networks. This development will call for a pervasive use of automation and intelligent machines to complement human labour (machine augmentation). As a result, the face of the future workforce will change dramatically, along with the skill sets required to succeed in a much more automated economy. Yet, it is still early. Numerous technology challenges and important hurdles remain to be overcome. Not all products can or need to be connected. But amid the new, an old truth remains: business customers need products and services that create more value for them than those on offer today. The time to push is now. (Anindya Basu is Country Managing Director for Accenture in India & Prabhjit Didyala, Managing Director, Strategy for Accenture in India)\""
      ]
     },
     "execution_count": 83,
     "metadata": {},
     "output_type": "execute_result"
    }
   ],
   "source": [
    "clean_english_content[\"text_description\"].loc[15]"
   ]
  },
  {
   "cell_type": "code",
   "execution_count": 84,
   "metadata": {},
   "outputs": [],
   "source": [
    "# All  above steps are combined to a function \n",
    "# 1. get the line from input item id\\\n",
    "# 2. preproces the text\n",
    "# 3. convert text to Bag Of Word Model\n",
    "# 4. #convert the regular bag of words model to a tf-idf model\n",
    "# 5 . get the array of similarity values between item id and all other items in the dataset\n",
    "# 6. Convert the similairty matrix to a Series and sort it.\n",
    "# 7. returns the sorted similarity output.\n",
    "\n",
    "def news_recommendation(item_id):\n",
    "    news = clean_english_content.loc[english_content.item_index==item_id][\"text_description\"] # get the news row\n",
    "    #preprocessing of text description\n",
    "    keywords = preprocess(news) #get the words as a Series \n",
    "   \n",
    "    query_doc = keywords #set the query_doc to the list of keywords\n",
    "    \n",
    "    query_doc_bow = [dictionary.doc2bow(doc) for doc in query_doc] # get a bag of words from the query_doc\n",
    "    query_doc_tfidf = tfidf[query_doc_bow] #convert the regular bag of words model to a tf-idf model \n",
    "    #where we have tuples of words and it's tf-idf value for the news descriptions\n",
    "\n",
    "    similarity_array = sims[query_doc_tfidf] # get the array of similarity values \n",
    "    #between one News item Text with other News item Text. \n",
    "   \n",
    "\n",
    "    similarity_series = pd.Series(similarity_array.tolist()[0],index=clean_english_content.item_index.values)\n",
    "    similarity_output = similarity_series.sort_values(ascending=False) #Sort the similarity values\n",
    "    return similarity_output \n"
   ]
  },
  {
   "cell_type": "code",
   "execution_count": 85,
   "metadata": {
    "scrolled": false
   },
   "outputs": [
    {
     "data": {
      "text/plain": [
       "1894    1.000000\n",
       "1192    0.243433\n",
       "983     0.227312\n",
       "1050    0.222530\n",
       "2211    0.221113\n",
       "58      0.207651\n",
       "209     0.199654\n",
       "1700    0.189633\n",
       "472     0.186472\n",
       "911     0.173447\n",
       "1793    0.170582\n",
       "dtype: float64"
      ]
     },
     "execution_count": 85,
     "metadata": {},
     "output_type": "execute_result"
    }
   ],
   "source": [
    "#Recommended 10 news items for item index 1894\n",
    "item = 1894\n",
    "content_output_news = news_recommendation(item)\n",
    "content_output_news[:11]"
   ]
  },
  {
   "cell_type": "code",
   "execution_count": 86,
   "metadata": {},
   "outputs": [
    {
     "data": {
      "text/plain": [
       "(2264,)"
      ]
     },
     "execution_count": 86,
     "metadata": {},
     "output_type": "execute_result"
    }
   ],
   "source": [
    "content_output_news.shape"
   ]
  },
  {
   "cell_type": "code",
   "execution_count": 87,
   "metadata": {
    "scrolled": true
   },
   "outputs": [
    {
     "data": {
      "text/html": [
       "<div>\n",
       "<style scoped>\n",
       "    .dataframe tbody tr th:only-of-type {\n",
       "        vertical-align: middle;\n",
       "    }\n",
       "\n",
       "    .dataframe tbody tr th {\n",
       "        vertical-align: top;\n",
       "    }\n",
       "\n",
       "    .dataframe thead th {\n",
       "        text-align: right;\n",
       "    }\n",
       "</style>\n",
       "<table border=\"1\" class=\"dataframe\">\n",
       "  <thead>\n",
       "    <tr style=\"text-align: right;\">\n",
       "      <th></th>\n",
       "      <th>item_index</th>\n",
       "      <th>score</th>\n",
       "    </tr>\n",
       "  </thead>\n",
       "  <tbody>\n",
       "    <tr>\n",
       "      <th>0</th>\n",
       "      <td>1894</td>\n",
       "      <td>1.000000</td>\n",
       "    </tr>\n",
       "    <tr>\n",
       "      <th>1</th>\n",
       "      <td>1192</td>\n",
       "      <td>0.243433</td>\n",
       "    </tr>\n",
       "    <tr>\n",
       "      <th>2</th>\n",
       "      <td>983</td>\n",
       "      <td>0.227312</td>\n",
       "    </tr>\n",
       "    <tr>\n",
       "      <th>3</th>\n",
       "      <td>1050</td>\n",
       "      <td>0.222530</td>\n",
       "    </tr>\n",
       "    <tr>\n",
       "      <th>4</th>\n",
       "      <td>2211</td>\n",
       "      <td>0.221113</td>\n",
       "    </tr>\n",
       "    <tr>\n",
       "      <th>5</th>\n",
       "      <td>58</td>\n",
       "      <td>0.207651</td>\n",
       "    </tr>\n",
       "    <tr>\n",
       "      <th>6</th>\n",
       "      <td>209</td>\n",
       "      <td>0.199654</td>\n",
       "    </tr>\n",
       "    <tr>\n",
       "      <th>7</th>\n",
       "      <td>1700</td>\n",
       "      <td>0.189633</td>\n",
       "    </tr>\n",
       "    <tr>\n",
       "      <th>8</th>\n",
       "      <td>472</td>\n",
       "      <td>0.186472</td>\n",
       "    </tr>\n",
       "    <tr>\n",
       "      <th>9</th>\n",
       "      <td>911</td>\n",
       "      <td>0.173447</td>\n",
       "    </tr>\n",
       "    <tr>\n",
       "      <th>10</th>\n",
       "      <td>1793</td>\n",
       "      <td>0.170582</td>\n",
       "    </tr>\n",
       "  </tbody>\n",
       "</table>\n",
       "</div>"
      ],
      "text/plain": [
       "    item_index     score\n",
       "0         1894  1.000000\n",
       "1         1192  0.243433\n",
       "2          983  0.227312\n",
       "3         1050  0.222530\n",
       "4         2211  0.221113\n",
       "5           58  0.207651\n",
       "6          209  0.199654\n",
       "7         1700  0.189633\n",
       "8          472  0.186472\n",
       "9          911  0.173447\n",
       "10        1793  0.170582"
      ]
     },
     "execution_count": 87,
     "metadata": {},
     "output_type": "execute_result"
    }
   ],
   "source": [
    "# Create a DataFrame of the Output\n",
    "news_content_df = pd.DataFrame(content_output_news[:11]).reset_index()\n",
    "news_content_df.columns= [\"item_index\",\"score\"]\n",
    "news_content_df"
   ]
  },
  {
   "cell_type": "markdown",
   "metadata": {},
   "source": [
    "### Top 10 prediction on Content Based Filtering:"
   ]
  },
  {
   "cell_type": "code",
   "execution_count": 88,
   "metadata": {},
   "outputs": [
    {
     "data": {
      "text/html": [
       "<div>\n",
       "<style scoped>\n",
       "    .dataframe tbody tr th:only-of-type {\n",
       "        vertical-align: middle;\n",
       "    }\n",
       "\n",
       "    .dataframe tbody tr th {\n",
       "        vertical-align: top;\n",
       "    }\n",
       "\n",
       "    .dataframe thead th {\n",
       "        text-align: right;\n",
       "    }\n",
       "</style>\n",
       "<table border=\"1\" class=\"dataframe\">\n",
       "  <thead>\n",
       "    <tr style=\"text-align: right;\">\n",
       "      <th></th>\n",
       "      <th>item_index</th>\n",
       "      <th>score</th>\n",
       "      <th>title</th>\n",
       "      <th>text_description</th>\n",
       "    </tr>\n",
       "  </thead>\n",
       "  <tbody>\n",
       "    <tr>\n",
       "      <th>0</th>\n",
       "      <td>1894</td>\n",
       "      <td>1.000000</td>\n",
       "      <td>IBM Watson is about to make Slack's chat bot s...</td>\n",
       "      <td>Slack's attempts at small talk are about to ge...</td>\n",
       "    </tr>\n",
       "    <tr>\n",
       "      <th>1</th>\n",
       "      <td>1192</td>\n",
       "      <td>0.243433</td>\n",
       "      <td>Slack and Google announce partnership focused ...</td>\n",
       "      <td>Slack announced a strategic partnership with G...</td>\n",
       "    </tr>\n",
       "    <tr>\n",
       "      <th>2</th>\n",
       "      <td>983</td>\n",
       "      <td>0.227312</td>\n",
       "      <td>How people using Slack to organise their groce...</td>\n",
       "      <td>When Cal Henderson began working on real-time ...</td>\n",
       "    </tr>\n",
       "    <tr>\n",
       "      <th>3</th>\n",
       "      <td>1050</td>\n",
       "      <td>0.222530</td>\n",
       "      <td>Introducing Sign in with Slack - Slack Platfor...</td>\n",
       "      <td>Introducing Sign in with Slack Today, we're in...</td>\n",
       "    </tr>\n",
       "    <tr>\n",
       "      <th>4</th>\n",
       "      <td>2211</td>\n",
       "      <td>0.221113</td>\n",
       "      <td>Threaded messaging is coming to Slack</td>\n",
       "      <td>In an interview with Walt Mossberg, Slack CEO ...</td>\n",
       "    </tr>\n",
       "    <tr>\n",
       "      <th>5</th>\n",
       "      <td>58</td>\n",
       "      <td>0.207651</td>\n",
       "      <td>Facebook Workplace officially launches on the ...</td>\n",
       "      <td>Facebook today officially announced the releas...</td>\n",
       "    </tr>\n",
       "    <tr>\n",
       "      <th>6</th>\n",
       "      <td>209</td>\n",
       "      <td>0.199654</td>\n",
       "      <td>Building on Slack Saved Our Startup</td>\n",
       "      <td>From the start, we did everything right with T...</td>\n",
       "    </tr>\n",
       "    <tr>\n",
       "      <th>7</th>\n",
       "      <td>1700</td>\n",
       "      <td>0.189633</td>\n",
       "      <td>IBM makes a big shift into cognitive computing</td>\n",
       "      <td>IBM's California research lab sits atop a gree...</td>\n",
       "    </tr>\n",
       "    <tr>\n",
       "      <th>8</th>\n",
       "      <td>472</td>\n",
       "      <td>0.186472</td>\n",
       "      <td>Slack debuts message buttons: bots with Trello...</td>\n",
       "      <td>Slack, the communication and collaboration pla...</td>\n",
       "    </tr>\n",
       "    <tr>\n",
       "      <th>9</th>\n",
       "      <td>911</td>\n",
       "      <td>0.173447</td>\n",
       "      <td>Slack and Uber's parting proves when apps unit...</td>\n",
       "      <td>What happens when two darlings of the American...</td>\n",
       "    </tr>\n",
       "    <tr>\n",
       "      <th>10</th>\n",
       "      <td>1793</td>\n",
       "      <td>0.170582</td>\n",
       "      <td>Slack raises $200m at $3.8b valuation for busi...</td>\n",
       "      <td>Business messaging service Slack has raised $2...</td>\n",
       "    </tr>\n",
       "  </tbody>\n",
       "</table>\n",
       "</div>"
      ],
      "text/plain": [
       "    item_index     score                                              title  \\\n",
       "0         1894  1.000000  IBM Watson is about to make Slack's chat bot s...   \n",
       "1         1192  0.243433  Slack and Google announce partnership focused ...   \n",
       "2          983  0.227312  How people using Slack to organise their groce...   \n",
       "3         1050  0.222530  Introducing Sign in with Slack - Slack Platfor...   \n",
       "4         2211  0.221113              Threaded messaging is coming to Slack   \n",
       "5           58  0.207651  Facebook Workplace officially launches on the ...   \n",
       "6          209  0.199654                Building on Slack Saved Our Startup   \n",
       "7         1700  0.189633     IBM makes a big shift into cognitive computing   \n",
       "8          472  0.186472  Slack debuts message buttons: bots with Trello...   \n",
       "9          911  0.173447  Slack and Uber's parting proves when apps unit...   \n",
       "10        1793  0.170582  Slack raises $200m at $3.8b valuation for busi...   \n",
       "\n",
       "                                     text_description  \n",
       "0   Slack's attempts at small talk are about to ge...  \n",
       "1   Slack announced a strategic partnership with G...  \n",
       "2   When Cal Henderson began working on real-time ...  \n",
       "3   Introducing Sign in with Slack Today, we're in...  \n",
       "4   In an interview with Walt Mossberg, Slack CEO ...  \n",
       "5   Facebook today officially announced the releas...  \n",
       "6   From the start, we did everything right with T...  \n",
       "7   IBM's California research lab sits atop a gree...  \n",
       "8   Slack, the communication and collaboration pla...  \n",
       "9   What happens when two darlings of the American...  \n",
       "10  Business messaging service Slack has raised $2...  "
      ]
     },
     "execution_count": 88,
     "metadata": {},
     "output_type": "execute_result"
    }
   ],
   "source": [
    "# Merge the output dataframe with news content dataset to get the title\n",
    "pd.merge(news_content_df,clean_english_content,on=\"item_index\",how=\"left\")"
   ]
  },
  {
   "cell_type": "markdown",
   "metadata": {},
   "source": [
    "- __The 1st column is the item index of 10 similar news items when compared to item index 1894.__ \n",
    "- __The 2nd column is the similarity score with news item index 1894.__\n"
   ]
  },
  {
   "cell_type": "markdown",
   "metadata": {},
   "source": [
    "## Collaboratve Filtering :\n",
    "- Works by searching a large group of people and finding a smaller set of users with tastes similar to a particular user.\n",
    "- It looks at the items they like and combines them to create a ranked list of suggestions.\n",
    "- Collaborative filtering mostly categorize into -\n",
    "  - Memory based CF.\n",
    "  - Model Based CF.\n",
    "- Memory based is again divided into -\n",
    "    - User based CF.\n",
    "    - Item based CF."
   ]
  },
  {
   "cell_type": "markdown",
   "metadata": {},
   "source": [
    "### User Based Recommendation :\n",
    "- This is based on the simple premise that what a user is more likely to prefer,\n",
    " is highly correlated to what the other users similar to him/her have liked in the past.\n",
    "\n",
    "-  __In User based recommendation, we will be working on Consumer dataset__"
   ]
  },
  {
   "cell_type": "code",
   "execution_count": 89,
   "metadata": {},
   "outputs": [
    {
     "data": {
      "text/html": [
       "<div>\n",
       "<style scoped>\n",
       "    .dataframe tbody tr th:only-of-type {\n",
       "        vertical-align: middle;\n",
       "    }\n",
       "\n",
       "    .dataframe tbody tr th {\n",
       "        vertical-align: top;\n",
       "    }\n",
       "\n",
       "    .dataframe thead th {\n",
       "        text-align: right;\n",
       "    }\n",
       "</style>\n",
       "<table border=\"1\" class=\"dataframe\">\n",
       "  <thead>\n",
       "    <tr style=\"text-align: right;\">\n",
       "      <th></th>\n",
       "      <th>event_timestamp</th>\n",
       "      <th>interaction_type</th>\n",
       "      <th>item_id</th>\n",
       "      <th>consumer_id</th>\n",
       "      <th>consumer_session_id</th>\n",
       "      <th>consumer_device_info</th>\n",
       "      <th>consumer_location</th>\n",
       "      <th>country</th>\n",
       "      <th>consumer_index</th>\n",
       "      <th>ratings</th>\n",
       "      <th>item_index</th>\n",
       "    </tr>\n",
       "  </thead>\n",
       "  <tbody>\n",
       "    <tr>\n",
       "      <th>0</th>\n",
       "      <td>1465413032</td>\n",
       "      <td>content_watched</td>\n",
       "      <td>-3499919498720038879</td>\n",
       "      <td>-8845298781299428018</td>\n",
       "      <td>1264196770339959068</td>\n",
       "      <td>NaN</td>\n",
       "      <td>NaN</td>\n",
       "      <td>NaN</td>\n",
       "      <td>33</td>\n",
       "      <td>1</td>\n",
       "      <td>933</td>\n",
       "    </tr>\n",
       "    <tr>\n",
       "      <th>1</th>\n",
       "      <td>1465412560</td>\n",
       "      <td>content_watched</td>\n",
       "      <td>8890720798209849691</td>\n",
       "      <td>-1032019229384696495</td>\n",
       "      <td>3621737643587579081</td>\n",
       "      <td>Mozilla/5.0 (Macintosh; Intel Mac OS X 10_11_2...</td>\n",
       "      <td>NY</td>\n",
       "      <td>US</td>\n",
       "      <td>831</td>\n",
       "      <td>1</td>\n",
       "      <td>2933</td>\n",
       "    </tr>\n",
       "    <tr>\n",
       "      <th>2</th>\n",
       "      <td>1465416190</td>\n",
       "      <td>content_watched</td>\n",
       "      <td>310515487419366995</td>\n",
       "      <td>-1130272294246983140</td>\n",
       "      <td>2631864456530402479</td>\n",
       "      <td>NaN</td>\n",
       "      <td>NaN</td>\n",
       "      <td>NaN</td>\n",
       "      <td>826</td>\n",
       "      <td>1</td>\n",
       "      <td>1537</td>\n",
       "    </tr>\n",
       "    <tr>\n",
       "      <th>3</th>\n",
       "      <td>1465413895</td>\n",
       "      <td>content_followed</td>\n",
       "      <td>310515487419366995</td>\n",
       "      <td>344280948527967603</td>\n",
       "      <td>-3167637573980064150</td>\n",
       "      <td>NaN</td>\n",
       "      <td>NaN</td>\n",
       "      <td>NaN</td>\n",
       "      <td>974</td>\n",
       "      <td>5</td>\n",
       "      <td>1537</td>\n",
       "    </tr>\n",
       "    <tr>\n",
       "      <th>4</th>\n",
       "      <td>1465412290</td>\n",
       "      <td>content_watched</td>\n",
       "      <td>-7820640624231356730</td>\n",
       "      <td>-445337111692715325</td>\n",
       "      <td>561148 1178424124714</td>\n",
       "      <td>NaN</td>\n",
       "      <td>NaN</td>\n",
       "      <td>NaN</td>\n",
       "      <td>887</td>\n",
       "      <td>1</td>\n",
       "      <td>246</td>\n",
       "    </tr>\n",
       "  </tbody>\n",
       "</table>\n",
       "</div>"
      ],
      "text/plain": [
       "   event_timestamp  interaction_type              item_id  \\\n",
       "0       1465413032   content_watched -3499919498720038879   \n",
       "1       1465412560   content_watched  8890720798209849691   \n",
       "2       1465416190   content_watched   310515487419366995   \n",
       "3       1465413895  content_followed   310515487419366995   \n",
       "4       1465412290   content_watched -7820640624231356730   \n",
       "\n",
       "           consumer_id   consumer_session_id  \\\n",
       "0 -8845298781299428018   1264196770339959068   \n",
       "1 -1032019229384696495   3621737643587579081   \n",
       "2 -1130272294246983140   2631864456530402479   \n",
       "3   344280948527967603  -3167637573980064150   \n",
       "4  -445337111692715325  561148 1178424124714   \n",
       "\n",
       "                                consumer_device_info consumer_location  \\\n",
       "0                                                NaN               NaN   \n",
       "1  Mozilla/5.0 (Macintosh; Intel Mac OS X 10_11_2...                NY   \n",
       "2                                                NaN               NaN   \n",
       "3                                                NaN               NaN   \n",
       "4                                                NaN               NaN   \n",
       "\n",
       "  country  consumer_index  ratings  item_index  \n",
       "0     NaN              33        1         933  \n",
       "1      US             831        1        2933  \n",
       "2     NaN             826        1        1537  \n",
       "3     NaN             974        5        1537  \n",
       "4     NaN             887        1         246  "
      ]
     },
     "execution_count": 89,
     "metadata": {},
     "output_type": "execute_result"
    }
   ],
   "source": [
    "\n",
    "consumer.head()"
   ]
  },
  {
   "cell_type": "code",
   "execution_count": 90,
   "metadata": {},
   "outputs": [],
   "source": [
    "# remove the unwanted column and create a new dataframe with Consumer index,item index and ratings\n",
    "clean_consumer = consumer.iloc[:,[8,10,9]]"
   ]
  },
  {
   "cell_type": "code",
   "execution_count": 91,
   "metadata": {},
   "outputs": [
    {
     "data": {
      "text/html": [
       "<div>\n",
       "<style scoped>\n",
       "    .dataframe tbody tr th:only-of-type {\n",
       "        vertical-align: middle;\n",
       "    }\n",
       "\n",
       "    .dataframe tbody tr th {\n",
       "        vertical-align: top;\n",
       "    }\n",
       "\n",
       "    .dataframe thead th {\n",
       "        text-align: right;\n",
       "    }\n",
       "</style>\n",
       "<table border=\"1\" class=\"dataframe\">\n",
       "  <thead>\n",
       "    <tr style=\"text-align: right;\">\n",
       "      <th></th>\n",
       "      <th>consumer_index</th>\n",
       "      <th>item_index</th>\n",
       "      <th>ratings</th>\n",
       "    </tr>\n",
       "  </thead>\n",
       "  <tbody>\n",
       "    <tr>\n",
       "      <th>0</th>\n",
       "      <td>33</td>\n",
       "      <td>933</td>\n",
       "      <td>1</td>\n",
       "    </tr>\n",
       "    <tr>\n",
       "      <th>1</th>\n",
       "      <td>831</td>\n",
       "      <td>2933</td>\n",
       "      <td>1</td>\n",
       "    </tr>\n",
       "    <tr>\n",
       "      <th>2</th>\n",
       "      <td>826</td>\n",
       "      <td>1537</td>\n",
       "      <td>1</td>\n",
       "    </tr>\n",
       "    <tr>\n",
       "      <th>3</th>\n",
       "      <td>974</td>\n",
       "      <td>1537</td>\n",
       "      <td>5</td>\n",
       "    </tr>\n",
       "    <tr>\n",
       "      <th>4</th>\n",
       "      <td>887</td>\n",
       "      <td>246</td>\n",
       "      <td>1</td>\n",
       "    </tr>\n",
       "  </tbody>\n",
       "</table>\n",
       "</div>"
      ],
      "text/plain": [
       "   consumer_index  item_index  ratings\n",
       "0              33         933        1\n",
       "1             831        2933        1\n",
       "2             826        1537        1\n",
       "3             974        1537        5\n",
       "4             887         246        1"
      ]
     },
     "execution_count": 91,
     "metadata": {},
     "output_type": "execute_result"
    }
   ],
   "source": [
    "clean_consumer.head()"
   ]
  },
  {
   "cell_type": "code",
   "execution_count": 92,
   "metadata": {},
   "outputs": [
    {
     "data": {
      "text/plain": [
       "(72312, 3)"
      ]
     },
     "execution_count": 92,
     "metadata": {},
     "output_type": "execute_result"
    }
   ],
   "source": [
    "# check the shape\n",
    "clean_consumer.shape"
   ]
  },
  {
   "cell_type": "code",
   "execution_count": 93,
   "metadata": {},
   "outputs": [
    {
     "name": "stdout",
     "output_type": "stream",
     "text": [
      "No of  unique Items: 2987\n",
      "No of  unique Users: 1895\n"
     ]
    }
   ],
   "source": [
    "# check the no of unique items\n",
    "n_items = clean_consumer.item_index.nunique()\n",
    "\n",
    "# check the no of unique consusmers\n",
    "n_users = clean_consumer.consumer_index.nunique()\n",
    "print(f\"No of  unique Items: {n_items}\" )\n",
    "print(f\"No of  unique Users: {n_users}\")"
   ]
  },
  {
   "cell_type": "markdown",
   "metadata": {},
   "source": [
    "### Train Test Split:"
   ]
  },
  {
   "cell_type": "code",
   "execution_count": 94,
   "metadata": {},
   "outputs": [],
   "source": [
    "# Split the complete datset to Train and test data\n",
    "from sklearn.model_selection import train_test_split\n",
    "train, test = train_test_split(clean_consumer, test_size=0.30, random_state=42)"
   ]
  },
  {
   "cell_type": "markdown",
   "metadata": {},
   "source": [
    "### Create Empty data matrix  with User and News Item"
   ]
  },
  {
   "cell_type": "code",
   "execution_count": 95,
   "metadata": {},
   "outputs": [],
   "source": [
    "# create training empty matrix and later fill the matrix with user, items, and ratings\n",
    "# each row represents a user, whereas the columns correspond to different items.\n",
    "\n",
    "data_matrix_train = np.zeros((n_users, n_items))"
   ]
  },
  {
   "cell_type": "code",
   "execution_count": 96,
   "metadata": {},
   "outputs": [
    {
     "data": {
      "text/plain": [
       "array([[0., 0., 0., ..., 0., 0., 0.],\n",
       "       [0., 0., 0., ..., 0., 0., 0.],\n",
       "       [0., 0., 0., ..., 0., 0., 0.],\n",
       "       ...,\n",
       "       [0., 0., 0., ..., 0., 0., 0.],\n",
       "       [0., 0., 0., ..., 0., 0., 0.],\n",
       "       [0., 0., 0., ..., 0., 0., 0.]])"
      ]
     },
     "execution_count": 96,
     "metadata": {},
     "output_type": "execute_result"
    }
   ],
   "source": [
    "data_matrix_train"
   ]
  },
  {
   "cell_type": "code",
   "execution_count": 97,
   "metadata": {
    "scrolled": true
   },
   "outputs": [
    {
     "data": {
      "text/plain": [
       "(1895, 2987)"
      ]
     },
     "execution_count": 97,
     "metadata": {},
     "output_type": "execute_result"
    }
   ],
   "source": [
    "data_matrix_train.shape #check matrix shape"
   ]
  },
  {
   "cell_type": "code",
   "execution_count": 98,
   "metadata": {},
   "outputs": [
    {
     "data": {
      "text/plain": [
       "(50618, 3)"
      ]
     },
     "execution_count": 98,
     "metadata": {},
     "output_type": "execute_result"
    }
   ],
   "source": [
    "train.shape"
   ]
  },
  {
   "cell_type": "code",
   "execution_count": 99,
   "metadata": {},
   "outputs": [],
   "source": [
    "#fill the matrix with training data\n",
    "#each row index represent user and and column index represent items and values represent ratings\n",
    "for line in train.itertuples():\n",
    "#     print(line[1]-1,line[2]-1,line[3])\n",
    "#     break\n",
    "    data_matrix_train[line[1]-1, line[2]-1] = line[3]"
   ]
  },
  {
   "cell_type": "code",
   "execution_count": 100,
   "metadata": {},
   "outputs": [
    {
     "data": {
      "text/plain": [
       "(1895, 2987)"
      ]
     },
     "execution_count": 100,
     "metadata": {},
     "output_type": "execute_result"
    }
   ],
   "source": [
    "data_matrix_train.shape"
   ]
  },
  {
   "cell_type": "code",
   "execution_count": 101,
   "metadata": {
    "scrolled": false
   },
   "outputs": [
    {
     "data": {
      "text/plain": [
       "(array([   0,    0,    0, ..., 1894, 1894, 1894], dtype=int64),\n",
       " array([1153, 1321, 1765, ..., 2834, 2835, 2945], dtype=int64))"
      ]
     },
     "execution_count": 101,
     "metadata": {},
     "output_type": "execute_result"
    }
   ],
   "source": [
    "data_matrix_train.nonzero()"
   ]
  },
  {
   "cell_type": "code",
   "execution_count": 102,
   "metadata": {},
   "outputs": [],
   "source": [
    "data_matrix_test = np.zeros((n_users, n_items))"
   ]
  },
  {
   "cell_type": "code",
   "execution_count": 103,
   "metadata": {},
   "outputs": [],
   "source": [
    "#fill the matrix with test data\n",
    "#each row index represent user and and column index represent items and values represent ratings\n",
    "for line in test.itertuples():\n",
    "#     print(line[1]-1,line[2]-1,line[3])\n",
    "#     break\n",
    "    data_matrix_test[line[1]-1, line[2]-1] = line[3]"
   ]
  },
  {
   "cell_type": "code",
   "execution_count": 104,
   "metadata": {},
   "outputs": [
    {
     "data": {
      "text/plain": [
       "(1895, 2987)"
      ]
     },
     "execution_count": 104,
     "metadata": {},
     "output_type": "execute_result"
    }
   ],
   "source": [
    "data_matrix_test.shape"
   ]
  },
  {
   "cell_type": "code",
   "execution_count": 105,
   "metadata": {},
   "outputs": [
    {
     "data": {
      "text/plain": [
       "array([[0., 0., 0., ..., 0., 0., 0.],\n",
       "       [1., 0., 0., ..., 0., 0., 0.],\n",
       "       [0., 0., 0., ..., 0., 0., 0.],\n",
       "       ...,\n",
       "       [0., 0., 0., ..., 0., 0., 0.],\n",
       "       [0., 0., 0., ..., 0., 0., 0.],\n",
       "       [0., 0., 0., ..., 0., 0., 0.]])"
      ]
     },
     "execution_count": 105,
     "metadata": {},
     "output_type": "execute_result"
    }
   ],
   "source": [
    "data_matrix_test"
   ]
  },
  {
   "cell_type": "code",
   "execution_count": 106,
   "metadata": {},
   "outputs": [],
   "source": [
    "data_matrix_full = np.zeros((n_users, n_items))"
   ]
  },
  {
   "cell_type": "code",
   "execution_count": 107,
   "metadata": {},
   "outputs": [],
   "source": [
    "#fill the matrix with all consumer data\n",
    "#each row index represent user and and column index represent items and values represent ratings\n",
    "\n",
    "for line in clean_consumer.itertuples():\n",
    "    data_matrix_full[line[1]-1, line[2]-1] = line[3]"
   ]
  },
  {
   "cell_type": "code",
   "execution_count": 108,
   "metadata": {},
   "outputs": [
    {
     "data": {
      "text/plain": [
       "array([[0., 0., 0., ..., 0., 0., 0.],\n",
       "       [1., 0., 0., ..., 0., 0., 0.],\n",
       "       [0., 0., 0., ..., 0., 0., 0.],\n",
       "       ...,\n",
       "       [0., 0., 0., ..., 0., 0., 0.],\n",
       "       [0., 0., 0., ..., 0., 0., 0.],\n",
       "       [0., 0., 0., ..., 0., 0., 0.]])"
      ]
     },
     "execution_count": 108,
     "metadata": {},
     "output_type": "execute_result"
    }
   ],
   "source": [
    "data_matrix_full"
   ]
  },
  {
   "cell_type": "code",
   "execution_count": 109,
   "metadata": {},
   "outputs": [],
   "source": [
    "# data_matrix_all = pd.pivot_table(clean_consumer,index=\"consumer_index\",columns=\"item_index\",values=\"ratings\").fillna(0)"
   ]
  },
  {
   "cell_type": "markdown",
   "metadata": {},
   "source": [
    "### User Based collaborative filtering:"
   ]
  },
  {
   "cell_type": "markdown",
   "metadata": {},
   "source": [
    "#### Get User Similarity by calculating pairwise distances."
   ]
  },
  {
   "cell_type": "code",
   "execution_count": 110,
   "metadata": {},
   "outputs": [],
   "source": [
    "# Calculate user similarity with cosine distance \n",
    "from sklearn.metrics.pairwise import pairwise_distances\n",
    "\n",
    "user_similarity = 1- pairwise_distances(data_matrix_train, metric='cosine')"
   ]
  },
  {
   "cell_type": "code",
   "execution_count": 111,
   "metadata": {},
   "outputs": [
    {
     "data": {
      "text/plain": [
       "array([0.10910895, 0.02065041, 0.07968191, ..., 0.04688072, 0.04688072,\n",
       "       0.02999813])"
      ]
     },
     "execution_count": 111,
     "metadata": {},
     "output_type": "execute_result"
    }
   ],
   "source": [
    "user_similarity[(user_similarity<1) & (user_similarity!=0)]"
   ]
  },
  {
   "cell_type": "code",
   "execution_count": 112,
   "metadata": {},
   "outputs": [
    {
     "data": {
      "text/plain": [
       "(1895, 1895)"
      ]
     },
     "execution_count": 112,
     "metadata": {},
     "output_type": "execute_result"
    }
   ],
   "source": [
    "user_similarity.shape # No of users are 1895"
   ]
  },
  {
   "cell_type": "code",
   "execution_count": 113,
   "metadata": {},
   "outputs": [
    {
     "data": {
      "text/plain": [
       "array([[1.        , 0.        , 0.        , ..., 0.        , 0.        ,\n",
       "        0.        ],\n",
       "       [0.        , 1.        , 0.        , ..., 0.15384615, 0.        ,\n",
       "        0.        ],\n",
       "       [0.        , 0.        , 1.        , ..., 0.        , 0.        ,\n",
       "        0.1069045 ],\n",
       "       ...,\n",
       "       [0.        , 0.15384615, 0.        , ..., 1.        , 0.        ,\n",
       "        0.04688072],\n",
       "       [0.        , 0.        , 0.        , ..., 0.        , 1.        ,\n",
       "        0.02999813],\n",
       "       [0.        , 0.        , 0.1069045 , ..., 0.04688072, 0.02999813,\n",
       "        1.        ]])"
      ]
     },
     "execution_count": 113,
     "metadata": {},
     "output_type": "execute_result"
    }
   ],
   "source": [
    "user_similarity"
   ]
  },
  {
   "cell_type": "markdown",
   "metadata": {},
   "source": [
    "### Item based Collaborative Filtering :"
   ]
  },
  {
   "cell_type": "markdown",
   "metadata": {},
   "source": [
    "#### Get Item Similarity by calculating pairwise distances:"
   ]
  },
  {
   "cell_type": "code",
   "execution_count": 114,
   "metadata": {},
   "outputs": [
    {
     "data": {
      "text/plain": [
       "array([[1.        , 0.        , 0.        , ..., 0.        , 0.        ,\n",
       "        0.        ],\n",
       "       [0.        , 1.        , 0.06163336, ..., 0.08399211, 0.        ,\n",
       "        0.        ],\n",
       "       [0.        , 0.06163336, 1.        , ..., 0.17471414, 0.        ,\n",
       "        0.05661385],\n",
       "       ...,\n",
       "       [0.        , 0.08399211, 0.17471414, ..., 1.        , 0.        ,\n",
       "        0.        ],\n",
       "       [0.        , 0.        , 0.        , ..., 0.        , 1.        ,\n",
       "        0.        ],\n",
       "       [0.        , 0.        , 0.05661385, ..., 0.        , 0.        ,\n",
       "        1.        ]])"
      ]
     },
     "execution_count": 114,
     "metadata": {},
     "output_type": "execute_result"
    }
   ],
   "source": [
    "# Calculate the cosine item similarity by taking transpose of data matrix train \n",
    "item_similarity = 1-pairwise_distances(data_matrix_train.T, metric='cosine')\n",
    "item_similarity"
   ]
  },
  {
   "cell_type": "code",
   "execution_count": 115,
   "metadata": {
    "scrolled": true
   },
   "outputs": [
    {
     "data": {
      "text/plain": [
       "(2987, 2987)"
      ]
     },
     "execution_count": 115,
     "metadata": {},
     "output_type": "execute_result"
    }
   ],
   "source": [
    "item_similarity.shape # No of items are 2987"
   ]
  },
  {
   "cell_type": "code",
   "execution_count": 116,
   "metadata": {},
   "outputs": [
    {
     "data": {
      "text/plain": [
       "(1895, 1895)"
      ]
     },
     "execution_count": 116,
     "metadata": {},
     "output_type": "execute_result"
    }
   ],
   "source": [
    "user_similarity.shape"
   ]
  },
  {
   "cell_type": "markdown",
   "metadata": {},
   "source": [
    "### Dot product of Data Matrix with similarity matrix\n",
    "\n",
    "- We have calculated users and nw items pairwise by using similarity distance based on the cosine similarity measure.\n",
    "- The dot product of the data matrix with this similarity matrix gave all the predicted ratings for the news items.\n",
    "- Finally,we have used these predictions to recommend the top ten new items for consumer index 76."
   ]
  },
  {
   "cell_type": "code",
   "execution_count": 117,
   "metadata": {},
   "outputs": [],
   "source": [
    "# Get the item prediction taking dot product of user similarity and test data matrix\n",
    "item_prediction = np.dot(user_similarity,data_matrix_test)"
   ]
  },
  {
   "cell_type": "code",
   "execution_count": 118,
   "metadata": {},
   "outputs": [
    {
     "data": {
      "text/plain": [
       "array([[0.62057454, 0.07112096, 0.30950479, ..., 0.24053081, 0.        ,\n",
       "        0.11399657],\n",
       "       [3.29056256, 0.08054275, 0.42022854, ..., 0.06052275, 0.        ,\n",
       "        0.0410889 ],\n",
       "       [0.048795  , 0.10724958, 0.07948031, ..., 0.04323377, 0.        ,\n",
       "        0.34754887],\n",
       "       ...,\n",
       "       [0.35685561, 0.35476435, 0.6354166 , ..., 0.24827113, 0.        ,\n",
       "        0.14633119],\n",
       "       [0.15160347, 0.56426279, 0.80650212, ..., 0.39841756, 0.00800102,\n",
       "        0.11168594],\n",
       "       [0.24468843, 0.39819056, 0.82855359, ..., 0.58208307, 0.09144599,\n",
       "        0.83597831]])"
      ]
     },
     "execution_count": 118,
     "metadata": {},
     "output_type": "execute_result"
    }
   ],
   "source": [
    "item_prediction"
   ]
  },
  {
   "cell_type": "code",
   "execution_count": 119,
   "metadata": {},
   "outputs": [
    {
     "data": {
      "text/plain": [
       "(1895, 2987)"
      ]
     },
     "execution_count": 119,
     "metadata": {},
     "output_type": "execute_result"
    }
   ],
   "source": [
    "item_prediction.shape  # check the item prediction shape"
   ]
  },
  {
   "cell_type": "code",
   "execution_count": 120,
   "metadata": {},
   "outputs": [
    {
     "data": {
      "text/plain": [
       "(1895, 1895)"
      ]
     },
     "execution_count": 120,
     "metadata": {},
     "output_type": "execute_result"
    }
   ],
   "source": [
    "user_similarity.shape"
   ]
  },
  {
   "cell_type": "code",
   "execution_count": 121,
   "metadata": {},
   "outputs": [],
   "source": [
    "# Create  a Item prediction dataframe for ease of interpretations\n",
    "prediction_df = pd.DataFrame(item_prediction) "
   ]
  },
  {
   "cell_type": "code",
   "execution_count": 122,
   "metadata": {
    "scrolled": true
   },
   "outputs": [
    {
     "data": {
      "text/html": [
       "<div>\n",
       "<style scoped>\n",
       "    .dataframe tbody tr th:only-of-type {\n",
       "        vertical-align: middle;\n",
       "    }\n",
       "\n",
       "    .dataframe tbody tr th {\n",
       "        vertical-align: top;\n",
       "    }\n",
       "\n",
       "    .dataframe thead th {\n",
       "        text-align: right;\n",
       "    }\n",
       "</style>\n",
       "<table border=\"1\" class=\"dataframe\">\n",
       "  <thead>\n",
       "    <tr style=\"text-align: right;\">\n",
       "      <th></th>\n",
       "      <th>0</th>\n",
       "      <th>1</th>\n",
       "      <th>2</th>\n",
       "      <th>3</th>\n",
       "      <th>4</th>\n",
       "      <th>5</th>\n",
       "      <th>6</th>\n",
       "      <th>7</th>\n",
       "      <th>8</th>\n",
       "      <th>9</th>\n",
       "      <th>...</th>\n",
       "      <th>2977</th>\n",
       "      <th>2978</th>\n",
       "      <th>2979</th>\n",
       "      <th>2980</th>\n",
       "      <th>2981</th>\n",
       "      <th>2982</th>\n",
       "      <th>2983</th>\n",
       "      <th>2984</th>\n",
       "      <th>2985</th>\n",
       "      <th>2986</th>\n",
       "    </tr>\n",
       "  </thead>\n",
       "  <tbody>\n",
       "    <tr>\n",
       "      <th>0</th>\n",
       "      <td>0.620575</td>\n",
       "      <td>0.071121</td>\n",
       "      <td>0.309505</td>\n",
       "      <td>0.0</td>\n",
       "      <td>0.133500</td>\n",
       "      <td>0.0</td>\n",
       "      <td>0.066026</td>\n",
       "      <td>0.119523</td>\n",
       "      <td>0.000000</td>\n",
       "      <td>0.153990</td>\n",
       "      <td>...</td>\n",
       "      <td>0.102276</td>\n",
       "      <td>0.037526</td>\n",
       "      <td>0.028499</td>\n",
       "      <td>0.058398</td>\n",
       "      <td>0.012218</td>\n",
       "      <td>0.067035</td>\n",
       "      <td>0.127418</td>\n",
       "      <td>0.240531</td>\n",
       "      <td>0.000000</td>\n",
       "      <td>0.113997</td>\n",
       "    </tr>\n",
       "    <tr>\n",
       "      <th>1</th>\n",
       "      <td>3.290563</td>\n",
       "      <td>0.080543</td>\n",
       "      <td>0.420229</td>\n",
       "      <td>0.0</td>\n",
       "      <td>0.140258</td>\n",
       "      <td>0.0</td>\n",
       "      <td>0.223216</td>\n",
       "      <td>0.000000</td>\n",
       "      <td>0.090515</td>\n",
       "      <td>0.054656</td>\n",
       "      <td>...</td>\n",
       "      <td>0.053201</td>\n",
       "      <td>0.000000</td>\n",
       "      <td>0.020544</td>\n",
       "      <td>0.028569</td>\n",
       "      <td>0.017931</td>\n",
       "      <td>0.135295</td>\n",
       "      <td>0.000000</td>\n",
       "      <td>0.060523</td>\n",
       "      <td>0.000000</td>\n",
       "      <td>0.041089</td>\n",
       "    </tr>\n",
       "    <tr>\n",
       "      <th>2</th>\n",
       "      <td>0.048795</td>\n",
       "      <td>0.107250</td>\n",
       "      <td>0.079480</td>\n",
       "      <td>0.0</td>\n",
       "      <td>0.000000</td>\n",
       "      <td>0.0</td>\n",
       "      <td>0.082545</td>\n",
       "      <td>0.000000</td>\n",
       "      <td>0.051602</td>\n",
       "      <td>0.000000</td>\n",
       "      <td>...</td>\n",
       "      <td>0.073723</td>\n",
       "      <td>0.079277</td>\n",
       "      <td>0.146343</td>\n",
       "      <td>0.000000</td>\n",
       "      <td>0.030667</td>\n",
       "      <td>0.092915</td>\n",
       "      <td>0.239766</td>\n",
       "      <td>0.043234</td>\n",
       "      <td>0.000000</td>\n",
       "      <td>0.347549</td>\n",
       "    </tr>\n",
       "    <tr>\n",
       "      <th>3</th>\n",
       "      <td>0.000000</td>\n",
       "      <td>0.444556</td>\n",
       "      <td>0.161440</td>\n",
       "      <td>0.0</td>\n",
       "      <td>0.176895</td>\n",
       "      <td>0.0</td>\n",
       "      <td>0.000000</td>\n",
       "      <td>0.023570</td>\n",
       "      <td>0.000000</td>\n",
       "      <td>0.084744</td>\n",
       "      <td>...</td>\n",
       "      <td>0.000000</td>\n",
       "      <td>0.000000</td>\n",
       "      <td>0.034816</td>\n",
       "      <td>0.000000</td>\n",
       "      <td>0.014456</td>\n",
       "      <td>0.034100</td>\n",
       "      <td>0.015881</td>\n",
       "      <td>0.061142</td>\n",
       "      <td>0.040324</td>\n",
       "      <td>0.034816</td>\n",
       "    </tr>\n",
       "    <tr>\n",
       "      <th>4</th>\n",
       "      <td>0.158114</td>\n",
       "      <td>0.106075</td>\n",
       "      <td>0.297068</td>\n",
       "      <td>0.0</td>\n",
       "      <td>0.115453</td>\n",
       "      <td>0.0</td>\n",
       "      <td>0.008886</td>\n",
       "      <td>0.018634</td>\n",
       "      <td>0.000000</td>\n",
       "      <td>0.018634</td>\n",
       "      <td>...</td>\n",
       "      <td>0.038072</td>\n",
       "      <td>0.048925</td>\n",
       "      <td>0.008886</td>\n",
       "      <td>0.036418</td>\n",
       "      <td>0.070354</td>\n",
       "      <td>0.132026</td>\n",
       "      <td>0.127301</td>\n",
       "      <td>0.370559</td>\n",
       "      <td>0.000000</td>\n",
       "      <td>0.035545</td>\n",
       "    </tr>\n",
       "  </tbody>\n",
       "</table>\n",
       "<p>5 rows × 2987 columns</p>\n",
       "</div>"
      ],
      "text/plain": [
       "       0         1         2     3         4     5         6         7     \\\n",
       "0  0.620575  0.071121  0.309505   0.0  0.133500   0.0  0.066026  0.119523   \n",
       "1  3.290563  0.080543  0.420229   0.0  0.140258   0.0  0.223216  0.000000   \n",
       "2  0.048795  0.107250  0.079480   0.0  0.000000   0.0  0.082545  0.000000   \n",
       "3  0.000000  0.444556  0.161440   0.0  0.176895   0.0  0.000000  0.023570   \n",
       "4  0.158114  0.106075  0.297068   0.0  0.115453   0.0  0.008886  0.018634   \n",
       "\n",
       "       8         9     ...      2977      2978      2979      2980      2981  \\\n",
       "0  0.000000  0.153990  ...  0.102276  0.037526  0.028499  0.058398  0.012218   \n",
       "1  0.090515  0.054656  ...  0.053201  0.000000  0.020544  0.028569  0.017931   \n",
       "2  0.051602  0.000000  ...  0.073723  0.079277  0.146343  0.000000  0.030667   \n",
       "3  0.000000  0.084744  ...  0.000000  0.000000  0.034816  0.000000  0.014456   \n",
       "4  0.000000  0.018634  ...  0.038072  0.048925  0.008886  0.036418  0.070354   \n",
       "\n",
       "       2982      2983      2984      2985      2986  \n",
       "0  0.067035  0.127418  0.240531  0.000000  0.113997  \n",
       "1  0.135295  0.000000  0.060523  0.000000  0.041089  \n",
       "2  0.092915  0.239766  0.043234  0.000000  0.347549  \n",
       "3  0.034100  0.015881  0.061142  0.040324  0.034816  \n",
       "4  0.132026  0.127301  0.370559  0.000000  0.035545  \n",
       "\n",
       "[5 rows x 2987 columns]"
      ]
     },
     "execution_count": 122,
     "metadata": {},
     "output_type": "execute_result"
    }
   ],
   "source": [
    "prediction_df.head()"
   ]
  },
  {
   "cell_type": "markdown",
   "metadata": {},
   "source": [
    "### Get recommended News item for consumer index 1893"
   ]
  },
  {
   "cell_type": "code",
   "execution_count": 123,
   "metadata": {
    "scrolled": false
   },
   "outputs": [
    {
     "data": {
      "text/plain": [
       "0       0.151603\n",
       "1       0.564263\n",
       "2       0.806502\n",
       "3       0.000000\n",
       "4       0.400698\n",
       "          ...   \n",
       "2982    0.325217\n",
       "2983    0.098948\n",
       "2984    0.398418\n",
       "2985    0.008001\n",
       "2986    0.111686\n",
       "Name: 1893, Length: 2987, dtype: float64"
      ]
     },
     "execution_count": 123,
     "metadata": {},
     "output_type": "execute_result"
    }
   ],
   "source": [
    "prediction_df.iloc[1893]"
   ]
  },
  {
   "cell_type": "markdown",
   "metadata": {},
   "source": [
    "### Get top 10 Prediction of Consumer Index 1893"
   ]
  },
  {
   "cell_type": "code",
   "execution_count": 124,
   "metadata": {
    "scrolled": true
   },
   "outputs": [
    {
     "data": {
      "text/plain": [
       "2695    6.318163\n",
       "2860    6.000987\n",
       "1976    4.258427\n",
       "2675    3.335756\n",
       "2070    3.190483\n",
       "416     3.178863\n",
       "1714    3.011950\n",
       "1848    2.937371\n",
       "508     2.905792\n",
       "1479    2.856870\n",
       "Name: 1893, dtype: float64"
      ]
     },
     "execution_count": 124,
     "metadata": {},
     "output_type": "execute_result"
    }
   ],
   "source": [
    "prediction_df.iloc[1893].sort_values(ascending=False)[:10]"
   ]
  },
  {
   "cell_type": "code",
   "execution_count": 125,
   "metadata": {},
   "outputs": [],
   "source": [
    "l1 = prediction_df.iloc[1893].sort_values(ascending=False)[:10]"
   ]
  },
  {
   "cell_type": "code",
   "execution_count": 126,
   "metadata": {},
   "outputs": [],
   "source": [
    "# Create an DataFrame of prediction content\n",
    "recommended_news_df = pd.DataFrame(prediction_df.iloc[1893].sort_values(ascending=False))"
   ]
  },
  {
   "cell_type": "code",
   "execution_count": 127,
   "metadata": {},
   "outputs": [
    {
     "data": {
      "text/html": [
       "<div>\n",
       "<style scoped>\n",
       "    .dataframe tbody tr th:only-of-type {\n",
       "        vertical-align: middle;\n",
       "    }\n",
       "\n",
       "    .dataframe tbody tr th {\n",
       "        vertical-align: top;\n",
       "    }\n",
       "\n",
       "    .dataframe thead th {\n",
       "        text-align: right;\n",
       "    }\n",
       "</style>\n",
       "<table border=\"1\" class=\"dataframe\">\n",
       "  <thead>\n",
       "    <tr style=\"text-align: right;\">\n",
       "      <th></th>\n",
       "      <th>1893</th>\n",
       "    </tr>\n",
       "  </thead>\n",
       "  <tbody>\n",
       "    <tr>\n",
       "      <th>2695</th>\n",
       "      <td>6.318163</td>\n",
       "    </tr>\n",
       "    <tr>\n",
       "      <th>2860</th>\n",
       "      <td>6.000987</td>\n",
       "    </tr>\n",
       "    <tr>\n",
       "      <th>1976</th>\n",
       "      <td>4.258427</td>\n",
       "    </tr>\n",
       "    <tr>\n",
       "      <th>2675</th>\n",
       "      <td>3.335756</td>\n",
       "    </tr>\n",
       "    <tr>\n",
       "      <th>2070</th>\n",
       "      <td>3.190483</td>\n",
       "    </tr>\n",
       "    <tr>\n",
       "      <th>...</th>\n",
       "      <td>...</td>\n",
       "    </tr>\n",
       "    <tr>\n",
       "      <th>1352</th>\n",
       "      <td>0.000000</td>\n",
       "    </tr>\n",
       "    <tr>\n",
       "      <th>1966</th>\n",
       "      <td>0.000000</td>\n",
       "    </tr>\n",
       "    <tr>\n",
       "      <th>1970</th>\n",
       "      <td>0.000000</td>\n",
       "    </tr>\n",
       "    <tr>\n",
       "      <th>1971</th>\n",
       "      <td>0.000000</td>\n",
       "    </tr>\n",
       "    <tr>\n",
       "      <th>1402</th>\n",
       "      <td>0.000000</td>\n",
       "    </tr>\n",
       "  </tbody>\n",
       "</table>\n",
       "<p>2987 rows × 1 columns</p>\n",
       "</div>"
      ],
      "text/plain": [
       "          1893\n",
       "2695  6.318163\n",
       "2860  6.000987\n",
       "1976  4.258427\n",
       "2675  3.335756\n",
       "2070  3.190483\n",
       "...        ...\n",
       "1352  0.000000\n",
       "1966  0.000000\n",
       "1970  0.000000\n",
       "1971  0.000000\n",
       "1402  0.000000\n",
       "\n",
       "[2987 rows x 1 columns]"
      ]
     },
     "execution_count": 127,
     "metadata": {},
     "output_type": "execute_result"
    }
   ],
   "source": [
    "recommended_news_df"
   ]
  },
  {
   "cell_type": "code",
   "execution_count": 128,
   "metadata": {},
   "outputs": [],
   "source": [
    "# reset the index so that the index should appear uniformly.\n",
    "recommended_news_df.reset_index(inplace=True)"
   ]
  },
  {
   "cell_type": "code",
   "execution_count": 129,
   "metadata": {
    "scrolled": true
   },
   "outputs": [
    {
     "data": {
      "text/html": [
       "<div>\n",
       "<style scoped>\n",
       "    .dataframe tbody tr th:only-of-type {\n",
       "        vertical-align: middle;\n",
       "    }\n",
       "\n",
       "    .dataframe tbody tr th {\n",
       "        vertical-align: top;\n",
       "    }\n",
       "\n",
       "    .dataframe thead th {\n",
       "        text-align: right;\n",
       "    }\n",
       "</style>\n",
       "<table border=\"1\" class=\"dataframe\">\n",
       "  <thead>\n",
       "    <tr style=\"text-align: right;\">\n",
       "      <th></th>\n",
       "      <th>index</th>\n",
       "      <th>1893</th>\n",
       "    </tr>\n",
       "  </thead>\n",
       "  <tbody>\n",
       "    <tr>\n",
       "      <th>0</th>\n",
       "      <td>2695</td>\n",
       "      <td>6.318163</td>\n",
       "    </tr>\n",
       "    <tr>\n",
       "      <th>1</th>\n",
       "      <td>2860</td>\n",
       "      <td>6.000987</td>\n",
       "    </tr>\n",
       "    <tr>\n",
       "      <th>2</th>\n",
       "      <td>1976</td>\n",
       "      <td>4.258427</td>\n",
       "    </tr>\n",
       "    <tr>\n",
       "      <th>3</th>\n",
       "      <td>2675</td>\n",
       "      <td>3.335756</td>\n",
       "    </tr>\n",
       "    <tr>\n",
       "      <th>4</th>\n",
       "      <td>2070</td>\n",
       "      <td>3.190483</td>\n",
       "    </tr>\n",
       "  </tbody>\n",
       "</table>\n",
       "</div>"
      ],
      "text/plain": [
       "   index      1893\n",
       "0   2695  6.318163\n",
       "1   2860  6.000987\n",
       "2   1976  4.258427\n",
       "3   2675  3.335756\n",
       "4   2070  3.190483"
      ]
     },
     "execution_count": 129,
     "metadata": {},
     "output_type": "execute_result"
    }
   ],
   "source": [
    "recommended_news_df.head()"
   ]
  },
  {
   "cell_type": "code",
   "execution_count": 130,
   "metadata": {},
   "outputs": [],
   "source": [
    "# assign the columns names\n",
    "recommended_news_df.columns = [\"item_index\",\"score\"] "
   ]
  },
  {
   "cell_type": "code",
   "execution_count": 131,
   "metadata": {},
   "outputs": [
    {
     "data": {
      "text/html": [
       "<div>\n",
       "<style scoped>\n",
       "    .dataframe tbody tr th:only-of-type {\n",
       "        vertical-align: middle;\n",
       "    }\n",
       "\n",
       "    .dataframe tbody tr th {\n",
       "        vertical-align: top;\n",
       "    }\n",
       "\n",
       "    .dataframe thead th {\n",
       "        text-align: right;\n",
       "    }\n",
       "</style>\n",
       "<table border=\"1\" class=\"dataframe\">\n",
       "  <thead>\n",
       "    <tr style=\"text-align: right;\">\n",
       "      <th></th>\n",
       "      <th>item_index</th>\n",
       "      <th>score</th>\n",
       "    </tr>\n",
       "  </thead>\n",
       "  <tbody>\n",
       "    <tr>\n",
       "      <th>0</th>\n",
       "      <td>2695</td>\n",
       "      <td>6.318163</td>\n",
       "    </tr>\n",
       "    <tr>\n",
       "      <th>1</th>\n",
       "      <td>2860</td>\n",
       "      <td>6.000987</td>\n",
       "    </tr>\n",
       "    <tr>\n",
       "      <th>2</th>\n",
       "      <td>1976</td>\n",
       "      <td>4.258427</td>\n",
       "    </tr>\n",
       "    <tr>\n",
       "      <th>3</th>\n",
       "      <td>2675</td>\n",
       "      <td>3.335756</td>\n",
       "    </tr>\n",
       "    <tr>\n",
       "      <th>4</th>\n",
       "      <td>2070</td>\n",
       "      <td>3.190483</td>\n",
       "    </tr>\n",
       "  </tbody>\n",
       "</table>\n",
       "</div>"
      ],
      "text/plain": [
       "   item_index     score\n",
       "0        2695  6.318163\n",
       "1        2860  6.000987\n",
       "2        1976  4.258427\n",
       "3        2675  3.335756\n",
       "4        2070  3.190483"
      ]
     },
     "execution_count": 131,
     "metadata": {},
     "output_type": "execute_result"
    }
   ],
   "source": [
    "recommended_news_df.head()"
   ]
  },
  {
   "cell_type": "markdown",
   "metadata": {},
   "source": [
    "###  Get the prediction with News title:"
   ]
  },
  {
   "cell_type": "code",
   "execution_count": 132,
   "metadata": {},
   "outputs": [],
   "source": [
    "# merge with content data\n",
    "\n",
    "merged_user_based = pd.merge(recommended_news_df,clean_english_content,on=\"item_index\",how=\"left\")"
   ]
  },
  {
   "cell_type": "code",
   "execution_count": 133,
   "metadata": {},
   "outputs": [
    {
     "data": {
      "text/html": [
       "<div>\n",
       "<style scoped>\n",
       "    .dataframe tbody tr th:only-of-type {\n",
       "        vertical-align: middle;\n",
       "    }\n",
       "\n",
       "    .dataframe tbody tr th {\n",
       "        vertical-align: top;\n",
       "    }\n",
       "\n",
       "    .dataframe thead th {\n",
       "        text-align: right;\n",
       "    }\n",
       "</style>\n",
       "<table border=\"1\" class=\"dataframe\">\n",
       "  <thead>\n",
       "    <tr style=\"text-align: right;\">\n",
       "      <th></th>\n",
       "      <th>item_index</th>\n",
       "      <th>score</th>\n",
       "      <th>title</th>\n",
       "      <th>text_description</th>\n",
       "    </tr>\n",
       "  </thead>\n",
       "  <tbody>\n",
       "    <tr>\n",
       "      <th>2</th>\n",
       "      <td>1976</td>\n",
       "      <td>4.258427</td>\n",
       "      <td>Linux at 25: Q&amp;A With Linus Torvalds</td>\n",
       "      <td>Photo: Ian White/Corbis Linus Torvalds created...</td>\n",
       "    </tr>\n",
       "    <tr>\n",
       "      <th>4</th>\n",
       "      <td>2070</td>\n",
       "      <td>3.190483</td>\n",
       "      <td>Top 5 open source command shells for Linux</td>\n",
       "      <td>There are two kinds of Linux users: the cautio...</td>\n",
       "    </tr>\n",
       "    <tr>\n",
       "      <th>5</th>\n",
       "      <td>416</td>\n",
       "      <td>3.178863</td>\n",
       "      <td>Inbox by Gmail: a better way to keep track of ...</td>\n",
       "      <td>Life can get really busy. Inboxes too. Just th...</td>\n",
       "    </tr>\n",
       "    <tr>\n",
       "      <th>6</th>\n",
       "      <td>1714</td>\n",
       "      <td>3.011950</td>\n",
       "      <td>Meet Parsey's Cousins: Syntax for 40 languages...</td>\n",
       "      <td>Just in time for ACL 2016 , we are pleased to ...</td>\n",
       "    </tr>\n",
       "    <tr>\n",
       "      <th>7</th>\n",
       "      <td>1848</td>\n",
       "      <td>2.937371</td>\n",
       "      <td>3 Big Blockchain Ideas MIT is Working on Right...</td>\n",
       "      <td>When one of the world's most prestigious unive...</td>\n",
       "    </tr>\n",
       "    <tr>\n",
       "      <th>...</th>\n",
       "      <td>...</td>\n",
       "      <td>...</td>\n",
       "      <td>...</td>\n",
       "      <td>...</td>\n",
       "    </tr>\n",
       "    <tr>\n",
       "      <th>3028</th>\n",
       "      <td>1352</td>\n",
       "      <td>0.000000</td>\n",
       "      <td>Thorium</td>\n",
       "      <td>On September 12, 1932, a man named Leo Szilard...</td>\n",
       "    </tr>\n",
       "    <tr>\n",
       "      <th>3029</th>\n",
       "      <td>1966</td>\n",
       "      <td>0.000000</td>\n",
       "      <td>Announcing .NET Core 1.0</td>\n",
       "      <td>We are excited to announce the release of .NET...</td>\n",
       "    </tr>\n",
       "    <tr>\n",
       "      <th>3030</th>\n",
       "      <td>1970</td>\n",
       "      <td>0.000000</td>\n",
       "      <td>Self-Driving Cars and Insurance</td>\n",
       "      <td>THE TOPIC Each new generation of cars is equip...</td>\n",
       "    </tr>\n",
       "    <tr>\n",
       "      <th>3031</th>\n",
       "      <td>1971</td>\n",
       "      <td>0.000000</td>\n",
       "      <td>The Gold Mine: A Novel of Lean Turnaround</td>\n",
       "      <td>Format: Paperback Just in time for summer, the...</td>\n",
       "    </tr>\n",
       "    <tr>\n",
       "      <th>3032</th>\n",
       "      <td>1402</td>\n",
       "      <td>0.000000</td>\n",
       "      <td>'The Simpsons' celebrates 600 episodes with a ...</td>\n",
       "      <td>For the opening of Treehouse of Horror XXVII ,...</td>\n",
       "    </tr>\n",
       "  </tbody>\n",
       "</table>\n",
       "<p>2264 rows × 4 columns</p>\n",
       "</div>"
      ],
      "text/plain": [
       "      item_index     score                                              title  \\\n",
       "2           1976  4.258427               Linux at 25: Q&A With Linus Torvalds   \n",
       "4           2070  3.190483         Top 5 open source command shells for Linux   \n",
       "5            416  3.178863  Inbox by Gmail: a better way to keep track of ...   \n",
       "6           1714  3.011950  Meet Parsey's Cousins: Syntax for 40 languages...   \n",
       "7           1848  2.937371  3 Big Blockchain Ideas MIT is Working on Right...   \n",
       "...          ...       ...                                                ...   \n",
       "3028        1352  0.000000                                            Thorium   \n",
       "3029        1966  0.000000                           Announcing .NET Core 1.0   \n",
       "3030        1970  0.000000                    Self-Driving Cars and Insurance   \n",
       "3031        1971  0.000000          The Gold Mine: A Novel of Lean Turnaround   \n",
       "3032        1402  0.000000  'The Simpsons' celebrates 600 episodes with a ...   \n",
       "\n",
       "                                       text_description  \n",
       "2     Photo: Ian White/Corbis Linus Torvalds created...  \n",
       "4     There are two kinds of Linux users: the cautio...  \n",
       "5     Life can get really busy. Inboxes too. Just th...  \n",
       "6     Just in time for ACL 2016 , we are pleased to ...  \n",
       "7     When one of the world's most prestigious unive...  \n",
       "...                                                 ...  \n",
       "3028  On September 12, 1932, a man named Leo Szilard...  \n",
       "3029  We are excited to announce the release of .NET...  \n",
       "3030  THE TOPIC Each new generation of cars is equip...  \n",
       "3031  Format: Paperback Just in time for summer, the...  \n",
       "3032  For the opening of Treehouse of Horror XXVII ,...  \n",
       "\n",
       "[2264 rows x 4 columns]"
      ]
     },
     "execution_count": 133,
     "metadata": {},
     "output_type": "execute_result"
    }
   ],
   "source": [
    "# few of the item index in consumer data is not available in content data.\n",
    "# Hence we get NaN after merge and dropped those NaN \n",
    "\n",
    "merged_user_based.dropna(inplace=True)\n",
    "merged_user_based"
   ]
  },
  {
   "cell_type": "markdown",
   "metadata": {},
   "source": [
    "### Top 10 prediction on User Based CF"
   ]
  },
  {
   "cell_type": "code",
   "execution_count": 134,
   "metadata": {
    "scrolled": false
   },
   "outputs": [
    {
     "data": {
      "text/html": [
       "<div>\n",
       "<style scoped>\n",
       "    .dataframe tbody tr th:only-of-type {\n",
       "        vertical-align: middle;\n",
       "    }\n",
       "\n",
       "    .dataframe tbody tr th {\n",
       "        vertical-align: top;\n",
       "    }\n",
       "\n",
       "    .dataframe thead th {\n",
       "        text-align: right;\n",
       "    }\n",
       "</style>\n",
       "<table border=\"1\" class=\"dataframe\">\n",
       "  <thead>\n",
       "    <tr style=\"text-align: right;\">\n",
       "      <th></th>\n",
       "      <th>item_index</th>\n",
       "      <th>score</th>\n",
       "      <th>title</th>\n",
       "      <th>text_description</th>\n",
       "    </tr>\n",
       "  </thead>\n",
       "  <tbody>\n",
       "    <tr>\n",
       "      <th>2</th>\n",
       "      <td>1976</td>\n",
       "      <td>4.258427</td>\n",
       "      <td>Linux at 25: Q&amp;A With Linus Torvalds</td>\n",
       "      <td>Photo: Ian White/Corbis Linus Torvalds created...</td>\n",
       "    </tr>\n",
       "    <tr>\n",
       "      <th>4</th>\n",
       "      <td>2070</td>\n",
       "      <td>3.190483</td>\n",
       "      <td>Top 5 open source command shells for Linux</td>\n",
       "      <td>There are two kinds of Linux users: the cautio...</td>\n",
       "    </tr>\n",
       "    <tr>\n",
       "      <th>5</th>\n",
       "      <td>416</td>\n",
       "      <td>3.178863</td>\n",
       "      <td>Inbox by Gmail: a better way to keep track of ...</td>\n",
       "      <td>Life can get really busy. Inboxes too. Just th...</td>\n",
       "    </tr>\n",
       "    <tr>\n",
       "      <th>6</th>\n",
       "      <td>1714</td>\n",
       "      <td>3.011950</td>\n",
       "      <td>Meet Parsey's Cousins: Syntax for 40 languages...</td>\n",
       "      <td>Just in time for ACL 2016 , we are pleased to ...</td>\n",
       "    </tr>\n",
       "    <tr>\n",
       "      <th>7</th>\n",
       "      <td>1848</td>\n",
       "      <td>2.937371</td>\n",
       "      <td>3 Big Blockchain Ideas MIT is Working on Right...</td>\n",
       "      <td>When one of the world's most prestigious unive...</td>\n",
       "    </tr>\n",
       "    <tr>\n",
       "      <th>8</th>\n",
       "      <td>508</td>\n",
       "      <td>2.905792</td>\n",
       "      <td>Globant Recognized as a Worldwide Leader of Di...</td>\n",
       "      <td>SAN FRANCISCO, June 14, 2016 /PRNewswire/ -- G...</td>\n",
       "    </tr>\n",
       "    <tr>\n",
       "      <th>9</th>\n",
       "      <td>1479</td>\n",
       "      <td>2.856870</td>\n",
       "      <td>How will bots make money? Here are 7 business ...</td>\n",
       "      <td>Another bot (hot damn) Called a police and a f...</td>\n",
       "    </tr>\n",
       "    <tr>\n",
       "      <th>10</th>\n",
       "      <td>846</td>\n",
       "      <td>2.765620</td>\n",
       "      <td>The 24 best restaurants in New York City</td>\n",
       "      <td>Yelp/Daniel With so many restaurants to choose...</td>\n",
       "    </tr>\n",
       "    <tr>\n",
       "      <th>11</th>\n",
       "      <td>1595</td>\n",
       "      <td>2.740285</td>\n",
       "      <td>The future of agriculture - Jim Womack visits ...</td>\n",
       "      <td>WOMACK'S YOKOTEN - Lean in agriculture might s...</td>\n",
       "    </tr>\n",
       "    <tr>\n",
       "      <th>12</th>\n",
       "      <td>542</td>\n",
       "      <td>2.728393</td>\n",
       "      <td>Google lags behind Amazon and Microsoft's clou...</td>\n",
       "      <td>Thomson Reuters Google's cloud service may wan...</td>\n",
       "    </tr>\n",
       "  </tbody>\n",
       "</table>\n",
       "</div>"
      ],
      "text/plain": [
       "    item_index     score                                              title  \\\n",
       "2         1976  4.258427               Linux at 25: Q&A With Linus Torvalds   \n",
       "4         2070  3.190483         Top 5 open source command shells for Linux   \n",
       "5          416  3.178863  Inbox by Gmail: a better way to keep track of ...   \n",
       "6         1714  3.011950  Meet Parsey's Cousins: Syntax for 40 languages...   \n",
       "7         1848  2.937371  3 Big Blockchain Ideas MIT is Working on Right...   \n",
       "8          508  2.905792  Globant Recognized as a Worldwide Leader of Di...   \n",
       "9         1479  2.856870  How will bots make money? Here are 7 business ...   \n",
       "10         846  2.765620           The 24 best restaurants in New York City   \n",
       "11        1595  2.740285  The future of agriculture - Jim Womack visits ...   \n",
       "12         542  2.728393  Google lags behind Amazon and Microsoft's clou...   \n",
       "\n",
       "                                     text_description  \n",
       "2   Photo: Ian White/Corbis Linus Torvalds created...  \n",
       "4   There are two kinds of Linux users: the cautio...  \n",
       "5   Life can get really busy. Inboxes too. Just th...  \n",
       "6   Just in time for ACL 2016 , we are pleased to ...  \n",
       "7   When one of the world's most prestigious unive...  \n",
       "8   SAN FRANCISCO, June 14, 2016 /PRNewswire/ -- G...  \n",
       "9   Another bot (hot damn) Called a police and a f...  \n",
       "10  Yelp/Daniel With so many restaurants to choose...  \n",
       "11  WOMACK'S YOKOTEN - Lean in agriculture might s...  \n",
       "12  Thomson Reuters Google's cloud service may wan...  "
      ]
     },
     "execution_count": 134,
     "metadata": {},
     "output_type": "execute_result"
    }
   ],
   "source": [
    "# Top 10 prediction on User Bases CF\n",
    "merged_user_based.head(10)"
   ]
  },
  {
   "cell_type": "markdown",
   "metadata": {},
   "source": [
    "### Normalized the Score:"
   ]
  },
  {
   "cell_type": "code",
   "execution_count": 135,
   "metadata": {},
   "outputs": [],
   "source": [
    "# pefrom min max normalization\n",
    "merged_user_based[\"normalized_score\"] = (merged_user_based[\"score\"] - merged_user_based[\"score\"].min())/(merged_user_based[\"score\"].max()- merged_user_based[\"score\"].min())"
   ]
  },
  {
   "cell_type": "code",
   "execution_count": 136,
   "metadata": {
    "scrolled": false
   },
   "outputs": [
    {
     "data": {
      "text/html": [
       "<div>\n",
       "<style scoped>\n",
       "    .dataframe tbody tr th:only-of-type {\n",
       "        vertical-align: middle;\n",
       "    }\n",
       "\n",
       "    .dataframe tbody tr th {\n",
       "        vertical-align: top;\n",
       "    }\n",
       "\n",
       "    .dataframe thead th {\n",
       "        text-align: right;\n",
       "    }\n",
       "</style>\n",
       "<table border=\"1\" class=\"dataframe\">\n",
       "  <thead>\n",
       "    <tr style=\"text-align: right;\">\n",
       "      <th></th>\n",
       "      <th>item_index</th>\n",
       "      <th>score</th>\n",
       "      <th>title</th>\n",
       "      <th>text_description</th>\n",
       "      <th>normalized_score</th>\n",
       "    </tr>\n",
       "  </thead>\n",
       "  <tbody>\n",
       "    <tr>\n",
       "      <th>2</th>\n",
       "      <td>1976</td>\n",
       "      <td>4.258427</td>\n",
       "      <td>Linux at 25: Q&amp;A With Linus Torvalds</td>\n",
       "      <td>Photo: Ian White/Corbis Linus Torvalds created...</td>\n",
       "      <td>1.000000</td>\n",
       "    </tr>\n",
       "    <tr>\n",
       "      <th>4</th>\n",
       "      <td>2070</td>\n",
       "      <td>3.190483</td>\n",
       "      <td>Top 5 open source command shells for Linux</td>\n",
       "      <td>There are two kinds of Linux users: the cautio...</td>\n",
       "      <td>0.749216</td>\n",
       "    </tr>\n",
       "    <tr>\n",
       "      <th>5</th>\n",
       "      <td>416</td>\n",
       "      <td>3.178863</td>\n",
       "      <td>Inbox by Gmail: a better way to keep track of ...</td>\n",
       "      <td>Life can get really busy. Inboxes too. Just th...</td>\n",
       "      <td>0.746488</td>\n",
       "    </tr>\n",
       "    <tr>\n",
       "      <th>6</th>\n",
       "      <td>1714</td>\n",
       "      <td>3.011950</td>\n",
       "      <td>Meet Parsey's Cousins: Syntax for 40 languages...</td>\n",
       "      <td>Just in time for ACL 2016 , we are pleased to ...</td>\n",
       "      <td>0.707292</td>\n",
       "    </tr>\n",
       "    <tr>\n",
       "      <th>7</th>\n",
       "      <td>1848</td>\n",
       "      <td>2.937371</td>\n",
       "      <td>3 Big Blockchain Ideas MIT is Working on Right...</td>\n",
       "      <td>When one of the world's most prestigious unive...</td>\n",
       "      <td>0.689778</td>\n",
       "    </tr>\n",
       "    <tr>\n",
       "      <th>8</th>\n",
       "      <td>508</td>\n",
       "      <td>2.905792</td>\n",
       "      <td>Globant Recognized as a Worldwide Leader of Di...</td>\n",
       "      <td>SAN FRANCISCO, June 14, 2016 /PRNewswire/ -- G...</td>\n",
       "      <td>0.682363</td>\n",
       "    </tr>\n",
       "    <tr>\n",
       "      <th>9</th>\n",
       "      <td>1479</td>\n",
       "      <td>2.856870</td>\n",
       "      <td>How will bots make money? Here are 7 business ...</td>\n",
       "      <td>Another bot (hot damn) Called a police and a f...</td>\n",
       "      <td>0.670875</td>\n",
       "    </tr>\n",
       "    <tr>\n",
       "      <th>10</th>\n",
       "      <td>846</td>\n",
       "      <td>2.765620</td>\n",
       "      <td>The 24 best restaurants in New York City</td>\n",
       "      <td>Yelp/Daniel With so many restaurants to choose...</td>\n",
       "      <td>0.649446</td>\n",
       "    </tr>\n",
       "    <tr>\n",
       "      <th>11</th>\n",
       "      <td>1595</td>\n",
       "      <td>2.740285</td>\n",
       "      <td>The future of agriculture - Jim Womack visits ...</td>\n",
       "      <td>WOMACK'S YOKOTEN - Lean in agriculture might s...</td>\n",
       "      <td>0.643497</td>\n",
       "    </tr>\n",
       "    <tr>\n",
       "      <th>12</th>\n",
       "      <td>542</td>\n",
       "      <td>2.728393</td>\n",
       "      <td>Google lags behind Amazon and Microsoft's clou...</td>\n",
       "      <td>Thomson Reuters Google's cloud service may wan...</td>\n",
       "      <td>0.640705</td>\n",
       "    </tr>\n",
       "  </tbody>\n",
       "</table>\n",
       "</div>"
      ],
      "text/plain": [
       "    item_index     score                                              title  \\\n",
       "2         1976  4.258427               Linux at 25: Q&A With Linus Torvalds   \n",
       "4         2070  3.190483         Top 5 open source command shells for Linux   \n",
       "5          416  3.178863  Inbox by Gmail: a better way to keep track of ...   \n",
       "6         1714  3.011950  Meet Parsey's Cousins: Syntax for 40 languages...   \n",
       "7         1848  2.937371  3 Big Blockchain Ideas MIT is Working on Right...   \n",
       "8          508  2.905792  Globant Recognized as a Worldwide Leader of Di...   \n",
       "9         1479  2.856870  How will bots make money? Here are 7 business ...   \n",
       "10         846  2.765620           The 24 best restaurants in New York City   \n",
       "11        1595  2.740285  The future of agriculture - Jim Womack visits ...   \n",
       "12         542  2.728393  Google lags behind Amazon and Microsoft's clou...   \n",
       "\n",
       "                                     text_description  normalized_score  \n",
       "2   Photo: Ian White/Corbis Linus Torvalds created...          1.000000  \n",
       "4   There are two kinds of Linux users: the cautio...          0.749216  \n",
       "5   Life can get really busy. Inboxes too. Just th...          0.746488  \n",
       "6   Just in time for ACL 2016 , we are pleased to ...          0.707292  \n",
       "7   When one of the world's most prestigious unive...          0.689778  \n",
       "8   SAN FRANCISCO, June 14, 2016 /PRNewswire/ -- G...          0.682363  \n",
       "9   Another bot (hot damn) Called a police and a f...          0.670875  \n",
       "10  Yelp/Daniel With so many restaurants to choose...          0.649446  \n",
       "11  WOMACK'S YOKOTEN - Lean in agriculture might s...          0.643497  \n",
       "12  Thomson Reuters Google's cloud service may wan...          0.640705  "
      ]
     },
     "execution_count": 136,
     "metadata": {},
     "output_type": "execute_result"
    }
   ],
   "source": [
    "merged_user_based.head(10)"
   ]
  },
  {
   "cell_type": "markdown",
   "metadata": {},
   "source": [
    "### Performance Evaluation on User based Collabortive Filtering:\n",
    "-  MAE\n",
    "- RMSE"
   ]
  },
  {
   "cell_type": "code",
   "execution_count": 137,
   "metadata": {},
   "outputs": [],
   "source": [
    "from sklearn.metrics import mean_squared_error,mean_absolute_error,accuracy_score\n",
    "from math import sqrt"
   ]
  },
  {
   "cell_type": "markdown",
   "metadata": {},
   "source": [
    "- __if we need to compare all ratings data for evaluation:\n",
    "then the evaluation metrics should be RMSE or MAE.__\n",
    "- __else in case of Top N rankings data:\n",
    "we need  Precision@K, MAP@K etc for evaluation.__"
   ]
  },
  {
   "cell_type": "markdown",
   "metadata": {},
   "source": [
    "### Mean Absolute Error(MAE):"
   ]
  },
  {
   "cell_type": "code",
   "execution_count": 138,
   "metadata": {},
   "outputs": [],
   "source": [
    "# MAE is the absolute difference between the actual and predicted values\n",
    "# divided by the total number of observations.\n",
    "\n",
    "# define an function mae which takes the predicted data and actual data(groundtruth)\n",
    "def mae(prediction,ground_truth):\n",
    "    prediction = prediction[ground_truth.nonzero()]\n",
    "    ground_truth = ground_truth[ground_truth.nonzero()]\n",
    "    return mean_absolute_error(prediction,ground_truth)"
   ]
  },
  {
   "cell_type": "code",
   "execution_count": 139,
   "metadata": {},
   "outputs": [
    {
     "data": {
      "text/plain": [
       "1.2301490167425138"
      ]
     },
     "execution_count": 139,
     "metadata": {},
     "output_type": "execute_result"
    }
   ],
   "source": [
    "# call the function mae\n",
    "mae(item_prediction,data_matrix_test)"
   ]
  },
  {
   "cell_type": "markdown",
   "metadata": {},
   "source": [
    "### Root mean squared error(RMSE)"
   ]
  },
  {
   "cell_type": "code",
   "execution_count": 140,
   "metadata": {},
   "outputs": [],
   "source": [
    "# output (a predicted scalar value) is compared with the true scalar value output for a given data point\n",
    "\n",
    "#define rmse function which takes the predicted data and actual data(groundtruth)\n",
    "def rmse(prediction,ground_truth):\n",
    "    prediction = prediction[ground_truth.nonzero()]\n",
    "    ground_truth = ground_truth[ground_truth.nonzero()]\n",
    "    return sqrt(mean_squared_error(prediction,ground_truth))"
   ]
  },
  {
   "cell_type": "code",
   "execution_count": 141,
   "metadata": {
    "scrolled": true
   },
   "outputs": [
    {
     "data": {
      "text/plain": [
       "1.9074554632780087"
      ]
     },
     "execution_count": 141,
     "metadata": {},
     "output_type": "execute_result"
    }
   ],
   "source": [
    "rmse(item_prediction,data_matrix_test)"
   ]
  },
  {
   "cell_type": "markdown",
   "metadata": {},
   "source": [
    "- __we can not always rely on offline evaluation like above.__\n",
    "- __We have to check online evaluation aswell like human level performance on the recommendation eveluation.__"
   ]
  },
  {
   "cell_type": "markdown",
   "metadata": {},
   "source": [
    "##  Model-Based CF\n",
    "\n",
    "- Model-based collaborative filtering algorithms provide item recommendations by first developing a model of user ratings.  - The recommendations can be made using the deterministic algorithms like ALS.\n",
    "- ALS is Alternating Least Squares\n"
   ]
  },
  {
   "cell_type": "markdown",
   "metadata": {},
   "source": [
    "## Alternating Least Squares(ALS)"
   ]
  },
  {
   "cell_type": "markdown",
   "metadata": {},
   "source": [
    "### Create Sparse User-Item Matrix\n",
    "- __will create a compressed sparse row matrix for user-item and item-user combinations.__ \n",
    "- __This helps in extracting only the non-zero user-items combinations interacted by the user.__"
   ]
  },
  {
   "cell_type": "code",
   "execution_count": 142,
   "metadata": {},
   "outputs": [],
   "source": [
    "from scipy.sparse import csr_matrix"
   ]
  },
  {
   "cell_type": "code",
   "execution_count": 143,
   "metadata": {},
   "outputs": [],
   "source": [
    "alpha=40 # assign an random value \n"
   ]
  },
  {
   "cell_type": "code",
   "execution_count": 144,
   "metadata": {},
   "outputs": [
    {
     "data": {
      "text/html": [
       "<div>\n",
       "<style scoped>\n",
       "    .dataframe tbody tr th:only-of-type {\n",
       "        vertical-align: middle;\n",
       "    }\n",
       "\n",
       "    .dataframe tbody tr th {\n",
       "        vertical-align: top;\n",
       "    }\n",
       "\n",
       "    .dataframe thead th {\n",
       "        text-align: right;\n",
       "    }\n",
       "</style>\n",
       "<table border=\"1\" class=\"dataframe\">\n",
       "  <thead>\n",
       "    <tr style=\"text-align: right;\">\n",
       "      <th></th>\n",
       "      <th>consumer_index</th>\n",
       "      <th>item_index</th>\n",
       "      <th>ratings</th>\n",
       "    </tr>\n",
       "  </thead>\n",
       "  <tbody>\n",
       "    <tr>\n",
       "      <th>0</th>\n",
       "      <td>33</td>\n",
       "      <td>933</td>\n",
       "      <td>1</td>\n",
       "    </tr>\n",
       "    <tr>\n",
       "      <th>1</th>\n",
       "      <td>831</td>\n",
       "      <td>2933</td>\n",
       "      <td>1</td>\n",
       "    </tr>\n",
       "    <tr>\n",
       "      <th>2</th>\n",
       "      <td>826</td>\n",
       "      <td>1537</td>\n",
       "      <td>1</td>\n",
       "    </tr>\n",
       "    <tr>\n",
       "      <th>3</th>\n",
       "      <td>974</td>\n",
       "      <td>1537</td>\n",
       "      <td>5</td>\n",
       "    </tr>\n",
       "    <tr>\n",
       "      <th>4</th>\n",
       "      <td>887</td>\n",
       "      <td>246</td>\n",
       "      <td>1</td>\n",
       "    </tr>\n",
       "  </tbody>\n",
       "</table>\n",
       "</div>"
      ],
      "text/plain": [
       "   consumer_index  item_index  ratings\n",
       "0              33         933        1\n",
       "1             831        2933        1\n",
       "2             826        1537        1\n",
       "3             974        1537        5\n",
       "4             887         246        1"
      ]
     },
     "execution_count": 144,
     "metadata": {},
     "output_type": "execute_result"
    }
   ],
   "source": [
    "clean_consumer.head()"
   ]
  },
  {
   "cell_type": "code",
   "execution_count": 145,
   "metadata": {},
   "outputs": [
    {
     "data": {
      "text/plain": [
       "72312"
      ]
     },
     "execution_count": 145,
     "metadata": {},
     "output_type": "execute_result"
    }
   ],
   "source": [
    "clean_consumer.shape[0]"
   ]
  },
  {
   "cell_type": "code",
   "execution_count": 146,
   "metadata": {},
   "outputs": [
    {
     "data": {
      "text/plain": [
       "(72312, 3)"
      ]
     },
     "execution_count": 146,
     "metadata": {},
     "output_type": "execute_result"
    }
   ],
   "source": [
    "clean_consumer.shape"
   ]
  },
  {
   "cell_type": "code",
   "execution_count": 147,
   "metadata": {
    "scrolled": true
   },
   "outputs": [
    {
     "data": {
      "text/html": [
       "<div>\n",
       "<style scoped>\n",
       "    .dataframe tbody tr th:only-of-type {\n",
       "        vertical-align: middle;\n",
       "    }\n",
       "\n",
       "    .dataframe tbody tr th {\n",
       "        vertical-align: top;\n",
       "    }\n",
       "\n",
       "    .dataframe thead th {\n",
       "        text-align: right;\n",
       "    }\n",
       "</style>\n",
       "<table border=\"1\" class=\"dataframe\">\n",
       "  <thead>\n",
       "    <tr style=\"text-align: right;\">\n",
       "      <th></th>\n",
       "      <th>consumer_index</th>\n",
       "      <th>item_index</th>\n",
       "      <th>ratings</th>\n",
       "    </tr>\n",
       "  </thead>\n",
       "  <tbody>\n",
       "    <tr>\n",
       "      <th>count</th>\n",
       "      <td>72312.000000</td>\n",
       "      <td>72312.000000</td>\n",
       "      <td>72312.000000</td>\n",
       "    </tr>\n",
       "    <tr>\n",
       "      <th>mean</th>\n",
       "      <td>945.367491</td>\n",
       "      <td>1485.004508</td>\n",
       "      <td>1.292234</td>\n",
       "    </tr>\n",
       "    <tr>\n",
       "      <th>std</th>\n",
       "      <td>514.935478</td>\n",
       "      <td>856.146451</td>\n",
       "      <td>0.801325</td>\n",
       "    </tr>\n",
       "    <tr>\n",
       "      <th>min</th>\n",
       "      <td>0.000000</td>\n",
       "      <td>0.000000</td>\n",
       "      <td>1.000000</td>\n",
       "    </tr>\n",
       "    <tr>\n",
       "      <th>25%</th>\n",
       "      <td>588.000000</td>\n",
       "      <td>740.000000</td>\n",
       "      <td>1.000000</td>\n",
       "    </tr>\n",
       "    <tr>\n",
       "      <th>50%</th>\n",
       "      <td>926.000000</td>\n",
       "      <td>1491.000000</td>\n",
       "      <td>1.000000</td>\n",
       "    </tr>\n",
       "    <tr>\n",
       "      <th>75%</th>\n",
       "      <td>1338.250000</td>\n",
       "      <td>2194.000000</td>\n",
       "      <td>1.000000</td>\n",
       "    </tr>\n",
       "    <tr>\n",
       "      <th>max</th>\n",
       "      <td>1894.000000</td>\n",
       "      <td>2986.000000</td>\n",
       "      <td>5.000000</td>\n",
       "    </tr>\n",
       "  </tbody>\n",
       "</table>\n",
       "</div>"
      ],
      "text/plain": [
       "       consumer_index    item_index       ratings\n",
       "count    72312.000000  72312.000000  72312.000000\n",
       "mean       945.367491   1485.004508      1.292234\n",
       "std        514.935478    856.146451      0.801325\n",
       "min          0.000000      0.000000      1.000000\n",
       "25%        588.000000    740.000000      1.000000\n",
       "50%        926.000000   1491.000000      1.000000\n",
       "75%       1338.250000   2194.000000      1.000000\n",
       "max       1894.000000   2986.000000      5.000000"
      ]
     },
     "execution_count": 147,
     "metadata": {},
     "output_type": "execute_result"
    }
   ],
   "source": [
    "clean_consumer.describe()\n"
   ]
  },
  {
   "cell_type": "markdown",
   "metadata": {},
   "source": [
    "#### create a compressed sparse row matrix for user-item"
   ]
  },
  {
   "cell_type": "code",
   "execution_count": 148,
   "metadata": {},
   "outputs": [],
   "source": [
    "sparse_user_item = csr_matrix( ([alpha]*clean_consumer.shape[0], (clean_consumer['consumer_index'], clean_consumer['item_index']) ))"
   ]
  },
  {
   "cell_type": "code",
   "execution_count": 149,
   "metadata": {},
   "outputs": [
    {
     "data": {
      "text/plain": [
       "<1895x2987 sparse matrix of type '<class 'numpy.intc'>'\n",
       "\twith 40710 stored elements in Compressed Sparse Row format>"
      ]
     },
     "execution_count": 149,
     "metadata": {},
     "output_type": "execute_result"
    }
   ],
   "source": [
    "sparse_user_item # display"
   ]
  },
  {
   "cell_type": "code",
   "execution_count": 150,
   "metadata": {},
   "outputs": [
    {
     "data": {
      "text/plain": [
       "(1895, 2987)"
      ]
     },
     "execution_count": 150,
     "metadata": {},
     "output_type": "execute_result"
    }
   ],
   "source": [
    "sparse_user_item.shape # Check the shape (Users,items)"
   ]
  },
  {
   "cell_type": "code",
   "execution_count": 151,
   "metadata": {},
   "outputs": [],
   "source": [
    "csr_user_array = sparse_user_item.toarray() # convert to numpy array"
   ]
  },
  {
   "cell_type": "code",
   "execution_count": 152,
   "metadata": {
    "scrolled": true
   },
   "outputs": [
    {
     "data": {
      "text/plain": [
       "array([[ 0,  0,  0, ...,  0,  0,  0],\n",
       "       [ 0,  0,  0, ...,  0,  0,  0],\n",
       "       [ 0, 80,  0, ...,  0,  0,  0],\n",
       "       ...,\n",
       "       [ 0,  0,  0, ...,  0,  0,  0],\n",
       "       [ 0,  0,  0, ...,  0,  0,  0],\n",
       "       [ 0,  0,  0, ...,  0,  0,  0]], dtype=int32)"
      ]
     },
     "execution_count": 152,
     "metadata": {},
     "output_type": "execute_result"
    }
   ],
   "source": [
    "csr_user_array"
   ]
  },
  {
   "cell_type": "code",
   "execution_count": 153,
   "metadata": {
    "scrolled": true
   },
   "outputs": [
    {
     "data": {
      "text/plain": [
       "(1895, 2987)"
      ]
     },
     "execution_count": 153,
     "metadata": {},
     "output_type": "execute_result"
    }
   ],
   "source": [
    "csr_user_array.shape"
   ]
  },
  {
   "cell_type": "code",
   "execution_count": 154,
   "metadata": {
    "scrolled": false
   },
   "outputs": [
    {
     "name": "stdout",
     "output_type": "stream",
     "text": [
      "  (0, 65)\t40\n",
      "  (0, 160)\t40\n",
      "  (0, 188)\t40\n",
      "  (0, 196)\t40\n",
      "  (0, 314)\t320\n",
      "  (0, 328)\t40\n",
      "  (0, 386)\t40\n",
      "  (0, 417)\t40\n",
      "  (0, 443)\t40\n",
      "  (0, 451)\t80\n",
      "  (0, 453)\t80\n",
      "  (0, 465)\t40\n",
      "  (0, 570)\t40\n",
      "  (0, 702)\t80\n",
      "  (0, 769)\t40\n",
      "  (0, 813)\t40\n",
      "  (0, 819)\t80\n",
      "  (0, 864)\t40\n",
      "  (0, 890)\t40\n",
      "  (0, 1087)\t80\n",
      "  (0, 1358)\t40\n",
      "  (0, 1390)\t80\n",
      "  (0, 1411)\t120\n",
      "  (0, 1618)\t40\n",
      "  (0, 1632)\t40\n",
      "  :\t:\n",
      "  (1894, 1977)\t160\n",
      "  (1894, 2023)\t40\n",
      "  (1894, 2027)\t40\n",
      "  (1894, 2071)\t640\n",
      "  (1894, 2080)\t80\n",
      "  (1894, 2190)\t40\n",
      "  (1894, 2253)\t80\n",
      "  (1894, 2334)\t40\n",
      "  (1894, 2349)\t40\n",
      "  (1894, 2451)\t40\n",
      "  (1894, 2470)\t40\n",
      "  (1894, 2538)\t80\n",
      "  (1894, 2608)\t40\n",
      "  (1894, 2676)\t80\n",
      "  (1894, 2696)\t120\n",
      "  (1894, 2719)\t40\n",
      "  (1894, 2772)\t80\n",
      "  (1894, 2809)\t40\n",
      "  (1894, 2814)\t80\n",
      "  (1894, 2845)\t40\n",
      "  (1894, 2861)\t160\n",
      "  (1894, 2867)\t40\n",
      "  (1894, 2922)\t40\n",
      "  (1894, 2925)\t40\n",
      "  (1894, 2981)\t40\n"
     ]
    }
   ],
   "source": [
    "print(sparse_user_item)"
   ]
  },
  {
   "cell_type": "markdown",
   "metadata": {},
   "source": [
    "### Create Item User Sparse Matrix"
   ]
  },
  {
   "cell_type": "code",
   "execution_count": 155,
   "metadata": {},
   "outputs": [],
   "source": [
    "sparse_item_user = sparse_user_item.T.tocsr() # take a traspose to convert user_item to item_user"
   ]
  },
  {
   "cell_type": "code",
   "execution_count": 156,
   "metadata": {
    "scrolled": true
   },
   "outputs": [
    {
     "data": {
      "text/plain": [
       "<2987x1895 sparse matrix of type '<class 'numpy.intc'>'\n",
       "\twith 40710 stored elements in Compressed Sparse Row format>"
      ]
     },
     "execution_count": 156,
     "metadata": {},
     "output_type": "execute_result"
    }
   ],
   "source": [
    "sparse_item_user"
   ]
  },
  {
   "cell_type": "code",
   "execution_count": 157,
   "metadata": {},
   "outputs": [
    {
     "data": {
      "text/plain": [
       "(2987, 1895)"
      ]
     },
     "execution_count": 157,
     "metadata": {},
     "output_type": "execute_result"
    }
   ],
   "source": [
    "csr_item_array = sparse_item_user.toarray()\n",
    "csr_item_array.shape"
   ]
  },
  {
   "cell_type": "code",
   "execution_count": 158,
   "metadata": {},
   "outputs": [],
   "source": [
    "# !pip install implicit"
   ]
  },
  {
   "cell_type": "code",
   "execution_count": 159,
   "metadata": {},
   "outputs": [],
   "source": [
    "import implicit\n",
    "from implicit.evaluation import train_test_split"
   ]
  },
  {
   "cell_type": "markdown",
   "metadata": {},
   "source": [
    "### Train Test split of sparse_item_user matrix"
   ]
  },
  {
   "cell_type": "code",
   "execution_count": 160,
   "metadata": {},
   "outputs": [],
   "source": [
    "# divided the dataset using the train-test split\n",
    "train_als, test_als = train_test_split(sparse_item_user, train_percentage=0.8)"
   ]
  },
  {
   "cell_type": "code",
   "execution_count": 161,
   "metadata": {
    "scrolled": true
   },
   "outputs": [
    {
     "data": {
      "text/plain": [
       "<2987x1895 sparse matrix of type '<class 'numpy.intc'>'\n",
       "\twith 32392 stored elements in Compressed Sparse Row format>"
      ]
     },
     "execution_count": 161,
     "metadata": {},
     "output_type": "execute_result"
    }
   ],
   "source": [
    "train_als"
   ]
  },
  {
   "cell_type": "code",
   "execution_count": 162,
   "metadata": {
    "scrolled": true
   },
   "outputs": [
    {
     "data": {
      "text/plain": [
       "<2987x1895 sparse matrix of type '<class 'numpy.intc'>'\n",
       "\twith 8318 stored elements in Compressed Sparse Row format>"
      ]
     },
     "execution_count": 162,
     "metadata": {},
     "output_type": "execute_result"
    }
   ],
   "source": [
    "test_als"
   ]
  },
  {
   "cell_type": "markdown",
   "metadata": {},
   "source": [
    "### Building ALS Model\n",
    "\n",
    "#### Hyperparameters:\n",
    "- __Factors - Length of feature factor.__\n",
    "- __Regularization Parameter -  to control overfitting.__\n",
    "- __iterations -  No of iterations to build  a final model.__\n",
    "- __calculate_training_loss -  Calculate training loss for each itertions.__"
   ]
  },
  {
   "cell_type": "code",
   "execution_count": 163,
   "metadata": {},
   "outputs": [
    {
     "name": "stderr",
     "output_type": "stream",
     "text": [
      "WARNING:root:OpenBLAS detected. Its highly recommend to set the environment variable 'export OPENBLAS_NUM_THREADS=1' to disable its internal multithreading\n"
     ]
    }
   ],
   "source": [
    "# Build the ALS Model\n",
    "model = implicit.als.AlternatingLeastSquares(factors=100, regularization=0.1, iterations=20,calculate_training_loss=False)\n"
   ]
  },
  {
   "cell_type": "code",
   "execution_count": 164,
   "metadata": {},
   "outputs": [
    {
     "data": {
      "text/plain": [
       "<implicit.cpu.als.AlternatingLeastSquares at 0x218116f4fc8>"
      ]
     },
     "execution_count": 164,
     "metadata": {},
     "output_type": "execute_result"
    }
   ],
   "source": [
    "model"
   ]
  },
  {
   "cell_type": "code",
   "execution_count": 165,
   "metadata": {
    "scrolled": true
   },
   "outputs": [
    {
     "data": {
      "application/vnd.jupyter.widget-view+json": {
       "model_id": "e2cfde41216043ef9306017e537853d2",
       "version_major": 2,
       "version_minor": 0
      },
      "text/plain": [
       "  0%|          | 0/20 [00:00<?, ?it/s]"
      ]
     },
     "metadata": {},
     "output_type": "display_data"
    }
   ],
   "source": [
    "# Train the model with training data\n",
    "model.fit(train_als)"
   ]
  },
  {
   "cell_type": "code",
   "execution_count": 166,
   "metadata": {},
   "outputs": [],
   "source": [
    "# Get an random Consumer Index \n",
    "user_id = 623"
   ]
  },
  {
   "cell_type": "code",
   "execution_count": 167,
   "metadata": {
    "scrolled": true
   },
   "outputs": [
    {
     "data": {
      "text/plain": [
       "[(754, 0.7036911),\n",
       " (826, 0.6339026),\n",
       " (55, 0.58492434),\n",
       " (2875, 0.5835147),\n",
       " (1211, 0.56666493),\n",
       " (1268, 0.55584395),\n",
       " (664, 0.55260885),\n",
       " (2638, 0.5383167),\n",
       " (609, 0.53708607),\n",
       " (2412, 0.5328288)]"
      ]
     },
     "execution_count": 167,
     "metadata": {},
     "output_type": "execute_result"
    }
   ],
   "source": [
    "# Recommend the News Items for Consumer Index\n",
    "# Default it gives 10 recomendation\n",
    "\n",
    "model.recommend(user_id,sparse_user_item)"
   ]
  },
  {
   "cell_type": "code",
   "execution_count": 168,
   "metadata": {
    "scrolled": true
   },
   "outputs": [
    {
     "data": {
      "text/plain": [
       "[(754, 0.7036911),\n",
       " (826, 0.6339026),\n",
       " (55, 0.58492434),\n",
       " (2875, 0.5835147),\n",
       " (1211, 0.56666493),\n",
       " (1268, 0.55584395),\n",
       " (664, 0.55260885),\n",
       " (2638, 0.5383167),\n",
       " (609, 0.53708607),\n",
       " (2412, 0.5328288),\n",
       " (535, 0.52361864),\n",
       " (2440, 0.51160467),\n",
       " (1055, 0.5070273),\n",
       " (700, 0.5010472),\n",
       " (950, 0.48987892),\n",
       " (1887, 0.47482514),\n",
       " (2013, 0.47394753),\n",
       " (454, 0.46984607),\n",
       " (2272, 0.46851504),\n",
       " (420, 0.456509),\n",
       " (584, 0.45318687),\n",
       " (745, 0.43116957),\n",
       " (856, 0.4116362),\n",
       " (282, 0.40733135),\n",
       " (185, 0.39929762),\n",
       " (583, 0.39908725),\n",
       " (2688, 0.39757288),\n",
       " (2330, 0.38947108),\n",
       " (2109, 0.38394642),\n",
       " (1653, 0.38166118)]"
      ]
     },
     "execution_count": 168,
     "metadata": {},
     "output_type": "execute_result"
    }
   ],
   "source": [
    " # N is the no of recommendation we want\n",
    "    \n",
    "model.recommend(user_id,sparse_user_item,N=30)"
   ]
  },
  {
   "cell_type": "code",
   "execution_count": 169,
   "metadata": {},
   "outputs": [],
   "source": [
    "# predict the items  with als score \n",
    "output_als = model.recommend(user_id,sparse_user_item)"
   ]
  },
  {
   "cell_type": "code",
   "execution_count": 170,
   "metadata": {},
   "outputs": [],
   "source": [
    "# Create a DataFrame of output_als\n",
    "output_df = pd.DataFrame(output_als,columns=[\"item_index\",\"als_score\"])"
   ]
  },
  {
   "cell_type": "code",
   "execution_count": 171,
   "metadata": {
    "scrolled": true
   },
   "outputs": [
    {
     "data": {
      "text/html": [
       "<div>\n",
       "<style scoped>\n",
       "    .dataframe tbody tr th:only-of-type {\n",
       "        vertical-align: middle;\n",
       "    }\n",
       "\n",
       "    .dataframe tbody tr th {\n",
       "        vertical-align: top;\n",
       "    }\n",
       "\n",
       "    .dataframe thead th {\n",
       "        text-align: right;\n",
       "    }\n",
       "</style>\n",
       "<table border=\"1\" class=\"dataframe\">\n",
       "  <thead>\n",
       "    <tr style=\"text-align: right;\">\n",
       "      <th></th>\n",
       "      <th>item_index</th>\n",
       "      <th>als_score</th>\n",
       "    </tr>\n",
       "  </thead>\n",
       "  <tbody>\n",
       "    <tr>\n",
       "      <th>0</th>\n",
       "      <td>754</td>\n",
       "      <td>0.703691</td>\n",
       "    </tr>\n",
       "    <tr>\n",
       "      <th>1</th>\n",
       "      <td>826</td>\n",
       "      <td>0.633903</td>\n",
       "    </tr>\n",
       "    <tr>\n",
       "      <th>2</th>\n",
       "      <td>55</td>\n",
       "      <td>0.584924</td>\n",
       "    </tr>\n",
       "    <tr>\n",
       "      <th>3</th>\n",
       "      <td>2875</td>\n",
       "      <td>0.583515</td>\n",
       "    </tr>\n",
       "    <tr>\n",
       "      <th>4</th>\n",
       "      <td>1211</td>\n",
       "      <td>0.566665</td>\n",
       "    </tr>\n",
       "    <tr>\n",
       "      <th>5</th>\n",
       "      <td>1268</td>\n",
       "      <td>0.555844</td>\n",
       "    </tr>\n",
       "    <tr>\n",
       "      <th>6</th>\n",
       "      <td>664</td>\n",
       "      <td>0.552609</td>\n",
       "    </tr>\n",
       "    <tr>\n",
       "      <th>7</th>\n",
       "      <td>2638</td>\n",
       "      <td>0.538317</td>\n",
       "    </tr>\n",
       "    <tr>\n",
       "      <th>8</th>\n",
       "      <td>609</td>\n",
       "      <td>0.537086</td>\n",
       "    </tr>\n",
       "    <tr>\n",
       "      <th>9</th>\n",
       "      <td>2412</td>\n",
       "      <td>0.532829</td>\n",
       "    </tr>\n",
       "  </tbody>\n",
       "</table>\n",
       "</div>"
      ],
      "text/plain": [
       "   item_index  als_score\n",
       "0         754   0.703691\n",
       "1         826   0.633903\n",
       "2          55   0.584924\n",
       "3        2875   0.583515\n",
       "4        1211   0.566665\n",
       "5        1268   0.555844\n",
       "6         664   0.552609\n",
       "7        2638   0.538317\n",
       "8         609   0.537086\n",
       "9        2412   0.532829"
      ]
     },
     "execution_count": 171,
     "metadata": {},
     "output_type": "execute_result"
    }
   ],
   "source": [
    "output_df # check the dataframe"
   ]
  },
  {
   "cell_type": "markdown",
   "metadata": {},
   "source": [
    "### Get the \"title\" of predicted item index from content table for ease of understanding "
   ]
  },
  {
   "cell_type": "code",
   "execution_count": 172,
   "metadata": {
    "scrolled": false
   },
   "outputs": [
    {
     "data": {
      "text/html": [
       "<div>\n",
       "<style scoped>\n",
       "    .dataframe tbody tr th:only-of-type {\n",
       "        vertical-align: middle;\n",
       "    }\n",
       "\n",
       "    .dataframe tbody tr th {\n",
       "        vertical-align: top;\n",
       "    }\n",
       "\n",
       "    .dataframe thead th {\n",
       "        text-align: right;\n",
       "    }\n",
       "</style>\n",
       "<table border=\"1\" class=\"dataframe\">\n",
       "  <thead>\n",
       "    <tr style=\"text-align: right;\">\n",
       "      <th></th>\n",
       "      <th>item_index</th>\n",
       "      <th>als_score</th>\n",
       "      <th>title</th>\n",
       "    </tr>\n",
       "  </thead>\n",
       "  <tbody>\n",
       "    <tr>\n",
       "      <th>0</th>\n",
       "      <td>754</td>\n",
       "      <td>0.703691</td>\n",
       "      <td>The Secret History of Agile Innovation</td>\n",
       "    </tr>\n",
       "    <tr>\n",
       "      <th>1</th>\n",
       "      <td>754</td>\n",
       "      <td>0.703691</td>\n",
       "      <td>The Secret History of Agile Innovation</td>\n",
       "    </tr>\n",
       "    <tr>\n",
       "      <th>2</th>\n",
       "      <td>754</td>\n",
       "      <td>0.703691</td>\n",
       "      <td>The Secret History of Agile Innovation</td>\n",
       "    </tr>\n",
       "    <tr>\n",
       "      <th>3</th>\n",
       "      <td>826</td>\n",
       "      <td>0.633903</td>\n",
       "      <td>Announcing the Acquia Engage Awards</td>\n",
       "    </tr>\n",
       "    <tr>\n",
       "      <th>4</th>\n",
       "      <td>55</td>\n",
       "      <td>0.584924</td>\n",
       "      <td>How HTTP/2 is Changing Web Performance Best Pr...</td>\n",
       "    </tr>\n",
       "    <tr>\n",
       "      <th>5</th>\n",
       "      <td>1211</td>\n",
       "      <td>0.566665</td>\n",
       "      <td>Google Calendar for Android can now find meeti...</td>\n",
       "    </tr>\n",
       "    <tr>\n",
       "      <th>6</th>\n",
       "      <td>1268</td>\n",
       "      <td>0.555844</td>\n",
       "      <td>New Amazon Linux Container Image for Cloud and...</td>\n",
       "    </tr>\n",
       "    <tr>\n",
       "      <th>7</th>\n",
       "      <td>664</td>\n",
       "      <td>0.552609</td>\n",
       "      <td>Warcraft fans' fury at Blizzard over server cl...</td>\n",
       "    </tr>\n",
       "    <tr>\n",
       "      <th>8</th>\n",
       "      <td>609</td>\n",
       "      <td>0.537086</td>\n",
       "      <td>Google acquires deep search engine Kifi to enh...</td>\n",
       "    </tr>\n",
       "  </tbody>\n",
       "</table>\n",
       "</div>"
      ],
      "text/plain": [
       "   item_index  als_score                                              title\n",
       "0         754   0.703691             The Secret History of Agile Innovation\n",
       "1         754   0.703691             The Secret History of Agile Innovation\n",
       "2         754   0.703691             The Secret History of Agile Innovation\n",
       "3         826   0.633903                Announcing the Acquia Engage Awards\n",
       "4          55   0.584924  How HTTP/2 is Changing Web Performance Best Pr...\n",
       "5        1211   0.566665  Google Calendar for Android can now find meeti...\n",
       "6        1268   0.555844  New Amazon Linux Container Image for Cloud and...\n",
       "7         664   0.552609  Warcraft fans' fury at Blizzard over server cl...\n",
       "8         609   0.537086  Google acquires deep search engine Kifi to enh..."
      ]
     },
     "execution_count": 172,
     "metadata": {},
     "output_type": "execute_result"
    }
   ],
   "source": [
    "# get the filtered item index\n",
    "# predicted_title = english_content[english_content['item_index'].isin(output_df.item_index.values)][\"title\"].values\n",
    "merged_als = pd.merge(output_df,english_content,on=\"item_index\",how=\"left\")\n",
    "merged_als = merged_als[[\"item_index\",\"als_score\",\"title\"]].dropna().reset_index(drop=True)\n",
    "merged_als\n"
   ]
  },
  {
   "cell_type": "markdown",
   "metadata": {},
   "source": [
    "### Normalized the ALS Score"
   ]
  },
  {
   "cell_type": "code",
   "execution_count": 173,
   "metadata": {},
   "outputs": [],
   "source": [
    "# min max normalization \n",
    "merged_als[\"normalized_als_score\"] =  (merged_als[\"als_score\"] - merged_als[\"als_score\"].min())/(merged_als[\"als_score\"].max()- merged_als[\"als_score\"].min())"
   ]
  },
  {
   "cell_type": "markdown",
   "metadata": {},
   "source": [
    "### Top 10 Prediction for Consumer ID 623 via ALS based Recommendation"
   ]
  },
  {
   "cell_type": "code",
   "execution_count": 174,
   "metadata": {
    "scrolled": true
   },
   "outputs": [
    {
     "data": {
      "text/html": [
       "<div>\n",
       "<style scoped>\n",
       "    .dataframe tbody tr th:only-of-type {\n",
       "        vertical-align: middle;\n",
       "    }\n",
       "\n",
       "    .dataframe tbody tr th {\n",
       "        vertical-align: top;\n",
       "    }\n",
       "\n",
       "    .dataframe thead th {\n",
       "        text-align: right;\n",
       "    }\n",
       "</style>\n",
       "<table border=\"1\" class=\"dataframe\">\n",
       "  <thead>\n",
       "    <tr style=\"text-align: right;\">\n",
       "      <th></th>\n",
       "      <th>item_index</th>\n",
       "      <th>als_score</th>\n",
       "      <th>title</th>\n",
       "      <th>normalized_als_score</th>\n",
       "    </tr>\n",
       "  </thead>\n",
       "  <tbody>\n",
       "    <tr>\n",
       "      <th>0</th>\n",
       "      <td>754</td>\n",
       "      <td>0.703691</td>\n",
       "      <td>The Secret History of Agile Innovation</td>\n",
       "      <td>1.000000</td>\n",
       "    </tr>\n",
       "    <tr>\n",
       "      <th>1</th>\n",
       "      <td>754</td>\n",
       "      <td>0.703691</td>\n",
       "      <td>The Secret History of Agile Innovation</td>\n",
       "      <td>1.000000</td>\n",
       "    </tr>\n",
       "    <tr>\n",
       "      <th>2</th>\n",
       "      <td>754</td>\n",
       "      <td>0.703691</td>\n",
       "      <td>The Secret History of Agile Innovation</td>\n",
       "      <td>1.000000</td>\n",
       "    </tr>\n",
       "    <tr>\n",
       "      <th>3</th>\n",
       "      <td>826</td>\n",
       "      <td>0.633903</td>\n",
       "      <td>Announcing the Acquia Engage Awards</td>\n",
       "      <td>0.581114</td>\n",
       "    </tr>\n",
       "    <tr>\n",
       "      <th>4</th>\n",
       "      <td>55</td>\n",
       "      <td>0.584924</td>\n",
       "      <td>How HTTP/2 is Changing Web Performance Best Pr...</td>\n",
       "      <td>0.287136</td>\n",
       "    </tr>\n",
       "    <tr>\n",
       "      <th>5</th>\n",
       "      <td>1211</td>\n",
       "      <td>0.566665</td>\n",
       "      <td>Google Calendar for Android can now find meeti...</td>\n",
       "      <td>0.177539</td>\n",
       "    </tr>\n",
       "    <tr>\n",
       "      <th>6</th>\n",
       "      <td>1268</td>\n",
       "      <td>0.555844</td>\n",
       "      <td>New Amazon Linux Container Image for Cloud and...</td>\n",
       "      <td>0.112589</td>\n",
       "    </tr>\n",
       "    <tr>\n",
       "      <th>7</th>\n",
       "      <td>664</td>\n",
       "      <td>0.552609</td>\n",
       "      <td>Warcraft fans' fury at Blizzard over server cl...</td>\n",
       "      <td>0.093171</td>\n",
       "    </tr>\n",
       "    <tr>\n",
       "      <th>8</th>\n",
       "      <td>609</td>\n",
       "      <td>0.537086</td>\n",
       "      <td>Google acquires deep search engine Kifi to enh...</td>\n",
       "      <td>0.000000</td>\n",
       "    </tr>\n",
       "  </tbody>\n",
       "</table>\n",
       "</div>"
      ],
      "text/plain": [
       "   item_index  als_score                                              title  \\\n",
       "0         754   0.703691             The Secret History of Agile Innovation   \n",
       "1         754   0.703691             The Secret History of Agile Innovation   \n",
       "2         754   0.703691             The Secret History of Agile Innovation   \n",
       "3         826   0.633903                Announcing the Acquia Engage Awards   \n",
       "4          55   0.584924  How HTTP/2 is Changing Web Performance Best Pr...   \n",
       "5        1211   0.566665  Google Calendar for Android can now find meeti...   \n",
       "6        1268   0.555844  New Amazon Linux Container Image for Cloud and...   \n",
       "7         664   0.552609  Warcraft fans' fury at Blizzard over server cl...   \n",
       "8         609   0.537086  Google acquires deep search engine Kifi to enh...   \n",
       "\n",
       "   normalized_als_score  \n",
       "0              1.000000  \n",
       "1              1.000000  \n",
       "2              1.000000  \n",
       "3              0.581114  \n",
       "4              0.287136  \n",
       "5              0.177539  \n",
       "6              0.112589  \n",
       "7              0.093171  \n",
       "8              0.000000  "
      ]
     },
     "execution_count": 174,
     "metadata": {},
     "output_type": "execute_result"
    }
   ],
   "source": [
    "merged_als.head(10)"
   ]
  },
  {
   "cell_type": "markdown",
   "metadata": {},
   "source": [
    "### Top 10 Similar Users like Consumer ID 623"
   ]
  },
  {
   "cell_type": "code",
   "execution_count": 175,
   "metadata": {
    "scrolled": true
   },
   "outputs": [
    {
     "data": {
      "text/plain": [
       "[(1139, 0.5777367),\n",
       " (329, 0.56057173),\n",
       " (1023, 0.5557863),\n",
       " (1350, 0.5241059),\n",
       " (1889, 0.52281016),\n",
       " (954, 0.52281016),\n",
       " (1702, 0.48294806),\n",
       " (563, 0.4742522),\n",
       " (767, 0.47014004)]"
      ]
     },
     "execution_count": 175,
     "metadata": {},
     "output_type": "execute_result"
    }
   ],
   "source": [
    "# Check the similar users like user index 623\n",
    "model.similar_users(623)[1:11]"
   ]
  },
  {
   "cell_type": "code",
   "execution_count": 176,
   "metadata": {},
   "outputs": [],
   "source": [
    "## Find the similar items for item id 1894\n",
    "\n",
    "similar_items_als = model.similar_items(1894)"
   ]
  },
  {
   "cell_type": "code",
   "execution_count": 177,
   "metadata": {
    "scrolled": true
   },
   "outputs": [
    {
     "data": {
      "text/html": [
       "<div>\n",
       "<style scoped>\n",
       "    .dataframe tbody tr th:only-of-type {\n",
       "        vertical-align: middle;\n",
       "    }\n",
       "\n",
       "    .dataframe tbody tr th {\n",
       "        vertical-align: top;\n",
       "    }\n",
       "\n",
       "    .dataframe thead th {\n",
       "        text-align: right;\n",
       "    }\n",
       "</style>\n",
       "<table border=\"1\" class=\"dataframe\">\n",
       "  <thead>\n",
       "    <tr style=\"text-align: right;\">\n",
       "      <th></th>\n",
       "      <th>item_index</th>\n",
       "      <th>score</th>\n",
       "    </tr>\n",
       "  </thead>\n",
       "  <tbody>\n",
       "    <tr>\n",
       "      <th>0</th>\n",
       "      <td>1894</td>\n",
       "      <td>1.000000</td>\n",
       "    </tr>\n",
       "    <tr>\n",
       "      <th>1</th>\n",
       "      <td>891</td>\n",
       "      <td>0.588582</td>\n",
       "    </tr>\n",
       "    <tr>\n",
       "      <th>2</th>\n",
       "      <td>2675</td>\n",
       "      <td>0.508284</td>\n",
       "    </tr>\n",
       "    <tr>\n",
       "      <th>3</th>\n",
       "      <td>882</td>\n",
       "      <td>0.483759</td>\n",
       "    </tr>\n",
       "    <tr>\n",
       "      <th>4</th>\n",
       "      <td>1294</td>\n",
       "      <td>0.442981</td>\n",
       "    </tr>\n",
       "    <tr>\n",
       "      <th>5</th>\n",
       "      <td>2171</td>\n",
       "      <td>0.387069</td>\n",
       "    </tr>\n",
       "    <tr>\n",
       "      <th>6</th>\n",
       "      <td>1139</td>\n",
       "      <td>0.365107</td>\n",
       "    </tr>\n",
       "    <tr>\n",
       "      <th>7</th>\n",
       "      <td>177</td>\n",
       "      <td>0.345415</td>\n",
       "    </tr>\n",
       "    <tr>\n",
       "      <th>8</th>\n",
       "      <td>2185</td>\n",
       "      <td>0.344542</td>\n",
       "    </tr>\n",
       "    <tr>\n",
       "      <th>9</th>\n",
       "      <td>881</td>\n",
       "      <td>0.339016</td>\n",
       "    </tr>\n",
       "  </tbody>\n",
       "</table>\n",
       "</div>"
      ],
      "text/plain": [
       "   item_index     score\n",
       "0        1894  1.000000\n",
       "1         891  0.588582\n",
       "2        2675  0.508284\n",
       "3         882  0.483759\n",
       "4        1294  0.442981\n",
       "5        2171  0.387069\n",
       "6        1139  0.365107\n",
       "7         177  0.345415\n",
       "8        2185  0.344542\n",
       "9         881  0.339016"
      ]
     },
     "execution_count": 177,
     "metadata": {},
     "output_type": "execute_result"
    }
   ],
   "source": [
    "# create the dataframe from the similar items\n",
    "\n",
    "similar_items_als_df = pd.DataFrame(similar_items_als, columns=['item_index', 'score'])\n",
    "similar_items_als_df"
   ]
  },
  {
   "cell_type": "markdown",
   "metadata": {},
   "source": [
    "### Merge with content data to get news title:"
   ]
  },
  {
   "cell_type": "code",
   "execution_count": 178,
   "metadata": {
    "scrolled": true
   },
   "outputs": [
    {
     "data": {
      "text/html": [
       "<div>\n",
       "<style scoped>\n",
       "    .dataframe tbody tr th:only-of-type {\n",
       "        vertical-align: middle;\n",
       "    }\n",
       "\n",
       "    .dataframe tbody tr th {\n",
       "        vertical-align: top;\n",
       "    }\n",
       "\n",
       "    .dataframe thead th {\n",
       "        text-align: right;\n",
       "    }\n",
       "</style>\n",
       "<table border=\"1\" class=\"dataframe\">\n",
       "  <thead>\n",
       "    <tr style=\"text-align: right;\">\n",
       "      <th></th>\n",
       "      <th>item_index</th>\n",
       "      <th>score</th>\n",
       "      <th>title</th>\n",
       "      <th>text_description</th>\n",
       "    </tr>\n",
       "  </thead>\n",
       "  <tbody>\n",
       "    <tr>\n",
       "      <th>0</th>\n",
       "      <td>1894</td>\n",
       "      <td>1.000000</td>\n",
       "      <td>IBM Watson is about to make Slack's chat bot s...</td>\n",
       "      <td>Slack's attempts at small talk are about to ge...</td>\n",
       "    </tr>\n",
       "    <tr>\n",
       "      <th>1</th>\n",
       "      <td>891</td>\n",
       "      <td>0.588582</td>\n",
       "      <td>Google's OnHub router finally gets some smart ...</td>\n",
       "      <td>Google's OnHub router just got a major new fea...</td>\n",
       "    </tr>\n",
       "    <tr>\n",
       "      <th>2</th>\n",
       "      <td>2675</td>\n",
       "      <td>0.508284</td>\n",
       "      <td>NaN</td>\n",
       "      <td>NaN</td>\n",
       "    </tr>\n",
       "    <tr>\n",
       "      <th>3</th>\n",
       "      <td>882</td>\n",
       "      <td>0.483759</td>\n",
       "      <td>[Videos] Bill Gross: The single biggest reason...</td>\n",
       "      <td>You have JavaScript disabled Bill Gross has fo...</td>\n",
       "    </tr>\n",
       "    <tr>\n",
       "      <th>4</th>\n",
       "      <td>1294</td>\n",
       "      <td>0.442981</td>\n",
       "      <td>Hype Driven Development</td>\n",
       "      <td>Software development teams often make decision...</td>\n",
       "    </tr>\n",
       "    <tr>\n",
       "      <th>5</th>\n",
       "      <td>2171</td>\n",
       "      <td>0.387069</td>\n",
       "      <td>Configuring OSGi</td>\n",
       "      <td>For run mode specific configurations, multiple...</td>\n",
       "    </tr>\n",
       "    <tr>\n",
       "      <th>6</th>\n",
       "      <td>1139</td>\n",
       "      <td>0.365107</td>\n",
       "      <td>Research: Why Best Practices Don't Translate A...</td>\n",
       "      <td>It made sense. A large high-technology company...</td>\n",
       "    </tr>\n",
       "    <tr>\n",
       "      <th>7</th>\n",
       "      <td>177</td>\n",
       "      <td>0.345415</td>\n",
       "      <td>How This Googler Redesigned The Workweek</td>\n",
       "      <td>Jake Knapp has always been concerned about the...</td>\n",
       "    </tr>\n",
       "    <tr>\n",
       "      <th>8</th>\n",
       "      <td>2185</td>\n",
       "      <td>0.344542</td>\n",
       "      <td>How big is the Google Earth database? - Google...</td>\n",
       "      <td>This is the fourth and final in a series of po...</td>\n",
       "    </tr>\n",
       "    <tr>\n",
       "      <th>9</th>\n",
       "      <td>881</td>\n",
       "      <td>0.339016</td>\n",
       "      <td>When Will The First Machine Become Superintell...</td>\n",
       "      <td>When Will The First Machine Become Superintell...</td>\n",
       "    </tr>\n",
       "  </tbody>\n",
       "</table>\n",
       "</div>"
      ],
      "text/plain": [
       "   item_index     score                                              title  \\\n",
       "0        1894  1.000000  IBM Watson is about to make Slack's chat bot s...   \n",
       "1         891  0.588582  Google's OnHub router finally gets some smart ...   \n",
       "2        2675  0.508284                                                NaN   \n",
       "3         882  0.483759  [Videos] Bill Gross: The single biggest reason...   \n",
       "4        1294  0.442981                            Hype Driven Development   \n",
       "5        2171  0.387069                                   Configuring OSGi   \n",
       "6        1139  0.365107  Research: Why Best Practices Don't Translate A...   \n",
       "7         177  0.345415           How This Googler Redesigned The Workweek   \n",
       "8        2185  0.344542  How big is the Google Earth database? - Google...   \n",
       "9         881  0.339016  When Will The First Machine Become Superintell...   \n",
       "\n",
       "                                    text_description  \n",
       "0  Slack's attempts at small talk are about to ge...  \n",
       "1  Google's OnHub router just got a major new fea...  \n",
       "2                                                NaN  \n",
       "3  You have JavaScript disabled Bill Gross has fo...  \n",
       "4  Software development teams often make decision...  \n",
       "5  For run mode specific configurations, multiple...  \n",
       "6  It made sense. A large high-technology company...  \n",
       "7  Jake Knapp has always been concerned about the...  \n",
       "8  This is the fourth and final in a series of po...  \n",
       "9  When Will The First Machine Become Superintell...  "
      ]
     },
     "execution_count": 178,
     "metadata": {},
     "output_type": "execute_result"
    }
   ],
   "source": [
    "# merged the similar items and content \n",
    "merged_similar_items_als = pd.merge(similar_items_als_df, clean_english_content, how='left', on='item_index')\n",
    "merged_similar_items_als"
   ]
  },
  {
   "cell_type": "markdown",
   "metadata": {},
   "source": [
    "### TOP 10 similar items for News Index 1894 via ALS"
   ]
  },
  {
   "cell_type": "code",
   "execution_count": 179,
   "metadata": {
    "scrolled": true
   },
   "outputs": [
    {
     "data": {
      "text/html": [
       "<div>\n",
       "<style scoped>\n",
       "    .dataframe tbody tr th:only-of-type {\n",
       "        vertical-align: middle;\n",
       "    }\n",
       "\n",
       "    .dataframe tbody tr th {\n",
       "        vertical-align: top;\n",
       "    }\n",
       "\n",
       "    .dataframe thead th {\n",
       "        text-align: right;\n",
       "    }\n",
       "</style>\n",
       "<table border=\"1\" class=\"dataframe\">\n",
       "  <thead>\n",
       "    <tr style=\"text-align: right;\">\n",
       "      <th></th>\n",
       "      <th>item_index</th>\n",
       "      <th>score</th>\n",
       "      <th>title</th>\n",
       "      <th>text_description</th>\n",
       "    </tr>\n",
       "  </thead>\n",
       "  <tbody>\n",
       "    <tr>\n",
       "      <th>0</th>\n",
       "      <td>1894</td>\n",
       "      <td>1.000000</td>\n",
       "      <td>IBM Watson is about to make Slack's chat bot s...</td>\n",
       "      <td>Slack's attempts at small talk are about to ge...</td>\n",
       "    </tr>\n",
       "    <tr>\n",
       "      <th>1</th>\n",
       "      <td>891</td>\n",
       "      <td>0.588582</td>\n",
       "      <td>Google's OnHub router finally gets some smart ...</td>\n",
       "      <td>Google's OnHub router just got a major new fea...</td>\n",
       "    </tr>\n",
       "    <tr>\n",
       "      <th>2</th>\n",
       "      <td>2675</td>\n",
       "      <td>0.508284</td>\n",
       "      <td>NaN</td>\n",
       "      <td>NaN</td>\n",
       "    </tr>\n",
       "    <tr>\n",
       "      <th>3</th>\n",
       "      <td>882</td>\n",
       "      <td>0.483759</td>\n",
       "      <td>[Videos] Bill Gross: The single biggest reason...</td>\n",
       "      <td>You have JavaScript disabled Bill Gross has fo...</td>\n",
       "    </tr>\n",
       "    <tr>\n",
       "      <th>4</th>\n",
       "      <td>1294</td>\n",
       "      <td>0.442981</td>\n",
       "      <td>Hype Driven Development</td>\n",
       "      <td>Software development teams often make decision...</td>\n",
       "    </tr>\n",
       "    <tr>\n",
       "      <th>5</th>\n",
       "      <td>2171</td>\n",
       "      <td>0.387069</td>\n",
       "      <td>Configuring OSGi</td>\n",
       "      <td>For run mode specific configurations, multiple...</td>\n",
       "    </tr>\n",
       "    <tr>\n",
       "      <th>6</th>\n",
       "      <td>1139</td>\n",
       "      <td>0.365107</td>\n",
       "      <td>Research: Why Best Practices Don't Translate A...</td>\n",
       "      <td>It made sense. A large high-technology company...</td>\n",
       "    </tr>\n",
       "    <tr>\n",
       "      <th>7</th>\n",
       "      <td>177</td>\n",
       "      <td>0.345415</td>\n",
       "      <td>How This Googler Redesigned The Workweek</td>\n",
       "      <td>Jake Knapp has always been concerned about the...</td>\n",
       "    </tr>\n",
       "    <tr>\n",
       "      <th>8</th>\n",
       "      <td>2185</td>\n",
       "      <td>0.344542</td>\n",
       "      <td>How big is the Google Earth database? - Google...</td>\n",
       "      <td>This is the fourth and final in a series of po...</td>\n",
       "    </tr>\n",
       "    <tr>\n",
       "      <th>9</th>\n",
       "      <td>881</td>\n",
       "      <td>0.339016</td>\n",
       "      <td>When Will The First Machine Become Superintell...</td>\n",
       "      <td>When Will The First Machine Become Superintell...</td>\n",
       "    </tr>\n",
       "  </tbody>\n",
       "</table>\n",
       "</div>"
      ],
      "text/plain": [
       "   item_index     score                                              title  \\\n",
       "0        1894  1.000000  IBM Watson is about to make Slack's chat bot s...   \n",
       "1         891  0.588582  Google's OnHub router finally gets some smart ...   \n",
       "2        2675  0.508284                                                NaN   \n",
       "3         882  0.483759  [Videos] Bill Gross: The single biggest reason...   \n",
       "4        1294  0.442981                            Hype Driven Development   \n",
       "5        2171  0.387069                                   Configuring OSGi   \n",
       "6        1139  0.365107  Research: Why Best Practices Don't Translate A...   \n",
       "7         177  0.345415           How This Googler Redesigned The Workweek   \n",
       "8        2185  0.344542  How big is the Google Earth database? - Google...   \n",
       "9         881  0.339016  When Will The First Machine Become Superintell...   \n",
       "\n",
       "                                    text_description  \n",
       "0  Slack's attempts at small talk are about to ge...  \n",
       "1  Google's OnHub router just got a major new fea...  \n",
       "2                                                NaN  \n",
       "3  You have JavaScript disabled Bill Gross has fo...  \n",
       "4  Software development teams often make decision...  \n",
       "5  For run mode specific configurations, multiple...  \n",
       "6  It made sense. A large high-technology company...  \n",
       "7  Jake Knapp has always been concerned about the...  \n",
       "8  This is the fourth and final in a series of po...  \n",
       "9  When Will The First Machine Become Superintell...  "
      ]
     },
     "execution_count": 179,
     "metadata": {},
     "output_type": "execute_result"
    }
   ],
   "source": [
    "merged_similar_items_als.head(10) # check the dataframe"
   ]
  },
  {
   "cell_type": "code",
   "execution_count": 180,
   "metadata": {},
   "outputs": [],
   "source": [
    "## NaN appeares because the Cosnumer Data has item index which is not available in Content Dataset.\n",
    "## Hence Title and Text description has  NaN "
   ]
  },
  {
   "cell_type": "code",
   "execution_count": 181,
   "metadata": {},
   "outputs": [],
   "source": [
    "# from implicit.evaluation import precision_at_k\n",
    "# p = precision_at_k(model, train.tocsr(), test.tocsr(), K=10)"
   ]
  },
  {
   "cell_type": "code",
   "execution_count": 182,
   "metadata": {},
   "outputs": [
    {
     "data": {
      "text/plain": [
       "[(1894, 1.0000001),\n",
       " (891, 0.5885817),\n",
       " (2675, 0.50828373),\n",
       " (882, 0.48375893),\n",
       " (1294, 0.44298056),\n",
       " (2171, 0.38706857),\n",
       " (1139, 0.36510655),\n",
       " (177, 0.34541452),\n",
       " (2185, 0.3445419),\n",
       " (881, 0.33901563),\n",
       " (2927, 0.31981966),\n",
       " (153, 0.3198121),\n",
       " (1531, 0.3184213),\n",
       " (1239, 0.30739),\n",
       " (1090, 0.29661396),\n",
       " (433, 0.2889315),\n",
       " (105, 0.28655428),\n",
       " (2576, 0.28648975),\n",
       " (2917, 0.28363338),\n",
       " (2890, 0.28292024),\n",
       " (2942, 0.27885756),\n",
       " (1960, 0.27716237),\n",
       " (573, 0.27441064),\n",
       " (770, 0.27316803),\n",
       " (136, 0.27252522),\n",
       " (2085, 0.26844501),\n",
       " (1216, 0.26638186),\n",
       " (1792, 0.26511502),\n",
       " (2915, 0.26421),\n",
       " (428, 0.264061),\n",
       " (2315, 0.26319504),\n",
       " (605, 0.2620474),\n",
       " (671, 0.2613762),\n",
       " (2158, 0.25985068),\n",
       " (350, 0.25516897),\n",
       " (1398, 0.24998677),\n",
       " (1602, 0.24843784),\n",
       " (109, 0.2482117),\n",
       " (2384, 0.24578857),\n",
       " (1946, 0.24434233),\n",
       " (1409, 0.24203268),\n",
       " (2912, 0.24177673),\n",
       " (788, 0.24102429),\n",
       " (104, 0.23996492),\n",
       " (1498, 0.23937131),\n",
       " (2068, 0.23878069),\n",
       " (2938, 0.23828846),\n",
       " (2033, 0.23794338),\n",
       " (1873, 0.23702098),\n",
       " (785, 0.23472604),\n",
       " (2521, 0.23392542),\n",
       " (472, 0.23392509),\n",
       " (1478, 0.2337803),\n",
       " (536, 0.23338768),\n",
       " (888, 0.23165871),\n",
       " (2250, 0.2314077),\n",
       " (297, 0.23030466),\n",
       " (2305, 0.23010154),\n",
       " (1812, 0.22993842),\n",
       " (80, 0.22759357),\n",
       " (2193, 0.22756518),\n",
       " (1176, 0.22756036),\n",
       " (71, 0.22733496),\n",
       " (637, 0.22732073),\n",
       " (656, 0.22731893),\n",
       " (2327, 0.22731327),\n",
       " (985, 0.22675028),\n",
       " (2539, 0.22620338),\n",
       " (2570, 0.22591259),\n",
       " (2703, 0.22475016),\n",
       " (200, 0.22465323),\n",
       " (2803, 0.22354275),\n",
       " (1267, 0.22330979),\n",
       " (513, 0.22056618),\n",
       " (2060, 0.22053577),\n",
       " (518, 0.21814875),\n",
       " (2288, 0.21731165),\n",
       " (2501, 0.21720505),\n",
       " (1920, 0.21649131),\n",
       " (51, 0.21601667),\n",
       " (2972, 0.21599075),\n",
       " (173, 0.21577002),\n",
       " (2836, 0.21553876),\n",
       " (1906, 0.21536206),\n",
       " (2792, 0.21516883),\n",
       " (2665, 0.21492447),\n",
       " (979, 0.21413596),\n",
       " (2734, 0.21252231),\n",
       " (2896, 0.21226482),\n",
       " (1573, 0.21165395),\n",
       " (328, 0.21127176),\n",
       " (682, 0.2105072),\n",
       " (1901, 0.21023694),\n",
       " (2028, 0.20991538),\n",
       " (1281, 0.20956264),\n",
       " (607, 0.20928897),\n",
       " (2920, 0.20855092),\n",
       " (1034, 0.2082399),\n",
       " (676, 0.20770691),\n",
       " (218, 0.20712961),\n",
       " (848, 0.20628999),\n",
       " (258, 0.20549333),\n",
       " (398, 0.20545004),\n",
       " (344, 0.20493534),\n",
       " (1895, 0.20476219),\n",
       " (368, 0.20392086),\n",
       " (2583, 0.203892),\n",
       " (1118, 0.2037977),\n",
       " (530, 0.2037539),\n",
       " (997, 0.20374978),\n",
       " (1074, 0.20374921),\n",
       " (1094, 0.20374748),\n",
       " (1192, 0.2037452),\n",
       " (507, 0.20374487),\n",
       " (1389, 0.2037446),\n",
       " (1988, 0.20298752),\n",
       " (1658, 0.20297138),\n",
       " (2162, 0.20255838),\n",
       " (1087, 0.20237474),\n",
       " (704, 0.20206007),\n",
       " (1142, 0.2020595),\n",
       " (1339, 0.20179103),\n",
       " (1085, 0.20174554),\n",
       " (918, 0.20033023),\n",
       " (2557, 0.20012796),\n",
       " (1459, 0.20011792),\n",
       " (21, 0.19961977),\n",
       " (127, 0.19961244),\n",
       " (1862, 0.19907343),\n",
       " (2444, 0.19876297),\n",
       " (2469, 0.19849221),\n",
       " (1390, 0.19834092),\n",
       " (972, 0.19799216),\n",
       " (2161, 0.19793715),\n",
       " (1051, 0.196809),\n",
       " (182, 0.19640447),\n",
       " (719, 0.19614343),\n",
       " (1632, 0.1958397),\n",
       " (2424, 0.19530618),\n",
       " (2030, 0.19476987),\n",
       " (1890, 0.19377415),\n",
       " (1273, 0.19339861),\n",
       " (958, 0.19328468),\n",
       " (1714, 0.1925579),\n",
       " (2772, 0.1917595),\n",
       " (943, 0.19027652),\n",
       " (1280, 0.19019905),\n",
       " (2984, 0.19019245),\n",
       " (1151, 0.19005041),\n",
       " (1499, 0.18993756),\n",
       " (1617, 0.18958983),\n",
       " (197, 0.18885544),\n",
       " (2433, 0.18877666),\n",
       " (293, 0.18865103),\n",
       " (1503, 0.18816987),\n",
       " (672, 0.1873316),\n",
       " (12, 0.1872949),\n",
       " (1175, 0.1871108),\n",
       " (2257, 0.18629695),\n",
       " (894, 0.18615921),\n",
       " (574, 0.18592376),\n",
       " (16, 0.18545389),\n",
       " (1928, 0.18540981),\n",
       " (652, 0.18526894),\n",
       " (532, 0.18490943),\n",
       " (250, 0.18473895),\n",
       " (1628, 0.18346332),\n",
       " (927, 0.18323174),\n",
       " (1684, 0.18313478),\n",
       " (858, 0.18256834),\n",
       " (2222, 0.18221046),\n",
       " (1912, 0.18200202),\n",
       " (1756, 0.18077722),\n",
       " (684, 0.18075475),\n",
       " (2476, 0.18046808),\n",
       " (2029, 0.18044111),\n",
       " (2789, 0.18022639),\n",
       " (2481, 0.17940961),\n",
       " (2829, 0.17910394),\n",
       " (1549, 0.17909418),\n",
       " (1983, 0.17869307),\n",
       " (2037, 0.17815249),\n",
       " (853, 0.1765668),\n",
       " (306, 0.17639211),\n",
       " (591, 0.17567115),\n",
       " (1288, 0.17508827),\n",
       " (1188, 0.1746918),\n",
       " (544, 0.17410104),\n",
       " (1375, 0.17384659),\n",
       " (2292, 0.173413),\n",
       " (2846, 0.17330427),\n",
       " (508, 0.17303124),\n",
       " (601, 0.17278129),\n",
       " (2076, 0.17273766),\n",
       " (1491, 0.17215277),\n",
       " (396, 0.17175713),\n",
       " (1770, 0.17171384),\n",
       " (27, 0.17145808),\n",
       " (107, 0.17134675),\n",
       " (383, 0.17112307),\n",
       " (988, 0.17047897),\n",
       " (369, 0.16939639),\n",
       " (1973, 0.16933627),\n",
       " (2951, 0.1692673),\n",
       " (2966, 0.16879256),\n",
       " (2760, 0.16848189),\n",
       " (1815, 0.16832536),\n",
       " (267, 0.16812445),\n",
       " (460, 0.16758198),\n",
       " (2403, 0.16755864),\n",
       " (2830, 0.1671317),\n",
       " (63, 0.1668899),\n",
       " (1849, 0.16656078),\n",
       " (1887, 0.16646129),\n",
       " (2414, 0.1663794),\n",
       " (2925, 0.16591743),\n",
       " (1923, 0.16544111),\n",
       " (1783, 0.1650588),\n",
       " (144, 0.16457318),\n",
       " (1, 0.16406085),\n",
       " (1314, 0.16393629),\n",
       " (2718, 0.16377786),\n",
       " (1477, 0.16371924),\n",
       " (2283, 0.163672),\n",
       " (2439, 0.16364418),\n",
       " (928, 0.16326316),\n",
       " (57, 0.16300435),\n",
       " (2647, 0.1623946),\n",
       " (1364, 0.16201952),\n",
       " (2965, 0.162011),\n",
       " (1606, 0.16166413),\n",
       " (1695, 0.16165476),\n",
       " (2458, 0.16087528),\n",
       " (1211, 0.16050157),\n",
       " (755, 0.16005157),\n",
       " (2367, 0.15992832),\n",
       " (215, 0.15985273),\n",
       " (170, 0.15983461),\n",
       " (1302, 0.15969706),\n",
       " (2325, 0.15966448),\n",
       " (469, 0.15910673),\n",
       " (361, 0.1587175),\n",
       " (2097, 0.15834357),\n",
       " (793, 0.1579589),\n",
       " (2616, 0.15772527),\n",
       " (2677, 0.15717615),\n",
       " (1497, 0.15650696),\n",
       " (2646, 0.15632617),\n",
       " (2304, 0.15585068),\n",
       " (720, 0.15532538),\n",
       " (2196, 0.15528317),\n",
       " (551, 0.15523179),\n",
       " (43, 0.15521942),\n",
       " (2704, 0.15514375),\n",
       " (2787, 0.15496522),\n",
       " (1910, 0.15469901),\n",
       " (2328, 0.15453258),\n",
       " (2531, 0.1545047),\n",
       " (2231, 0.15443522),\n",
       " (1048, 0.15442315),\n",
       " (2129, 0.15441577),\n",
       " (1909, 0.1543295),\n",
       " (2377, 0.15404123),\n",
       " (61, 0.15395378),\n",
       " (884, 0.15388533),\n",
       " (2331, 0.15384802),\n",
       " (1511, 0.15375696),\n",
       " (1065, 0.15365088),\n",
       " (791, 0.15334444),\n",
       " (1357, 0.15312947),\n",
       " (1036, 0.1529715),\n",
       " (2461, 0.1527486),\n",
       " (2078, 0.15254384),\n",
       " (944, 0.1524933),\n",
       " (1817, 0.15223363),\n",
       " (633, 0.15214482),\n",
       " (512, 0.15203658),\n",
       " (1027, 0.15175392),\n",
       " (2099, 0.15154536),\n",
       " (59, 0.15103236),\n",
       " (2526, 0.15085094),\n",
       " (266, 0.150844),\n",
       " (2796, 0.15073167),\n",
       " (1101, 0.15027447),\n",
       " (945, 0.15013127),\n",
       " (831, 0.14983535),\n",
       " (2026, 0.14960691),\n",
       " (2722, 0.14892542),\n",
       " (2368, 0.14882457),\n",
       " (2479, 0.14880386),\n",
       " (2775, 0.14830378),\n",
       " (2045, 0.148131),\n",
       " (1686, 0.14805914),\n",
       " (1914, 0.14794487),\n",
       " (92, 0.14787564),\n",
       " (1158, 0.14781886),\n",
       " (2248, 0.14763615),\n",
       " (843, 0.14747341),\n",
       " (1368, 0.14703706),\n",
       " (1062, 0.14700899),\n",
       " (1205, 0.14696771),\n",
       " (1081, 0.1468351),\n",
       " (2062, 0.14673612),\n",
       " (2935, 0.14655355),\n",
       " (2980, 0.14640403),\n",
       " (354, 0.14620195),\n",
       " (1730, 0.14614291),\n",
       " (2535, 0.14607278),\n",
       " (189, 0.14582539),\n",
       " (1950, 0.1457455),\n",
       " (1117, 0.14470547),\n",
       " (2390, 0.1441387),\n",
       " (1781, 0.1440537),\n",
       " (2869, 0.1440142),\n",
       " (842, 0.14351362),\n",
       " (564, 0.14346172),\n",
       " (1528, 0.14295666),\n",
       " (1187, 0.14294274),\n",
       " (1679, 0.1428794),\n",
       " (804, 0.14261572),\n",
       " (2190, 0.14242288),\n",
       " (207, 0.14206553),\n",
       " (991, 0.14197685),\n",
       " (2748, 0.14172524),\n",
       " (1763, 0.14171784),\n",
       " (1778, 0.14123748),\n",
       " (2715, 0.14079016),\n",
       " (996, 0.1403175),\n",
       " (1050, 0.14031655),\n",
       " (1103, 0.14018868),\n",
       " (29, 0.14015514),\n",
       " (724, 0.14015368),\n",
       " (69, 0.14008336),\n",
       " (2208, 0.1393828),\n",
       " (1583, 0.13883725),\n",
       " (734, 0.13861774),\n",
       " (2593, 0.13842286),\n",
       " (1433, 0.13743173),\n",
       " (1505, 0.13743164),\n",
       " (2498, 0.13743079),\n",
       " (2873, 0.13731337),\n",
       " (570, 0.13685806),\n",
       " (446, 0.13668735),\n",
       " (752, 0.13629143),\n",
       " (2547, 0.13607444),\n",
       " (600, 0.13582556),\n",
       " (1334, 0.13553911),\n",
       " (2419, 0.13521072),\n",
       " (1164, 0.1351685),\n",
       " (925, 0.13497844),\n",
       " (1893, 0.13488762),\n",
       " (1713, 0.1348277),\n",
       " (1655, 0.13454871),\n",
       " (1839, 0.13454747),\n",
       " (2282, 0.13452193),\n",
       " (885, 0.1345165),\n",
       " (1883, 0.13432884),\n",
       " (0, 0.13426924),\n",
       " (1446, 0.1341728),\n",
       " (904, 0.13413996),\n",
       " (814, 0.13405924),\n",
       " (353, 0.1337606),\n",
       " (819, 0.13365862),\n",
       " (100, 0.13362756),\n",
       " (425, 0.13349459),\n",
       " (183, 0.13327378),\n",
       " (1747, 0.13314195),\n",
       " (45, 0.1330315),\n",
       " (2818, 0.13280606),\n",
       " (115, 0.13255517),\n",
       " (1841, 0.13246858),\n",
       " (212, 0.13242018),\n",
       " (1219, 0.13240318),\n",
       " (1681, 0.13224448),\n",
       " (2513, 0.13219008),\n",
       " (343, 0.13171749),\n",
       " (1344, 0.13156925),\n",
       " (1451, 0.13156164),\n",
       " (1224, 0.13150907),\n",
       " (1631, 0.13147712),\n",
       " (221, 0.13124286),\n",
       " (2900, 0.13082491),\n",
       " (2622, 0.13076742),\n",
       " (2388, 0.13063233),\n",
       " (589, 0.12974921),\n",
       " (993, 0.12934914),\n",
       " (749, 0.1288208),\n",
       " (1356, 0.12870395),\n",
       " (1029, 0.1283904),\n",
       " (654, 0.12827976),\n",
       " (2035, 0.12796636),\n",
       " (850, 0.12796132),\n",
       " (2020, 0.12794636),\n",
       " (1007, 0.12789959),\n",
       " (1276, 0.12782939),\n",
       " (458, 0.12781757),\n",
       " (1697, 0.12766531),\n",
       " (2939, 0.12757672),\n",
       " (231, 0.12747926),\n",
       " (2359, 0.12727323),\n",
       " (2855, 0.12706067),\n",
       " (2159, 0.12682882),\n",
       " (2211, 0.12681635),\n",
       " (1418, 0.12675846),\n",
       " (763, 0.12670216),\n",
       " (2418, 0.12656929),\n",
       " (504, 0.12640883),\n",
       " (1572, 0.12626903),\n",
       " (893, 0.12626493),\n",
       " (2341, 0.12624493),\n",
       " (1605, 0.12620421),\n",
       " (84, 0.12605909),\n",
       " (37, 0.12581836),\n",
       " (1777, 0.12576272),\n",
       " (370, 0.12573683),\n",
       " (1985, 0.12526554),\n",
       " (836, 0.12518437),\n",
       " (2956, 0.1249326),\n",
       " (2527, 0.12488304),\n",
       " (1004, 0.12444121),\n",
       " (1037, 0.12434788),\n",
       " (302, 0.12420213),\n",
       " (2955, 0.12390262),\n",
       " (2977, 0.123300575),\n",
       " (1596, 0.12316415),\n",
       " (1044, 0.12300333),\n",
       " (1483, 0.12260204),\n",
       " (1941, 0.12257195),\n",
       " (2515, 0.122479536),\n",
       " (903, 0.12228769),\n",
       " (2834, 0.12200045),\n",
       " (2437, 0.12156369),\n",
       " (1337, 0.12138476),\n",
       " (933, 0.121366344),\n",
       " (1931, 0.121362306),\n",
       " (1734, 0.1210979),\n",
       " (2587, 0.12105923),\n",
       " (2057, 0.120685615),\n",
       " (1993, 0.12044358),\n",
       " (2963, 0.12027709),\n",
       " (140, 0.120226465),\n",
       " (2934, 0.12012928),\n",
       " (2391, 0.12012541),\n",
       " (2669, 0.11960251),\n",
       " (609, 0.118580446),\n",
       " (727, 0.11852003),\n",
       " (1665, 0.11849014),\n",
       " (2241, 0.11808195),\n",
       " (427, 0.117864944),\n",
       " (2102, 0.117795125),\n",
       " (2215, 0.11698717),\n",
       " (294, 0.1168868),\n",
       " (72, 0.11686848),\n",
       " (2046, 0.11659961),\n",
       " (947, 0.116353534),\n",
       " (1600, 0.11628744),\n",
       " (768, 0.11615577),\n",
       " (2366, 0.11601318),\n",
       " (1018, 0.11582839),\n",
       " (800, 0.11571295),\n",
       " (2876, 0.11543639),\n",
       " (1479, 0.11518136),\n",
       " (34, 0.11511486),\n",
       " (1811, 0.11495),\n",
       " (524, 0.114866786),\n",
       " (674, 0.1148451),\n",
       " (322, 0.11453996),\n",
       " (2507, 0.114454076),\n",
       " (1871, 0.11443927),\n",
       " (1552, 0.11420678),\n",
       " (470, 0.113981016),\n",
       " (459, 0.11336504),\n",
       " (2255, 0.11328074),\n",
       " (2559, 0.1132232),\n",
       " (813, 0.11289089),\n",
       " (1627, 0.11281389),\n",
       " (2608, 0.11278829),\n",
       " (1178, 0.11252969),\n",
       " (1476, 0.112511486),\n",
       " (1615, 0.11248276),\n",
       " (399, 0.11228097),\n",
       " (619, 0.11228067),\n",
       " (2010, 0.11212173),\n",
       " (1298, 0.11200084),\n",
       " (372, 0.11194967),\n",
       " (859, 0.11167096),\n",
       " (2509, 0.11162396),\n",
       " (651, 0.11158682),\n",
       " (1594, 0.11148681),\n",
       " (515, 0.11146403),\n",
       " (1024, 0.111460306),\n",
       " (2508, 0.11145627),\n",
       " (1174, 0.11143194),\n",
       " (164, 0.11131053),\n",
       " (2091, 0.110940374),\n",
       " (698, 0.110500395),\n",
       " (2908, 0.11033658),\n",
       " (178, 0.11003439),\n",
       " (2063, 0.109650925),\n",
       " (1014, 0.10955254),\n",
       " (2579, 0.1095289),\n",
       " (119, 0.10930229),\n",
       " (1232, 0.10911268),\n",
       " (1206, 0.1089449),\n",
       " (738, 0.108854935),\n",
       " (1415, 0.10865506),\n",
       " (1918, 0.10863434),\n",
       " (2317, 0.10858393),\n",
       " (1119, 0.10840445),\n",
       " (2086, 0.10829219),\n",
       " (438, 0.10769502),\n",
       " (1634, 0.10765703),\n",
       " (503, 0.107624404),\n",
       " (754, 0.10698844),\n",
       " (387, 0.10693839),\n",
       " (1996, 0.10663493),\n",
       " (337, 0.106601),\n",
       " (1019, 0.10643989),\n",
       " (1856, 0.106303364),\n",
       " (758, 0.106205784),\n",
       " (2625, 0.105643444),\n",
       " (2302, 0.10532896),\n",
       " (26, 0.10491626),\n",
       " (257, 0.10481468),\n",
       " (983, 0.10471862),\n",
       " (1603, 0.104612745),\n",
       " (1913, 0.10451604),\n",
       " (480, 0.10433926),\n",
       " (419, 0.103195),\n",
       " (1850, 0.10279547),\n",
       " (2719, 0.10255523),\n",
       " (2727, 0.10246356),\n",
       " (2706, 0.10244794),\n",
       " (320, 0.10243267),\n",
       " (2034, 0.10217639),\n",
       " (2649, 0.10201238),\n",
       " (1874, 0.10179317),\n",
       " (1150, 0.10165006),\n",
       " (2319, 0.101520106),\n",
       " (1652, 0.10145639),\n",
       " (440, 0.10134475),\n",
       " (745, 0.101343885),\n",
       " (2348, 0.101232),\n",
       " (1400, 0.10101247),\n",
       " (201, 0.10086211),\n",
       " (1091, 0.100815296),\n",
       " (1975, 0.10055119),\n",
       " (2148, 0.10026997),\n",
       " (1766, 0.100209884),\n",
       " (1425, 0.09975532),\n",
       " (126, 0.09974731),\n",
       " (2563, 0.099645436),\n",
       " (677, 0.09937863),\n",
       " (2410, 0.09906188),\n",
       " (2175, 0.098767556),\n",
       " (911, 0.09859982),\n",
       " (2187, 0.09856069),\n",
       " (2581, 0.09855033),\n",
       " (2918, 0.098220795),\n",
       " (2973, 0.0979457),\n",
       " (31, 0.09784616),\n",
       " (2032, 0.09775992),\n",
       " (162, 0.09774509),\n",
       " (2473, 0.09771118),\n",
       " (1180, 0.09760321),\n",
       " (2764, 0.09748552),\n",
       " (725, 0.09739654),\n",
       " (455, 0.09722002),\n",
       " (679, 0.09716124),\n",
       " (2770, 0.09714064),\n",
       " (847, 0.09709375),\n",
       " (2153, 0.09704113),\n",
       " (2212, 0.09703395),\n",
       " (980, 0.096962266),\n",
       " (187, 0.09686319),\n",
       " (1936, 0.0966576),\n",
       " (1731, 0.096653976),\n",
       " (2401, 0.09653948),\n",
       " (732, 0.09648519),\n",
       " (728, 0.09642703),\n",
       " (161, 0.096398205),\n",
       " (710, 0.09639114),\n",
       " (1611, 0.0963161),\n",
       " (1462, 0.09623713),\n",
       " (1108, 0.096045755),\n",
       " (121, 0.09603434),\n",
       " (1564, 0.09566317),\n",
       " (498, 0.09559884),\n",
       " (2601, 0.09550193),\n",
       " (596, 0.095471844),\n",
       " (2111, 0.09543627),\n",
       " (2012, 0.09512315),\n",
       " (2533, 0.09497683),\n",
       " (2339, 0.09496572),\n",
       " (1129, 0.09494641),\n",
       " (1107, 0.0948446),\n",
       " (484, 0.09477643),\n",
       " (437, 0.09463898),\n",
       " (756, 0.09460785),\n",
       " (1506, 0.09443876),\n",
       " (2827, 0.09409661),\n",
       " (1882, 0.09360179),\n",
       " (2098, 0.093534164),\n",
       " (946, 0.09350832),\n",
       " (2723, 0.09324716),\n",
       " (448, 0.092713974),\n",
       " (1578, 0.09268625),\n",
       " (851, 0.092535496),\n",
       " (2497, 0.092412755),\n",
       " (471, 0.092392705),\n",
       " (1472, 0.09238571),\n",
       " (522, 0.09234227),\n",
       " (1790, 0.09228976),\n",
       " (2482, 0.09228963),\n",
       " (123, 0.09227117),\n",
       " (2705, 0.092268),\n",
       " (2052, 0.09216092),\n",
       " (1733, 0.0921271),\n",
       " (2082, 0.092069745),\n",
       " (2335, 0.09199282),\n",
       " (68, 0.09169474),\n",
       " (675, 0.091170944),\n",
       " (2737, 0.09110975),\n",
       " (931, 0.09054039),\n",
       " (978, 0.09030895),\n",
       " (729, 0.09027172),\n",
       " (599, 0.0902549),\n",
       " (28, 0.0902487),\n",
       " (476, 0.09008646),\n",
       " (1353, 0.08996322),\n",
       " (1006, 0.08994309),\n",
       " (950, 0.089476265),\n",
       " (260, 0.08929579),\n",
       " (2623, 0.08904422),\n",
       " (2514, 0.08894732),\n",
       " (1235, 0.08894445),\n",
       " (887, 0.08891332),\n",
       " (155, 0.08862643),\n",
       " (1271, 0.08853879),\n",
       " (1799, 0.08846592),\n",
       " (805, 0.0882238),\n",
       " (2095, 0.08817203),\n",
       " (811, 0.08813372),\n",
       " (576, 0.08777327),\n",
       " (1256, 0.0877707),\n",
       " (1464, 0.08700922),\n",
       " (735, 0.08695188),\n",
       " (2812, 0.08690947),\n",
       " (305, 0.08678912),\n",
       " (595, 0.08671067),\n",
       " (2040, 0.08663803),\n",
       " (2002, 0.086420156),\n",
       " (1404, 0.08626194),\n",
       " (2423, 0.086000465),\n",
       " (1125, 0.08537849),\n",
       " (2038, 0.08515188),\n",
       " (203, 0.085108034),\n",
       " (2266, 0.0850387),\n",
       " (1128, 0.08494463),\n",
       " (1270, 0.08487432),\n",
       " (1919, 0.08483059),\n",
       " (1060, 0.084723115),\n",
       " (42, 0.08469121),\n",
       " (895, 0.08466938),\n",
       " (1904, 0.0846586),\n",
       " (205, 0.08463827),\n",
       " (1351, 0.084031604),\n",
       " (547, 0.08374899),\n",
       " (1043, 0.08370995),\n",
       " (222, 0.0836531),\n",
       " (2850, 0.083631136),\n",
       " (2565, 0.083551794),\n",
       " (1725, 0.08354669),\n",
       " (765, 0.083419695),\n",
       " (2534, 0.0832234),\n",
       " (1908, 0.083027095),\n",
       " (1061, 0.082861856),\n",
       " (1301, 0.08258393),\n",
       " (982, 0.08236962),\n",
       " (658, 0.082319014),\n",
       " (1961, 0.08224553),\n",
       " (185, 0.08218057),\n",
       " (2413, 0.08217334),\n",
       " (1458, 0.081972964),\n",
       " (47, 0.081759565),\n",
       " (798, 0.081735566),\n",
       " (1940, 0.081732355),\n",
       " (408, 0.081476875),\n",
       " (1742, 0.08123175),\n",
       " (374, 0.08117917),\n",
       " (2586, 0.08098561),\n",
       " (78, 0.08092778),\n",
       " (2599, 0.08084403),\n",
       " (2157, 0.08072832),\n",
       " (2468, 0.08069654),\n",
       " (32, 0.08044183),\n",
       " (1584, 0.08018086),\n",
       " (238, 0.0800666),\n",
       " (30, 0.07999179),\n",
       " (2673, 0.079981424),\n",
       " (1963, 0.07985082),\n",
       " (1704, 0.07977053),\n",
       " (525, 0.07962197),\n",
       " (2689, 0.07960473),\n",
       " (2318, 0.079592235),\n",
       " (1076, 0.07943672),\n",
       " (1373, 0.07941857),\n",
       " (1327, 0.07940337),\n",
       " (60, 0.07929791),\n",
       " (703, 0.07879178),\n",
       " (112, 0.078416064),\n",
       " (1468, 0.078409106),\n",
       " (474, 0.07767099),\n",
       " (2459, 0.07759111),\n",
       " (1016, 0.077355824),\n",
       " (149, 0.0772263),\n",
       " (1827, 0.07721116),\n",
       " (1585, 0.07714406),\n",
       " (1082, 0.07696248),\n",
       " (160, 0.07694583),\n",
       " (868, 0.07684075),\n",
       " (23, 0.07652903),\n",
       " (1648, 0.076241575),\n",
       " (2024, 0.07603758),\n",
       " (717, 0.07592108),\n",
       " (517, 0.07589718),\n",
       " (2881, 0.07555002),\n",
       " (969, 0.075485826),\n",
       " (239, 0.075482704),\n",
       " (2126, 0.07544985),\n",
       " (2416, 0.07512315),\n",
       " (1793, 0.074789405),\n",
       " (1354, 0.07470521),\n",
       " (2322, 0.07453125),\n",
       " (2201, 0.07431692),\n",
       " (1647, 0.07412025),\n",
       " (152, 0.07399239),\n",
       " (631, 0.07380396),\n",
       " (2806, 0.07369025),\n",
       " (1315, 0.073555745),\n",
       " (1297, 0.07334063),\n",
       " (587, 0.07329074),\n",
       " (310, 0.07326791),\n",
       " (319, 0.07292983),\n",
       " (2503, 0.07257494),\n",
       " (2472, 0.0725019),\n",
       " (2084, 0.07248606),\n",
       " (1136, 0.0724714),\n",
       " (2344, 0.07213623),\n",
       " (2179, 0.07196565),\n",
       " (2492, 0.07195555),\n",
       " (2400, 0.07189546),\n",
       " (2310, 0.07168841),\n",
       " (2749, 0.07150511),\n",
       " (5, 0.071280494),\n",
       " (714, 0.071201205),\n",
       " (2624, 0.07117953),\n",
       " (1450, 0.07116052),\n",
       " (1978, 0.07090399),\n",
       " (665, 0.07081746),\n",
       " (1737, 0.070735775),\n",
       " (2144, 0.07064193),\n",
       " (2945, 0.07054576),\n",
       " (407, 0.0704027),\n",
       " (1264, 0.070253),\n",
       " (2372, 0.070159554),\n",
       " (488, 0.070108354),\n",
       " (1279, 0.070053875),\n",
       " (2520, 0.06999936),\n",
       " (1533, 0.06985223),\n",
       " (1340, 0.0698324),\n",
       " (2, 0.06982451),\n",
       " (134, 0.069530286),\n",
       " (2145, 0.0694298),\n",
       " (1292, 0.06926528),\n",
       " (324, 0.069192566),\n",
       " (2971, 0.06918879),\n",
       " (1177, 0.06918703),\n",
       " (223, 0.06917236),\n",
       " (2776, 0.06907598),\n",
       " (2820, 0.068968706),\n",
       " (249, 0.068959296),\n",
       " (823, 0.068958566),\n",
       " (2692, 0.068954654),\n",
       " (2177, 0.06895414),\n",
       " (2262, 0.068952434),\n",
       " (2614, 0.06895091),\n",
       " (1758, 0.06895059),\n",
       " (1705, 0.06894222),\n",
       " (2170, 0.06893812),\n",
       " (382, 0.0689269),\n",
       " (2847, 0.06891407),\n",
       " (2295, 0.06881773),\n",
       " (1630, 0.068793364),\n",
       " (1369, 0.06859806),\n",
       " (66, 0.068574175),\n",
       " (2666, 0.068356745),\n",
       " (323, 0.068266064),\n",
       " (2249, 0.06826568),\n",
       " (148, 0.06824157),\n",
       " (712, 0.067931615),\n",
       " (2281, 0.06780891),\n",
       " (1579, 0.06768319),\n",
       " (268, 0.06740199),\n",
       " (2609, 0.067088544),\n",
       " (418, 0.06704241),\n",
       " (15, 0.0669086),\n",
       " (44, 0.066908054),\n",
       " (628, 0.066906884),\n",
       " (1743, 0.0668789),\n",
       " (923, 0.06641593),\n",
       " (2354, 0.066413455),\n",
       " (1293, 0.0662508),\n",
       " (1001, 0.06606125),\n",
       " (2687, 0.06603418),\n",
       " (1207, 0.065887384),\n",
       " (1408, 0.06579755),\n",
       " (1949, 0.06574777),\n",
       " (1608, 0.06569869),\n",
       " (1521, 0.065655455),\n",
       " (2022, 0.06565361),\n",
       " (828, 0.065589085),\n",
       " (815, 0.06553759),\n",
       " (2337, 0.06552515),\n",
       " (2275, 0.06541693),\n",
       " (1671, 0.06524862),\n",
       " (2919, 0.0652477),\n",
       " (1751, 0.06523528),\n",
       " (1586, 0.06522445),\n",
       " (799, 0.06517417),\n",
       " (10, 0.06501673),\n",
       " (970, 0.0649653),\n",
       " (1712, 0.06487904),\n",
       " (2952, 0.06487627),\n",
       " (442, 0.06464209),\n",
       " (2899, 0.06444889),\n",
       " (2633, 0.06437174),\n",
       " (1295, 0.06430109),\n",
       " (35, 0.06423672),\n",
       " (1350, 0.06421654),\n",
       " (2449, 0.06414293),\n",
       " (1214, 0.0641158),\n",
       " (340, 0.06390928),\n",
       " (2744, 0.06373775),\n",
       " (454, 0.06345126),\n",
       " (371, 0.06338278),\n",
       " (2270, 0.063361384),\n",
       " (2641, 0.063083164),\n",
       " (505, 0.062856644),\n",
       " (1822, 0.062754646),\n",
       " (1699, 0.062711455),\n",
       " (1490, 0.06256967),\n",
       " (1757, 0.062443167),\n",
       " (2636, 0.06244305),\n",
       " (647, 0.0624386),\n",
       " (1331, 0.062400267),\n",
       " (1208, 0.06231694),\n",
       " (357, 0.06194225),\n",
       " (1039, 0.06188454),\n",
       " (1644, 0.06178038),\n",
       " (2093, 0.061697487),\n",
       " (262, 0.061672993),\n",
       " (1167, 0.06157759),\n",
       " (2701, 0.061552048),\n",
       " (1394, 0.061487146),\n",
       " (2204, 0.061486393),\n",
       " (2865, 0.06148623),\n",
       " (2110, 0.06141582),\n",
       " (445, 0.061380543),\n",
       " (1484, 0.061286103),\n",
       " (1591, 0.061249353),\n",
       " (2907, 0.06112523),\n",
       " (1487, 0.061095405),\n",
       " (2470, 0.061032042),\n",
       " (1689, 0.060855307),\n",
       " (502, 0.060677595),\n",
       " (1999, 0.06047689),\n",
       " (1848, 0.06035318),\n",
       " (359, 0.060327943),\n",
       " (347, 0.060054567),\n",
       " (2885, 0.05996067),\n",
       " (2280, 0.059871424),\n",
       " (1165, 0.059861425),\n",
       " (195, 0.059655286),\n",
       " (1796, 0.05964951),\n",
       " (424, 0.059540153),\n",
       " (1463, 0.059390724),\n",
       " (1598, 0.05938994),\n",
       " (912, 0.05890012),\n",
       " (616, 0.058890007),\n",
       " (1639, 0.058821063),\n",
       " (1694, 0.058814734),\n",
       " (644, 0.058782637),\n",
       " (2943, 0.058756385),\n",
       " (312, 0.05850273),\n",
       " (2460, 0.058094926),\n",
       " (2114, 0.058042713),\n",
       " (2234, 0.058012724),\n",
       " (1987, 0.057988744),\n",
       " (849, 0.057975527),\n",
       " (1439, 0.05791647),\n",
       " (1814, 0.057862796),\n",
       " (1026, 0.05774774),\n",
       " (1831, 0.05757281),\n",
       " (618, 0.057437394),\n",
       " (269, 0.057317726),\n",
       " (2313, 0.056796733),\n",
       " (2672, 0.05678126),\n",
       " (534, 0.05644889),\n",
       " (2347, 0.056408014),\n",
       " (2324, 0.0563752),\n",
       " (1958, 0.05619676),\n",
       " (2891, 0.056195874),\n",
       " (1383, 0.05609201),\n",
       " (1020, 0.055935904),\n",
       " (2755, 0.055898827),\n",
       " (1559, 0.0557583),\n",
       " (141, 0.05571687),\n",
       " (277, 0.055656184),\n",
       " (307, 0.055561293),\n",
       " (971, 0.055530176),\n",
       " (2985, 0.055474203),\n",
       " (1773, 0.055407528),\n",
       " (1286, 0.055331714),\n",
       " (992, 0.055261746),\n",
       " (1322, 0.055058133),\n",
       " (2898, 0.054902457),\n",
       " (1779, 0.054890417),\n",
       " (2504, 0.054834202),\n",
       " (184, 0.054804925),\n",
       " (890, 0.054723613),\n",
       " (1690, 0.05469827),\n",
       " (1542, 0.054687217),\n",
       " (284, 0.054517325),\n",
       " (403, 0.05450553),\n",
       " (1419, 0.054378103),\n",
       " (2800, 0.054273356),\n",
       " (635, 0.054165974),\n",
       " (2756, 0.05413484),\n",
       " (2456, 0.054029427),\n",
       " (1852, 0.05402145),\n",
       " (1221, 0.053784642),\n",
       " (1925, 0.053657554),\n",
       " (2795, 0.053656958),\n",
       " (2877, 0.053618837),\n",
       " (2895, 0.0533622),\n",
       " (2548, 0.053216953),\n",
       " (1954, 0.05318424),\n",
       " (583, 0.05312021),\n",
       " (1116, 0.05310741),\n",
       " (2168, 0.053090014),\n",
       " (2356, 0.052973747),\n",
       " (1227, 0.052747183),\n",
       " (852, 0.05244143),\n",
       " (603, 0.052402932),\n",
       " (316, 0.052283965),\n",
       " (2702, 0.052275248),\n",
       " (781, 0.05226068),\n",
       " (117, 0.052252106),\n",
       " (1452, 0.052148372),\n",
       " (2477, 0.052026298),\n",
       " (1349, 0.051871035),\n",
       " (1028, 0.05184172),\n",
       " (1445, 0.05182763),\n",
       " (2096, 0.051787596),\n",
       " (592, 0.051403407),\n",
       " (330, 0.051288273),\n",
       " (2197, 0.051234666),\n",
       " (1236, 0.051227756),\n",
       " (2357, 0.051222842),\n",
       " (2859, 0.051121183),\n",
       " (1140, 0.05099096),\n",
       " (2362, 0.05096931),\n",
       " (233, 0.0508627),\n",
       " (1384, 0.050826654),\n",
       " (304, 0.050685402),\n",
       " (385, 0.050615765),\n",
       " (214, 0.050605368),\n",
       " (73, 0.05052116),\n",
       " (24, 0.050238594),\n",
       " (2668, 0.05023229),\n",
       " (1691, 0.0502122),\n",
       " (2236, 0.05018679),\n",
       " (2299, 0.050159786),\n",
       " (291, 0.050078206),\n",
       " (1220, 0.05005041),\n",
       " (1421, 0.049702622),\n",
       " (1807, 0.04962983),\n",
       " (987, 0.049588226),\n",
       " (336, 0.04957037),\n",
       " (2937, 0.049516197),\n",
       " (196, 0.04941917),\n",
       " (1423, 0.049225114),\n",
       " (2681, 0.04913609),\n",
       " (1557, 0.04902187),\n",
       " (1413, 0.04900761),\n",
       " (691, 0.049004324),\n",
       " (2235, 0.048894703),\n",
       " (252, 0.04885353),\n",
       " (2409, 0.048749935),\n",
       " ...]"
      ]
     },
     "execution_count": 182,
     "metadata": {},
     "output_type": "execute_result"
    }
   ],
   "source": [
    "# check the all similar items like by passing item index 1894\n",
    "model.similar_items(1894,2987)"
   ]
  },
  {
   "cell_type": "markdown",
   "metadata": {},
   "source": [
    "## Hybrid Recommendation \n",
    "\n",
    "- A hybrid recommender system is a combination of different recommendation models.\n",
    "- hybrid recommendation systems are a combination of both content and collaborative models. \n",
    "- The features of both models are combined to enhance the quality of recommendations made to a user."
   ]
  },
  {
   "cell_type": "code",
   "execution_count": 183,
   "metadata": {},
   "outputs": [
    {
     "data": {
      "text/plain": [
       "(72312, 3)"
      ]
     },
     "execution_count": 183,
     "metadata": {},
     "output_type": "execute_result"
    }
   ],
   "source": [
    "clean_consumer.shape"
   ]
  },
  {
   "cell_type": "code",
   "execution_count": 184,
   "metadata": {
    "scrolled": true
   },
   "outputs": [
    {
     "data": {
      "text/html": [
       "<div>\n",
       "<style scoped>\n",
       "    .dataframe tbody tr th:only-of-type {\n",
       "        vertical-align: middle;\n",
       "    }\n",
       "\n",
       "    .dataframe tbody tr th {\n",
       "        vertical-align: top;\n",
       "    }\n",
       "\n",
       "    .dataframe thead th {\n",
       "        text-align: right;\n",
       "    }\n",
       "</style>\n",
       "<table border=\"1\" class=\"dataframe\">\n",
       "  <thead>\n",
       "    <tr style=\"text-align: right;\">\n",
       "      <th></th>\n",
       "      <th>consumer_index</th>\n",
       "      <th>item_index</th>\n",
       "      <th>ratings</th>\n",
       "    </tr>\n",
       "  </thead>\n",
       "  <tbody>\n",
       "    <tr>\n",
       "      <th>0</th>\n",
       "      <td>33</td>\n",
       "      <td>933</td>\n",
       "      <td>1</td>\n",
       "    </tr>\n",
       "    <tr>\n",
       "      <th>1</th>\n",
       "      <td>831</td>\n",
       "      <td>2933</td>\n",
       "      <td>1</td>\n",
       "    </tr>\n",
       "    <tr>\n",
       "      <th>2</th>\n",
       "      <td>826</td>\n",
       "      <td>1537</td>\n",
       "      <td>1</td>\n",
       "    </tr>\n",
       "    <tr>\n",
       "      <th>3</th>\n",
       "      <td>974</td>\n",
       "      <td>1537</td>\n",
       "      <td>5</td>\n",
       "    </tr>\n",
       "    <tr>\n",
       "      <th>4</th>\n",
       "      <td>887</td>\n",
       "      <td>246</td>\n",
       "      <td>1</td>\n",
       "    </tr>\n",
       "  </tbody>\n",
       "</table>\n",
       "</div>"
      ],
      "text/plain": [
       "   consumer_index  item_index  ratings\n",
       "0              33         933        1\n",
       "1             831        2933        1\n",
       "2             826        1537        1\n",
       "3             974        1537        5\n",
       "4             887         246        1"
      ]
     },
     "execution_count": 184,
     "metadata": {},
     "output_type": "execute_result"
    }
   ],
   "source": [
    "clean_consumer.head()"
   ]
  },
  {
   "cell_type": "markdown",
   "metadata": {},
   "source": [
    "### Item based CF:"
   ]
  },
  {
   "cell_type": "code",
   "execution_count": 185,
   "metadata": {},
   "outputs": [],
   "source": [
    "# Create a pivot matirx from consumer data\n",
    "\n",
    "data_matrix_hybrid = pd.pivot_table(clean_consumer,\n",
    "                                    index=\"consumer_index\",\n",
    "                                    columns=\"item_index\",\n",
    "                                    values=\"ratings\").fillna(0)"
   ]
  },
  {
   "cell_type": "code",
   "execution_count": 186,
   "metadata": {},
   "outputs": [
    {
     "data": {
      "text/html": [
       "<div>\n",
       "<style scoped>\n",
       "    .dataframe tbody tr th:only-of-type {\n",
       "        vertical-align: middle;\n",
       "    }\n",
       "\n",
       "    .dataframe tbody tr th {\n",
       "        vertical-align: top;\n",
       "    }\n",
       "\n",
       "    .dataframe thead th {\n",
       "        text-align: right;\n",
       "    }\n",
       "</style>\n",
       "<table border=\"1\" class=\"dataframe\">\n",
       "  <thead>\n",
       "    <tr style=\"text-align: right;\">\n",
       "      <th>item_index</th>\n",
       "      <th>0</th>\n",
       "      <th>1</th>\n",
       "      <th>2</th>\n",
       "      <th>3</th>\n",
       "      <th>4</th>\n",
       "      <th>5</th>\n",
       "      <th>6</th>\n",
       "      <th>7</th>\n",
       "      <th>8</th>\n",
       "      <th>9</th>\n",
       "      <th>...</th>\n",
       "      <th>2977</th>\n",
       "      <th>2978</th>\n",
       "      <th>2979</th>\n",
       "      <th>2980</th>\n",
       "      <th>2981</th>\n",
       "      <th>2982</th>\n",
       "      <th>2983</th>\n",
       "      <th>2984</th>\n",
       "      <th>2985</th>\n",
       "      <th>2986</th>\n",
       "    </tr>\n",
       "    <tr>\n",
       "      <th>consumer_index</th>\n",
       "      <th></th>\n",
       "      <th></th>\n",
       "      <th></th>\n",
       "      <th></th>\n",
       "      <th></th>\n",
       "      <th></th>\n",
       "      <th></th>\n",
       "      <th></th>\n",
       "      <th></th>\n",
       "      <th></th>\n",
       "      <th></th>\n",
       "      <th></th>\n",
       "      <th></th>\n",
       "      <th></th>\n",
       "      <th></th>\n",
       "      <th></th>\n",
       "      <th></th>\n",
       "      <th></th>\n",
       "      <th></th>\n",
       "      <th></th>\n",
       "      <th></th>\n",
       "    </tr>\n",
       "  </thead>\n",
       "  <tbody>\n",
       "    <tr>\n",
       "      <th>0</th>\n",
       "      <td>0.0</td>\n",
       "      <td>0.0</td>\n",
       "      <td>0.0</td>\n",
       "      <td>0.0</td>\n",
       "      <td>0.0</td>\n",
       "      <td>0.0</td>\n",
       "      <td>0.0</td>\n",
       "      <td>0.0</td>\n",
       "      <td>0.0</td>\n",
       "      <td>0.0</td>\n",
       "      <td>...</td>\n",
       "      <td>0.0</td>\n",
       "      <td>0.0</td>\n",
       "      <td>0.0</td>\n",
       "      <td>0.0</td>\n",
       "      <td>0.0</td>\n",
       "      <td>0.0</td>\n",
       "      <td>0.0</td>\n",
       "      <td>0.0</td>\n",
       "      <td>0.0</td>\n",
       "      <td>0.0</td>\n",
       "    </tr>\n",
       "    <tr>\n",
       "      <th>1</th>\n",
       "      <td>0.0</td>\n",
       "      <td>0.0</td>\n",
       "      <td>0.0</td>\n",
       "      <td>0.0</td>\n",
       "      <td>0.0</td>\n",
       "      <td>0.0</td>\n",
       "      <td>0.0</td>\n",
       "      <td>0.0</td>\n",
       "      <td>0.0</td>\n",
       "      <td>0.0</td>\n",
       "      <td>...</td>\n",
       "      <td>0.0</td>\n",
       "      <td>0.0</td>\n",
       "      <td>0.0</td>\n",
       "      <td>0.0</td>\n",
       "      <td>0.0</td>\n",
       "      <td>0.0</td>\n",
       "      <td>0.0</td>\n",
       "      <td>0.0</td>\n",
       "      <td>0.0</td>\n",
       "      <td>0.0</td>\n",
       "    </tr>\n",
       "    <tr>\n",
       "      <th>2</th>\n",
       "      <td>0.0</td>\n",
       "      <td>1.5</td>\n",
       "      <td>0.0</td>\n",
       "      <td>0.0</td>\n",
       "      <td>0.0</td>\n",
       "      <td>0.0</td>\n",
       "      <td>0.0</td>\n",
       "      <td>0.0</td>\n",
       "      <td>0.0</td>\n",
       "      <td>0.0</td>\n",
       "      <td>...</td>\n",
       "      <td>0.0</td>\n",
       "      <td>0.0</td>\n",
       "      <td>0.0</td>\n",
       "      <td>0.0</td>\n",
       "      <td>0.0</td>\n",
       "      <td>0.0</td>\n",
       "      <td>0.0</td>\n",
       "      <td>0.0</td>\n",
       "      <td>0.0</td>\n",
       "      <td>0.0</td>\n",
       "    </tr>\n",
       "    <tr>\n",
       "      <th>3</th>\n",
       "      <td>0.0</td>\n",
       "      <td>0.0</td>\n",
       "      <td>0.0</td>\n",
       "      <td>0.0</td>\n",
       "      <td>0.0</td>\n",
       "      <td>0.0</td>\n",
       "      <td>0.0</td>\n",
       "      <td>0.0</td>\n",
       "      <td>0.0</td>\n",
       "      <td>0.0</td>\n",
       "      <td>...</td>\n",
       "      <td>0.0</td>\n",
       "      <td>0.0</td>\n",
       "      <td>0.0</td>\n",
       "      <td>0.0</td>\n",
       "      <td>0.0</td>\n",
       "      <td>0.0</td>\n",
       "      <td>0.0</td>\n",
       "      <td>0.0</td>\n",
       "      <td>0.0</td>\n",
       "      <td>0.0</td>\n",
       "    </tr>\n",
       "    <tr>\n",
       "      <th>4</th>\n",
       "      <td>0.0</td>\n",
       "      <td>0.0</td>\n",
       "      <td>0.0</td>\n",
       "      <td>0.0</td>\n",
       "      <td>0.0</td>\n",
       "      <td>0.0</td>\n",
       "      <td>0.0</td>\n",
       "      <td>0.0</td>\n",
       "      <td>0.0</td>\n",
       "      <td>0.0</td>\n",
       "      <td>...</td>\n",
       "      <td>0.0</td>\n",
       "      <td>0.0</td>\n",
       "      <td>0.0</td>\n",
       "      <td>0.0</td>\n",
       "      <td>0.0</td>\n",
       "      <td>0.0</td>\n",
       "      <td>0.0</td>\n",
       "      <td>0.0</td>\n",
       "      <td>0.0</td>\n",
       "      <td>0.0</td>\n",
       "    </tr>\n",
       "  </tbody>\n",
       "</table>\n",
       "<p>5 rows × 2987 columns</p>\n",
       "</div>"
      ],
      "text/plain": [
       "item_index      0     1     2     3     4     5     6     7     8     9     \\\n",
       "consumer_index                                                               \n",
       "0                0.0   0.0   0.0   0.0   0.0   0.0   0.0   0.0   0.0   0.0   \n",
       "1                0.0   0.0   0.0   0.0   0.0   0.0   0.0   0.0   0.0   0.0   \n",
       "2                0.0   1.5   0.0   0.0   0.0   0.0   0.0   0.0   0.0   0.0   \n",
       "3                0.0   0.0   0.0   0.0   0.0   0.0   0.0   0.0   0.0   0.0   \n",
       "4                0.0   0.0   0.0   0.0   0.0   0.0   0.0   0.0   0.0   0.0   \n",
       "\n",
       "item_index      ...  2977  2978  2979  2980  2981  2982  2983  2984  2985  \\\n",
       "consumer_index  ...                                                         \n",
       "0               ...   0.0   0.0   0.0   0.0   0.0   0.0   0.0   0.0   0.0   \n",
       "1               ...   0.0   0.0   0.0   0.0   0.0   0.0   0.0   0.0   0.0   \n",
       "2               ...   0.0   0.0   0.0   0.0   0.0   0.0   0.0   0.0   0.0   \n",
       "3               ...   0.0   0.0   0.0   0.0   0.0   0.0   0.0   0.0   0.0   \n",
       "4               ...   0.0   0.0   0.0   0.0   0.0   0.0   0.0   0.0   0.0   \n",
       "\n",
       "item_index      2986  \n",
       "consumer_index        \n",
       "0                0.0  \n",
       "1                0.0  \n",
       "2                0.0  \n",
       "3                0.0  \n",
       "4                0.0  \n",
       "\n",
       "[5 rows x 2987 columns]"
      ]
     },
     "execution_count": 186,
     "metadata": {},
     "output_type": "execute_result"
    }
   ],
   "source": [
    "data_matrix_hybrid.head()"
   ]
  },
  {
   "cell_type": "code",
   "execution_count": 187,
   "metadata": {},
   "outputs": [
    {
     "data": {
      "text/plain": [
       "(1895, 2987)"
      ]
     },
     "execution_count": 187,
     "metadata": {},
     "output_type": "execute_result"
    }
   ],
   "source": [
    "data_matrix_hybrid.shape # Check the shape"
   ]
  },
  {
   "cell_type": "code",
   "execution_count": 188,
   "metadata": {},
   "outputs": [
    {
     "data": {
      "text/plain": [
       "(2987, 1895)"
      ]
     },
     "execution_count": 188,
     "metadata": {},
     "output_type": "execute_result"
    }
   ],
   "source": [
    "data_matrix_hybrid.T.shape # Get the transpose of data matrix "
   ]
  },
  {
   "cell_type": "markdown",
   "metadata": {},
   "source": [
    "### Item Based Similarity"
   ]
  },
  {
   "cell_type": "code",
   "execution_count": 189,
   "metadata": {},
   "outputs": [],
   "source": [
    "from sklearn.metrics.pairwise import pairwise_distances "
   ]
  },
  {
   "cell_type": "code",
   "execution_count": 190,
   "metadata": {},
   "outputs": [],
   "source": [
    "# Calculate the item similarity by taking a transpose of user item matrix\n",
    "item_similarity = 1- pairwise_distances(data_matrix_hybrid.T, metric='cosine')"
   ]
  },
  {
   "cell_type": "code",
   "execution_count": 191,
   "metadata": {},
   "outputs": [
    {
     "data": {
      "text/plain": [
       "array([[1.        , 0.        , 0.        , ..., 0.33068092, 0.        ,\n",
       "        0.        ],\n",
       "       [0.        , 1.        , 0.        , ..., 0.        , 0.        ,\n",
       "        0.        ],\n",
       "       [0.        , 0.        , 1.        , ..., 0.        , 0.06716158,\n",
       "        0.08061138],\n",
       "       ...,\n",
       "       [0.33068092, 0.        , 0.        , ..., 1.        , 0.06174613,\n",
       "        0.14822286],\n",
       "       [0.        , 0.        , 0.06716158, ..., 0.06174613, 1.        ,\n",
       "        0.08331525],\n",
       "       [0.        , 0.        , 0.08061138, ..., 0.14822286, 0.08331525,\n",
       "        1.        ]])"
      ]
     },
     "execution_count": 191,
     "metadata": {},
     "output_type": "execute_result"
    }
   ],
   "source": [
    "item_similarity"
   ]
  },
  {
   "cell_type": "code",
   "execution_count": 192,
   "metadata": {},
   "outputs": [
    {
     "data": {
      "text/plain": [
       "(2987, 2987)"
      ]
     },
     "execution_count": 192,
     "metadata": {},
     "output_type": "execute_result"
    }
   ],
   "source": [
    "item_similarity.shape # Check the shape"
   ]
  },
  {
   "cell_type": "markdown",
   "metadata": {},
   "source": [
    "### Get similar recommended news for a news ID"
   ]
  },
  {
   "cell_type": "code",
   "execution_count": 193,
   "metadata": {},
   "outputs": [],
   "source": [
    "news_index = 819"
   ]
  },
  {
   "cell_type": "code",
   "execution_count": 194,
   "metadata": {},
   "outputs": [],
   "source": [
    "#Create a data frame by tking item similarity matrix.\n",
    "news_prediction = pd.DataFrame(item_similarity)"
   ]
  },
  {
   "cell_type": "code",
   "execution_count": 195,
   "metadata": {},
   "outputs": [
    {
     "data": {
      "text/html": [
       "<div>\n",
       "<style scoped>\n",
       "    .dataframe tbody tr th:only-of-type {\n",
       "        vertical-align: middle;\n",
       "    }\n",
       "\n",
       "    .dataframe tbody tr th {\n",
       "        vertical-align: top;\n",
       "    }\n",
       "\n",
       "    .dataframe thead th {\n",
       "        text-align: right;\n",
       "    }\n",
       "</style>\n",
       "<table border=\"1\" class=\"dataframe\">\n",
       "  <thead>\n",
       "    <tr style=\"text-align: right;\">\n",
       "      <th></th>\n",
       "      <th>0</th>\n",
       "      <th>1</th>\n",
       "      <th>2</th>\n",
       "      <th>3</th>\n",
       "      <th>4</th>\n",
       "      <th>5</th>\n",
       "      <th>6</th>\n",
       "      <th>7</th>\n",
       "      <th>8</th>\n",
       "      <th>9</th>\n",
       "      <th>...</th>\n",
       "      <th>2977</th>\n",
       "      <th>2978</th>\n",
       "      <th>2979</th>\n",
       "      <th>2980</th>\n",
       "      <th>2981</th>\n",
       "      <th>2982</th>\n",
       "      <th>2983</th>\n",
       "      <th>2984</th>\n",
       "      <th>2985</th>\n",
       "      <th>2986</th>\n",
       "    </tr>\n",
       "  </thead>\n",
       "  <tbody>\n",
       "    <tr>\n",
       "      <th>0</th>\n",
       "      <td>1.000000</td>\n",
       "      <td>0.0</td>\n",
       "      <td>0.000000</td>\n",
       "      <td>0.117469</td>\n",
       "      <td>0.168773</td>\n",
       "      <td>0.000000</td>\n",
       "      <td>0.0</td>\n",
       "      <td>0.286817</td>\n",
       "      <td>0.000000</td>\n",
       "      <td>0.000000</td>\n",
       "      <td>...</td>\n",
       "      <td>0.331998</td>\n",
       "      <td>0.237357</td>\n",
       "      <td>0.000000</td>\n",
       "      <td>0.629921</td>\n",
       "      <td>0.000000</td>\n",
       "      <td>0.000000</td>\n",
       "      <td>0.000000</td>\n",
       "      <td>0.330681</td>\n",
       "      <td>0.000000</td>\n",
       "      <td>0.000000</td>\n",
       "    </tr>\n",
       "    <tr>\n",
       "      <th>1</th>\n",
       "      <td>0.000000</td>\n",
       "      <td>1.0</td>\n",
       "      <td>0.000000</td>\n",
       "      <td>0.000000</td>\n",
       "      <td>0.000000</td>\n",
       "      <td>0.040093</td>\n",
       "      <td>0.0</td>\n",
       "      <td>0.000000</td>\n",
       "      <td>0.000000</td>\n",
       "      <td>0.000000</td>\n",
       "      <td>...</td>\n",
       "      <td>0.000000</td>\n",
       "      <td>0.000000</td>\n",
       "      <td>0.000000</td>\n",
       "      <td>0.000000</td>\n",
       "      <td>0.000000</td>\n",
       "      <td>0.000000</td>\n",
       "      <td>0.000000</td>\n",
       "      <td>0.000000</td>\n",
       "      <td>0.000000</td>\n",
       "      <td>0.000000</td>\n",
       "    </tr>\n",
       "    <tr>\n",
       "      <th>2</th>\n",
       "      <td>0.000000</td>\n",
       "      <td>0.0</td>\n",
       "      <td>1.000000</td>\n",
       "      <td>0.123798</td>\n",
       "      <td>0.000000</td>\n",
       "      <td>0.097025</td>\n",
       "      <td>0.0</td>\n",
       "      <td>0.000000</td>\n",
       "      <td>0.000000</td>\n",
       "      <td>0.000000</td>\n",
       "      <td>...</td>\n",
       "      <td>0.000000</td>\n",
       "      <td>0.000000</td>\n",
       "      <td>0.000000</td>\n",
       "      <td>0.000000</td>\n",
       "      <td>0.127458</td>\n",
       "      <td>0.342005</td>\n",
       "      <td>0.083122</td>\n",
       "      <td>0.000000</td>\n",
       "      <td>0.067162</td>\n",
       "      <td>0.080611</td>\n",
       "    </tr>\n",
       "    <tr>\n",
       "      <th>3</th>\n",
       "      <td>0.117469</td>\n",
       "      <td>0.0</td>\n",
       "      <td>0.123798</td>\n",
       "      <td>1.000000</td>\n",
       "      <td>0.000000</td>\n",
       "      <td>0.098583</td>\n",
       "      <td>0.0</td>\n",
       "      <td>0.107369</td>\n",
       "      <td>0.137361</td>\n",
       "      <td>0.118958</td>\n",
       "      <td>...</td>\n",
       "      <td>0.000000</td>\n",
       "      <td>0.194954</td>\n",
       "      <td>0.097129</td>\n",
       "      <td>0.092144</td>\n",
       "      <td>0.259010</td>\n",
       "      <td>0.086874</td>\n",
       "      <td>0.063343</td>\n",
       "      <td>0.165033</td>\n",
       "      <td>0.179131</td>\n",
       "      <td>0.000000</td>\n",
       "    </tr>\n",
       "    <tr>\n",
       "      <th>4</th>\n",
       "      <td>0.168773</td>\n",
       "      <td>0.0</td>\n",
       "      <td>0.000000</td>\n",
       "      <td>0.000000</td>\n",
       "      <td>1.000000</td>\n",
       "      <td>0.000000</td>\n",
       "      <td>0.0</td>\n",
       "      <td>0.000000</td>\n",
       "      <td>0.000000</td>\n",
       "      <td>0.000000</td>\n",
       "      <td>...</td>\n",
       "      <td>0.000000</td>\n",
       "      <td>0.161608</td>\n",
       "      <td>0.000000</td>\n",
       "      <td>0.204598</td>\n",
       "      <td>0.000000</td>\n",
       "      <td>0.000000</td>\n",
       "      <td>0.000000</td>\n",
       "      <td>0.000000</td>\n",
       "      <td>0.000000</td>\n",
       "      <td>0.000000</td>\n",
       "    </tr>\n",
       "    <tr>\n",
       "      <th>...</th>\n",
       "      <td>...</td>\n",
       "      <td>...</td>\n",
       "      <td>...</td>\n",
       "      <td>...</td>\n",
       "      <td>...</td>\n",
       "      <td>...</td>\n",
       "      <td>...</td>\n",
       "      <td>...</td>\n",
       "      <td>...</td>\n",
       "      <td>...</td>\n",
       "      <td>...</td>\n",
       "      <td>...</td>\n",
       "      <td>...</td>\n",
       "      <td>...</td>\n",
       "      <td>...</td>\n",
       "      <td>...</td>\n",
       "      <td>...</td>\n",
       "      <td>...</td>\n",
       "      <td>...</td>\n",
       "      <td>...</td>\n",
       "      <td>...</td>\n",
       "    </tr>\n",
       "    <tr>\n",
       "      <th>2982</th>\n",
       "      <td>0.000000</td>\n",
       "      <td>0.0</td>\n",
       "      <td>0.342005</td>\n",
       "      <td>0.086874</td>\n",
       "      <td>0.000000</td>\n",
       "      <td>0.113478</td>\n",
       "      <td>0.0</td>\n",
       "      <td>0.058161</td>\n",
       "      <td>0.000000</td>\n",
       "      <td>0.000000</td>\n",
       "      <td>...</td>\n",
       "      <td>0.000000</td>\n",
       "      <td>0.000000</td>\n",
       "      <td>0.000000</td>\n",
       "      <td>0.000000</td>\n",
       "      <td>0.074536</td>\n",
       "      <td>1.000000</td>\n",
       "      <td>0.072913</td>\n",
       "      <td>0.000000</td>\n",
       "      <td>0.058913</td>\n",
       "      <td>0.000000</td>\n",
       "    </tr>\n",
       "    <tr>\n",
       "      <th>2983</th>\n",
       "      <td>0.000000</td>\n",
       "      <td>0.0</td>\n",
       "      <td>0.083122</td>\n",
       "      <td>0.063343</td>\n",
       "      <td>0.000000</td>\n",
       "      <td>0.227536</td>\n",
       "      <td>0.0</td>\n",
       "      <td>0.212034</td>\n",
       "      <td>0.000000</td>\n",
       "      <td>0.199681</td>\n",
       "      <td>...</td>\n",
       "      <td>0.000000</td>\n",
       "      <td>0.335973</td>\n",
       "      <td>0.415749</td>\n",
       "      <td>0.000000</td>\n",
       "      <td>0.054346</td>\n",
       "      <td>0.072913</td>\n",
       "      <td>1.000000</td>\n",
       "      <td>0.251094</td>\n",
       "      <td>0.085910</td>\n",
       "      <td>0.103115</td>\n",
       "    </tr>\n",
       "    <tr>\n",
       "      <th>2984</th>\n",
       "      <td>0.330681</td>\n",
       "      <td>0.0</td>\n",
       "      <td>0.000000</td>\n",
       "      <td>0.165033</td>\n",
       "      <td>0.000000</td>\n",
       "      <td>0.000000</td>\n",
       "      <td>0.0</td>\n",
       "      <td>0.220972</td>\n",
       "      <td>0.000000</td>\n",
       "      <td>0.000000</td>\n",
       "      <td>...</td>\n",
       "      <td>0.000000</td>\n",
       "      <td>0.329281</td>\n",
       "      <td>0.284581</td>\n",
       "      <td>0.407613</td>\n",
       "      <td>0.000000</td>\n",
       "      <td>0.000000</td>\n",
       "      <td>0.251094</td>\n",
       "      <td>1.000000</td>\n",
       "      <td>0.061746</td>\n",
       "      <td>0.148223</td>\n",
       "    </tr>\n",
       "    <tr>\n",
       "      <th>2985</th>\n",
       "      <td>0.000000</td>\n",
       "      <td>0.0</td>\n",
       "      <td>0.067162</td>\n",
       "      <td>0.179131</td>\n",
       "      <td>0.000000</td>\n",
       "      <td>0.033427</td>\n",
       "      <td>0.0</td>\n",
       "      <td>0.034264</td>\n",
       "      <td>0.000000</td>\n",
       "      <td>0.000000</td>\n",
       "      <td>...</td>\n",
       "      <td>0.000000</td>\n",
       "      <td>0.049357</td>\n",
       "      <td>0.131733</td>\n",
       "      <td>0.000000</td>\n",
       "      <td>0.131733</td>\n",
       "      <td>0.058913</td>\n",
       "      <td>0.085910</td>\n",
       "      <td>0.061746</td>\n",
       "      <td>1.000000</td>\n",
       "      <td>0.083315</td>\n",
       "    </tr>\n",
       "    <tr>\n",
       "      <th>2986</th>\n",
       "      <td>0.000000</td>\n",
       "      <td>0.0</td>\n",
       "      <td>0.080611</td>\n",
       "      <td>0.000000</td>\n",
       "      <td>0.000000</td>\n",
       "      <td>0.000000</td>\n",
       "      <td>0.0</td>\n",
       "      <td>0.082252</td>\n",
       "      <td>0.000000</td>\n",
       "      <td>0.000000</td>\n",
       "      <td>...</td>\n",
       "      <td>0.000000</td>\n",
       "      <td>0.118482</td>\n",
       "      <td>0.158114</td>\n",
       "      <td>0.000000</td>\n",
       "      <td>0.000000</td>\n",
       "      <td>0.000000</td>\n",
       "      <td>0.103115</td>\n",
       "      <td>0.148223</td>\n",
       "      <td>0.083315</td>\n",
       "      <td>1.000000</td>\n",
       "    </tr>\n",
       "  </tbody>\n",
       "</table>\n",
       "<p>2987 rows × 2987 columns</p>\n",
       "</div>"
      ],
      "text/plain": [
       "          0     1         2         3         4         5     6         7     \\\n",
       "0     1.000000   0.0  0.000000  0.117469  0.168773  0.000000   0.0  0.286817   \n",
       "1     0.000000   1.0  0.000000  0.000000  0.000000  0.040093   0.0  0.000000   \n",
       "2     0.000000   0.0  1.000000  0.123798  0.000000  0.097025   0.0  0.000000   \n",
       "3     0.117469   0.0  0.123798  1.000000  0.000000  0.098583   0.0  0.107369   \n",
       "4     0.168773   0.0  0.000000  0.000000  1.000000  0.000000   0.0  0.000000   \n",
       "...        ...   ...       ...       ...       ...       ...   ...       ...   \n",
       "2982  0.000000   0.0  0.342005  0.086874  0.000000  0.113478   0.0  0.058161   \n",
       "2983  0.000000   0.0  0.083122  0.063343  0.000000  0.227536   0.0  0.212034   \n",
       "2984  0.330681   0.0  0.000000  0.165033  0.000000  0.000000   0.0  0.220972   \n",
       "2985  0.000000   0.0  0.067162  0.179131  0.000000  0.033427   0.0  0.034264   \n",
       "2986  0.000000   0.0  0.080611  0.000000  0.000000  0.000000   0.0  0.082252   \n",
       "\n",
       "          8         9     ...      2977      2978      2979      2980  \\\n",
       "0     0.000000  0.000000  ...  0.331998  0.237357  0.000000  0.629921   \n",
       "1     0.000000  0.000000  ...  0.000000  0.000000  0.000000  0.000000   \n",
       "2     0.000000  0.000000  ...  0.000000  0.000000  0.000000  0.000000   \n",
       "3     0.137361  0.118958  ...  0.000000  0.194954  0.097129  0.092144   \n",
       "4     0.000000  0.000000  ...  0.000000  0.161608  0.000000  0.204598   \n",
       "...        ...       ...  ...       ...       ...       ...       ...   \n",
       "2982  0.000000  0.000000  ...  0.000000  0.000000  0.000000  0.000000   \n",
       "2983  0.000000  0.199681  ...  0.000000  0.335973  0.415749  0.000000   \n",
       "2984  0.000000  0.000000  ...  0.000000  0.329281  0.284581  0.407613   \n",
       "2985  0.000000  0.000000  ...  0.000000  0.049357  0.131733  0.000000   \n",
       "2986  0.000000  0.000000  ...  0.000000  0.118482  0.158114  0.000000   \n",
       "\n",
       "          2981      2982      2983      2984      2985      2986  \n",
       "0     0.000000  0.000000  0.000000  0.330681  0.000000  0.000000  \n",
       "1     0.000000  0.000000  0.000000  0.000000  0.000000  0.000000  \n",
       "2     0.127458  0.342005  0.083122  0.000000  0.067162  0.080611  \n",
       "3     0.259010  0.086874  0.063343  0.165033  0.179131  0.000000  \n",
       "4     0.000000  0.000000  0.000000  0.000000  0.000000  0.000000  \n",
       "...        ...       ...       ...       ...       ...       ...  \n",
       "2982  0.074536  1.000000  0.072913  0.000000  0.058913  0.000000  \n",
       "2983  0.054346  0.072913  1.000000  0.251094  0.085910  0.103115  \n",
       "2984  0.000000  0.000000  0.251094  1.000000  0.061746  0.148223  \n",
       "2985  0.131733  0.058913  0.085910  0.061746  1.000000  0.083315  \n",
       "2986  0.000000  0.000000  0.103115  0.148223  0.083315  1.000000  \n",
       "\n",
       "[2987 rows x 2987 columns]"
      ]
     },
     "execution_count": 195,
     "metadata": {},
     "output_type": "execute_result"
    }
   ],
   "source": [
    "news_prediction"
   ]
  },
  {
   "cell_type": "code",
   "execution_count": 196,
   "metadata": {},
   "outputs": [
    {
     "data": {
      "text/html": [
       "<div>\n",
       "<style scoped>\n",
       "    .dataframe tbody tr th:only-of-type {\n",
       "        vertical-align: middle;\n",
       "    }\n",
       "\n",
       "    .dataframe tbody tr th {\n",
       "        vertical-align: top;\n",
       "    }\n",
       "\n",
       "    .dataframe thead th {\n",
       "        text-align: right;\n",
       "    }\n",
       "</style>\n",
       "<table border=\"1\" class=\"dataframe\">\n",
       "  <thead>\n",
       "    <tr style=\"text-align: right;\">\n",
       "      <th></th>\n",
       "      <th>0</th>\n",
       "      <th>1</th>\n",
       "      <th>2</th>\n",
       "      <th>3</th>\n",
       "      <th>4</th>\n",
       "      <th>5</th>\n",
       "      <th>6</th>\n",
       "      <th>7</th>\n",
       "      <th>8</th>\n",
       "      <th>9</th>\n",
       "      <th>...</th>\n",
       "      <th>2977</th>\n",
       "      <th>2978</th>\n",
       "      <th>2979</th>\n",
       "      <th>2980</th>\n",
       "      <th>2981</th>\n",
       "      <th>2982</th>\n",
       "      <th>2983</th>\n",
       "      <th>2984</th>\n",
       "      <th>2985</th>\n",
       "      <th>2986</th>\n",
       "    </tr>\n",
       "  </thead>\n",
       "  <tbody>\n",
       "    <tr>\n",
       "      <th>0</th>\n",
       "      <td>1.000000</td>\n",
       "      <td>0.000000</td>\n",
       "      <td>0.000000</td>\n",
       "      <td>0.117469</td>\n",
       "      <td>0.168773</td>\n",
       "      <td>0.000000</td>\n",
       "      <td>0.0</td>\n",
       "      <td>0.286817</td>\n",
       "      <td>0.000000</td>\n",
       "      <td>0.000000</td>\n",
       "      <td>...</td>\n",
       "      <td>0.331998</td>\n",
       "      <td>0.237357</td>\n",
       "      <td>0.000000</td>\n",
       "      <td>0.629921</td>\n",
       "      <td>0.000000</td>\n",
       "      <td>0.000000</td>\n",
       "      <td>0.000000</td>\n",
       "      <td>0.330681</td>\n",
       "      <td>0.000000</td>\n",
       "      <td>0.000000</td>\n",
       "    </tr>\n",
       "    <tr>\n",
       "      <th>1</th>\n",
       "      <td>0.000000</td>\n",
       "      <td>1.000000</td>\n",
       "      <td>0.000000</td>\n",
       "      <td>0.000000</td>\n",
       "      <td>0.000000</td>\n",
       "      <td>0.040093</td>\n",
       "      <td>0.0</td>\n",
       "      <td>0.000000</td>\n",
       "      <td>0.000000</td>\n",
       "      <td>0.000000</td>\n",
       "      <td>...</td>\n",
       "      <td>0.000000</td>\n",
       "      <td>0.000000</td>\n",
       "      <td>0.000000</td>\n",
       "      <td>0.000000</td>\n",
       "      <td>0.000000</td>\n",
       "      <td>0.000000</td>\n",
       "      <td>0.000000</td>\n",
       "      <td>0.000000</td>\n",
       "      <td>0.000000</td>\n",
       "      <td>0.000000</td>\n",
       "    </tr>\n",
       "    <tr>\n",
       "      <th>2</th>\n",
       "      <td>0.000000</td>\n",
       "      <td>0.000000</td>\n",
       "      <td>1.000000</td>\n",
       "      <td>0.123798</td>\n",
       "      <td>0.000000</td>\n",
       "      <td>0.097025</td>\n",
       "      <td>0.0</td>\n",
       "      <td>0.000000</td>\n",
       "      <td>0.000000</td>\n",
       "      <td>0.000000</td>\n",
       "      <td>...</td>\n",
       "      <td>0.000000</td>\n",
       "      <td>0.000000</td>\n",
       "      <td>0.000000</td>\n",
       "      <td>0.000000</td>\n",
       "      <td>0.127458</td>\n",
       "      <td>0.342005</td>\n",
       "      <td>0.083122</td>\n",
       "      <td>0.000000</td>\n",
       "      <td>0.067162</td>\n",
       "      <td>0.080611</td>\n",
       "    </tr>\n",
       "    <tr>\n",
       "      <th>3</th>\n",
       "      <td>0.117469</td>\n",
       "      <td>0.000000</td>\n",
       "      <td>0.123798</td>\n",
       "      <td>1.000000</td>\n",
       "      <td>0.000000</td>\n",
       "      <td>0.098583</td>\n",
       "      <td>0.0</td>\n",
       "      <td>0.107369</td>\n",
       "      <td>0.137361</td>\n",
       "      <td>0.118958</td>\n",
       "      <td>...</td>\n",
       "      <td>0.000000</td>\n",
       "      <td>0.194954</td>\n",
       "      <td>0.097129</td>\n",
       "      <td>0.092144</td>\n",
       "      <td>0.259010</td>\n",
       "      <td>0.086874</td>\n",
       "      <td>0.063343</td>\n",
       "      <td>0.165033</td>\n",
       "      <td>0.179131</td>\n",
       "      <td>0.000000</td>\n",
       "    </tr>\n",
       "    <tr>\n",
       "      <th>4</th>\n",
       "      <td>0.168773</td>\n",
       "      <td>0.000000</td>\n",
       "      <td>0.000000</td>\n",
       "      <td>0.000000</td>\n",
       "      <td>1.000000</td>\n",
       "      <td>0.000000</td>\n",
       "      <td>0.0</td>\n",
       "      <td>0.000000</td>\n",
       "      <td>0.000000</td>\n",
       "      <td>0.000000</td>\n",
       "      <td>...</td>\n",
       "      <td>0.000000</td>\n",
       "      <td>0.161608</td>\n",
       "      <td>0.000000</td>\n",
       "      <td>0.204598</td>\n",
       "      <td>0.000000</td>\n",
       "      <td>0.000000</td>\n",
       "      <td>0.000000</td>\n",
       "      <td>0.000000</td>\n",
       "      <td>0.000000</td>\n",
       "      <td>0.000000</td>\n",
       "    </tr>\n",
       "    <tr>\n",
       "      <th>5</th>\n",
       "      <td>0.000000</td>\n",
       "      <td>0.040093</td>\n",
       "      <td>0.097025</td>\n",
       "      <td>0.098583</td>\n",
       "      <td>0.000000</td>\n",
       "      <td>1.000000</td>\n",
       "      <td>0.0</td>\n",
       "      <td>0.098999</td>\n",
       "      <td>0.000000</td>\n",
       "      <td>0.000000</td>\n",
       "      <td>...</td>\n",
       "      <td>0.000000</td>\n",
       "      <td>0.047535</td>\n",
       "      <td>0.063436</td>\n",
       "      <td>0.000000</td>\n",
       "      <td>0.169163</td>\n",
       "      <td>0.113478</td>\n",
       "      <td>0.227536</td>\n",
       "      <td>0.000000</td>\n",
       "      <td>0.033427</td>\n",
       "      <td>0.000000</td>\n",
       "    </tr>\n",
       "    <tr>\n",
       "      <th>6</th>\n",
       "      <td>0.000000</td>\n",
       "      <td>0.000000</td>\n",
       "      <td>0.000000</td>\n",
       "      <td>0.000000</td>\n",
       "      <td>0.000000</td>\n",
       "      <td>0.000000</td>\n",
       "      <td>1.0</td>\n",
       "      <td>0.000000</td>\n",
       "      <td>0.000000</td>\n",
       "      <td>0.000000</td>\n",
       "      <td>...</td>\n",
       "      <td>0.000000</td>\n",
       "      <td>0.000000</td>\n",
       "      <td>0.000000</td>\n",
       "      <td>0.000000</td>\n",
       "      <td>0.000000</td>\n",
       "      <td>0.000000</td>\n",
       "      <td>0.000000</td>\n",
       "      <td>0.000000</td>\n",
       "      <td>0.000000</td>\n",
       "      <td>0.000000</td>\n",
       "    </tr>\n",
       "    <tr>\n",
       "      <th>7</th>\n",
       "      <td>0.286817</td>\n",
       "      <td>0.000000</td>\n",
       "      <td>0.000000</td>\n",
       "      <td>0.107369</td>\n",
       "      <td>0.000000</td>\n",
       "      <td>0.098999</td>\n",
       "      <td>0.0</td>\n",
       "      <td>1.000000</td>\n",
       "      <td>0.000000</td>\n",
       "      <td>0.000000</td>\n",
       "      <td>...</td>\n",
       "      <td>0.078031</td>\n",
       "      <td>0.309761</td>\n",
       "      <td>0.195077</td>\n",
       "      <td>0.123377</td>\n",
       "      <td>0.000000</td>\n",
       "      <td>0.058161</td>\n",
       "      <td>0.212034</td>\n",
       "      <td>0.220972</td>\n",
       "      <td>0.034264</td>\n",
       "      <td>0.082252</td>\n",
       "    </tr>\n",
       "    <tr>\n",
       "      <th>8</th>\n",
       "      <td>0.000000</td>\n",
       "      <td>0.000000</td>\n",
       "      <td>0.000000</td>\n",
       "      <td>0.137361</td>\n",
       "      <td>0.000000</td>\n",
       "      <td>0.000000</td>\n",
       "      <td>0.0</td>\n",
       "      <td>0.000000</td>\n",
       "      <td>1.000000</td>\n",
       "      <td>0.000000</td>\n",
       "      <td>...</td>\n",
       "      <td>0.000000</td>\n",
       "      <td>0.000000</td>\n",
       "      <td>0.000000</td>\n",
       "      <td>0.000000</td>\n",
       "      <td>0.235702</td>\n",
       "      <td>0.000000</td>\n",
       "      <td>0.000000</td>\n",
       "      <td>0.000000</td>\n",
       "      <td>0.000000</td>\n",
       "      <td>0.000000</td>\n",
       "    </tr>\n",
       "    <tr>\n",
       "      <th>9</th>\n",
       "      <td>0.000000</td>\n",
       "      <td>0.000000</td>\n",
       "      <td>0.000000</td>\n",
       "      <td>0.118958</td>\n",
       "      <td>0.000000</td>\n",
       "      <td>0.000000</td>\n",
       "      <td>0.0</td>\n",
       "      <td>0.000000</td>\n",
       "      <td>0.000000</td>\n",
       "      <td>1.000000</td>\n",
       "      <td>...</td>\n",
       "      <td>0.000000</td>\n",
       "      <td>0.229439</td>\n",
       "      <td>0.102062</td>\n",
       "      <td>0.000000</td>\n",
       "      <td>0.000000</td>\n",
       "      <td>0.000000</td>\n",
       "      <td>0.199681</td>\n",
       "      <td>0.000000</td>\n",
       "      <td>0.000000</td>\n",
       "      <td>0.000000</td>\n",
       "    </tr>\n",
       "  </tbody>\n",
       "</table>\n",
       "<p>10 rows × 2987 columns</p>\n",
       "</div>"
      ],
      "text/plain": [
       "       0         1         2         3         4         5     6         7     \\\n",
       "0  1.000000  0.000000  0.000000  0.117469  0.168773  0.000000   0.0  0.286817   \n",
       "1  0.000000  1.000000  0.000000  0.000000  0.000000  0.040093   0.0  0.000000   \n",
       "2  0.000000  0.000000  1.000000  0.123798  0.000000  0.097025   0.0  0.000000   \n",
       "3  0.117469  0.000000  0.123798  1.000000  0.000000  0.098583   0.0  0.107369   \n",
       "4  0.168773  0.000000  0.000000  0.000000  1.000000  0.000000   0.0  0.000000   \n",
       "5  0.000000  0.040093  0.097025  0.098583  0.000000  1.000000   0.0  0.098999   \n",
       "6  0.000000  0.000000  0.000000  0.000000  0.000000  0.000000   1.0  0.000000   \n",
       "7  0.286817  0.000000  0.000000  0.107369  0.000000  0.098999   0.0  1.000000   \n",
       "8  0.000000  0.000000  0.000000  0.137361  0.000000  0.000000   0.0  0.000000   \n",
       "9  0.000000  0.000000  0.000000  0.118958  0.000000  0.000000   0.0  0.000000   \n",
       "\n",
       "       8         9     ...      2977      2978      2979      2980      2981  \\\n",
       "0  0.000000  0.000000  ...  0.331998  0.237357  0.000000  0.629921  0.000000   \n",
       "1  0.000000  0.000000  ...  0.000000  0.000000  0.000000  0.000000  0.000000   \n",
       "2  0.000000  0.000000  ...  0.000000  0.000000  0.000000  0.000000  0.127458   \n",
       "3  0.137361  0.118958  ...  0.000000  0.194954  0.097129  0.092144  0.259010   \n",
       "4  0.000000  0.000000  ...  0.000000  0.161608  0.000000  0.204598  0.000000   \n",
       "5  0.000000  0.000000  ...  0.000000  0.047535  0.063436  0.000000  0.169163   \n",
       "6  0.000000  0.000000  ...  0.000000  0.000000  0.000000  0.000000  0.000000   \n",
       "7  0.000000  0.000000  ...  0.078031  0.309761  0.195077  0.123377  0.000000   \n",
       "8  1.000000  0.000000  ...  0.000000  0.000000  0.000000  0.000000  0.235702   \n",
       "9  0.000000  1.000000  ...  0.000000  0.229439  0.102062  0.000000  0.000000   \n",
       "\n",
       "       2982      2983      2984      2985      2986  \n",
       "0  0.000000  0.000000  0.330681  0.000000  0.000000  \n",
       "1  0.000000  0.000000  0.000000  0.000000  0.000000  \n",
       "2  0.342005  0.083122  0.000000  0.067162  0.080611  \n",
       "3  0.086874  0.063343  0.165033  0.179131  0.000000  \n",
       "4  0.000000  0.000000  0.000000  0.000000  0.000000  \n",
       "5  0.113478  0.227536  0.000000  0.033427  0.000000  \n",
       "6  0.000000  0.000000  0.000000  0.000000  0.000000  \n",
       "7  0.058161  0.212034  0.220972  0.034264  0.082252  \n",
       "8  0.000000  0.000000  0.000000  0.000000  0.000000  \n",
       "9  0.000000  0.199681  0.000000  0.000000  0.000000  \n",
       "\n",
       "[10 rows x 2987 columns]"
      ]
     },
     "execution_count": 196,
     "metadata": {},
     "output_type": "execute_result"
    }
   ],
   "source": [
    "news_prediction.head(10)"
   ]
  },
  {
   "cell_type": "code",
   "execution_count": 197,
   "metadata": {},
   "outputs": [],
   "source": [
    "# create an dataframe of predicted data\n",
    "item_recommendation = pd.DataFrame(news_prediction.iloc[news_index].sort_values(ascending=False))"
   ]
  },
  {
   "cell_type": "code",
   "execution_count": 198,
   "metadata": {},
   "outputs": [
    {
     "data": {
      "text/html": [
       "<div>\n",
       "<style scoped>\n",
       "    .dataframe tbody tr th:only-of-type {\n",
       "        vertical-align: middle;\n",
       "    }\n",
       "\n",
       "    .dataframe tbody tr th {\n",
       "        vertical-align: top;\n",
       "    }\n",
       "\n",
       "    .dataframe thead th {\n",
       "        text-align: right;\n",
       "    }\n",
       "</style>\n",
       "<table border=\"1\" class=\"dataframe\">\n",
       "  <thead>\n",
       "    <tr style=\"text-align: right;\">\n",
       "      <th></th>\n",
       "      <th>819</th>\n",
       "    </tr>\n",
       "  </thead>\n",
       "  <tbody>\n",
       "    <tr>\n",
       "      <th>819</th>\n",
       "      <td>1.000000</td>\n",
       "    </tr>\n",
       "    <tr>\n",
       "      <th>620</th>\n",
       "      <td>0.524865</td>\n",
       "    </tr>\n",
       "    <tr>\n",
       "      <th>1500</th>\n",
       "      <td>0.522644</td>\n",
       "    </tr>\n",
       "    <tr>\n",
       "      <th>2537</th>\n",
       "      <td>0.492920</td>\n",
       "    </tr>\n",
       "    <tr>\n",
       "      <th>209</th>\n",
       "      <td>0.491697</td>\n",
       "    </tr>\n",
       "    <tr>\n",
       "      <th>...</th>\n",
       "      <td>...</td>\n",
       "    </tr>\n",
       "    <tr>\n",
       "      <th>808</th>\n",
       "      <td>0.000000</td>\n",
       "    </tr>\n",
       "    <tr>\n",
       "      <th>2059</th>\n",
       "      <td>0.000000</td>\n",
       "    </tr>\n",
       "    <tr>\n",
       "      <th>810</th>\n",
       "      <td>0.000000</td>\n",
       "    </tr>\n",
       "    <tr>\n",
       "      <th>2056</th>\n",
       "      <td>0.000000</td>\n",
       "    </tr>\n",
       "    <tr>\n",
       "      <th>2191</th>\n",
       "      <td>0.000000</td>\n",
       "    </tr>\n",
       "  </tbody>\n",
       "</table>\n",
       "<p>2987 rows × 1 columns</p>\n",
       "</div>"
      ],
      "text/plain": [
       "           819\n",
       "819   1.000000\n",
       "620   0.524865\n",
       "1500  0.522644\n",
       "2537  0.492920\n",
       "209   0.491697\n",
       "...        ...\n",
       "808   0.000000\n",
       "2059  0.000000\n",
       "810   0.000000\n",
       "2056  0.000000\n",
       "2191  0.000000\n",
       "\n",
       "[2987 rows x 1 columns]"
      ]
     },
     "execution_count": 198,
     "metadata": {},
     "output_type": "execute_result"
    }
   ],
   "source": [
    "item_recommendation"
   ]
  },
  {
   "cell_type": "code",
   "execution_count": 199,
   "metadata": {},
   "outputs": [
    {
     "data": {
      "text/html": [
       "<div>\n",
       "<style scoped>\n",
       "    .dataframe tbody tr th:only-of-type {\n",
       "        vertical-align: middle;\n",
       "    }\n",
       "\n",
       "    .dataframe tbody tr th {\n",
       "        vertical-align: top;\n",
       "    }\n",
       "\n",
       "    .dataframe thead th {\n",
       "        text-align: right;\n",
       "    }\n",
       "</style>\n",
       "<table border=\"1\" class=\"dataframe\">\n",
       "  <thead>\n",
       "    <tr style=\"text-align: right;\">\n",
       "      <th></th>\n",
       "      <th>819</th>\n",
       "    </tr>\n",
       "  </thead>\n",
       "  <tbody>\n",
       "    <tr>\n",
       "      <th>819</th>\n",
       "      <td>1.000000</td>\n",
       "    </tr>\n",
       "    <tr>\n",
       "      <th>620</th>\n",
       "      <td>0.524865</td>\n",
       "    </tr>\n",
       "    <tr>\n",
       "      <th>1500</th>\n",
       "      <td>0.522644</td>\n",
       "    </tr>\n",
       "    <tr>\n",
       "      <th>2537</th>\n",
       "      <td>0.492920</td>\n",
       "    </tr>\n",
       "    <tr>\n",
       "      <th>209</th>\n",
       "      <td>0.491697</td>\n",
       "    </tr>\n",
       "  </tbody>\n",
       "</table>\n",
       "</div>"
      ],
      "text/plain": [
       "           819\n",
       "819   1.000000\n",
       "620   0.524865\n",
       "1500  0.522644\n",
       "2537  0.492920\n",
       "209   0.491697"
      ]
     },
     "execution_count": 199,
     "metadata": {},
     "output_type": "execute_result"
    }
   ],
   "source": [
    "item_recommendation.head()"
   ]
  },
  {
   "cell_type": "code",
   "execution_count": 200,
   "metadata": {},
   "outputs": [],
   "source": [
    "# reset the index so that the index will be continuous\n",
    "item_recommendation.reset_index(inplace=True)"
   ]
  },
  {
   "cell_type": "code",
   "execution_count": 201,
   "metadata": {},
   "outputs": [
    {
     "data": {
      "text/html": [
       "<div>\n",
       "<style scoped>\n",
       "    .dataframe tbody tr th:only-of-type {\n",
       "        vertical-align: middle;\n",
       "    }\n",
       "\n",
       "    .dataframe tbody tr th {\n",
       "        vertical-align: top;\n",
       "    }\n",
       "\n",
       "    .dataframe thead th {\n",
       "        text-align: right;\n",
       "    }\n",
       "</style>\n",
       "<table border=\"1\" class=\"dataframe\">\n",
       "  <thead>\n",
       "    <tr style=\"text-align: right;\">\n",
       "      <th></th>\n",
       "      <th>index</th>\n",
       "      <th>819</th>\n",
       "    </tr>\n",
       "  </thead>\n",
       "  <tbody>\n",
       "    <tr>\n",
       "      <th>0</th>\n",
       "      <td>819</td>\n",
       "      <td>1.000000</td>\n",
       "    </tr>\n",
       "    <tr>\n",
       "      <th>1</th>\n",
       "      <td>620</td>\n",
       "      <td>0.524865</td>\n",
       "    </tr>\n",
       "    <tr>\n",
       "      <th>2</th>\n",
       "      <td>1500</td>\n",
       "      <td>0.522644</td>\n",
       "    </tr>\n",
       "    <tr>\n",
       "      <th>3</th>\n",
       "      <td>2537</td>\n",
       "      <td>0.492920</td>\n",
       "    </tr>\n",
       "    <tr>\n",
       "      <th>4</th>\n",
       "      <td>209</td>\n",
       "      <td>0.491697</td>\n",
       "    </tr>\n",
       "  </tbody>\n",
       "</table>\n",
       "</div>"
      ],
      "text/plain": [
       "   index       819\n",
       "0    819  1.000000\n",
       "1    620  0.524865\n",
       "2   1500  0.522644\n",
       "3   2537  0.492920\n",
       "4    209  0.491697"
      ]
     },
     "execution_count": 201,
     "metadata": {},
     "output_type": "execute_result"
    }
   ],
   "source": [
    "item_recommendation.head()"
   ]
  },
  {
   "cell_type": "code",
   "execution_count": 202,
   "metadata": {},
   "outputs": [],
   "source": [
    "item_recommendation.columns = ['item_index', 'score'] # assign columns names to DataFrame"
   ]
  },
  {
   "cell_type": "code",
   "execution_count": 203,
   "metadata": {},
   "outputs": [
    {
     "data": {
      "text/html": [
       "<div>\n",
       "<style scoped>\n",
       "    .dataframe tbody tr th:only-of-type {\n",
       "        vertical-align: middle;\n",
       "    }\n",
       "\n",
       "    .dataframe tbody tr th {\n",
       "        vertical-align: top;\n",
       "    }\n",
       "\n",
       "    .dataframe thead th {\n",
       "        text-align: right;\n",
       "    }\n",
       "</style>\n",
       "<table border=\"1\" class=\"dataframe\">\n",
       "  <thead>\n",
       "    <tr style=\"text-align: right;\">\n",
       "      <th></th>\n",
       "      <th>item_index</th>\n",
       "      <th>score</th>\n",
       "    </tr>\n",
       "  </thead>\n",
       "  <tbody>\n",
       "    <tr>\n",
       "      <th>0</th>\n",
       "      <td>819</td>\n",
       "      <td>1.000000</td>\n",
       "    </tr>\n",
       "    <tr>\n",
       "      <th>1</th>\n",
       "      <td>620</td>\n",
       "      <td>0.524865</td>\n",
       "    </tr>\n",
       "    <tr>\n",
       "      <th>2</th>\n",
       "      <td>1500</td>\n",
       "      <td>0.522644</td>\n",
       "    </tr>\n",
       "    <tr>\n",
       "      <th>3</th>\n",
       "      <td>2537</td>\n",
       "      <td>0.492920</td>\n",
       "    </tr>\n",
       "    <tr>\n",
       "      <th>4</th>\n",
       "      <td>209</td>\n",
       "      <td>0.491697</td>\n",
       "    </tr>\n",
       "  </tbody>\n",
       "</table>\n",
       "</div>"
      ],
      "text/plain": [
       "   item_index     score\n",
       "0         819  1.000000\n",
       "1         620  0.524865\n",
       "2        1500  0.522644\n",
       "3        2537  0.492920\n",
       "4         209  0.491697"
      ]
     },
     "execution_count": 203,
     "metadata": {},
     "output_type": "execute_result"
    }
   ],
   "source": [
    "item_recommendation.head()"
   ]
  },
  {
   "cell_type": "markdown",
   "metadata": {},
   "source": [
    "### Merge news item id  with news title"
   ]
  },
  {
   "cell_type": "code",
   "execution_count": 204,
   "metadata": {},
   "outputs": [
    {
     "name": "stdout",
     "output_type": "stream",
     "text": [
      "(2987, 2)\n",
      "(2264, 3)\n"
     ]
    }
   ],
   "source": [
    "# Check the shape of dataframe whih are to be merged\n",
    "print(item_recommendation.shape)\n",
    "print(clean_english_content.shape)"
   ]
  },
  {
   "cell_type": "code",
   "execution_count": 205,
   "metadata": {},
   "outputs": [],
   "source": [
    "# Merge data frame  to get the Title and Title description\n",
    "# take item index as key relation \n",
    "merged_item_based = pd.merge(item_recommendation, clean_english_content, on='item_index', how='inner')"
   ]
  },
  {
   "cell_type": "code",
   "execution_count": 206,
   "metadata": {},
   "outputs": [
    {
     "data": {
      "text/plain": [
       "(2264, 4)"
      ]
     },
     "execution_count": 206,
     "metadata": {},
     "output_type": "execute_result"
    }
   ],
   "source": [
    "merged_item_based.shape"
   ]
  },
  {
   "cell_type": "code",
   "execution_count": 207,
   "metadata": {},
   "outputs": [
    {
     "data": {
      "text/html": [
       "<div>\n",
       "<style scoped>\n",
       "    .dataframe tbody tr th:only-of-type {\n",
       "        vertical-align: middle;\n",
       "    }\n",
       "\n",
       "    .dataframe tbody tr th {\n",
       "        vertical-align: top;\n",
       "    }\n",
       "\n",
       "    .dataframe thead th {\n",
       "        text-align: right;\n",
       "    }\n",
       "</style>\n",
       "<table border=\"1\" class=\"dataframe\">\n",
       "  <thead>\n",
       "    <tr style=\"text-align: right;\">\n",
       "      <th></th>\n",
       "      <th>item_index</th>\n",
       "      <th>score</th>\n",
       "      <th>title</th>\n",
       "      <th>text_description</th>\n",
       "    </tr>\n",
       "  </thead>\n",
       "  <tbody>\n",
       "    <tr>\n",
       "      <th>0</th>\n",
       "      <td>819</td>\n",
       "      <td>1.000000</td>\n",
       "      <td>Building A Better Workforce: 5 Talent Trends W...</td>\n",
       "      <td>As we take a look forward at what's new and wh...</td>\n",
       "    </tr>\n",
       "    <tr>\n",
       "      <th>1</th>\n",
       "      <td>620</td>\n",
       "      <td>0.524865</td>\n",
       "      <td>Game of Loans</td>\n",
       "      <td>As Queen-Mother Cersei undertook her walk of s...</td>\n",
       "    </tr>\n",
       "    <tr>\n",
       "      <th>2</th>\n",
       "      <td>1500</td>\n",
       "      <td>0.522644</td>\n",
       "      <td>\"It's time for self-directed 'smart' investing...</td>\n",
       "      <td>I recently had the chance to speak to Swanest ...</td>\n",
       "    </tr>\n",
       "    <tr>\n",
       "      <th>3</th>\n",
       "      <td>209</td>\n",
       "      <td>0.491697</td>\n",
       "      <td>Building on Slack Saved Our Startup</td>\n",
       "      <td>From the start, we did everything right with T...</td>\n",
       "    </tr>\n",
       "    <tr>\n",
       "      <th>4</th>\n",
       "      <td>1728</td>\n",
       "      <td>0.489476</td>\n",
       "      <td>Google employees are adding 'Lady' to their jo...</td>\n",
       "      <td>More than 800 members of Google's staff are st...</td>\n",
       "    </tr>\n",
       "  </tbody>\n",
       "</table>\n",
       "</div>"
      ],
      "text/plain": [
       "   item_index     score                                              title  \\\n",
       "0         819  1.000000  Building A Better Workforce: 5 Talent Trends W...   \n",
       "1         620  0.524865                                      Game of Loans   \n",
       "2        1500  0.522644  \"It's time for self-directed 'smart' investing...   \n",
       "3         209  0.491697                Building on Slack Saved Our Startup   \n",
       "4        1728  0.489476  Google employees are adding 'Lady' to their jo...   \n",
       "\n",
       "                                    text_description  \n",
       "0  As we take a look forward at what's new and wh...  \n",
       "1  As Queen-Mother Cersei undertook her walk of s...  \n",
       "2  I recently had the chance to speak to Swanest ...  \n",
       "3  From the start, we did everything right with T...  \n",
       "4  More than 800 members of Google's staff are st...  "
      ]
     },
     "execution_count": 207,
     "metadata": {},
     "output_type": "execute_result"
    }
   ],
   "source": [
    "merged_item_based.head() # Check  the data"
   ]
  },
  {
   "cell_type": "code",
   "execution_count": 208,
   "metadata": {},
   "outputs": [
    {
     "data": {
      "text/html": [
       "<div>\n",
       "<style scoped>\n",
       "    .dataframe tbody tr th:only-of-type {\n",
       "        vertical-align: middle;\n",
       "    }\n",
       "\n",
       "    .dataframe tbody tr th {\n",
       "        vertical-align: top;\n",
       "    }\n",
       "\n",
       "    .dataframe thead th {\n",
       "        text-align: right;\n",
       "    }\n",
       "</style>\n",
       "<table border=\"1\" class=\"dataframe\">\n",
       "  <thead>\n",
       "    <tr style=\"text-align: right;\">\n",
       "      <th></th>\n",
       "      <th>item_index</th>\n",
       "      <th>score</th>\n",
       "      <th>title</th>\n",
       "    </tr>\n",
       "  </thead>\n",
       "  <tbody>\n",
       "    <tr>\n",
       "      <th>0</th>\n",
       "      <td>819</td>\n",
       "      <td>1.000000</td>\n",
       "      <td>Building A Better Workforce: 5 Talent Trends W...</td>\n",
       "    </tr>\n",
       "    <tr>\n",
       "      <th>1</th>\n",
       "      <td>620</td>\n",
       "      <td>0.524865</td>\n",
       "      <td>Game of Loans</td>\n",
       "    </tr>\n",
       "    <tr>\n",
       "      <th>2</th>\n",
       "      <td>1500</td>\n",
       "      <td>0.522644</td>\n",
       "      <td>\"It's time for self-directed 'smart' investing...</td>\n",
       "    </tr>\n",
       "    <tr>\n",
       "      <th>3</th>\n",
       "      <td>209</td>\n",
       "      <td>0.491697</td>\n",
       "      <td>Building on Slack Saved Our Startup</td>\n",
       "    </tr>\n",
       "    <tr>\n",
       "      <th>4</th>\n",
       "      <td>1728</td>\n",
       "      <td>0.489476</td>\n",
       "      <td>Google employees are adding 'Lady' to their jo...</td>\n",
       "    </tr>\n",
       "  </tbody>\n",
       "</table>\n",
       "</div>"
      ],
      "text/plain": [
       "   item_index     score                                              title\n",
       "0         819  1.000000  Building A Better Workforce: 5 Talent Trends W...\n",
       "1         620  0.524865                                      Game of Loans\n",
       "2        1500  0.522644  \"It's time for self-directed 'smart' investing...\n",
       "3         209  0.491697                Building on Slack Saved Our Startup\n",
       "4        1728  0.489476  Google employees are adding 'Lady' to their jo..."
      ]
     },
     "execution_count": 208,
     "metadata": {},
     "output_type": "execute_result"
    }
   ],
   "source": [
    "# display only required columns\n",
    "merged_item_based[[\"item_index\",\"score\",\"title\"]].head()"
   ]
  },
  {
   "cell_type": "code",
   "execution_count": 209,
   "metadata": {},
   "outputs": [],
   "source": [
    "# If incase any NaN values are there. just remove them\n",
    "collab_output = merged_item_based[merged_item_based['title'].notna()] "
   ]
  },
  {
   "cell_type": "code",
   "execution_count": 210,
   "metadata": {
    "scrolled": true
   },
   "outputs": [
    {
     "data": {
      "text/html": [
       "<div>\n",
       "<style scoped>\n",
       "    .dataframe tbody tr th:only-of-type {\n",
       "        vertical-align: middle;\n",
       "    }\n",
       "\n",
       "    .dataframe tbody tr th {\n",
       "        vertical-align: top;\n",
       "    }\n",
       "\n",
       "    .dataframe thead th {\n",
       "        text-align: right;\n",
       "    }\n",
       "</style>\n",
       "<table border=\"1\" class=\"dataframe\">\n",
       "  <thead>\n",
       "    <tr style=\"text-align: right;\">\n",
       "      <th></th>\n",
       "      <th>item_index</th>\n",
       "      <th>score</th>\n",
       "      <th>title</th>\n",
       "    </tr>\n",
       "  </thead>\n",
       "  <tbody>\n",
       "    <tr>\n",
       "      <th>0</th>\n",
       "      <td>819</td>\n",
       "      <td>1.000000</td>\n",
       "      <td>Building A Better Workforce: 5 Talent Trends W...</td>\n",
       "    </tr>\n",
       "    <tr>\n",
       "      <th>1</th>\n",
       "      <td>620</td>\n",
       "      <td>0.524865</td>\n",
       "      <td>Game of Loans</td>\n",
       "    </tr>\n",
       "    <tr>\n",
       "      <th>2</th>\n",
       "      <td>1500</td>\n",
       "      <td>0.522644</td>\n",
       "      <td>\"It's time for self-directed 'smart' investing...</td>\n",
       "    </tr>\n",
       "    <tr>\n",
       "      <th>3</th>\n",
       "      <td>209</td>\n",
       "      <td>0.491697</td>\n",
       "      <td>Building on Slack Saved Our Startup</td>\n",
       "    </tr>\n",
       "    <tr>\n",
       "      <th>4</th>\n",
       "      <td>1728</td>\n",
       "      <td>0.489476</td>\n",
       "      <td>Google employees are adding 'Lady' to their jo...</td>\n",
       "    </tr>\n",
       "  </tbody>\n",
       "</table>\n",
       "</div>"
      ],
      "text/plain": [
       "   item_index     score                                              title\n",
       "0         819  1.000000  Building A Better Workforce: 5 Talent Trends W...\n",
       "1         620  0.524865                                      Game of Loans\n",
       "2        1500  0.522644  \"It's time for self-directed 'smart' investing...\n",
       "3         209  0.491697                Building on Slack Saved Our Startup\n",
       "4        1728  0.489476  Google employees are adding 'Lady' to their jo..."
      ]
     },
     "execution_count": 210,
     "metadata": {},
     "output_type": "execute_result"
    }
   ],
   "source": [
    "collab_output[[\"item_index\",\"score\",\"title\"]].head() # check the head"
   ]
  },
  {
   "cell_type": "markdown",
   "metadata": {},
   "source": [
    "### Normalize the score, so that comparision will be easier"
   ]
  },
  {
   "cell_type": "code",
   "execution_count": 211,
   "metadata": {},
   "outputs": [],
   "source": [
    "# min max normalization\n",
    "collab_output['collaborative_score_normalized'] = (collab_output['score']-min(collab_output['score']))/(max(collab_output['score'])-min(collab_output['score']))"
   ]
  },
  {
   "cell_type": "markdown",
   "metadata": {},
   "source": [
    "### Top 10 Recommendationb for Item Bases Collaborative Filtering"
   ]
  },
  {
   "cell_type": "code",
   "execution_count": 212,
   "metadata": {
    "scrolled": true
   },
   "outputs": [
    {
     "data": {
      "text/html": [
       "<div>\n",
       "<style scoped>\n",
       "    .dataframe tbody tr th:only-of-type {\n",
       "        vertical-align: middle;\n",
       "    }\n",
       "\n",
       "    .dataframe tbody tr th {\n",
       "        vertical-align: top;\n",
       "    }\n",
       "\n",
       "    .dataframe thead th {\n",
       "        text-align: right;\n",
       "    }\n",
       "</style>\n",
       "<table border=\"1\" class=\"dataframe\">\n",
       "  <thead>\n",
       "    <tr style=\"text-align: right;\">\n",
       "      <th></th>\n",
       "      <th>item_index</th>\n",
       "      <th>score</th>\n",
       "      <th>title</th>\n",
       "      <th>collaborative_score_normalized</th>\n",
       "    </tr>\n",
       "  </thead>\n",
       "  <tbody>\n",
       "    <tr>\n",
       "      <th>0</th>\n",
       "      <td>819</td>\n",
       "      <td>1.000000</td>\n",
       "      <td>Building A Better Workforce: 5 Talent Trends W...</td>\n",
       "      <td>1.000000</td>\n",
       "    </tr>\n",
       "    <tr>\n",
       "      <th>1</th>\n",
       "      <td>620</td>\n",
       "      <td>0.524865</td>\n",
       "      <td>Game of Loans</td>\n",
       "      <td>0.524865</td>\n",
       "    </tr>\n",
       "    <tr>\n",
       "      <th>2</th>\n",
       "      <td>1500</td>\n",
       "      <td>0.522644</td>\n",
       "      <td>\"It's time for self-directed 'smart' investing...</td>\n",
       "      <td>0.522644</td>\n",
       "    </tr>\n",
       "    <tr>\n",
       "      <th>3</th>\n",
       "      <td>209</td>\n",
       "      <td>0.491697</td>\n",
       "      <td>Building on Slack Saved Our Startup</td>\n",
       "      <td>0.491697</td>\n",
       "    </tr>\n",
       "    <tr>\n",
       "      <th>4</th>\n",
       "      <td>1728</td>\n",
       "      <td>0.489476</td>\n",
       "      <td>Google employees are adding 'Lady' to their jo...</td>\n",
       "      <td>0.489476</td>\n",
       "    </tr>\n",
       "    <tr>\n",
       "      <th>5</th>\n",
       "      <td>1589</td>\n",
       "      <td>0.480041</td>\n",
       "      <td>Do Crows Hold Funerals for Their Dead?</td>\n",
       "      <td>0.480041</td>\n",
       "    </tr>\n",
       "    <tr>\n",
       "      <th>6</th>\n",
       "      <td>468</td>\n",
       "      <td>0.470536</td>\n",
       "      <td>Coder | Drupal.org</td>\n",
       "      <td>0.470536</td>\n",
       "    </tr>\n",
       "    <tr>\n",
       "      <th>7</th>\n",
       "      <td>383</td>\n",
       "      <td>0.456016</td>\n",
       "      <td>Cloud Shell now GA, and still free</td>\n",
       "      <td>0.456016</td>\n",
       "    </tr>\n",
       "    <tr>\n",
       "      <th>8</th>\n",
       "      <td>360</td>\n",
       "      <td>0.444244</td>\n",
       "      <td>8 Books Stanford MBAs Recommend You Read This ...</td>\n",
       "      <td>0.444244</td>\n",
       "    </tr>\n",
       "    <tr>\n",
       "      <th>9</th>\n",
       "      <td>1997</td>\n",
       "      <td>0.433920</td>\n",
       "      <td>This motorized wheel adds electric power to yo...</td>\n",
       "      <td>0.433920</td>\n",
       "    </tr>\n",
       "  </tbody>\n",
       "</table>\n",
       "</div>"
      ],
      "text/plain": [
       "   item_index     score                                              title  \\\n",
       "0         819  1.000000  Building A Better Workforce: 5 Talent Trends W...   \n",
       "1         620  0.524865                                      Game of Loans   \n",
       "2        1500  0.522644  \"It's time for self-directed 'smart' investing...   \n",
       "3         209  0.491697                Building on Slack Saved Our Startup   \n",
       "4        1728  0.489476  Google employees are adding 'Lady' to their jo...   \n",
       "5        1589  0.480041             Do Crows Hold Funerals for Their Dead?   \n",
       "6         468  0.470536                                 Coder | Drupal.org   \n",
       "7         383  0.456016                 Cloud Shell now GA, and still free   \n",
       "8         360  0.444244  8 Books Stanford MBAs Recommend You Read This ...   \n",
       "9        1997  0.433920  This motorized wheel adds electric power to yo...   \n",
       "\n",
       "   collaborative_score_normalized  \n",
       "0                        1.000000  \n",
       "1                        0.524865  \n",
       "2                        0.522644  \n",
       "3                        0.491697  \n",
       "4                        0.489476  \n",
       "5                        0.480041  \n",
       "6                        0.470536  \n",
       "7                        0.456016  \n",
       "8                        0.444244  \n",
       "9                        0.433920  "
      ]
     },
     "execution_count": 212,
     "metadata": {},
     "output_type": "execute_result"
    }
   ],
   "source": [
    "# Select only required columns\n",
    "collab_output[[\"item_index\",\"score\",\"title\",\"collaborative_score_normalized\"]].head(10)"
   ]
  },
  {
   "cell_type": "markdown",
   "metadata": {},
   "source": [
    "### Precision@K\n",
    "- precision is the measure of the actual number of items that a user likes out of all the recommendations"
   ]
  },
  {
   "cell_type": "code",
   "execution_count": 213,
   "metadata": {},
   "outputs": [
    {
     "data": {
      "text/plain": [
       "array([ 819,  620, 1500,  209, 1728, 1589,  468,  383,  360, 1997],\n",
       "      dtype=int64)"
      ]
     },
     "execution_count": 213,
     "metadata": {},
     "output_type": "execute_result"
    }
   ],
   "source": [
    "# get 10 predicted items\n",
    "pred_set = merged_item_based[\"item_index\"].values[:10]\n",
    "pred_set"
   ]
  },
  {
   "cell_type": "code",
   "execution_count": 214,
   "metadata": {
    "scrolled": false
   },
   "outputs": [],
   "source": [
    "# clean_consumer[clean_consumer[\"item_index\"]==2394]"
   ]
  },
  {
   "cell_type": "markdown",
   "metadata": {},
   "source": [
    "### Check precision of a Consumer Index:"
   ]
  },
  {
   "cell_type": "code",
   "execution_count": 215,
   "metadata": {},
   "outputs": [],
   "source": [
    "consumer_index = 804"
   ]
  },
  {
   "cell_type": "code",
   "execution_count": 216,
   "metadata": {},
   "outputs": [],
   "source": [
    "#  clean_consumer[(clean_consumer[\"ratings\"]>=3)]"
   ]
  },
  {
   "cell_type": "code",
   "execution_count": 217,
   "metadata": {},
   "outputs": [],
   "source": [
    "# Filter the items where the consumer has rated 3 or more than 3 to news items\n",
    "ratings_filtered = clean_consumer[(clean_consumer[\"ratings\"]>3) & (clean_consumer[\"consumer_index\"]==consumer_index)]"
   ]
  },
  {
   "cell_type": "code",
   "execution_count": 218,
   "metadata": {},
   "outputs": [
    {
     "data": {
      "text/html": [
       "<div>\n",
       "<style scoped>\n",
       "    .dataframe tbody tr th:only-of-type {\n",
       "        vertical-align: middle;\n",
       "    }\n",
       "\n",
       "    .dataframe tbody tr th {\n",
       "        vertical-align: top;\n",
       "    }\n",
       "\n",
       "    .dataframe thead th {\n",
       "        text-align: right;\n",
       "    }\n",
       "</style>\n",
       "<table border=\"1\" class=\"dataframe\">\n",
       "  <thead>\n",
       "    <tr style=\"text-align: right;\">\n",
       "      <th></th>\n",
       "      <th>consumer_index</th>\n",
       "      <th>item_index</th>\n",
       "      <th>ratings</th>\n",
       "    </tr>\n",
       "  </thead>\n",
       "  <tbody>\n",
       "    <tr>\n",
       "      <th>61</th>\n",
       "      <td>804</td>\n",
       "      <td>819</td>\n",
       "      <td>4</td>\n",
       "    </tr>\n",
       "    <tr>\n",
       "      <th>62</th>\n",
       "      <td>804</td>\n",
       "      <td>819</td>\n",
       "      <td>4</td>\n",
       "    </tr>\n",
       "    <tr>\n",
       "      <th>69</th>\n",
       "      <td>804</td>\n",
       "      <td>819</td>\n",
       "      <td>5</td>\n",
       "    </tr>\n",
       "    <tr>\n",
       "      <th>8465</th>\n",
       "      <td>804</td>\n",
       "      <td>620</td>\n",
       "      <td>4</td>\n",
       "    </tr>\n",
       "    <tr>\n",
       "      <th>27906</th>\n",
       "      <td>804</td>\n",
       "      <td>2539</td>\n",
       "      <td>4</td>\n",
       "    </tr>\n",
       "    <tr>\n",
       "      <th>34668</th>\n",
       "      <td>804</td>\n",
       "      <td>1686</td>\n",
       "      <td>5</td>\n",
       "    </tr>\n",
       "    <tr>\n",
       "      <th>34688</th>\n",
       "      <td>804</td>\n",
       "      <td>1686</td>\n",
       "      <td>4</td>\n",
       "    </tr>\n",
       "  </tbody>\n",
       "</table>\n",
       "</div>"
      ],
      "text/plain": [
       "       consumer_index  item_index  ratings\n",
       "61                804         819        4\n",
       "62                804         819        4\n",
       "69                804         819        5\n",
       "8465              804         620        4\n",
       "27906             804        2539        4\n",
       "34668             804        1686        5\n",
       "34688             804        1686        4"
      ]
     },
     "execution_count": 218,
     "metadata": {},
     "output_type": "execute_result"
    }
   ],
   "source": [
    "ratings_filtered"
   ]
  },
  {
   "cell_type": "code",
   "execution_count": 219,
   "metadata": {},
   "outputs": [
    {
     "data": {
      "text/plain": [
       "array([ 819,  819,  819,  620, 2539, 1686, 1686], dtype=int64)"
      ]
     },
     "execution_count": 219,
     "metadata": {},
     "output_type": "execute_result"
    }
   ],
   "source": [
    "relevant_set = ratings_filtered.item_index.values\n",
    "relevant_set\n"
   ]
  },
  {
   "cell_type": "code",
   "execution_count": 220,
   "metadata": {},
   "outputs": [
    {
     "data": {
      "text/plain": [
       "[819, 620]"
      ]
     },
     "execution_count": 220,
     "metadata": {},
     "output_type": "execute_result"
    }
   ],
   "source": [
    "list(set(relevant_set) & set(pred_set))"
   ]
  },
  {
   "cell_type": "code",
   "execution_count": 221,
   "metadata": {},
   "outputs": [],
   "source": [
    "precision_at_10 = len(list(set(relevant_set) & set(pred_set)))/10"
   ]
  },
  {
   "cell_type": "code",
   "execution_count": 222,
   "metadata": {},
   "outputs": [
    {
     "data": {
      "text/plain": [
       "0.2"
      ]
     },
     "execution_count": 222,
     "metadata": {},
     "output_type": "execute_result"
    }
   ],
   "source": [
    "precision_at_10"
   ]
  },
  {
   "cell_type": "markdown",
   "metadata": {},
   "source": [
    "- __For consumer_index = 804, the precision comes as 0.2, as the consumer has rated the item 819.__\n",
    "- __if the consumer has not rated the item, then precision can be zero.__"
   ]
  },
  {
   "cell_type": "markdown",
   "metadata": {},
   "source": [
    "### Global Average Precision @K\n",
    "\n",
    "-  __Mean Average Precision at k (MAP@k): MAP@k is the average of precision at value from 1 to k where k is the number of recommendations.__\n",
    "\n",
    "\n",
    "- __Global precision@k value which gives an overall idea of how the model is performing considering all the users with the predicted list containing relevant items for each of them.__"
   ]
  },
  {
   "cell_type": "code",
   "execution_count": 223,
   "metadata": {},
   "outputs": [
    {
     "data": {
      "text/plain": [
       "1895"
      ]
     },
     "execution_count": 223,
     "metadata": {},
     "output_type": "execute_result"
    }
   ],
   "source": [
    "clean_consumer.consumer_index.nunique()"
   ]
  },
  {
   "cell_type": "code",
   "execution_count": 224,
   "metadata": {
    "scrolled": true
   },
   "outputs": [
    {
     "name": "stdout",
     "output_type": "stream",
     "text": [
      "509 ---> 0.2\n",
      "831 ---> 0.2\n",
      "1114 ---> 0.1\n",
      "1286 ---> 0.1\n",
      "1379 ---> 0.1\n",
      "1650 ---> 0.1\n",
      "1884 ---> 0.1\n"
     ]
    }
   ],
   "source": [
    "# Calculate the global precision\n",
    "global_precision = 0\n",
    "for user_index in range(0,1895):\n",
    "    user_relevant_set = clean_consumer[(clean_consumer[\"ratings\"]>=3) & \n",
    "                                       (clean_consumer[\"consumer_index\"]==user_index)].\\\n",
    "                                        sort_values(by=\"ratings\",ascending=False)[\"item_index\"].tolist()\n",
    "    \n",
    "    user_predicted_set = news_prediction.iloc[user_index].sort_values(ascending=False)[:10].index.tolist()\n",
    "    \n",
    "    precision_at_10 = (len(list(set(user_relevant_set) & set(user_predicted_set))))/10\n",
    "    \n",
    "    if precision_at_10 !=0:  # filter where precision is zero \n",
    "        print(user_index,\"--->\", precision_at_10)\n",
    "    global_precision = global_precision + precision_at_10"
   ]
  },
  {
   "cell_type": "code",
   "execution_count": 225,
   "metadata": {},
   "outputs": [
    {
     "data": {
      "text/plain": [
       "0.8999999999999999"
      ]
     },
     "execution_count": 225,
     "metadata": {},
     "output_type": "execute_result"
    }
   ],
   "source": [
    "global_precision"
   ]
  },
  {
   "cell_type": "code",
   "execution_count": 226,
   "metadata": {},
   "outputs": [
    {
     "data": {
      "text/plain": [
       "0.00047493403693931396"
      ]
     },
     "execution_count": 226,
     "metadata": {},
     "output_type": "execute_result"
    }
   ],
   "source": [
    "# Calculate the Global Average Precision \n",
    "global_average_precision = global_precision/clean_consumer[\"consumer_index\"].nunique()\n",
    "global_average_precision"
   ]
  },
  {
   "cell_type": "code",
   "execution_count": 227,
   "metadata": {
    "scrolled": true
   },
   "outputs": [
    {
     "data": {
      "text/html": [
       "<div>\n",
       "<style scoped>\n",
       "    .dataframe tbody tr th:only-of-type {\n",
       "        vertical-align: middle;\n",
       "    }\n",
       "\n",
       "    .dataframe tbody tr th {\n",
       "        vertical-align: top;\n",
       "    }\n",
       "\n",
       "    .dataframe thead th {\n",
       "        text-align: right;\n",
       "    }\n",
       "</style>\n",
       "<table border=\"1\" class=\"dataframe\">\n",
       "  <thead>\n",
       "    <tr style=\"text-align: right;\">\n",
       "      <th></th>\n",
       "      <th>consumer_index</th>\n",
       "      <th>item_index</th>\n",
       "      <th>ratings</th>\n",
       "    </tr>\n",
       "  </thead>\n",
       "  <tbody>\n",
       "    <tr>\n",
       "      <th>0</th>\n",
       "      <td>33</td>\n",
       "      <td>933</td>\n",
       "      <td>1</td>\n",
       "    </tr>\n",
       "    <tr>\n",
       "      <th>1</th>\n",
       "      <td>831</td>\n",
       "      <td>2933</td>\n",
       "      <td>1</td>\n",
       "    </tr>\n",
       "    <tr>\n",
       "      <th>2</th>\n",
       "      <td>826</td>\n",
       "      <td>1537</td>\n",
       "      <td>1</td>\n",
       "    </tr>\n",
       "    <tr>\n",
       "      <th>3</th>\n",
       "      <td>974</td>\n",
       "      <td>1537</td>\n",
       "      <td>5</td>\n",
       "    </tr>\n",
       "    <tr>\n",
       "      <th>4</th>\n",
       "      <td>887</td>\n",
       "      <td>246</td>\n",
       "      <td>1</td>\n",
       "    </tr>\n",
       "  </tbody>\n",
       "</table>\n",
       "</div>"
      ],
      "text/plain": [
       "   consumer_index  item_index  ratings\n",
       "0              33         933        1\n",
       "1             831        2933        1\n",
       "2             826        1537        1\n",
       "3             974        1537        5\n",
       "4             887         246        1"
      ]
     },
     "execution_count": 227,
     "metadata": {},
     "output_type": "execute_result"
    }
   ],
   "source": [
    "clean_consumer.head()"
   ]
  },
  {
   "cell_type": "markdown",
   "metadata": {},
   "source": [
    "### Continue with the Content Recommendation prediction :\n",
    "- This will be used in Hybrid recommendation model"
   ]
  },
  {
   "cell_type": "code",
   "execution_count": 228,
   "metadata": {},
   "outputs": [
    {
     "data": {
      "text/plain": [
       "pandas.core.series.Series"
      ]
     },
     "execution_count": 228,
     "metadata": {},
     "output_type": "execute_result"
    }
   ],
   "source": [
    "type(content_output_news)"
   ]
  },
  {
   "cell_type": "code",
   "execution_count": 229,
   "metadata": {},
   "outputs": [],
   "source": [
    "# create a dataframe from content based model output\n",
    "content_df = pd.DataFrame(content_output_news)"
   ]
  },
  {
   "cell_type": "code",
   "execution_count": 230,
   "metadata": {},
   "outputs": [
    {
     "data": {
      "text/html": [
       "<div>\n",
       "<style scoped>\n",
       "    .dataframe tbody tr th:only-of-type {\n",
       "        vertical-align: middle;\n",
       "    }\n",
       "\n",
       "    .dataframe tbody tr th {\n",
       "        vertical-align: top;\n",
       "    }\n",
       "\n",
       "    .dataframe thead th {\n",
       "        text-align: right;\n",
       "    }\n",
       "</style>\n",
       "<table border=\"1\" class=\"dataframe\">\n",
       "  <thead>\n",
       "    <tr style=\"text-align: right;\">\n",
       "      <th></th>\n",
       "      <th>0</th>\n",
       "    </tr>\n",
       "  </thead>\n",
       "  <tbody>\n",
       "    <tr>\n",
       "      <th>1894</th>\n",
       "      <td>1.000000</td>\n",
       "    </tr>\n",
       "    <tr>\n",
       "      <th>1192</th>\n",
       "      <td>0.243433</td>\n",
       "    </tr>\n",
       "    <tr>\n",
       "      <th>983</th>\n",
       "      <td>0.227312</td>\n",
       "    </tr>\n",
       "    <tr>\n",
       "      <th>1050</th>\n",
       "      <td>0.222530</td>\n",
       "    </tr>\n",
       "    <tr>\n",
       "      <th>2211</th>\n",
       "      <td>0.221113</td>\n",
       "    </tr>\n",
       "  </tbody>\n",
       "</table>\n",
       "</div>"
      ],
      "text/plain": [
       "             0\n",
       "1894  1.000000\n",
       "1192  0.243433\n",
       "983   0.227312\n",
       "1050  0.222530\n",
       "2211  0.221113"
      ]
     },
     "execution_count": 230,
     "metadata": {},
     "output_type": "execute_result"
    }
   ],
   "source": [
    "content_df.head()"
   ]
  },
  {
   "cell_type": "code",
   "execution_count": 231,
   "metadata": {},
   "outputs": [],
   "source": [
    "# reset the index to make the index continuous\n",
    "content_df.reset_index(inplace=True)"
   ]
  },
  {
   "cell_type": "code",
   "execution_count": 232,
   "metadata": {},
   "outputs": [
    {
     "data": {
      "text/html": [
       "<div>\n",
       "<style scoped>\n",
       "    .dataframe tbody tr th:only-of-type {\n",
       "        vertical-align: middle;\n",
       "    }\n",
       "\n",
       "    .dataframe tbody tr th {\n",
       "        vertical-align: top;\n",
       "    }\n",
       "\n",
       "    .dataframe thead th {\n",
       "        text-align: right;\n",
       "    }\n",
       "</style>\n",
       "<table border=\"1\" class=\"dataframe\">\n",
       "  <thead>\n",
       "    <tr style=\"text-align: right;\">\n",
       "      <th></th>\n",
       "      <th>index</th>\n",
       "      <th>0</th>\n",
       "    </tr>\n",
       "  </thead>\n",
       "  <tbody>\n",
       "    <tr>\n",
       "      <th>0</th>\n",
       "      <td>1894</td>\n",
       "      <td>1.000000</td>\n",
       "    </tr>\n",
       "    <tr>\n",
       "      <th>1</th>\n",
       "      <td>1192</td>\n",
       "      <td>0.243433</td>\n",
       "    </tr>\n",
       "    <tr>\n",
       "      <th>2</th>\n",
       "      <td>983</td>\n",
       "      <td>0.227312</td>\n",
       "    </tr>\n",
       "    <tr>\n",
       "      <th>3</th>\n",
       "      <td>1050</td>\n",
       "      <td>0.222530</td>\n",
       "    </tr>\n",
       "    <tr>\n",
       "      <th>4</th>\n",
       "      <td>2211</td>\n",
       "      <td>0.221113</td>\n",
       "    </tr>\n",
       "  </tbody>\n",
       "</table>\n",
       "</div>"
      ],
      "text/plain": [
       "   index         0\n",
       "0   1894  1.000000\n",
       "1   1192  0.243433\n",
       "2    983  0.227312\n",
       "3   1050  0.222530\n",
       "4   2211  0.221113"
      ]
     },
     "execution_count": 232,
     "metadata": {},
     "output_type": "execute_result"
    }
   ],
   "source": [
    "content_df.head()"
   ]
  },
  {
   "cell_type": "code",
   "execution_count": 233,
   "metadata": {},
   "outputs": [],
   "source": [
    "# assign the column names to content prediction data\n",
    "content_df.columns = ['item_index', 'score']"
   ]
  },
  {
   "cell_type": "code",
   "execution_count": 234,
   "metadata": {},
   "outputs": [
    {
     "data": {
      "text/html": [
       "<div>\n",
       "<style scoped>\n",
       "    .dataframe tbody tr th:only-of-type {\n",
       "        vertical-align: middle;\n",
       "    }\n",
       "\n",
       "    .dataframe tbody tr th {\n",
       "        vertical-align: top;\n",
       "    }\n",
       "\n",
       "    .dataframe thead th {\n",
       "        text-align: right;\n",
       "    }\n",
       "</style>\n",
       "<table border=\"1\" class=\"dataframe\">\n",
       "  <thead>\n",
       "    <tr style=\"text-align: right;\">\n",
       "      <th></th>\n",
       "      <th>item_index</th>\n",
       "      <th>score</th>\n",
       "    </tr>\n",
       "  </thead>\n",
       "  <tbody>\n",
       "    <tr>\n",
       "      <th>0</th>\n",
       "      <td>1894</td>\n",
       "      <td>1.000000</td>\n",
       "    </tr>\n",
       "    <tr>\n",
       "      <th>1</th>\n",
       "      <td>1192</td>\n",
       "      <td>0.243433</td>\n",
       "    </tr>\n",
       "    <tr>\n",
       "      <th>2</th>\n",
       "      <td>983</td>\n",
       "      <td>0.227312</td>\n",
       "    </tr>\n",
       "    <tr>\n",
       "      <th>3</th>\n",
       "      <td>1050</td>\n",
       "      <td>0.222530</td>\n",
       "    </tr>\n",
       "    <tr>\n",
       "      <th>4</th>\n",
       "      <td>2211</td>\n",
       "      <td>0.221113</td>\n",
       "    </tr>\n",
       "  </tbody>\n",
       "</table>\n",
       "</div>"
      ],
      "text/plain": [
       "   item_index     score\n",
       "0        1894  1.000000\n",
       "1        1192  0.243433\n",
       "2         983  0.227312\n",
       "3        1050  0.222530\n",
       "4        2211  0.221113"
      ]
     },
     "execution_count": 234,
     "metadata": {},
     "output_type": "execute_result"
    }
   ],
   "source": [
    "content_df.head()"
   ]
  },
  {
   "cell_type": "markdown",
   "metadata": {},
   "source": [
    "### Normalize score\n",
    "- Min Max normalization"
   ]
  },
  {
   "cell_type": "code",
   "execution_count": 235,
   "metadata": {},
   "outputs": [],
   "source": [
    "content_df['content_score_normalized'] = (content_df['score']-min(content_df['score'])) / (max(content_df['score']) - min(content_df['score']))"
   ]
  },
  {
   "cell_type": "code",
   "execution_count": 236,
   "metadata": {},
   "outputs": [
    {
     "data": {
      "text/html": [
       "<div>\n",
       "<style scoped>\n",
       "    .dataframe tbody tr th:only-of-type {\n",
       "        vertical-align: middle;\n",
       "    }\n",
       "\n",
       "    .dataframe tbody tr th {\n",
       "        vertical-align: top;\n",
       "    }\n",
       "\n",
       "    .dataframe thead th {\n",
       "        text-align: right;\n",
       "    }\n",
       "</style>\n",
       "<table border=\"1\" class=\"dataframe\">\n",
       "  <thead>\n",
       "    <tr style=\"text-align: right;\">\n",
       "      <th></th>\n",
       "      <th>item_index</th>\n",
       "      <th>score</th>\n",
       "      <th>content_score_normalized</th>\n",
       "    </tr>\n",
       "  </thead>\n",
       "  <tbody>\n",
       "    <tr>\n",
       "      <th>0</th>\n",
       "      <td>1894</td>\n",
       "      <td>1.000000</td>\n",
       "      <td>1.000000</td>\n",
       "    </tr>\n",
       "    <tr>\n",
       "      <th>1</th>\n",
       "      <td>1192</td>\n",
       "      <td>0.243433</td>\n",
       "      <td>0.243433</td>\n",
       "    </tr>\n",
       "    <tr>\n",
       "      <th>2</th>\n",
       "      <td>983</td>\n",
       "      <td>0.227312</td>\n",
       "      <td>0.227312</td>\n",
       "    </tr>\n",
       "    <tr>\n",
       "      <th>3</th>\n",
       "      <td>1050</td>\n",
       "      <td>0.222530</td>\n",
       "      <td>0.222530</td>\n",
       "    </tr>\n",
       "    <tr>\n",
       "      <th>4</th>\n",
       "      <td>2211</td>\n",
       "      <td>0.221113</td>\n",
       "      <td>0.221113</td>\n",
       "    </tr>\n",
       "  </tbody>\n",
       "</table>\n",
       "</div>"
      ],
      "text/plain": [
       "   item_index     score  content_score_normalized\n",
       "0        1894  1.000000                  1.000000\n",
       "1        1192  0.243433                  0.243433\n",
       "2         983  0.227312                  0.227312\n",
       "3        1050  0.222530                  0.222530\n",
       "4        2211  0.221113                  0.221113"
      ]
     },
     "execution_count": 236,
     "metadata": {},
     "output_type": "execute_result"
    }
   ],
   "source": [
    "content_df.head()"
   ]
  },
  {
   "cell_type": "code",
   "execution_count": 237,
   "metadata": {},
   "outputs": [
    {
     "data": {
      "text/plain": [
       "(2264, 3)"
      ]
     },
     "execution_count": 237,
     "metadata": {},
     "output_type": "execute_result"
    }
   ],
   "source": [
    "# check the shape of dataframe content output\n",
    "content_df.shape"
   ]
  },
  {
   "cell_type": "code",
   "execution_count": 238,
   "metadata": {},
   "outputs": [
    {
     "data": {
      "text/plain": [
       "(2264, 5)"
      ]
     },
     "execution_count": 238,
     "metadata": {},
     "output_type": "execute_result"
    }
   ],
   "source": [
    "# check the shape of dataframe collaborative output\n",
    "collab_output.shape"
   ]
  },
  {
   "cell_type": "markdown",
   "metadata": {},
   "source": [
    "### Hybrid: Combine two Models: Collaborative Item based output and Content based output"
   ]
  },
  {
   "cell_type": "code",
   "execution_count": 239,
   "metadata": {},
   "outputs": [],
   "source": [
    "# merge with content data to get the title information and description \n",
    "hybrid_output = pd.merge(collab_output,content_df, how='left', on='item_index')"
   ]
  },
  {
   "cell_type": "code",
   "execution_count": 240,
   "metadata": {},
   "outputs": [
    {
     "data": {
      "text/html": [
       "<div>\n",
       "<style scoped>\n",
       "    .dataframe tbody tr th:only-of-type {\n",
       "        vertical-align: middle;\n",
       "    }\n",
       "\n",
       "    .dataframe tbody tr th {\n",
       "        vertical-align: top;\n",
       "    }\n",
       "\n",
       "    .dataframe thead th {\n",
       "        text-align: right;\n",
       "    }\n",
       "</style>\n",
       "<table border=\"1\" class=\"dataframe\">\n",
       "  <thead>\n",
       "    <tr style=\"text-align: right;\">\n",
       "      <th></th>\n",
       "      <th>item_index</th>\n",
       "      <th>score_x</th>\n",
       "      <th>title</th>\n",
       "      <th>text_description</th>\n",
       "      <th>collaborative_score_normalized</th>\n",
       "      <th>score_y</th>\n",
       "      <th>content_score_normalized</th>\n",
       "    </tr>\n",
       "  </thead>\n",
       "  <tbody>\n",
       "    <tr>\n",
       "      <th>0</th>\n",
       "      <td>819</td>\n",
       "      <td>1.000000</td>\n",
       "      <td>Building A Better Workforce: 5 Talent Trends W...</td>\n",
       "      <td>As we take a look forward at what's new and wh...</td>\n",
       "      <td>1.000000</td>\n",
       "      <td>0.021054</td>\n",
       "      <td>0.021054</td>\n",
       "    </tr>\n",
       "    <tr>\n",
       "      <th>1</th>\n",
       "      <td>620</td>\n",
       "      <td>0.524865</td>\n",
       "      <td>Game of Loans</td>\n",
       "      <td>As Queen-Mother Cersei undertook her walk of s...</td>\n",
       "      <td>0.524865</td>\n",
       "      <td>0.003898</td>\n",
       "      <td>0.003898</td>\n",
       "    </tr>\n",
       "    <tr>\n",
       "      <th>2</th>\n",
       "      <td>1500</td>\n",
       "      <td>0.522644</td>\n",
       "      <td>\"It's time for self-directed 'smart' investing...</td>\n",
       "      <td>I recently had the chance to speak to Swanest ...</td>\n",
       "      <td>0.522644</td>\n",
       "      <td>0.017230</td>\n",
       "      <td>0.017230</td>\n",
       "    </tr>\n",
       "    <tr>\n",
       "      <th>3</th>\n",
       "      <td>209</td>\n",
       "      <td>0.491697</td>\n",
       "      <td>Building on Slack Saved Our Startup</td>\n",
       "      <td>From the start, we did everything right with T...</td>\n",
       "      <td>0.491697</td>\n",
       "      <td>0.199654</td>\n",
       "      <td>0.199654</td>\n",
       "    </tr>\n",
       "    <tr>\n",
       "      <th>4</th>\n",
       "      <td>1728</td>\n",
       "      <td>0.489476</td>\n",
       "      <td>Google employees are adding 'Lady' to their jo...</td>\n",
       "      <td>More than 800 members of Google's staff are st...</td>\n",
       "      <td>0.489476</td>\n",
       "      <td>0.005730</td>\n",
       "      <td>0.005730</td>\n",
       "    </tr>\n",
       "  </tbody>\n",
       "</table>\n",
       "</div>"
      ],
      "text/plain": [
       "   item_index   score_x                                              title  \\\n",
       "0         819  1.000000  Building A Better Workforce: 5 Talent Trends W...   \n",
       "1         620  0.524865                                      Game of Loans   \n",
       "2        1500  0.522644  \"It's time for self-directed 'smart' investing...   \n",
       "3         209  0.491697                Building on Slack Saved Our Startup   \n",
       "4        1728  0.489476  Google employees are adding 'Lady' to their jo...   \n",
       "\n",
       "                                    text_description  \\\n",
       "0  As we take a look forward at what's new and wh...   \n",
       "1  As Queen-Mother Cersei undertook her walk of s...   \n",
       "2  I recently had the chance to speak to Swanest ...   \n",
       "3  From the start, we did everything right with T...   \n",
       "4  More than 800 members of Google's staff are st...   \n",
       "\n",
       "   collaborative_score_normalized   score_y  content_score_normalized  \n",
       "0                        1.000000  0.021054                  0.021054  \n",
       "1                        0.524865  0.003898                  0.003898  \n",
       "2                        0.522644  0.017230                  0.017230  \n",
       "3                        0.491697  0.199654                  0.199654  \n",
       "4                        0.489476  0.005730                  0.005730  "
      ]
     },
     "execution_count": 240,
     "metadata": {},
     "output_type": "execute_result"
    }
   ],
   "source": [
    "hybrid_output.head()"
   ]
  },
  {
   "cell_type": "code",
   "execution_count": 241,
   "metadata": {
    "scrolled": false
   },
   "outputs": [
    {
     "data": {
      "text/html": [
       "<div>\n",
       "<style scoped>\n",
       "    .dataframe tbody tr th:only-of-type {\n",
       "        vertical-align: middle;\n",
       "    }\n",
       "\n",
       "    .dataframe tbody tr th {\n",
       "        vertical-align: top;\n",
       "    }\n",
       "\n",
       "    .dataframe thead th {\n",
       "        text-align: right;\n",
       "    }\n",
       "</style>\n",
       "<table border=\"1\" class=\"dataframe\">\n",
       "  <thead>\n",
       "    <tr style=\"text-align: right;\">\n",
       "      <th></th>\n",
       "      <th>score_x</th>\n",
       "      <th>collaborative_score_normalized</th>\n",
       "      <th>score_y</th>\n",
       "      <th>content_score_normalized</th>\n",
       "    </tr>\n",
       "  </thead>\n",
       "  <tbody>\n",
       "    <tr>\n",
       "      <th>0</th>\n",
       "      <td>1.000000</td>\n",
       "      <td>1.000000</td>\n",
       "      <td>0.021054</td>\n",
       "      <td>0.021054</td>\n",
       "    </tr>\n",
       "    <tr>\n",
       "      <th>1</th>\n",
       "      <td>0.524865</td>\n",
       "      <td>0.524865</td>\n",
       "      <td>0.003898</td>\n",
       "      <td>0.003898</td>\n",
       "    </tr>\n",
       "    <tr>\n",
       "      <th>2</th>\n",
       "      <td>0.522644</td>\n",
       "      <td>0.522644</td>\n",
       "      <td>0.017230</td>\n",
       "      <td>0.017230</td>\n",
       "    </tr>\n",
       "    <tr>\n",
       "      <th>3</th>\n",
       "      <td>0.491697</td>\n",
       "      <td>0.491697</td>\n",
       "      <td>0.199654</td>\n",
       "      <td>0.199654</td>\n",
       "    </tr>\n",
       "    <tr>\n",
       "      <th>4</th>\n",
       "      <td>0.489476</td>\n",
       "      <td>0.489476</td>\n",
       "      <td>0.005730</td>\n",
       "      <td>0.005730</td>\n",
       "    </tr>\n",
       "  </tbody>\n",
       "</table>\n",
       "</div>"
      ],
      "text/plain": [
       "    score_x  collaborative_score_normalized   score_y  \\\n",
       "0  1.000000                        1.000000  0.021054   \n",
       "1  0.524865                        0.524865  0.003898   \n",
       "2  0.522644                        0.522644  0.017230   \n",
       "3  0.491697                        0.491697  0.199654   \n",
       "4  0.489476                        0.489476  0.005730   \n",
       "\n",
       "   content_score_normalized  \n",
       "0                  0.021054  \n",
       "1                  0.003898  \n",
       "2                  0.017230  \n",
       "3                  0.199654  \n",
       "4                  0.005730  "
      ]
     },
     "execution_count": 241,
     "metadata": {},
     "output_type": "execute_result"
    }
   ],
   "source": [
    "# show only the required columns\n",
    "hybrid_output[[\"score_x\",\"collaborative_score_normalized\", \"score_y\", \"content_score_normalized\"]].head()"
   ]
  },
  {
   "cell_type": "code",
   "execution_count": null,
   "metadata": {},
   "outputs": [],
   "source": []
  },
  {
   "cell_type": "markdown",
   "metadata": {},
   "source": [
    "### Calculated the weighted average of two models:\n",
    "- Here equal weight is given to both the models, hence became simple average."
   ]
  },
  {
   "cell_type": "code",
   "execution_count": 242,
   "metadata": {},
   "outputs": [],
   "source": [
    "# take average or mean value two columns\n",
    "hybrid_output['final_score'] = (hybrid_output['collaborative_score_normalized'] + hybrid_output['content_score_normalized'])/2"
   ]
  },
  {
   "cell_type": "code",
   "execution_count": 243,
   "metadata": {
    "scrolled": false
   },
   "outputs": [
    {
     "data": {
      "text/html": [
       "<div>\n",
       "<style scoped>\n",
       "    .dataframe tbody tr th:only-of-type {\n",
       "        vertical-align: middle;\n",
       "    }\n",
       "\n",
       "    .dataframe tbody tr th {\n",
       "        vertical-align: top;\n",
       "    }\n",
       "\n",
       "    .dataframe thead th {\n",
       "        text-align: right;\n",
       "    }\n",
       "</style>\n",
       "<table border=\"1\" class=\"dataframe\">\n",
       "  <thead>\n",
       "    <tr style=\"text-align: right;\">\n",
       "      <th></th>\n",
       "      <th>item_index</th>\n",
       "      <th>score_x</th>\n",
       "      <th>collaborative_score_normalized</th>\n",
       "      <th>score_y</th>\n",
       "      <th>content_score_normalized</th>\n",
       "      <th>final_score</th>\n",
       "    </tr>\n",
       "  </thead>\n",
       "  <tbody>\n",
       "    <tr>\n",
       "      <th>0</th>\n",
       "      <td>819</td>\n",
       "      <td>1.000000</td>\n",
       "      <td>1.000000</td>\n",
       "      <td>0.021054</td>\n",
       "      <td>0.021054</td>\n",
       "      <td>0.510527</td>\n",
       "    </tr>\n",
       "    <tr>\n",
       "      <th>1</th>\n",
       "      <td>620</td>\n",
       "      <td>0.524865</td>\n",
       "      <td>0.524865</td>\n",
       "      <td>0.003898</td>\n",
       "      <td>0.003898</td>\n",
       "      <td>0.264381</td>\n",
       "    </tr>\n",
       "    <tr>\n",
       "      <th>2</th>\n",
       "      <td>1500</td>\n",
       "      <td>0.522644</td>\n",
       "      <td>0.522644</td>\n",
       "      <td>0.017230</td>\n",
       "      <td>0.017230</td>\n",
       "      <td>0.269937</td>\n",
       "    </tr>\n",
       "    <tr>\n",
       "      <th>3</th>\n",
       "      <td>209</td>\n",
       "      <td>0.491697</td>\n",
       "      <td>0.491697</td>\n",
       "      <td>0.199654</td>\n",
       "      <td>0.199654</td>\n",
       "      <td>0.345675</td>\n",
       "    </tr>\n",
       "    <tr>\n",
       "      <th>4</th>\n",
       "      <td>1728</td>\n",
       "      <td>0.489476</td>\n",
       "      <td>0.489476</td>\n",
       "      <td>0.005730</td>\n",
       "      <td>0.005730</td>\n",
       "      <td>0.247603</td>\n",
       "    </tr>\n",
       "    <tr>\n",
       "      <th>...</th>\n",
       "      <td>...</td>\n",
       "      <td>...</td>\n",
       "      <td>...</td>\n",
       "      <td>...</td>\n",
       "      <td>...</td>\n",
       "      <td>...</td>\n",
       "    </tr>\n",
       "    <tr>\n",
       "      <th>2353</th>\n",
       "      <td>808</td>\n",
       "      <td>0.000000</td>\n",
       "      <td>0.000000</td>\n",
       "      <td>0.002333</td>\n",
       "      <td>0.002333</td>\n",
       "      <td>0.001166</td>\n",
       "    </tr>\n",
       "    <tr>\n",
       "      <th>2354</th>\n",
       "      <td>2059</td>\n",
       "      <td>0.000000</td>\n",
       "      <td>0.000000</td>\n",
       "      <td>0.016774</td>\n",
       "      <td>0.016774</td>\n",
       "      <td>0.008387</td>\n",
       "    </tr>\n",
       "    <tr>\n",
       "      <th>2355</th>\n",
       "      <td>810</td>\n",
       "      <td>0.000000</td>\n",
       "      <td>0.000000</td>\n",
       "      <td>0.012796</td>\n",
       "      <td>0.012796</td>\n",
       "      <td>0.006398</td>\n",
       "    </tr>\n",
       "    <tr>\n",
       "      <th>2356</th>\n",
       "      <td>2056</td>\n",
       "      <td>0.000000</td>\n",
       "      <td>0.000000</td>\n",
       "      <td>0.004296</td>\n",
       "      <td>0.004296</td>\n",
       "      <td>0.002148</td>\n",
       "    </tr>\n",
       "    <tr>\n",
       "      <th>2357</th>\n",
       "      <td>2191</td>\n",
       "      <td>0.000000</td>\n",
       "      <td>0.000000</td>\n",
       "      <td>0.006480</td>\n",
       "      <td>0.006480</td>\n",
       "      <td>0.003240</td>\n",
       "    </tr>\n",
       "  </tbody>\n",
       "</table>\n",
       "<p>2358 rows × 6 columns</p>\n",
       "</div>"
      ],
      "text/plain": [
       "      item_index   score_x  collaborative_score_normalized   score_y  \\\n",
       "0            819  1.000000                        1.000000  0.021054   \n",
       "1            620  0.524865                        0.524865  0.003898   \n",
       "2           1500  0.522644                        0.522644  0.017230   \n",
       "3            209  0.491697                        0.491697  0.199654   \n",
       "4           1728  0.489476                        0.489476  0.005730   \n",
       "...          ...       ...                             ...       ...   \n",
       "2353         808  0.000000                        0.000000  0.002333   \n",
       "2354        2059  0.000000                        0.000000  0.016774   \n",
       "2355         810  0.000000                        0.000000  0.012796   \n",
       "2356        2056  0.000000                        0.000000  0.004296   \n",
       "2357        2191  0.000000                        0.000000  0.006480   \n",
       "\n",
       "      content_score_normalized  final_score  \n",
       "0                     0.021054     0.510527  \n",
       "1                     0.003898     0.264381  \n",
       "2                     0.017230     0.269937  \n",
       "3                     0.199654     0.345675  \n",
       "4                     0.005730     0.247603  \n",
       "...                        ...          ...  \n",
       "2353                  0.002333     0.001166  \n",
       "2354                  0.016774     0.008387  \n",
       "2355                  0.012796     0.006398  \n",
       "2356                  0.004296     0.002148  \n",
       "2357                  0.006480     0.003240  \n",
       "\n",
       "[2358 rows x 6 columns]"
      ]
     },
     "execution_count": 243,
     "metadata": {},
     "output_type": "execute_result"
    }
   ],
   "source": [
    "# show only the required columns\n",
    "hybrid_output[[\"item_index\",\"score_x\",\"collaborative_score_normalized\", \"score_y\", \"content_score_normalized\",\"final_score\"]]"
   ]
  },
  {
   "cell_type": "markdown",
   "metadata": {},
   "source": [
    "## Hybrid Model 2\n",
    "### ALS User based + User based collaborative filtering:"
   ]
  },
  {
   "cell_type": "code",
   "execution_count": 244,
   "metadata": {},
   "outputs": [],
   "source": [
    "## User Based Collaborative Filtering with User Index 623\n",
    "## Create a dataframe from predicted data\n",
    "## assign column names \n",
    "## combine with conent dataframe to get the title for easy interpretation\n",
    "## perform the min max normalization\n",
    "\n",
    "recommended_news_df1 = pd.DataFrame(prediction_df.iloc[623].sort_values(ascending=False))\n",
    "recommended_news_df1.reset_index(inplace=True)\n",
    "# recommended_news_df1.head()\n",
    "recommended_news_df1.columns = [\"item_index\",\"score\"]\n",
    "merged_user_based1 = pd.merge(recommended_news_df1,clean_english_content,on=\"item_index\",how=\"left\")\n",
    "merged_user_based1.dropna(inplace=True)\n",
    "merged_user_based1\n",
    "merged_user_based1[\"normalized_score\"] = (merged_user_based1[\"score\"] - merged_user_based1[\"score\"].min())/(merged_user_based1[\"score\"].max()- merged_user_based1[\"score\"].min())"
   ]
  },
  {
   "cell_type": "code",
   "execution_count": 245,
   "metadata": {
    "scrolled": false
   },
   "outputs": [
    {
     "data": {
      "text/html": [
       "<div>\n",
       "<style scoped>\n",
       "    .dataframe tbody tr th:only-of-type {\n",
       "        vertical-align: middle;\n",
       "    }\n",
       "\n",
       "    .dataframe tbody tr th {\n",
       "        vertical-align: top;\n",
       "    }\n",
       "\n",
       "    .dataframe thead th {\n",
       "        text-align: right;\n",
       "    }\n",
       "</style>\n",
       "<table border=\"1\" class=\"dataframe\">\n",
       "  <thead>\n",
       "    <tr style=\"text-align: right;\">\n",
       "      <th></th>\n",
       "      <th>item_index</th>\n",
       "      <th>score</th>\n",
       "      <th>title</th>\n",
       "      <th>text_description</th>\n",
       "      <th>normalized_score</th>\n",
       "    </tr>\n",
       "  </thead>\n",
       "  <tbody>\n",
       "    <tr>\n",
       "      <th>0</th>\n",
       "      <td>405</td>\n",
       "      <td>15.007504</td>\n",
       "      <td>\"We only hire the best\" - Signal v. Noise</td>\n",
       "      <td>\"We only hire the best\" How many times have yo...</td>\n",
       "      <td>1.000000</td>\n",
       "    </tr>\n",
       "    <tr>\n",
       "      <th>3</th>\n",
       "      <td>846</td>\n",
       "      <td>4.382523</td>\n",
       "      <td>The 24 best restaurants in New York City</td>\n",
       "      <td>Yelp/Daniel With so many restaurants to choose...</td>\n",
       "      <td>0.292022</td>\n",
       "    </tr>\n",
       "    <tr>\n",
       "      <th>4</th>\n",
       "      <td>1452</td>\n",
       "      <td>4.316721</td>\n",
       "      <td>This is the scientific reason we're addicted t...</td>\n",
       "      <td>Whether you're working in your office, walking...</td>\n",
       "      <td>0.287638</td>\n",
       "    </tr>\n",
       "    <tr>\n",
       "      <th>5</th>\n",
       "      <td>1267</td>\n",
       "      <td>4.312488</td>\n",
       "      <td>How a Japanese cucumber farmer is using deep l...</td>\n",
       "      <td>It's not hyperbole to say that use cases for m...</td>\n",
       "      <td>0.287355</td>\n",
       "    </tr>\n",
       "    <tr>\n",
       "      <th>7</th>\n",
       "      <td>771</td>\n",
       "      <td>2.932844</td>\n",
       "      <td>Serverless Architectures</td>\n",
       "      <td>Mike Roberts Mike is an engineering leader liv...</td>\n",
       "      <td>0.195425</td>\n",
       "    </tr>\n",
       "  </tbody>\n",
       "</table>\n",
       "</div>"
      ],
      "text/plain": [
       "   item_index      score                                              title  \\\n",
       "0         405  15.007504          \"We only hire the best\" - Signal v. Noise   \n",
       "3         846   4.382523           The 24 best restaurants in New York City   \n",
       "4        1452   4.316721  This is the scientific reason we're addicted t...   \n",
       "5        1267   4.312488  How a Japanese cucumber farmer is using deep l...   \n",
       "7         771   2.932844                           Serverless Architectures   \n",
       "\n",
       "                                    text_description  normalized_score  \n",
       "0  \"We only hire the best\" How many times have yo...          1.000000  \n",
       "3  Yelp/Daniel With so many restaurants to choose...          0.292022  \n",
       "4  Whether you're working in your office, walking...          0.287638  \n",
       "5  It's not hyperbole to say that use cases for m...          0.287355  \n",
       "7  Mike Roberts Mike is an engineering leader liv...          0.195425  "
      ]
     },
     "execution_count": 245,
     "metadata": {},
     "output_type": "execute_result"
    }
   ],
   "source": [
    "merged_user_based1.head()"
   ]
  },
  {
   "cell_type": "markdown",
   "metadata": {},
   "source": [
    "#### Merge 2 dataframe:  User based CF and  ALS User Based:"
   ]
  },
  {
   "cell_type": "code",
   "execution_count": 246,
   "metadata": {},
   "outputs": [],
   "source": [
    "# merge User based CF output and ALS usr based output\n",
    "hybrid_output_als_user = pd.merge(merged_user_based1,merged_als, how='left', on='item_index').fillna(0)"
   ]
  },
  {
   "cell_type": "code",
   "execution_count": 247,
   "metadata": {},
   "outputs": [],
   "source": [
    "# create the final score by taking mean of both the normalized score.\n",
    "hybrid_output_als_user[\"final_score\"] = (hybrid_output_als_user[\"normalized_score\"]+hybrid_output_als_user[\"normalized_als_score\"])/2"
   ]
  },
  {
   "cell_type": "code",
   "execution_count": 248,
   "metadata": {
    "scrolled": true
   },
   "outputs": [
    {
     "data": {
      "text/html": [
       "<div>\n",
       "<style scoped>\n",
       "    .dataframe tbody tr th:only-of-type {\n",
       "        vertical-align: middle;\n",
       "    }\n",
       "\n",
       "    .dataframe tbody tr th {\n",
       "        vertical-align: top;\n",
       "    }\n",
       "\n",
       "    .dataframe thead th {\n",
       "        text-align: right;\n",
       "    }\n",
       "</style>\n",
       "<table border=\"1\" class=\"dataframe\">\n",
       "  <thead>\n",
       "    <tr style=\"text-align: right;\">\n",
       "      <th></th>\n",
       "      <th>item_index</th>\n",
       "      <th>title_x</th>\n",
       "      <th>final_score</th>\n",
       "    </tr>\n",
       "  </thead>\n",
       "  <tbody>\n",
       "    <tr>\n",
       "      <th>1170</th>\n",
       "      <td>754</td>\n",
       "      <td>The Secret History of Agile Innovation</td>\n",
       "      <td>0.502381</td>\n",
       "    </tr>\n",
       "    <tr>\n",
       "      <th>1169</th>\n",
       "      <td>754</td>\n",
       "      <td>The Secret History of Agile Innovation</td>\n",
       "      <td>0.502381</td>\n",
       "    </tr>\n",
       "    <tr>\n",
       "      <th>1171</th>\n",
       "      <td>754</td>\n",
       "      <td>The Secret History of Agile Innovation</td>\n",
       "      <td>0.502381</td>\n",
       "    </tr>\n",
       "    <tr>\n",
       "      <th>1172</th>\n",
       "      <td>754</td>\n",
       "      <td>The Secret History of Agile Innovation</td>\n",
       "      <td>0.502381</td>\n",
       "    </tr>\n",
       "  </tbody>\n",
       "</table>\n",
       "</div>"
      ],
      "text/plain": [
       "      item_index                                 title_x  final_score\n",
       "1170         754  The Secret History of Agile Innovation     0.502381\n",
       "1169         754  The Secret History of Agile Innovation     0.502381\n",
       "1171         754  The Secret History of Agile Innovation     0.502381\n",
       "1172         754  The Secret History of Agile Innovation     0.502381"
      ]
     },
     "execution_count": 248,
     "metadata": {},
     "output_type": "execute_result"
    }
   ],
   "source": [
    "# sort the final score and show the result of hybrid model\n",
    "hybrid_output_als_user.sort_values(by=\"final_score\",ascending=False)[[\"item_index\",\"title_x\",\"final_score\"]].head(4)"
   ]
  },
  {
   "cell_type": "markdown",
   "metadata": {},
   "source": [
    "## Hybrid Model 3 : ALS item based + Content Based"
   ]
  },
  {
   "cell_type": "code",
   "execution_count": 249,
   "metadata": {
    "scrolled": false
   },
   "outputs": [
    {
     "data": {
      "text/html": [
       "<div>\n",
       "<style scoped>\n",
       "    .dataframe tbody tr th:only-of-type {\n",
       "        vertical-align: middle;\n",
       "    }\n",
       "\n",
       "    .dataframe tbody tr th {\n",
       "        vertical-align: top;\n",
       "    }\n",
       "\n",
       "    .dataframe thead th {\n",
       "        text-align: right;\n",
       "    }\n",
       "</style>\n",
       "<table border=\"1\" class=\"dataframe\">\n",
       "  <thead>\n",
       "    <tr style=\"text-align: right;\">\n",
       "      <th></th>\n",
       "      <th>item_index</th>\n",
       "      <th>score</th>\n",
       "    </tr>\n",
       "  </thead>\n",
       "  <tbody>\n",
       "    <tr>\n",
       "      <th>0</th>\n",
       "      <td>1894</td>\n",
       "      <td>1.000000</td>\n",
       "    </tr>\n",
       "    <tr>\n",
       "      <th>1</th>\n",
       "      <td>891</td>\n",
       "      <td>0.588582</td>\n",
       "    </tr>\n",
       "    <tr>\n",
       "      <th>2</th>\n",
       "      <td>2675</td>\n",
       "      <td>0.508284</td>\n",
       "    </tr>\n",
       "    <tr>\n",
       "      <th>3</th>\n",
       "      <td>882</td>\n",
       "      <td>0.483759</td>\n",
       "    </tr>\n",
       "    <tr>\n",
       "      <th>4</th>\n",
       "      <td>1294</td>\n",
       "      <td>0.442981</td>\n",
       "    </tr>\n",
       "    <tr>\n",
       "      <th>...</th>\n",
       "      <td>...</td>\n",
       "      <td>...</td>\n",
       "    </tr>\n",
       "    <tr>\n",
       "      <th>2982</th>\n",
       "      <td>1858</td>\n",
       "      <td>-0.248950</td>\n",
       "    </tr>\n",
       "    <tr>\n",
       "      <th>2983</th>\n",
       "      <td>333</td>\n",
       "      <td>-0.250832</td>\n",
       "    </tr>\n",
       "    <tr>\n",
       "      <th>2984</th>\n",
       "      <td>2447</td>\n",
       "      <td>-0.252542</td>\n",
       "    </tr>\n",
       "    <tr>\n",
       "      <th>2985</th>\n",
       "      <td>1917</td>\n",
       "      <td>-0.265263</td>\n",
       "    </tr>\n",
       "    <tr>\n",
       "      <th>2986</th>\n",
       "      <td>898</td>\n",
       "      <td>-0.310651</td>\n",
       "    </tr>\n",
       "  </tbody>\n",
       "</table>\n",
       "<p>2987 rows × 2 columns</p>\n",
       "</div>"
      ],
      "text/plain": [
       "      item_index     score\n",
       "0           1894  1.000000\n",
       "1            891  0.588582\n",
       "2           2675  0.508284\n",
       "3            882  0.483759\n",
       "4           1294  0.442981\n",
       "...          ...       ...\n",
       "2982        1858 -0.248950\n",
       "2983         333 -0.250832\n",
       "2984        2447 -0.252542\n",
       "2985        1917 -0.265263\n",
       "2986         898 -0.310651\n",
       "\n",
       "[2987 rows x 2 columns]"
      ]
     },
     "execution_count": 249,
     "metadata": {},
     "output_type": "execute_result"
    }
   ],
   "source": [
    "#Item Index = 1894\n",
    "\n",
    "## create the dataframe from predicted data n ALS\n",
    "## assign the columns names\n",
    "\n",
    "n_recommend = 2987\n",
    "similar_items_als_1894 = model.similar_items(1894,n_recommend)\n",
    "similar_items_als_1894_df = pd.DataFrame(similar_items_als_1894, columns=['item_index', 'score'])\n",
    "similar_items_als_1894_df"
   ]
  },
  {
   "cell_type": "code",
   "execution_count": 250,
   "metadata": {
    "scrolled": false
   },
   "outputs": [
    {
     "data": {
      "text/html": [
       "<div>\n",
       "<style scoped>\n",
       "    .dataframe tbody tr th:only-of-type {\n",
       "        vertical-align: middle;\n",
       "    }\n",
       "\n",
       "    .dataframe tbody tr th {\n",
       "        vertical-align: top;\n",
       "    }\n",
       "\n",
       "    .dataframe thead th {\n",
       "        text-align: right;\n",
       "    }\n",
       "</style>\n",
       "<table border=\"1\" class=\"dataframe\">\n",
       "  <thead>\n",
       "    <tr style=\"text-align: right;\">\n",
       "      <th></th>\n",
       "      <th>item_index</th>\n",
       "      <th>score</th>\n",
       "    </tr>\n",
       "  </thead>\n",
       "  <tbody>\n",
       "    <tr>\n",
       "      <th>0</th>\n",
       "      <td>1894</td>\n",
       "      <td>1.000000</td>\n",
       "    </tr>\n",
       "    <tr>\n",
       "      <th>1</th>\n",
       "      <td>1192</td>\n",
       "      <td>0.243433</td>\n",
       "    </tr>\n",
       "    <tr>\n",
       "      <th>2</th>\n",
       "      <td>983</td>\n",
       "      <td>0.227312</td>\n",
       "    </tr>\n",
       "    <tr>\n",
       "      <th>3</th>\n",
       "      <td>1050</td>\n",
       "      <td>0.222530</td>\n",
       "    </tr>\n",
       "    <tr>\n",
       "      <th>4</th>\n",
       "      <td>2211</td>\n",
       "      <td>0.221113</td>\n",
       "    </tr>\n",
       "    <tr>\n",
       "      <th>...</th>\n",
       "      <td>...</td>\n",
       "      <td>...</td>\n",
       "    </tr>\n",
       "    <tr>\n",
       "      <th>2259</th>\n",
       "      <td>1138</td>\n",
       "      <td>0.000000</td>\n",
       "    </tr>\n",
       "    <tr>\n",
       "      <th>2260</th>\n",
       "      <td>1107</td>\n",
       "      <td>0.000000</td>\n",
       "    </tr>\n",
       "    <tr>\n",
       "      <th>2261</th>\n",
       "      <td>1468</td>\n",
       "      <td>0.000000</td>\n",
       "    </tr>\n",
       "    <tr>\n",
       "      <th>2262</th>\n",
       "      <td>2021</td>\n",
       "      <td>0.000000</td>\n",
       "    </tr>\n",
       "    <tr>\n",
       "      <th>2263</th>\n",
       "      <td>1134</td>\n",
       "      <td>0.000000</td>\n",
       "    </tr>\n",
       "  </tbody>\n",
       "</table>\n",
       "<p>2264 rows × 2 columns</p>\n",
       "</div>"
      ],
      "text/plain": [
       "      item_index     score\n",
       "0           1894  1.000000\n",
       "1           1192  0.243433\n",
       "2            983  0.227312\n",
       "3           1050  0.222530\n",
       "4           2211  0.221113\n",
       "...          ...       ...\n",
       "2259        1138  0.000000\n",
       "2260        1107  0.000000\n",
       "2261        1468  0.000000\n",
       "2262        2021  0.000000\n",
       "2263        1134  0.000000\n",
       "\n",
       "[2264 rows x 2 columns]"
      ]
     },
     "execution_count": 250,
     "metadata": {},
     "output_type": "execute_result"
    }
   ],
   "source": [
    "## use the content based model to predict the output of item index 1894\n",
    "## create the dataframe from predicted output\n",
    "## assign the appropriate column names\n",
    "\n",
    "item1 = 1894\n",
    "content_output_1894 = news_recommendation(item1)\n",
    "news_content_1894 = pd.DataFrame(content_output_1894).reset_index()\n",
    "news_content_1894.columns= [\"item_index\",\"score\"]\n",
    "news_content_1894"
   ]
  },
  {
   "cell_type": "code",
   "execution_count": 251,
   "metadata": {},
   "outputs": [],
   "source": [
    "# perform an left join and combine the both model output.\n",
    "## fill the NaN value with zero too\n",
    "\n",
    "als_content_hybrid_merge = pd.merge(similar_items_als_1894_df,news_content_1894,on=\"item_index\",how = \"left\").fillna(0)"
   ]
  },
  {
   "cell_type": "code",
   "execution_count": 252,
   "metadata": {},
   "outputs": [],
   "source": [
    "# assign the appropriate column names\n",
    "als_content_hybrid_merge.columns = [\"item_index\",\"score_als\",\"score_content\"]"
   ]
  },
  {
   "cell_type": "code",
   "execution_count": 253,
   "metadata": {},
   "outputs": [],
   "source": [
    "# perform the min max normalization of als score\n",
    "als_content_hybrid_merge[\"normalized_score_als\"] = (als_content_hybrid_merge[\"score_als\"] - als_content_hybrid_merge[\"score_als\"].min()) /(als_content_hybrid_merge[\"score_als\"].max() - als_content_hybrid_merge[\"score_als\"].min())                                    "
   ]
  },
  {
   "cell_type": "code",
   "execution_count": 254,
   "metadata": {},
   "outputs": [],
   "source": [
    "# perform the min max normalization of content model score\n",
    "\n",
    "als_content_hybrid_merge[\"normalized_score_content\"] = (als_content_hybrid_merge[\"score_content\"] - als_content_hybrid_merge[\"score_content\"].min()) /(als_content_hybrid_merge[\"score_content\"].max() - als_content_hybrid_merge[\"score_content\"].min())                                    "
   ]
  },
  {
   "cell_type": "code",
   "execution_count": 255,
   "metadata": {
    "scrolled": false
   },
   "outputs": [
    {
     "data": {
      "text/html": [
       "<div>\n",
       "<style scoped>\n",
       "    .dataframe tbody tr th:only-of-type {\n",
       "        vertical-align: middle;\n",
       "    }\n",
       "\n",
       "    .dataframe tbody tr th {\n",
       "        vertical-align: top;\n",
       "    }\n",
       "\n",
       "    .dataframe thead th {\n",
       "        text-align: right;\n",
       "    }\n",
       "</style>\n",
       "<table border=\"1\" class=\"dataframe\">\n",
       "  <thead>\n",
       "    <tr style=\"text-align: right;\">\n",
       "      <th></th>\n",
       "      <th>item_index</th>\n",
       "      <th>score_als</th>\n",
       "      <th>score_content</th>\n",
       "      <th>normalized_score_als</th>\n",
       "      <th>normalized_score_content</th>\n",
       "    </tr>\n",
       "  </thead>\n",
       "  <tbody>\n",
       "    <tr>\n",
       "      <th>0</th>\n",
       "      <td>1894</td>\n",
       "      <td>1.000000</td>\n",
       "      <td>1.000000</td>\n",
       "      <td>1.000000</td>\n",
       "      <td>1.000000</td>\n",
       "    </tr>\n",
       "    <tr>\n",
       "      <th>1</th>\n",
       "      <td>891</td>\n",
       "      <td>0.588582</td>\n",
       "      <td>0.014523</td>\n",
       "      <td>0.686096</td>\n",
       "      <td>0.014523</td>\n",
       "    </tr>\n",
       "    <tr>\n",
       "      <th>2</th>\n",
       "      <td>2675</td>\n",
       "      <td>0.508284</td>\n",
       "      <td>0.000000</td>\n",
       "      <td>0.624830</td>\n",
       "      <td>0.000000</td>\n",
       "    </tr>\n",
       "    <tr>\n",
       "      <th>3</th>\n",
       "      <td>882</td>\n",
       "      <td>0.483759</td>\n",
       "      <td>0.003105</td>\n",
       "      <td>0.606119</td>\n",
       "      <td>0.003105</td>\n",
       "    </tr>\n",
       "    <tr>\n",
       "      <th>4</th>\n",
       "      <td>1294</td>\n",
       "      <td>0.442981</td>\n",
       "      <td>0.017230</td>\n",
       "      <td>0.575005</td>\n",
       "      <td>0.017230</td>\n",
       "    </tr>\n",
       "  </tbody>\n",
       "</table>\n",
       "</div>"
      ],
      "text/plain": [
       "   item_index  score_als  score_content  normalized_score_als  \\\n",
       "0        1894   1.000000       1.000000              1.000000   \n",
       "1         891   0.588582       0.014523              0.686096   \n",
       "2        2675   0.508284       0.000000              0.624830   \n",
       "3         882   0.483759       0.003105              0.606119   \n",
       "4        1294   0.442981       0.017230              0.575005   \n",
       "\n",
       "   normalized_score_content  \n",
       "0                  1.000000  \n",
       "1                  0.014523  \n",
       "2                  0.000000  \n",
       "3                  0.003105  \n",
       "4                  0.017230  "
      ]
     },
     "execution_count": 255,
     "metadata": {},
     "output_type": "execute_result"
    }
   ],
   "source": [
    "als_content_hybrid_merge.head()"
   ]
  },
  {
   "cell_type": "code",
   "execution_count": 256,
   "metadata": {},
   "outputs": [],
   "source": [
    "## Calculate the final score by taking average of both model score.\n",
    "\n",
    "als_content_hybrid_merge[\"final_score\"] = (als_content_hybrid_merge[\"normalized_score_als\"] + als_content_hybrid_merge[\"normalized_score_content\"])/2"
   ]
  },
  {
   "cell_type": "code",
   "execution_count": 257,
   "metadata": {},
   "outputs": [
    {
     "data": {
      "text/html": [
       "<div>\n",
       "<style scoped>\n",
       "    .dataframe tbody tr th:only-of-type {\n",
       "        vertical-align: middle;\n",
       "    }\n",
       "\n",
       "    .dataframe tbody tr th {\n",
       "        vertical-align: top;\n",
       "    }\n",
       "\n",
       "    .dataframe thead th {\n",
       "        text-align: right;\n",
       "    }\n",
       "</style>\n",
       "<table border=\"1\" class=\"dataframe\">\n",
       "  <thead>\n",
       "    <tr style=\"text-align: right;\">\n",
       "      <th></th>\n",
       "      <th>item_index</th>\n",
       "      <th>score_als</th>\n",
       "      <th>score_content</th>\n",
       "      <th>normalized_score_als</th>\n",
       "      <th>normalized_score_content</th>\n",
       "      <th>final_score</th>\n",
       "    </tr>\n",
       "  </thead>\n",
       "  <tbody>\n",
       "    <tr>\n",
       "      <th>0</th>\n",
       "      <td>1894</td>\n",
       "      <td>1.000000</td>\n",
       "      <td>1.000000</td>\n",
       "      <td>1.000000</td>\n",
       "      <td>1.000000</td>\n",
       "      <td>1.000000</td>\n",
       "    </tr>\n",
       "    <tr>\n",
       "      <th>1</th>\n",
       "      <td>891</td>\n",
       "      <td>0.588582</td>\n",
       "      <td>0.014523</td>\n",
       "      <td>0.686096</td>\n",
       "      <td>0.014523</td>\n",
       "      <td>0.350309</td>\n",
       "    </tr>\n",
       "    <tr>\n",
       "      <th>2</th>\n",
       "      <td>2675</td>\n",
       "      <td>0.508284</td>\n",
       "      <td>0.000000</td>\n",
       "      <td>0.624830</td>\n",
       "      <td>0.000000</td>\n",
       "      <td>0.312415</td>\n",
       "    </tr>\n",
       "    <tr>\n",
       "      <th>3</th>\n",
       "      <td>882</td>\n",
       "      <td>0.483759</td>\n",
       "      <td>0.003105</td>\n",
       "      <td>0.606119</td>\n",
       "      <td>0.003105</td>\n",
       "      <td>0.304612</td>\n",
       "    </tr>\n",
       "    <tr>\n",
       "      <th>4</th>\n",
       "      <td>1294</td>\n",
       "      <td>0.442981</td>\n",
       "      <td>0.017230</td>\n",
       "      <td>0.575005</td>\n",
       "      <td>0.017230</td>\n",
       "      <td>0.296118</td>\n",
       "    </tr>\n",
       "  </tbody>\n",
       "</table>\n",
       "</div>"
      ],
      "text/plain": [
       "   item_index  score_als  score_content  normalized_score_als  \\\n",
       "0        1894   1.000000       1.000000              1.000000   \n",
       "1         891   0.588582       0.014523              0.686096   \n",
       "2        2675   0.508284       0.000000              0.624830   \n",
       "3         882   0.483759       0.003105              0.606119   \n",
       "4        1294   0.442981       0.017230              0.575005   \n",
       "\n",
       "   normalized_score_content  final_score  \n",
       "0                  1.000000     1.000000  \n",
       "1                  0.014523     0.350309  \n",
       "2                  0.000000     0.312415  \n",
       "3                  0.003105     0.304612  \n",
       "4                  0.017230     0.296118  "
      ]
     },
     "execution_count": 257,
     "metadata": {},
     "output_type": "execute_result"
    }
   ],
   "source": [
    "als_content_hybrid_merge.head() # show the final output"
   ]
  },
  {
   "cell_type": "markdown",
   "metadata": {},
   "source": [
    "## Remove items in prediction which are already rated by User"
   ]
  },
  {
   "cell_type": "code",
   "execution_count": 258,
   "metadata": {
    "scrolled": false
   },
   "outputs": [
    {
     "data": {
      "text/html": [
       "<div>\n",
       "<style scoped>\n",
       "    .dataframe tbody tr th:only-of-type {\n",
       "        vertical-align: middle;\n",
       "    }\n",
       "\n",
       "    .dataframe tbody tr th {\n",
       "        vertical-align: top;\n",
       "    }\n",
       "\n",
       "    .dataframe thead th {\n",
       "        text-align: right;\n",
       "    }\n",
       "</style>\n",
       "<table border=\"1\" class=\"dataframe\">\n",
       "  <thead>\n",
       "    <tr style=\"text-align: right;\">\n",
       "      <th></th>\n",
       "      <th>item_index</th>\n",
       "      <th>score</th>\n",
       "      <th>title</th>\n",
       "      <th>text_description</th>\n",
       "      <th>normalized_score</th>\n",
       "    </tr>\n",
       "  </thead>\n",
       "  <tbody>\n",
       "    <tr>\n",
       "      <th>2</th>\n",
       "      <td>1976</td>\n",
       "      <td>4.258427</td>\n",
       "      <td>Linux at 25: Q&amp;A With Linus Torvalds</td>\n",
       "      <td>Photo: Ian White/Corbis Linus Torvalds created...</td>\n",
       "      <td>1.000000</td>\n",
       "    </tr>\n",
       "    <tr>\n",
       "      <th>4</th>\n",
       "      <td>2070</td>\n",
       "      <td>3.190483</td>\n",
       "      <td>Top 5 open source command shells for Linux</td>\n",
       "      <td>There are two kinds of Linux users: the cautio...</td>\n",
       "      <td>0.749216</td>\n",
       "    </tr>\n",
       "    <tr>\n",
       "      <th>5</th>\n",
       "      <td>416</td>\n",
       "      <td>3.178863</td>\n",
       "      <td>Inbox by Gmail: a better way to keep track of ...</td>\n",
       "      <td>Life can get really busy. Inboxes too. Just th...</td>\n",
       "      <td>0.746488</td>\n",
       "    </tr>\n",
       "    <tr>\n",
       "      <th>6</th>\n",
       "      <td>1714</td>\n",
       "      <td>3.011950</td>\n",
       "      <td>Meet Parsey's Cousins: Syntax for 40 languages...</td>\n",
       "      <td>Just in time for ACL 2016 , we are pleased to ...</td>\n",
       "      <td>0.707292</td>\n",
       "    </tr>\n",
       "    <tr>\n",
       "      <th>7</th>\n",
       "      <td>1848</td>\n",
       "      <td>2.937371</td>\n",
       "      <td>3 Big Blockchain Ideas MIT is Working on Right...</td>\n",
       "      <td>When one of the world's most prestigious unive...</td>\n",
       "      <td>0.689778</td>\n",
       "    </tr>\n",
       "  </tbody>\n",
       "</table>\n",
       "</div>"
      ],
      "text/plain": [
       "   item_index     score                                              title  \\\n",
       "2        1976  4.258427               Linux at 25: Q&A With Linus Torvalds   \n",
       "4        2070  3.190483         Top 5 open source command shells for Linux   \n",
       "5         416  3.178863  Inbox by Gmail: a better way to keep track of ...   \n",
       "6        1714  3.011950  Meet Parsey's Cousins: Syntax for 40 languages...   \n",
       "7        1848  2.937371  3 Big Blockchain Ideas MIT is Working on Right...   \n",
       "\n",
       "                                    text_description  normalized_score  \n",
       "2  Photo: Ian White/Corbis Linus Torvalds created...          1.000000  \n",
       "4  There are two kinds of Linux users: the cautio...          0.749216  \n",
       "5  Life can get really busy. Inboxes too. Just th...          0.746488  \n",
       "6  Just in time for ACL 2016 , we are pleased to ...          0.707292  \n",
       "7  When one of the world's most prestigious unive...          0.689778  "
      ]
     },
     "execution_count": 258,
     "metadata": {},
     "output_type": "execute_result"
    }
   ],
   "source": [
    "merged_user_based.head()"
   ]
  },
  {
   "cell_type": "markdown",
   "metadata": {},
   "source": [
    "### Remove News items which the User has already Rated,We do not have to prdict them.\n",
    "- __Once we have evaluated your model, we need to ensure that the final list of recommended items to a user does not contain any items that they have already seen.__\n",
    "\n",
    "-  __Here we can use the User based Collaborative filtering output.__"
   ]
  },
  {
   "cell_type": "code",
   "execution_count": 259,
   "metadata": {},
   "outputs": [],
   "source": [
    "# filter the data and create the dataframe of actual output\n",
    "df_user = pd.DataFrame(data_matrix_full[1893],columns=[\"ratings\"])"
   ]
  },
  {
   "cell_type": "code",
   "execution_count": 260,
   "metadata": {},
   "outputs": [
    {
     "data": {
      "text/plain": [
       "0.0    2924\n",
       "1.0      55\n",
       "3.0       4\n",
       "2.0       3\n",
       "5.0       1\n",
       "Name: ratings, dtype: int64"
      ]
     },
     "execution_count": 260,
     "metadata": {},
     "output_type": "execute_result"
    }
   ],
   "source": [
    "# check how many items user has already rated in the dataset\n",
    "df_user[\"ratings\"].value_counts()"
   ]
  },
  {
   "cell_type": "code",
   "execution_count": 261,
   "metadata": {},
   "outputs": [
    {
     "data": {
      "text/plain": [
       "(2987, 1)"
      ]
     },
     "execution_count": 261,
     "metadata": {},
     "output_type": "execute_result"
    }
   ],
   "source": [
    "df_user.shape "
   ]
  },
  {
   "cell_type": "code",
   "execution_count": 262,
   "metadata": {
    "scrolled": true
   },
   "outputs": [],
   "source": [
    "# reset the index for continuous index\n",
    "df_user = df_user.reset_index()"
   ]
  },
  {
   "cell_type": "code",
   "execution_count": 263,
   "metadata": {},
   "outputs": [],
   "source": [
    "# assign columns names to filtered data\n",
    "df_user.columns = [\"item_index\",\"ratings\"]"
   ]
  },
  {
   "cell_type": "code",
   "execution_count": 264,
   "metadata": {
    "scrolled": true
   },
   "outputs": [
    {
     "data": {
      "text/html": [
       "<div>\n",
       "<style scoped>\n",
       "    .dataframe tbody tr th:only-of-type {\n",
       "        vertical-align: middle;\n",
       "    }\n",
       "\n",
       "    .dataframe tbody tr th {\n",
       "        vertical-align: top;\n",
       "    }\n",
       "\n",
       "    .dataframe thead th {\n",
       "        text-align: right;\n",
       "    }\n",
       "</style>\n",
       "<table border=\"1\" class=\"dataframe\">\n",
       "  <thead>\n",
       "    <tr style=\"text-align: right;\">\n",
       "      <th></th>\n",
       "      <th>item_index</th>\n",
       "      <th>ratings</th>\n",
       "    </tr>\n",
       "  </thead>\n",
       "  <tbody>\n",
       "    <tr>\n",
       "      <th>0</th>\n",
       "      <td>0</td>\n",
       "      <td>0.0</td>\n",
       "    </tr>\n",
       "    <tr>\n",
       "      <th>1</th>\n",
       "      <td>1</td>\n",
       "      <td>0.0</td>\n",
       "    </tr>\n",
       "    <tr>\n",
       "      <th>2</th>\n",
       "      <td>2</td>\n",
       "      <td>0.0</td>\n",
       "    </tr>\n",
       "    <tr>\n",
       "      <th>3</th>\n",
       "      <td>3</td>\n",
       "      <td>0.0</td>\n",
       "    </tr>\n",
       "    <tr>\n",
       "      <th>4</th>\n",
       "      <td>4</td>\n",
       "      <td>0.0</td>\n",
       "    </tr>\n",
       "  </tbody>\n",
       "</table>\n",
       "</div>"
      ],
      "text/plain": [
       "   item_index  ratings\n",
       "0           0      0.0\n",
       "1           1      0.0\n",
       "2           2      0.0\n",
       "3           3      0.0\n",
       "4           4      0.0"
      ]
     },
     "execution_count": 264,
     "metadata": {},
     "output_type": "execute_result"
    }
   ],
   "source": [
    "df_user.head()"
   ]
  },
  {
   "cell_type": "code",
   "execution_count": 265,
   "metadata": {},
   "outputs": [
    {
     "data": {
      "text/plain": [
       "0.0    2924\n",
       "1.0      55\n",
       "3.0       4\n",
       "2.0       3\n",
       "5.0       1\n",
       "Name: ratings, dtype: int64"
      ]
     },
     "execution_count": 265,
     "metadata": {},
     "output_type": "execute_result"
    }
   ],
   "source": [
    "df_user[\"ratings\"].value_counts()"
   ]
  },
  {
   "cell_type": "markdown",
   "metadata": {},
   "source": [
    "####  Consumer 819 has given rating for 63(55+4+3+1) movies out of 2987 news item.\n",
    "#### Hence we need to remove all these movies from predicted set."
   ]
  },
  {
   "cell_type": "code",
   "execution_count": 266,
   "metadata": {},
   "outputs": [],
   "source": [
    "#Filter already watched movie predicted output\n",
    "merged_collab = pd.merge(merged_user_based,df_user,on=\"item_index\",how=\"left\")"
   ]
  },
  {
   "cell_type": "code",
   "execution_count": 267,
   "metadata": {},
   "outputs": [
    {
     "data": {
      "text/html": [
       "<div>\n",
       "<style scoped>\n",
       "    .dataframe tbody tr th:only-of-type {\n",
       "        vertical-align: middle;\n",
       "    }\n",
       "\n",
       "    .dataframe tbody tr th {\n",
       "        vertical-align: top;\n",
       "    }\n",
       "\n",
       "    .dataframe thead th {\n",
       "        text-align: right;\n",
       "    }\n",
       "</style>\n",
       "<table border=\"1\" class=\"dataframe\">\n",
       "  <thead>\n",
       "    <tr style=\"text-align: right;\">\n",
       "      <th></th>\n",
       "      <th>item_index</th>\n",
       "      <th>score</th>\n",
       "      <th>title</th>\n",
       "      <th>text_description</th>\n",
       "      <th>normalized_score</th>\n",
       "      <th>ratings</th>\n",
       "    </tr>\n",
       "  </thead>\n",
       "  <tbody>\n",
       "    <tr>\n",
       "      <th>0</th>\n",
       "      <td>1976</td>\n",
       "      <td>4.258427</td>\n",
       "      <td>Linux at 25: Q&amp;A With Linus Torvalds</td>\n",
       "      <td>Photo: Ian White/Corbis Linus Torvalds created...</td>\n",
       "      <td>1.000000</td>\n",
       "      <td>3.0</td>\n",
       "    </tr>\n",
       "    <tr>\n",
       "      <th>1</th>\n",
       "      <td>2070</td>\n",
       "      <td>3.190483</td>\n",
       "      <td>Top 5 open source command shells for Linux</td>\n",
       "      <td>There are two kinds of Linux users: the cautio...</td>\n",
       "      <td>0.749216</td>\n",
       "      <td>1.0</td>\n",
       "    </tr>\n",
       "    <tr>\n",
       "      <th>2</th>\n",
       "      <td>416</td>\n",
       "      <td>3.178863</td>\n",
       "      <td>Inbox by Gmail: a better way to keep track of ...</td>\n",
       "      <td>Life can get really busy. Inboxes too. Just th...</td>\n",
       "      <td>0.746488</td>\n",
       "      <td>1.0</td>\n",
       "    </tr>\n",
       "    <tr>\n",
       "      <th>3</th>\n",
       "      <td>1714</td>\n",
       "      <td>3.011950</td>\n",
       "      <td>Meet Parsey's Cousins: Syntax for 40 languages...</td>\n",
       "      <td>Just in time for ACL 2016 , we are pleased to ...</td>\n",
       "      <td>0.707292</td>\n",
       "      <td>1.0</td>\n",
       "    </tr>\n",
       "    <tr>\n",
       "      <th>4</th>\n",
       "      <td>1848</td>\n",
       "      <td>2.937371</td>\n",
       "      <td>3 Big Blockchain Ideas MIT is Working on Right...</td>\n",
       "      <td>When one of the world's most prestigious unive...</td>\n",
       "      <td>0.689778</td>\n",
       "      <td>1.0</td>\n",
       "    </tr>\n",
       "  </tbody>\n",
       "</table>\n",
       "</div>"
      ],
      "text/plain": [
       "   item_index     score                                              title  \\\n",
       "0        1976  4.258427               Linux at 25: Q&A With Linus Torvalds   \n",
       "1        2070  3.190483         Top 5 open source command shells for Linux   \n",
       "2         416  3.178863  Inbox by Gmail: a better way to keep track of ...   \n",
       "3        1714  3.011950  Meet Parsey's Cousins: Syntax for 40 languages...   \n",
       "4        1848  2.937371  3 Big Blockchain Ideas MIT is Working on Right...   \n",
       "\n",
       "                                    text_description  normalized_score  \\\n",
       "0  Photo: Ian White/Corbis Linus Torvalds created...          1.000000   \n",
       "1  There are two kinds of Linux users: the cautio...          0.749216   \n",
       "2  Life can get really busy. Inboxes too. Just th...          0.746488   \n",
       "3  Just in time for ACL 2016 , we are pleased to ...          0.707292   \n",
       "4  When one of the world's most prestigious unive...          0.689778   \n",
       "\n",
       "   ratings  \n",
       "0      3.0  \n",
       "1      1.0  \n",
       "2      1.0  \n",
       "3      1.0  \n",
       "4      1.0  "
      ]
     },
     "execution_count": 267,
     "metadata": {},
     "output_type": "execute_result"
    }
   ],
   "source": [
    "merged_collab.head()"
   ]
  },
  {
   "cell_type": "code",
   "execution_count": 268,
   "metadata": {},
   "outputs": [
    {
     "data": {
      "text/plain": [
       "(2264, 6)"
      ]
     },
     "execution_count": 268,
     "metadata": {},
     "output_type": "execute_result"
    }
   ],
   "source": [
    "merged_collab.shape"
   ]
  },
  {
   "cell_type": "code",
   "execution_count": 269,
   "metadata": {},
   "outputs": [],
   "source": [
    "# Drop the news items where consumer has already rated\n",
    "\n",
    "merged_collab = merged_collab.drop(merged_collab[merged_collab[\"ratings\"]>0].index)"
   ]
  },
  {
   "cell_type": "code",
   "execution_count": 270,
   "metadata": {
    "scrolled": true
   },
   "outputs": [
    {
     "data": {
      "text/plain": [
       "(2219, 6)"
      ]
     },
     "execution_count": 270,
     "metadata": {},
     "output_type": "execute_result"
    }
   ],
   "source": [
    "# After removing the movie the shape becomes 2219 , Few NaN values we have removed already userbased CF as \n",
    "# there was no item information in the Content Dataset.\n",
    "\n",
    "merged_collab.shape"
   ]
  },
  {
   "cell_type": "code",
   "execution_count": 271,
   "metadata": {
    "scrolled": true
   },
   "outputs": [
    {
     "data": {
      "text/html": [
       "<div>\n",
       "<style scoped>\n",
       "    .dataframe tbody tr th:only-of-type {\n",
       "        vertical-align: middle;\n",
       "    }\n",
       "\n",
       "    .dataframe tbody tr th {\n",
       "        vertical-align: top;\n",
       "    }\n",
       "\n",
       "    .dataframe thead th {\n",
       "        text-align: right;\n",
       "    }\n",
       "</style>\n",
       "<table border=\"1\" class=\"dataframe\">\n",
       "  <thead>\n",
       "    <tr style=\"text-align: right;\">\n",
       "      <th></th>\n",
       "      <th>item_index</th>\n",
       "      <th>score</th>\n",
       "      <th>title</th>\n",
       "      <th>text_description</th>\n",
       "      <th>normalized_score</th>\n",
       "      <th>ratings</th>\n",
       "    </tr>\n",
       "  </thead>\n",
       "  <tbody>\n",
       "    <tr>\n",
       "      <th>7</th>\n",
       "      <td>846</td>\n",
       "      <td>2.765620</td>\n",
       "      <td>The 24 best restaurants in New York City</td>\n",
       "      <td>Yelp/Daniel With so many restaurants to choose...</td>\n",
       "      <td>0.649446</td>\n",
       "      <td>0.0</td>\n",
       "    </tr>\n",
       "    <tr>\n",
       "      <th>15</th>\n",
       "      <td>1883</td>\n",
       "      <td>2.027118</td>\n",
       "      <td>Analyzing 50k fonts using deep neural networks</td>\n",
       "      <td>For some reason I decided one night I wanted t...</td>\n",
       "      <td>0.476025</td>\n",
       "      <td>0.0</td>\n",
       "    </tr>\n",
       "    <tr>\n",
       "      <th>16</th>\n",
       "      <td>537</td>\n",
       "      <td>1.939461</td>\n",
       "      <td>Failing model: Plastic Card + App and Card + W...</td>\n",
       "      <td>In the last 4 years, a cluster of players in t...</td>\n",
       "      <td>0.455441</td>\n",
       "      <td>0.0</td>\n",
       "    </tr>\n",
       "    <tr>\n",
       "      <th>18</th>\n",
       "      <td>405</td>\n",
       "      <td>1.930121</td>\n",
       "      <td>\"We only hire the best\" - Signal v. Noise</td>\n",
       "      <td>\"We only hire the best\" How many times have yo...</td>\n",
       "      <td>0.453247</td>\n",
       "      <td>0.0</td>\n",
       "    </tr>\n",
       "    <tr>\n",
       "      <th>20</th>\n",
       "      <td>1095</td>\n",
       "      <td>1.884883</td>\n",
       "      <td>Aggregations</td>\n",
       "      <td>Aggregations grew out of the facets module and...</td>\n",
       "      <td>0.442624</td>\n",
       "      <td>0.0</td>\n",
       "    </tr>\n",
       "  </tbody>\n",
       "</table>\n",
       "</div>"
      ],
      "text/plain": [
       "    item_index     score                                              title  \\\n",
       "7          846  2.765620           The 24 best restaurants in New York City   \n",
       "15        1883  2.027118     Analyzing 50k fonts using deep neural networks   \n",
       "16         537  1.939461  Failing model: Plastic Card + App and Card + W...   \n",
       "18         405  1.930121          \"We only hire the best\" - Signal v. Noise   \n",
       "20        1095  1.884883                                       Aggregations   \n",
       "\n",
       "                                     text_description  normalized_score  \\\n",
       "7   Yelp/Daniel With so many restaurants to choose...          0.649446   \n",
       "15  For some reason I decided one night I wanted t...          0.476025   \n",
       "16  In the last 4 years, a cluster of players in t...          0.455441   \n",
       "18  \"We only hire the best\" How many times have yo...          0.453247   \n",
       "20  Aggregations grew out of the facets module and...          0.442624   \n",
       "\n",
       "    ratings  \n",
       "7       0.0  \n",
       "15      0.0  \n",
       "16      0.0  \n",
       "18      0.0  \n",
       "20      0.0  "
      ]
     },
     "execution_count": 271,
     "metadata": {},
     "output_type": "execute_result"
    }
   ],
   "source": [
    "\n",
    "merged_collab.head()"
   ]
  },
  {
   "cell_type": "code",
   "execution_count": 272,
   "metadata": {},
   "outputs": [
    {
     "data": {
      "text/plain": [
       "7              The 24 best restaurants in New York City\n",
       "15       Analyzing 50k fonts using deep neural networks\n",
       "16    Failing model: Plastic Card + App and Card + W...\n",
       "18            \"We only hire the best\" - Signal v. Noise\n",
       "20                                         Aggregations\n",
       "21               CoreOS's rkt Container Engine Hits 1.0\n",
       "22                   Creating Compound Views on Android\n",
       "23                             Nights of Cabiria (1957)\n",
       "26           Arduino clone is as small as an AA battery\n",
       "29    Google supercharges machine learning tasks wit...\n",
       "Name: title, dtype: object"
      ]
     },
     "execution_count": 272,
     "metadata": {},
     "output_type": "execute_result"
    }
   ],
   "source": [
    "##  TOP 10 recommendation after removing the entries:\n",
    "merged_collab[\"title\"][:10]"
   ]
  },
  {
   "cell_type": "markdown",
   "metadata": {},
   "source": [
    "## Conclusion :"
   ]
  },
  {
   "cell_type": "markdown",
   "metadata": {},
   "source": [
    "- I started with content based filtering and used item index 1894 to predict top 10 news items.\n",
    "- Then I peformed the Memory based Collaborative filtering with User Based and Item based Recommendation system.\n",
    "- In User Based I used the User Index 1893 to recommend the top 10 news items .\n",
    "- Next ALS model was used to predict the recommendation system with User Index 623.\n",
    "- Hybird recommendation system was experimented with combination of Uer based,item based & content based filtering.\n",
    "- Offline Evaluation techniques like MAE,RMSE,Precision@k,Global Precision@k was used to evaluate the model.\n",
    "- Along with Offline evaluation, online evaluation with human level performance can be used to evaluate the model."
   ]
  },
  {
   "cell_type": "code",
   "execution_count": null,
   "metadata": {},
   "outputs": [],
   "source": []
  }
 ],
 "metadata": {
  "kernelspec": {
   "display_name": "Python 3",
   "language": "python",
   "name": "python3"
  },
  "language_info": {
   "codemirror_mode": {
    "name": "ipython",
    "version": 3
   },
   "file_extension": ".py",
   "mimetype": "text/x-python",
   "name": "python",
   "nbconvert_exporter": "python",
   "pygments_lexer": "ipython3",
   "version": "3.7.6"
  }
 },
 "nbformat": 4,
 "nbformat_minor": 4
}
